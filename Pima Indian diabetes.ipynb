{
 "cells": [
  {
   "cell_type": "code",
   "execution_count": 2,
   "metadata": {
    "ExecuteTime": {
     "end_time": "2020-05-04T11:07:43.250179Z",
     "start_time": "2020-05-04T11:07:43.241178Z"
    }
   },
   "outputs": [],
   "source": [
    "import numpy as np\n",
    "import pandas as pd\n",
    "import matplotlib.pyplot as plt\n",
    "%matplotlib inline\n",
    "import seaborn as sns\n",
    "from sklearn.model_selection import train_test_split\n",
    "from sklearn.preprocessing import StandardScaler\n",
    "from sklearn.metrics import mean_squared_error\n",
    "from keras.models import Sequential\n",
    "from keras.layers import Dense\n",
    "from keras.wrappers.scikit_learn import KerasRegressor"
   ]
  },
  {
   "cell_type": "code",
   "execution_count": 3,
   "metadata": {
    "ExecuteTime": {
     "end_time": "2020-05-04T11:07:45.016405Z",
     "start_time": "2020-05-04T11:07:44.895411Z"
    }
   },
   "outputs": [
    {
     "data": {
      "text/html": [
       "<div>\n",
       "<style scoped>\n",
       "    .dataframe tbody tr th:only-of-type {\n",
       "        vertical-align: middle;\n",
       "    }\n",
       "\n",
       "    .dataframe tbody tr th {\n",
       "        vertical-align: top;\n",
       "    }\n",
       "\n",
       "    .dataframe thead th {\n",
       "        text-align: right;\n",
       "    }\n",
       "</style>\n",
       "<table border=\"1\" class=\"dataframe\">\n",
       "  <thead>\n",
       "    <tr style=\"text-align: right;\">\n",
       "      <th></th>\n",
       "      <th>Pregnancies</th>\n",
       "      <th>Glucose</th>\n",
       "      <th>BloodPressure</th>\n",
       "      <th>SkinThickness</th>\n",
       "      <th>Insulin</th>\n",
       "      <th>BMI</th>\n",
       "      <th>DiabetesPedigreeFunction</th>\n",
       "      <th>Age</th>\n",
       "      <th>Label</th>\n",
       "    </tr>\n",
       "  </thead>\n",
       "  <tbody>\n",
       "    <tr>\n",
       "      <th>0</th>\n",
       "      <td>6</td>\n",
       "      <td>148</td>\n",
       "      <td>72</td>\n",
       "      <td>35</td>\n",
       "      <td>0</td>\n",
       "      <td>33.6</td>\n",
       "      <td>0.627</td>\n",
       "      <td>50</td>\n",
       "      <td>1</td>\n",
       "    </tr>\n",
       "    <tr>\n",
       "      <th>1</th>\n",
       "      <td>1</td>\n",
       "      <td>85</td>\n",
       "      <td>66</td>\n",
       "      <td>29</td>\n",
       "      <td>0</td>\n",
       "      <td>26.6</td>\n",
       "      <td>0.351</td>\n",
       "      <td>31</td>\n",
       "      <td>0</td>\n",
       "    </tr>\n",
       "    <tr>\n",
       "      <th>2</th>\n",
       "      <td>8</td>\n",
       "      <td>183</td>\n",
       "      <td>64</td>\n",
       "      <td>0</td>\n",
       "      <td>0</td>\n",
       "      <td>23.3</td>\n",
       "      <td>0.672</td>\n",
       "      <td>32</td>\n",
       "      <td>1</td>\n",
       "    </tr>\n",
       "    <tr>\n",
       "      <th>3</th>\n",
       "      <td>1</td>\n",
       "      <td>89</td>\n",
       "      <td>66</td>\n",
       "      <td>23</td>\n",
       "      <td>94</td>\n",
       "      <td>28.1</td>\n",
       "      <td>0.167</td>\n",
       "      <td>21</td>\n",
       "      <td>0</td>\n",
       "    </tr>\n",
       "    <tr>\n",
       "      <th>4</th>\n",
       "      <td>0</td>\n",
       "      <td>137</td>\n",
       "      <td>40</td>\n",
       "      <td>35</td>\n",
       "      <td>168</td>\n",
       "      <td>43.1</td>\n",
       "      <td>2.288</td>\n",
       "      <td>33</td>\n",
       "      <td>1</td>\n",
       "    </tr>\n",
       "  </tbody>\n",
       "</table>\n",
       "</div>"
      ],
      "text/plain": [
       "   Pregnancies  Glucose  BloodPressure  SkinThickness  Insulin   BMI  \\\n",
       "0            6      148             72             35        0  33.6   \n",
       "1            1       85             66             29        0  26.6   \n",
       "2            8      183             64              0        0  23.3   \n",
       "3            1       89             66             23       94  28.1   \n",
       "4            0      137             40             35      168  43.1   \n",
       "\n",
       "   DiabetesPedigreeFunction  Age  Label  \n",
       "0                     0.627   50      1  \n",
       "1                     0.351   31      0  \n",
       "2                     0.672   32      1  \n",
       "3                     0.167   21      0  \n",
       "4                     2.288   33      1  "
      ]
     },
     "execution_count": 3,
     "metadata": {},
     "output_type": "execute_result"
    }
   ],
   "source": [
    "df=pd.read_csv('D:/Pima-Indians-Diabetes.csv')\n",
    "df.head()"
   ]
  },
  {
   "cell_type": "code",
   "execution_count": 4,
   "metadata": {
    "ExecuteTime": {
     "end_time": "2020-05-04T11:07:54.027039Z",
     "start_time": "2020-05-04T11:07:54.019058Z"
    }
   },
   "outputs": [
    {
     "data": {
      "text/plain": [
       "(768, 9)"
      ]
     },
     "execution_count": 4,
     "metadata": {},
     "output_type": "execute_result"
    }
   ],
   "source": [
    "df.shape"
   ]
  },
  {
   "cell_type": "code",
   "execution_count": 5,
   "metadata": {
    "ExecuteTime": {
     "end_time": "2020-05-04T11:07:56.353614Z",
     "start_time": "2020-05-04T11:07:56.343612Z"
    }
   },
   "outputs": [
    {
     "data": {
      "text/plain": [
       "Pregnancies                 False\n",
       "Glucose                     False\n",
       "BloodPressure               False\n",
       "SkinThickness               False\n",
       "Insulin                     False\n",
       "BMI                         False\n",
       "DiabetesPedigreeFunction    False\n",
       "Age                         False\n",
       "Label                       False\n",
       "dtype: bool"
      ]
     },
     "execution_count": 5,
     "metadata": {},
     "output_type": "execute_result"
    }
   ],
   "source": [
    "df.isnull().any()"
   ]
  },
  {
   "cell_type": "code",
   "execution_count": 6,
   "metadata": {
    "ExecuteTime": {
     "end_time": "2020-05-04T11:07:58.282687Z",
     "start_time": "2020-05-04T11:07:58.267689Z"
    }
   },
   "outputs": [
    {
     "name": "stdout",
     "output_type": "stream",
     "text": [
      "<class 'pandas.core.frame.DataFrame'>\n",
      "RangeIndex: 768 entries, 0 to 767\n",
      "Data columns (total 9 columns):\n",
      "Pregnancies                 768 non-null int64\n",
      "Glucose                     768 non-null int64\n",
      "BloodPressure               768 non-null int64\n",
      "SkinThickness               768 non-null int64\n",
      "Insulin                     768 non-null int64\n",
      "BMI                         768 non-null float64\n",
      "DiabetesPedigreeFunction    768 non-null float64\n",
      "Age                         768 non-null int64\n",
      "Label                       768 non-null int64\n",
      "dtypes: float64(2), int64(7)\n",
      "memory usage: 54.1 KB\n"
     ]
    }
   ],
   "source": [
    "df.info()"
   ]
  },
  {
   "cell_type": "code",
   "execution_count": 7,
   "metadata": {
    "ExecuteTime": {
     "end_time": "2020-05-04T11:08:01.462992Z",
     "start_time": "2020-05-04T11:08:01.391986Z"
    }
   },
   "outputs": [
    {
     "data": {
      "text/html": [
       "<div>\n",
       "<style scoped>\n",
       "    .dataframe tbody tr th:only-of-type {\n",
       "        vertical-align: middle;\n",
       "    }\n",
       "\n",
       "    .dataframe tbody tr th {\n",
       "        vertical-align: top;\n",
       "    }\n",
       "\n",
       "    .dataframe thead th {\n",
       "        text-align: right;\n",
       "    }\n",
       "</style>\n",
       "<table border=\"1\" class=\"dataframe\">\n",
       "  <thead>\n",
       "    <tr style=\"text-align: right;\">\n",
       "      <th></th>\n",
       "      <th>Pregnancies</th>\n",
       "      <th>Glucose</th>\n",
       "      <th>BloodPressure</th>\n",
       "      <th>SkinThickness</th>\n",
       "      <th>Insulin</th>\n",
       "      <th>BMI</th>\n",
       "      <th>DiabetesPedigreeFunction</th>\n",
       "      <th>Age</th>\n",
       "      <th>Label</th>\n",
       "    </tr>\n",
       "  </thead>\n",
       "  <tbody>\n",
       "    <tr>\n",
       "      <th>count</th>\n",
       "      <td>768.000000</td>\n",
       "      <td>768.000000</td>\n",
       "      <td>768.000000</td>\n",
       "      <td>768.000000</td>\n",
       "      <td>768.000000</td>\n",
       "      <td>768.000000</td>\n",
       "      <td>768.000000</td>\n",
       "      <td>768.000000</td>\n",
       "      <td>768.000000</td>\n",
       "    </tr>\n",
       "    <tr>\n",
       "      <th>mean</th>\n",
       "      <td>3.845052</td>\n",
       "      <td>120.894531</td>\n",
       "      <td>69.105469</td>\n",
       "      <td>20.536458</td>\n",
       "      <td>79.799479</td>\n",
       "      <td>31.992578</td>\n",
       "      <td>0.471876</td>\n",
       "      <td>33.240885</td>\n",
       "      <td>0.348958</td>\n",
       "    </tr>\n",
       "    <tr>\n",
       "      <th>std</th>\n",
       "      <td>3.369578</td>\n",
       "      <td>31.972618</td>\n",
       "      <td>19.355807</td>\n",
       "      <td>15.952218</td>\n",
       "      <td>115.244002</td>\n",
       "      <td>7.884160</td>\n",
       "      <td>0.331329</td>\n",
       "      <td>11.760232</td>\n",
       "      <td>0.476951</td>\n",
       "    </tr>\n",
       "    <tr>\n",
       "      <th>min</th>\n",
       "      <td>0.000000</td>\n",
       "      <td>0.000000</td>\n",
       "      <td>0.000000</td>\n",
       "      <td>0.000000</td>\n",
       "      <td>0.000000</td>\n",
       "      <td>0.000000</td>\n",
       "      <td>0.078000</td>\n",
       "      <td>21.000000</td>\n",
       "      <td>0.000000</td>\n",
       "    </tr>\n",
       "    <tr>\n",
       "      <th>25%</th>\n",
       "      <td>1.000000</td>\n",
       "      <td>99.000000</td>\n",
       "      <td>62.000000</td>\n",
       "      <td>0.000000</td>\n",
       "      <td>0.000000</td>\n",
       "      <td>27.300000</td>\n",
       "      <td>0.243750</td>\n",
       "      <td>24.000000</td>\n",
       "      <td>0.000000</td>\n",
       "    </tr>\n",
       "    <tr>\n",
       "      <th>50%</th>\n",
       "      <td>3.000000</td>\n",
       "      <td>117.000000</td>\n",
       "      <td>72.000000</td>\n",
       "      <td>23.000000</td>\n",
       "      <td>30.500000</td>\n",
       "      <td>32.000000</td>\n",
       "      <td>0.372500</td>\n",
       "      <td>29.000000</td>\n",
       "      <td>0.000000</td>\n",
       "    </tr>\n",
       "    <tr>\n",
       "      <th>75%</th>\n",
       "      <td>6.000000</td>\n",
       "      <td>140.250000</td>\n",
       "      <td>80.000000</td>\n",
       "      <td>32.000000</td>\n",
       "      <td>127.250000</td>\n",
       "      <td>36.600000</td>\n",
       "      <td>0.626250</td>\n",
       "      <td>41.000000</td>\n",
       "      <td>1.000000</td>\n",
       "    </tr>\n",
       "    <tr>\n",
       "      <th>max</th>\n",
       "      <td>17.000000</td>\n",
       "      <td>199.000000</td>\n",
       "      <td>122.000000</td>\n",
       "      <td>99.000000</td>\n",
       "      <td>846.000000</td>\n",
       "      <td>67.100000</td>\n",
       "      <td>2.420000</td>\n",
       "      <td>81.000000</td>\n",
       "      <td>1.000000</td>\n",
       "    </tr>\n",
       "  </tbody>\n",
       "</table>\n",
       "</div>"
      ],
      "text/plain": [
       "       Pregnancies     Glucose  BloodPressure  SkinThickness     Insulin  \\\n",
       "count   768.000000  768.000000     768.000000     768.000000  768.000000   \n",
       "mean      3.845052  120.894531      69.105469      20.536458   79.799479   \n",
       "std       3.369578   31.972618      19.355807      15.952218  115.244002   \n",
       "min       0.000000    0.000000       0.000000       0.000000    0.000000   \n",
       "25%       1.000000   99.000000      62.000000       0.000000    0.000000   \n",
       "50%       3.000000  117.000000      72.000000      23.000000   30.500000   \n",
       "75%       6.000000  140.250000      80.000000      32.000000  127.250000   \n",
       "max      17.000000  199.000000     122.000000      99.000000  846.000000   \n",
       "\n",
       "              BMI  DiabetesPedigreeFunction         Age       Label  \n",
       "count  768.000000                768.000000  768.000000  768.000000  \n",
       "mean    31.992578                  0.471876   33.240885    0.348958  \n",
       "std      7.884160                  0.331329   11.760232    0.476951  \n",
       "min      0.000000                  0.078000   21.000000    0.000000  \n",
       "25%     27.300000                  0.243750   24.000000    0.000000  \n",
       "50%     32.000000                  0.372500   29.000000    0.000000  \n",
       "75%     36.600000                  0.626250   41.000000    1.000000  \n",
       "max     67.100000                  2.420000   81.000000    1.000000  "
      ]
     },
     "execution_count": 7,
     "metadata": {},
     "output_type": "execute_result"
    }
   ],
   "source": [
    "df.describe()"
   ]
  },
  {
   "cell_type": "markdown",
   "metadata": {},
   "source": [
    "# Univariate Analysis"
   ]
  },
  {
   "cell_type": "code",
   "execution_count": 8,
   "metadata": {
    "ExecuteTime": {
     "end_time": "2020-05-04T11:08:03.753739Z",
     "start_time": "2020-05-04T11:08:03.443764Z"
    }
   },
   "outputs": [
    {
     "data": {
      "image/png": "[encoded data removed]",
      "text/plain": [
       "<Figure size 432x288 with 1 Axes>"
      ]
     },
     "metadata": {
      "needs_background": "light"
     },
     "output_type": "display_data"
    }
   ],
   "source": [
    "sns.distplot(df['Insulin'])\n",
    "plt.show()"
   ]
  },
  {
   "cell_type": "code",
   "execution_count": 9,
   "metadata": {
    "ExecuteTime": {
     "end_time": "2020-05-04T11:08:04.615401Z",
     "start_time": "2020-05-04T11:08:04.323262Z"
    }
   },
   "outputs": [
    {
     "data": {
      "image/png": "[encoded data removed]",
      "text/plain": [
       "<Figure size 432x288 with 1 Axes>"
      ]
     },
     "metadata": {
      "needs_background": "light"
     },
     "output_type": "display_data"
    }
   ],
   "source": [
    "sns.distplot(df['Age'])\n",
    "plt.show()"
   ]
  },
  {
   "cell_type": "code",
   "execution_count": 10,
   "metadata": {
    "ExecuteTime": {
     "end_time": "2020-05-04T11:08:05.516356Z",
     "start_time": "2020-05-04T11:08:05.211387Z"
    }
   },
   "outputs": [
    {
     "data": {
      "image/png": "[encoded data removed]",
      "text/plain": [
       "<Figure size 432x288 with 1 Axes>"
      ]
     },
     "metadata": {
      "needs_background": "light"
     },
     "output_type": "display_data"
    }
   ],
   "source": [
    "sns.distplot(df['BloodPressure'])\n",
    "plt.show()"
   ]
  },
  {
   "cell_type": "markdown",
   "metadata": {},
   "source": [
    "# Bivariate Analysis"
   ]
  },
  {
   "cell_type": "code",
   "execution_count": 49,
   "metadata": {
    "ExecuteTime": {
     "end_time": "2020-05-04T12:55:45.129722Z",
     "start_time": "2020-05-04T12:55:44.689793Z"
    }
   },
   "outputs": [
    {
     "data": {
      "text/plain": [
       "<matplotlib.axes._subplots.AxesSubplot at 0x230bb022f28>"
      ]
     },
     "execution_count": 49,
     "metadata": {},
     "output_type": "execute_result"
    },
    {
     "data": {
      "image/png": "[encoded data removed]",
      "text/plain": [
       "<Figure size 432x288 with 1 Axes>"
      ]
     },
     "metadata": {
      "needs_background": "light"
     },
     "output_type": "display_data"
    }
   ],
   "source": [
    "sns.scatterplot(x='Age', y='Label', hue='Label', data=df)"
   ]
  },
  {
   "cell_type": "code",
   "execution_count": 12,
   "metadata": {
    "ExecuteTime": {
     "end_time": "2020-05-04T11:08:09.003773Z",
     "start_time": "2020-05-04T11:08:08.602330Z"
    }
   },
   "outputs": [
    {
     "data": {
      "text/plain": [
       "<matplotlib.axes._subplots.AxesSubplot at 0x230b9046860>"
      ]
     },
     "execution_count": 12,
     "metadata": {},
     "output_type": "execute_result"
    },
    {
     "data": {
      "image/png": "[encoded data removed]",
      "text/plain": [
       "<Figure size 432x288 with 1 Axes>"
      ]
     },
     "metadata": {
      "needs_background": "light"
     },
     "output_type": "display_data"
    }
   ],
   "source": [
    "sns.scatterplot(x='Insulin', y='Label', hue='Label', data=df)"
   ]
  },
  {
   "cell_type": "code",
   "execution_count": 13,
   "metadata": {
    "ExecuteTime": {
     "end_time": "2020-05-04T11:08:10.348938Z",
     "start_time": "2020-05-04T11:08:09.918066Z"
    }
   },
   "outputs": [
    {
     "data": {
      "text/plain": [
       "<matplotlib.axes._subplots.AxesSubplot at 0x230b90b5b70>"
      ]
     },
     "execution_count": 13,
     "metadata": {},
     "output_type": "execute_result"
    },
    {
     "data": {
      "image/png": "[encoded data removed]",
      "text/plain": [
       "<Figure size 432x288 with 1 Axes>"
      ]
     },
     "metadata": {
      "needs_background": "light"
     },
     "output_type": "display_data"
    }
   ],
   "source": [
    "sns.scatterplot(x='BMI', y='Label', hue='Label', data=df)"
   ]
  },
  {
   "cell_type": "code",
   "execution_count": 14,
   "metadata": {
    "ExecuteTime": {
     "end_time": "2020-05-04T11:08:11.570375Z",
     "start_time": "2020-05-04T11:08:11.550381Z"
    }
   },
   "outputs": [
    {
     "data": {
      "text/html": [
       "<div>\n",
       "<style scoped>\n",
       "    .dataframe tbody tr th:only-of-type {\n",
       "        vertical-align: middle;\n",
       "    }\n",
       "\n",
       "    .dataframe tbody tr th {\n",
       "        vertical-align: top;\n",
       "    }\n",
       "\n",
       "    .dataframe thead th {\n",
       "        text-align: right;\n",
       "    }\n",
       "</style>\n",
       "<table border=\"1\" class=\"dataframe\">\n",
       "  <thead>\n",
       "    <tr style=\"text-align: right;\">\n",
       "      <th></th>\n",
       "      <th>Label</th>\n",
       "    </tr>\n",
       "    <tr>\n",
       "      <th>SkinThickness</th>\n",
       "      <th></th>\n",
       "    </tr>\n",
       "  </thead>\n",
       "  <tbody>\n",
       "    <tr>\n",
       "      <th>0</th>\n",
       "      <td>88</td>\n",
       "    </tr>\n",
       "    <tr>\n",
       "      <th>32</th>\n",
       "      <td>14</td>\n",
       "    </tr>\n",
       "    <tr>\n",
       "      <th>33</th>\n",
       "      <td>9</td>\n",
       "    </tr>\n",
       "    <tr>\n",
       "      <th>30</th>\n",
       "      <td>9</td>\n",
       "    </tr>\n",
       "    <tr>\n",
       "      <th>39</th>\n",
       "      <td>8</td>\n",
       "    </tr>\n",
       "  </tbody>\n",
       "</table>\n",
       "</div>"
      ],
      "text/plain": [
       "               Label\n",
       "SkinThickness       \n",
       "0                 88\n",
       "32                14\n",
       "33                 9\n",
       "30                 9\n",
       "39                 8"
      ]
     },
     "execution_count": 14,
     "metadata": {},
     "output_type": "execute_result"
    }
   ],
   "source": [
    "#SkinThikness associated with Label\n",
    "df.groupby(['SkinThickness']).agg({'Label': 'sum'}).sort_values(by= 'Label', ascending = False).head()"
   ]
  },
  {
   "cell_type": "code",
   "execution_count": 15,
   "metadata": {
    "ExecuteTime": {
     "end_time": "2020-05-04T11:08:13.013969Z",
     "start_time": "2020-05-04T11:08:12.997970Z"
    }
   },
   "outputs": [
    {
     "data": {
      "text/html": [
       "<div>\n",
       "<style scoped>\n",
       "    .dataframe tbody tr th:only-of-type {\n",
       "        vertical-align: middle;\n",
       "    }\n",
       "\n",
       "    .dataframe tbody tr th {\n",
       "        vertical-align: top;\n",
       "    }\n",
       "\n",
       "    .dataframe thead th {\n",
       "        text-align: right;\n",
       "    }\n",
       "</style>\n",
       "<table border=\"1\" class=\"dataframe\">\n",
       "  <thead>\n",
       "    <tr style=\"text-align: right;\">\n",
       "      <th></th>\n",
       "      <th>Label</th>\n",
       "    </tr>\n",
       "    <tr>\n",
       "      <th>BloodPressure</th>\n",
       "      <th></th>\n",
       "    </tr>\n",
       "  </thead>\n",
       "  <tbody>\n",
       "    <tr>\n",
       "      <th>70</th>\n",
       "      <td>23</td>\n",
       "    </tr>\n",
       "    <tr>\n",
       "      <th>76</th>\n",
       "      <td>18</td>\n",
       "    </tr>\n",
       "    <tr>\n",
       "      <th>74</th>\n",
       "      <td>17</td>\n",
       "    </tr>\n",
       "    <tr>\n",
       "      <th>78</th>\n",
       "      <td>17</td>\n",
       "    </tr>\n",
       "    <tr>\n",
       "      <th>72</th>\n",
       "      <td>16</td>\n",
       "    </tr>\n",
       "  </tbody>\n",
       "</table>\n",
       "</div>"
      ],
      "text/plain": [
       "               Label\n",
       "BloodPressure       \n",
       "70                23\n",
       "76                18\n",
       "74                17\n",
       "78                17\n",
       "72                16"
      ]
     },
     "execution_count": 15,
     "metadata": {},
     "output_type": "execute_result"
    }
   ],
   "source": [
    "#BloodPressure associated with Label\n",
    "df.groupby(['BloodPressure']).agg({'Label': 'sum'}).sort_values(by= 'Label', ascending = False).head()"
   ]
  },
  {
   "cell_type": "markdown",
   "metadata": {},
   "source": [
    "# Heatmap"
   ]
  },
  {
   "cell_type": "code",
   "execution_count": 16,
   "metadata": {
    "ExecuteTime": {
     "end_time": "2020-05-04T11:08:15.338796Z",
     "start_time": "2020-05-04T11:08:14.914628Z"
    }
   },
   "outputs": [
    {
     "data": {
      "image/png": "[encoded data removed]",
      "text/plain": [
       "<Figure size 432x288 with 2 Axes>"
      ]
     },
     "metadata": {
      "needs_background": "light"
     },
     "output_type": "display_data"
    }
   ],
   "source": [
    "heat_map = sns.heatmap(df.corr())"
   ]
  },
  {
   "cell_type": "code",
   "execution_count": 17,
   "metadata": {
    "ExecuteTime": {
     "end_time": "2020-05-04T11:08:16.759537Z",
     "start_time": "2020-05-04T11:08:15.841112Z"
    }
   },
   "outputs": [
    {
     "data": {
      "text/plain": [
       "<matplotlib.axes._subplots.AxesSubplot at 0x230b9204e48>"
      ]
     },
     "execution_count": 17,
     "metadata": {},
     "output_type": "execute_result"
    },
    {
     "data": {
      "image/png": "[encoded data removed]",
      "text/plain": [
       "<Figure size 1080x432 with 2 Axes>"
      ]
     },
     "metadata": {
      "needs_background": "light"
     },
     "output_type": "display_data"
    }
   ],
   "source": [
    "plt.figure(figsize=(15,6))\n",
    "h=pd.pivot_table(df,columns='Glucose',values=[\"Label\"])\n",
    "sns.heatmap(h,cmap=['skyblue','red','green'],linewidths=0.05)"
   ]
  },
  {
   "cell_type": "markdown",
   "metadata": {},
   "source": [
    "# Removing outliers"
   ]
  },
  {
   "cell_type": "code",
   "execution_count": 18,
   "metadata": {
    "ExecuteTime": {
     "end_time": "2020-05-04T11:08:21.032170Z",
     "start_time": "2020-05-04T11:08:20.842197Z"
    }
   },
   "outputs": [
    {
     "data": {
      "text/plain": [
       "<matplotlib.axes._subplots.AxesSubplot at 0x230b95087b8>"
      ]
     },
     "execution_count": 18,
     "metadata": {},
     "output_type": "execute_result"
    },
    {
     "data": {
      "image/png": "[encoded data removed]",
      "text/plain": [
       "<Figure size 432x288 with 1 Axes>"
      ]
     },
     "metadata": {
      "needs_background": "light"
     },
     "output_type": "display_data"
    }
   ],
   "source": [
    "sns.boxplot(df)"
   ]
  },
  {
   "cell_type": "code",
   "execution_count": 19,
   "metadata": {
    "ExecuteTime": {
     "end_time": "2020-05-04T11:08:24.087590Z",
     "start_time": "2020-05-04T11:08:24.078591Z"
    }
   },
   "outputs": [],
   "source": [
    "from scipy import stats\n",
    "z = np.abs(stats.zscore(df))\n",
    "df = df[(z < 3).all(axis=1)] #outliers with z-score >3 are removed"
   ]
  },
  {
   "cell_type": "code",
   "execution_count": 20,
   "metadata": {
    "ExecuteTime": {
     "end_time": "2020-05-04T11:08:25.034632Z",
     "start_time": "2020-05-04T11:08:25.027635Z"
    }
   },
   "outputs": [
    {
     "data": {
      "text/plain": [
       "(688, 9)"
      ]
     },
     "execution_count": 20,
     "metadata": {},
     "output_type": "execute_result"
    }
   ],
   "source": [
    "df.shape"
   ]
  },
  {
   "cell_type": "markdown",
   "metadata": {},
   "source": [
    "# Modeling"
   ]
  },
  {
   "cell_type": "code",
   "execution_count": 21,
   "metadata": {
    "ExecuteTime": {
     "end_time": "2020-05-04T11:08:29.782157Z",
     "start_time": "2020-05-04T11:08:29.665719Z"
    }
   },
   "outputs": [],
   "source": [
    "#define model with 3 hidden layers of 10 nodes and relu as activation function\n",
    "# and use MSE as loss metrics and adam as optimizer\n",
    "model = Sequential()\n",
    "model.add(Dense(10, activation='relu', input_dim=8))\n",
    "model.add(Dense(10, activation='relu'))\n",
    "model.add(Dense(10, activation='relu'))\n",
    "model.add(Dense(1, activation='linear'))\n",
    "# Compile model\n",
    "model.compile(loss='mean_squared_error', optimizer='adam')"
   ]
  },
  {
   "cell_type": "code",
   "execution_count": 22,
   "metadata": {
    "ExecuteTime": {
     "end_time": "2020-05-04T11:08:31.548734Z",
     "start_time": "2020-05-04T11:08:31.541751Z"
    }
   },
   "outputs": [],
   "source": [
    "#split dataset in target values and features\n",
    "X=df.iloc[:,:-1]\n",
    "y=df['Label'].values"
   ]
  },
  {
   "cell_type": "code",
   "execution_count": 23,
   "metadata": {
    "ExecuteTime": {
     "end_time": "2020-05-04T11:08:32.810404Z",
     "start_time": "2020-05-04T11:08:32.802405Z"
    }
   },
   "outputs": [],
   "source": [
    "X_train, X_test, y_train, y_test = train_test_split(X, y, test_size=0.3)"
   ]
  },
  {
   "cell_type": "code",
   "execution_count": 24,
   "metadata": {
    "ExecuteTime": {
     "end_time": "2020-05-04T11:09:02.399439Z",
     "start_time": "2020-05-04T11:08:56.876899Z"
    }
   },
   "outputs": [
    {
     "name": "stdout",
     "output_type": "stream",
     "text": [
      "Epoch 1/100\n",
      "481/481 [==============================] - 0s 494us/step - loss: 0.2889\n",
      "Epoch 2/100\n",
      "481/481 [==============================] - 0s 71us/step - loss: 0.2540\n",
      "Epoch 3/100\n",
      "481/481 [==============================] - 0s 77us/step - loss: 0.2353\n",
      "Epoch 4/100\n",
      "481/481 [==============================] - 0s 85us/step - loss: 0.2237\n",
      "Epoch 5/100\n",
      "481/481 [==============================] - 0s 87us/step - loss: 0.2160\n",
      "Epoch 6/100\n",
      "481/481 [==============================] - 0s 75us/step - loss: 0.2092\n",
      "Epoch 7/100\n",
      "481/481 [==============================] - 0s 69us/step - loss: 0.2048\n",
      "Epoch 8/100\n",
      "481/481 [==============================] - 0s 83us/step - loss: 0.2000\n",
      "Epoch 9/100\n",
      "481/481 [==============================] - 0s 73us/step - loss: 0.1950\n",
      "Epoch 10/100\n",
      "481/481 [==============================] - 0s 89us/step - loss: 0.1915\n",
      "Epoch 11/100\n",
      "481/481 [==============================] - 0s 81us/step - loss: 0.1877\n",
      "Epoch 12/100\n",
      "481/481 [==============================] - 0s 81us/step - loss: 0.1845\n",
      "Epoch 13/100\n",
      "481/481 [==============================] - 0s 73us/step - loss: 0.1816\n",
      "Epoch 14/100\n",
      "481/481 [==============================] - 0s 73us/step - loss: 0.1794\n",
      "Epoch 15/100\n",
      "481/481 [==============================] - 0s 73us/step - loss: 0.1758\n",
      "Epoch 16/100\n",
      "481/481 [==============================] - 0s 71us/step - loss: 0.1736\n",
      "Epoch 17/100\n",
      "481/481 [==============================] - 0s 89us/step - loss: 0.1717\n",
      "Epoch 18/100\n",
      "481/481 [==============================] - 0s 87us/step - loss: 0.1704\n",
      "Epoch 19/100\n",
      "481/481 [==============================] - 0s 83us/step - loss: 0.1680\n",
      "Epoch 20/100\n",
      "481/481 [==============================] - 0s 106us/step - loss: 0.1676\n",
      "Epoch 21/100\n",
      "481/481 [==============================] - 0s 104us/step - loss: 0.1659\n",
      "Epoch 22/100\n",
      "481/481 [==============================] - 0s 102us/step - loss: 0.1649\n",
      "Epoch 23/100\n",
      "481/481 [==============================] - 0s 100us/step - loss: 0.1628\n",
      "Epoch 24/100\n",
      "481/481 [==============================] - 0s 91us/step - loss: 0.1614\n",
      "Epoch 25/100\n",
      "481/481 [==============================] - 0s 94us/step - loss: 0.1589\n",
      "Epoch 26/100\n",
      "481/481 [==============================] - 0s 89us/step - loss: 0.1597\n",
      "Epoch 27/100\n",
      "481/481 [==============================] - 0s 87us/step - loss: 0.1567\n",
      "Epoch 28/100\n",
      "481/481 [==============================] - 0s 104us/step - loss: 0.1556\n",
      "Epoch 29/100\n",
      "481/481 [==============================] - 0s 96us/step - loss: 0.1546\n",
      "Epoch 30/100\n",
      "481/481 [==============================] - 0s 87us/step - loss: 0.1534\n",
      "Epoch 31/100\n",
      "481/481 [==============================] - 0s 96us/step - loss: 0.1527\n",
      "Epoch 32/100\n",
      "481/481 [==============================] - 0s 102us/step - loss: 0.1530\n",
      "Epoch 33/100\n",
      "481/481 [==============================] - 0s 102us/step - loss: 0.1518\n",
      "Epoch 34/100\n",
      "481/481 [==============================] - 0s 94us/step - loss: 0.1515\n",
      "Epoch 35/100\n",
      "481/481 [==============================] - 0s 91us/step - loss: 0.1511\n",
      "Epoch 36/100\n",
      "481/481 [==============================] - 0s 83us/step - loss: 0.1526\n",
      "Epoch 37/100\n",
      "481/481 [==============================] - 0s 87us/step - loss: 0.1505\n",
      "Epoch 38/100\n",
      "481/481 [==============================] - 0s 83us/step - loss: 0.1498\n",
      "Epoch 39/100\n",
      "481/481 [==============================] - 0s 83us/step - loss: 0.1484\n",
      "Epoch 40/100\n",
      "481/481 [==============================] - 0s 81us/step - loss: 0.1479\n",
      "Epoch 41/100\n",
      "481/481 [==============================] - 0s 87us/step - loss: 0.1474\n",
      "Epoch 42/100\n",
      "481/481 [==============================] - 0s 79us/step - loss: 0.1486\n",
      "Epoch 43/100\n",
      "481/481 [==============================] - 0s 87us/step - loss: 0.1474\n",
      "Epoch 44/100\n",
      "481/481 [==============================] - 0s 83us/step - loss: 0.1462\n",
      "Epoch 45/100\n",
      "481/481 [==============================] - 0s 87us/step - loss: 0.1481\n",
      "Epoch 46/100\n",
      "481/481 [==============================] - 0s 91us/step - loss: 0.1460\n",
      "Epoch 47/100\n",
      "481/481 [==============================] - 0s 94us/step - loss: 0.1453\n",
      "Epoch 48/100\n",
      "481/481 [==============================] - 0s 79us/step - loss: 0.1443\n",
      "Epoch 49/100\n",
      "481/481 [==============================] - 0s 102us/step - loss: 0.1440\n",
      "Epoch 50/100\n",
      "481/481 [==============================] - 0s 91us/step - loss: 0.1448\n",
      "Epoch 51/100\n",
      "481/481 [==============================] - 0s 94us/step - loss: 0.1443\n",
      "Epoch 52/100\n",
      "481/481 [==============================] - 0s 94us/step - loss: 0.1418\n",
      "Epoch 53/100\n",
      "481/481 [==============================] - 0s 91us/step - loss: 0.1450\n",
      "Epoch 54/100\n",
      "481/481 [==============================] - 0s 102us/step - loss: 0.1426\n",
      "Epoch 55/100\n",
      "481/481 [==============================] - 0s 87us/step - loss: 0.1424\n",
      "Epoch 56/100\n",
      "481/481 [==============================] - 0s 77us/step - loss: 0.1415\n",
      "Epoch 57/100\n",
      "481/481 [==============================] - 0s 89us/step - loss: 0.1403\n",
      "Epoch 58/100\n",
      "481/481 [==============================] - 0s 85us/step - loss: 0.1402\n",
      "Epoch 59/100\n",
      "481/481 [==============================] - 0s 100us/step - loss: 0.1394\n",
      "Epoch 60/100\n",
      "481/481 [==============================] - 0s 94us/step - loss: 0.1392\n",
      "Epoch 61/100\n",
      "481/481 [==============================] - 0s 85us/step - loss: 0.1387\n",
      "Epoch 62/100\n",
      "481/481 [==============================] - 0s 91us/step - loss: 0.1385\n",
      "Epoch 63/100\n",
      "481/481 [==============================] - 0s 91us/step - loss: 0.1381\n",
      "Epoch 64/100\n",
      "481/481 [==============================] - 0s 110us/step - loss: 0.1378\n",
      "Epoch 65/100\n",
      "481/481 [==============================] - 0s 94us/step - loss: 0.1376\n",
      "Epoch 66/100\n",
      "481/481 [==============================] - 0s 102us/step - loss: 0.1372\n",
      "Epoch 67/100\n",
      "481/481 [==============================] - 0s 98us/step - loss: 0.1373\n",
      "Epoch 68/100\n",
      "481/481 [==============================] - 0s 91us/step - loss: 0.1366\n",
      "Epoch 69/100\n",
      "481/481 [==============================] - 0s 96us/step - loss: 0.1363\n",
      "Epoch 70/100\n",
      "481/481 [==============================] - 0s 91us/step - loss: 0.1359\n",
      "Epoch 71/100\n",
      "481/481 [==============================] - 0s 87us/step - loss: 0.1358\n",
      "Epoch 72/100\n",
      "481/481 [==============================] - 0s 87us/step - loss: 0.1377\n",
      "Epoch 73/100\n",
      "481/481 [==============================] - 0s 89us/step - loss: 0.1365\n",
      "Epoch 74/100\n",
      "481/481 [==============================] - 0s 89us/step - loss: 0.1362\n",
      "Epoch 75/100\n",
      "481/481 [==============================] - 0s 110us/step - loss: 0.1366\n",
      "Epoch 76/100\n",
      "481/481 [==============================] - 0s 94us/step - loss: 0.1344\n",
      "Epoch 77/100\n",
      "481/481 [==============================] - 0s 104us/step - loss: 0.1341\n",
      "Epoch 78/100\n",
      "481/481 [==============================] - 0s 98us/step - loss: 0.1332\n",
      "Epoch 79/100\n",
      "481/481 [==============================] - 0s 81us/step - loss: 0.1341\n",
      "Epoch 80/100\n",
      "481/481 [==============================] - 0s 73us/step - loss: 0.1344\n",
      "Epoch 81/100\n",
      "481/481 [==============================] - 0s 87us/step - loss: 0.1324\n",
      "Epoch 82/100\n",
      "481/481 [==============================] - 0s 83us/step - loss: 0.1321\n",
      "Epoch 83/100\n",
      "481/481 [==============================] - 0s 77us/step - loss: 0.1322\n",
      "Epoch 84/100\n",
      "481/481 [==============================] - 0s 77us/step - loss: 0.1312\n",
      "Epoch 85/100\n",
      "481/481 [==============================] - 0s 79us/step - loss: 0.1306\n",
      "Epoch 86/100\n",
      "481/481 [==============================] - 0s 81us/step - loss: 0.1313\n",
      "Epoch 87/100\n",
      "481/481 [==============================] - 0s 98us/step - loss: 0.1326\n",
      "Epoch 88/100\n",
      "481/481 [==============================] - 0s 89us/step - loss: 0.1316\n",
      "Epoch 89/100\n",
      "481/481 [==============================] - 0s 83us/step - loss: 0.1302\n",
      "Epoch 90/100\n",
      "481/481 [==============================] - 0s 94us/step - loss: 0.1327\n",
      "Epoch 91/100\n",
      "481/481 [==============================] - 0s 85us/step - loss: 0.1308\n",
      "Epoch 92/100\n",
      "481/481 [==============================] - 0s 96us/step - loss: 0.1298\n",
      "Epoch 93/100\n",
      "481/481 [==============================] - 0s 83us/step - loss: 0.1298\n",
      "Epoch 94/100\n",
      "481/481 [==============================] - 0s 83us/step - loss: 0.1300\n",
      "Epoch 95/100\n",
      "481/481 [==============================] - 0s 79us/step - loss: 0.1295\n",
      "Epoch 96/100\n",
      "481/481 [==============================] - 0s 83us/step - loss: 0.1328\n",
      "Epoch 97/100\n",
      "481/481 [==============================] - 0s 85us/step - loss: 0.1307\n",
      "Epoch 98/100\n",
      "481/481 [==============================] - 0s 83us/step - loss: 0.1289\n",
      "Epoch 99/100\n",
      "481/481 [==============================] - 0s 77us/step - loss: 0.1333\n",
      "Epoch 100/100\n",
      "481/481 [==============================] - 0s 91us/step - loss: 0.1302\n"
     ]
    },
    {
     "data": {
      "text/plain": [
       "<keras.callbacks.callbacks.History at 0x230b9310c88>"
      ]
     },
     "execution_count": 24,
     "metadata": {},
     "output_type": "execute_result"
    }
   ],
   "source": [
    "import warnings\n",
    "warnings.filterwarnings('ignore')\n",
    "scaler = StandardScaler()\n",
    "# fit scaler with train data\n",
    "scaler.fit(X_train)\n",
    "\n",
    "X_train_scaled = scaler.transform(X_train)\n",
    "X_test_scaled = scaler.transform(X_test)\n",
    "\n",
    "#train model\n",
    "model.fit(X_train_scaled, y_train, epochs=100)"
   ]
  },
  {
   "cell_type": "code",
   "execution_count": 25,
   "metadata": {
    "ExecuteTime": {
     "end_time": "2020-05-04T11:09:07.457495Z",
     "start_time": "2020-05-04T11:09:07.394508Z"
    }
   },
   "outputs": [
    {
     "name": "stdout",
     "output_type": "stream",
     "text": [
      "MSE on test set = 0.13748338460735698\n"
     ]
    }
   ],
   "source": [
    "#perform evaluation on test set\n",
    "y_test_predicted = model.predict(X_test_scaled)\n",
    "\n",
    "MSE_test = mean_squared_error(y_test, y_test_predicted)\n",
    "print('MSE on test set = {}'. format(MSE_test))"
   ]
  },
  {
   "cell_type": "code",
   "execution_count": 28,
   "metadata": {
    "ExecuteTime": {
     "end_time": "2020-05-04T11:10:33.728058Z",
     "start_time": "2020-05-04T11:10:33.487854Z"
    }
   },
   "outputs": [
    {
     "data": {
      "text/plain": [
       "LogisticRegression(C=1.0, class_weight=None, dual=False, fit_intercept=True,\n",
       "          intercept_scaling=1, max_iter=100, multi_class='warn',\n",
       "          n_jobs=None, penalty='l2', random_state=None, solver='warn',\n",
       "          tol=0.0001, verbose=0, warm_start=False)"
      ]
     },
     "execution_count": 28,
     "metadata": {},
     "output_type": "execute_result"
    }
   ],
   "source": [
    "warnings.filterwarnings('ignore')\n",
    "# train a logistic regression model on the training set\n",
    "from sklearn.linear_model import LogisticRegression\n",
    "\n",
    "# instantiate model\n",
    "logreg = LogisticRegression()\n",
    "\n",
    "# fit model\n",
    "logreg.fit(X_train, y_train)"
   ]
  },
  {
   "cell_type": "code",
   "execution_count": 30,
   "metadata": {
    "ExecuteTime": {
     "end_time": "2020-05-04T11:10:42.712354Z",
     "start_time": "2020-05-04T11:10:42.564376Z"
    }
   },
   "outputs": [
    {
     "data": {
      "text/plain": [
       "0.8250801665856164"
      ]
     },
     "execution_count": 30,
     "metadata": {},
     "output_type": "execute_result"
    }
   ],
   "source": [
    "# calculate cross-validated AUC using logistic regression\n",
    "from sklearn.model_selection import cross_val_score\n",
    "cross_val_score(LogisticRegression(), X, y, cv=10, scoring='roc_auc').mean()"
   ]
  },
  {
   "cell_type": "code",
   "execution_count": 31,
   "metadata": {
    "ExecuteTime": {
     "end_time": "2020-05-04T11:10:52.384940Z",
     "start_time": "2020-05-04T11:10:52.379940Z"
    }
   },
   "outputs": [],
   "source": [
    "# make class predictions for the testing set\n",
    "y_pred_class = logreg.predict(X_test)"
   ]
  },
  {
   "cell_type": "code",
   "execution_count": 50,
   "metadata": {
    "ExecuteTime": {
     "end_time": "2020-05-04T14:49:52.590309Z",
     "start_time": "2020-05-04T14:49:52.488313Z"
    }
   },
   "outputs": [
    {
     "name": "stdout",
     "output_type": "stream",
     "text": [
      "MSE on train set = 0.12805605988691732\n",
      "MSE on test set = 0.13748338460735698\n"
     ]
    }
   ],
   "source": [
    "#perform evaluation on train and test set\n",
    "y_train_predicted = model.predict(X_train_scaled)\n",
    "y_test_predicted = model.predict(X_test_scaled)\n",
    "\n",
    "MSE_train = mean_squared_error(y_train, y_train_predicted)\n",
    "MSE_test = mean_squared_error(y_test, y_test_predicted)\n",
    "\n",
    "print('MSE on train set = {}'.format(MSE_train))\n",
    "print('MSE on test set = {}'. format(MSE_test))"
   ]
  },
  {
   "cell_type": "code",
   "execution_count": 33,
   "metadata": {
    "ExecuteTime": {
     "end_time": "2020-05-04T11:10:57.088805Z",
     "start_time": "2020-05-04T11:10:57.024807Z"
    }
   },
   "outputs": [
    {
     "name": "stdout",
     "output_type": "stream",
     "text": [
      "[[130  12]\n",
      " [ 28  37]]\n"
     ]
    }
   ],
   "source": [
    "# save confusion matrix and slice into four pieces\n",
    "confusion = metrics.confusion_matrix(y_test, y_pred_class)\n",
    "print(confusion)\n",
    "#[row, column]\n",
    "TP = confusion[1, 1]\n",
    "TN = confusion[0, 0]\n",
    "FP = confusion[0, 1]\n",
    "FN = confusion[1, 0]"
   ]
  },
  {
   "cell_type": "code",
   "execution_count": 34,
   "metadata": {
    "ExecuteTime": {
     "end_time": "2020-05-04T11:10:59.481389Z",
     "start_time": "2020-05-04T11:10:59.472410Z"
    }
   },
   "outputs": [
    {
     "name": "stdout",
     "output_type": "stream",
     "text": [
      "0.8067632850241546\n",
      "0.8067632850241546\n"
     ]
    }
   ],
   "source": [
    "# classification accuracy\n",
    "print((TP + TN) / float(TP + TN + FP + FN))\n",
    "print(metrics.accuracy_score(y_test, y_pred_class))"
   ]
  },
  {
   "cell_type": "code",
   "execution_count": 35,
   "metadata": {
    "ExecuteTime": {
     "end_time": "2020-05-04T11:11:01.196427Z",
     "start_time": "2020-05-04T11:11:01.189431Z"
    }
   },
   "outputs": [
    {
     "name": "stdout",
     "output_type": "stream",
     "text": [
      "0.1932367149758454\n",
      "0.19323671497584538\n"
     ]
    }
   ],
   "source": [
    "#classification error\n",
    "classification_error = (FP + FN) / float(TP + TN + FP + FN)\n",
    "print(classification_error)\n",
    "print(1 - metrics.accuracy_score(y_test, y_pred_class))"
   ]
  },
  {
   "cell_type": "code",
   "execution_count": 36,
   "metadata": {
    "ExecuteTime": {
     "end_time": "2020-05-04T11:11:03.526520Z",
     "start_time": "2020-05-04T11:11:03.518520Z"
    }
   },
   "outputs": [
    {
     "name": "stdout",
     "output_type": "stream",
     "text": [
      "0.5692307692307692\n",
      "0.5692307692307692\n"
     ]
    }
   ],
   "source": [
    "#sensitivity\n",
    "sensitivity = TP / float(FN + TP)\n",
    "print(sensitivity)\n",
    "print(metrics.recall_score(y_test, y_pred_class))"
   ]
  },
  {
   "cell_type": "code",
   "execution_count": 37,
   "metadata": {
    "ExecuteTime": {
     "end_time": "2020-05-04T11:11:06.639039Z",
     "start_time": "2020-05-04T11:11:06.632039Z"
    }
   },
   "outputs": [
    {
     "name": "stdout",
     "output_type": "stream",
     "text": [
      "0.9154929577464789\n"
     ]
    }
   ],
   "source": [
    "#specificity\n",
    "specificity = TN / (TN + FP)\n",
    "print(specificity)"
   ]
  },
  {
   "cell_type": "code",
   "execution_count": 38,
   "metadata": {
    "ExecuteTime": {
     "end_time": "2020-05-04T11:11:09.120145Z",
     "start_time": "2020-05-04T11:11:09.114150Z"
    }
   },
   "outputs": [
    {
     "name": "stdout",
     "output_type": "stream",
     "text": [
      "0.08450704225352113\n",
      "0.08450704225352113\n"
     ]
    }
   ],
   "source": [
    "#false_positive_rate\n",
    "false_positive_rate = FP / float(TN + FP)\n",
    "print(false_positive_rate)\n",
    "print(1 - specificity)"
   ]
  },
  {
   "cell_type": "code",
   "execution_count": 39,
   "metadata": {
    "ExecuteTime": {
     "end_time": "2020-05-04T11:11:11.677451Z",
     "start_time": "2020-05-04T11:11:11.666454Z"
    }
   },
   "outputs": [
    {
     "name": "stdout",
     "output_type": "stream",
     "text": [
      "0.7551020408163265\n",
      "0.7551020408163265\n"
     ]
    }
   ],
   "source": [
    "#true positive rate\n",
    "precision = TP / float(TP + FP)\n",
    "print(precision)\n",
    "print(metrics.precision_score(y_test, y_pred_class))"
   ]
  },
  {
   "cell_type": "code",
   "execution_count": 40,
   "metadata": {
    "ExecuteTime": {
     "end_time": "2020-05-04T11:11:13.547730Z",
     "start_time": "2020-05-04T11:11:13.527735Z"
    }
   },
   "outputs": [],
   "source": [
    "y_pred_prob = logreg.predict_proba(X_test)[:, 1]"
   ]
  },
  {
   "cell_type": "code",
   "execution_count": 41,
   "metadata": {
    "ExecuteTime": {
     "end_time": "2020-05-04T11:11:18.085932Z",
     "start_time": "2020-05-04T11:11:17.816931Z"
    }
   },
   "outputs": [
    {
     "data": {
      "image/png": "[encoded data removed]",
      "text/plain": [
       "<Figure size 432x288 with 1 Axes>"
      ]
     },
     "metadata": {
      "needs_background": "light"
     },
     "output_type": "display_data"
    }
   ],
   "source": [
    "fpr, tpr, thresholds = metrics.roc_curve(y_test, y_pred_prob)\n",
    "\n",
    "plt.plot(fpr, tpr)\n",
    "plt.xlim([0.0, 1.0])\n",
    "plt.ylim([0.0, 1.0])\n",
    "plt.rcParams['font.size'] = 12\n",
    "plt.title('ROC curve for diabetes classifier')\n",
    "plt.xlabel('False Positive Rate (1 - Specificity)')\n",
    "plt.ylabel('True Positive Rate (Sensitivity)')\n",
    "plt.grid(True)"
   ]
  },
  {
   "cell_type": "code",
   "execution_count": 42,
   "metadata": {
    "ExecuteTime": {
     "end_time": "2020-05-04T11:11:20.149793Z",
     "start_time": "2020-05-04T11:11:20.143797Z"
    }
   },
   "outputs": [],
   "source": [
    "# define a function that accepts a threshold and prints sensitivity and specificity\n",
    "def evaluate_threshold(threshold):\n",
    "    print('Sensitivity:', tpr[thresholds > threshold][-1])\n",
    "    print('Specificity:', 1 - fpr[thresholds > threshold][-1])"
   ]
  },
  {
   "cell_type": "code",
   "execution_count": 43,
   "metadata": {
    "ExecuteTime": {
     "end_time": "2020-05-04T11:11:22.203043Z",
     "start_time": "2020-05-04T11:11:22.198044Z"
    }
   },
   "outputs": [
    {
     "name": "stdout",
     "output_type": "stream",
     "text": [
      "Sensitivity: 0.24615384615384617\n",
      "Specificity: 0.9859154929577465\n"
     ]
    }
   ],
   "source": [
    "evaluate_threshold(0.7)"
   ]
  },
  {
   "cell_type": "code",
   "execution_count": 44,
   "metadata": {
    "ExecuteTime": {
     "end_time": "2020-05-04T11:11:23.098430Z",
     "start_time": "2020-05-04T11:11:23.092432Z"
    }
   },
   "outputs": [
    {
     "name": "stdout",
     "output_type": "stream",
     "text": [
      "Sensitivity: 0.5384615384615384\n",
      "Specificity: 0.9154929577464789\n"
     ]
    }
   ],
   "source": [
    "evaluate_threshold(0.5)"
   ]
  },
  {
   "cell_type": "code",
   "execution_count": 45,
   "metadata": {
    "ExecuteTime": {
     "end_time": "2020-05-04T11:11:24.121998Z",
     "start_time": "2020-05-04T11:11:24.115999Z"
    }
   },
   "outputs": [
    {
     "name": "stdout",
     "output_type": "stream",
     "text": [
      "Sensitivity: 0.9846153846153847\n",
      "Specificity: 0.204225352112676\n"
     ]
    }
   ],
   "source": [
    "evaluate_threshold(0.1)"
   ]
  },
  {
   "cell_type": "code",
   "execution_count": 46,
   "metadata": {
    "ExecuteTime": {
     "end_time": "2020-05-04T11:11:25.004890Z",
     "start_time": "2020-05-04T11:11:24.998891Z"
    }
   },
   "outputs": [
    {
     "name": "stdout",
     "output_type": "stream",
     "text": [
      "Sensitivity: 0.0\n",
      "Specificity: 1.0\n"
     ]
    }
   ],
   "source": [
    "evaluate_threshold(1)"
   ]
  },
  {
   "cell_type": "code",
   "execution_count": 47,
   "metadata": {
    "ExecuteTime": {
     "end_time": "2020-05-04T11:11:39.086023Z",
     "start_time": "2020-05-04T11:11:39.018036Z"
    }
   },
   "outputs": [],
   "source": [
    "model.save(\"Pima Indian Diabetes\")"
   ]
  },
  {
   "cell_type": "code",
   "execution_count": null,
   "metadata": {},
   "outputs": [],
   "source": []
  }
 ],
 "metadata": {
  "kernelspec": {
   "display_name": "Python 3",
   "language": "python",
   "name": "python3"
  },
  "language_info": {
   "codemirror_mode": {
    "name": "ipython",
    "version": 3
   },
   "file_extension": ".py",
   "mimetype": "text/x-python",
   "name": "python",
   "nbconvert_exporter": "python",
   "pygments_lexer": "ipython3",
   "version": "3.7.3"
  },
  "toc": {
   "base_numbering": 1,
   "nav_menu": {},
   "number_sections": true,
   "sideBar": true,
   "skip_h1_title": false,
   "title_cell": "Table of Contents",
   "title_sidebar": "Contents",
   "toc_cell": false,
   "toc_position": {},
   "toc_section_display": true,
   "toc_window_display": false
  }
 },
 "nbformat": 4,
 "nbformat_minor": 2
}

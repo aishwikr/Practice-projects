{
 "cells": [
  {
   "cell_type": "code",
   "execution_count": 2,
   "metadata": {
    "ExecuteTime": {
     "end_time": "2020-05-04T14:52:26.039452Z",
     "start_time": "2020-05-04T14:52:26.033470Z"
    }
   },
   "outputs": [],
   "source": [
    "import numpy as np\n",
    "import pandas as pd\n",
    "from sklearn.model_selection import train_test_split\n",
    "from sklearn.preprocessing import StandardScaler\n",
    "from sklearn.metrics import mean_squared_error\n",
    "from keras.models import Sequential\n",
    "from keras.layers import Dense\n",
    "from keras.wrappers.scikit_learn import KerasRegressor"
   ]
  },
  {
   "cell_type": "code",
   "execution_count": 3,
   "metadata": {
    "ExecuteTime": {
     "end_time": "2020-05-04T14:52:27.020657Z",
     "start_time": "2020-05-04T14:52:26.971663Z"
    }
   },
   "outputs": [
    {
     "data": {
      "text/html": [
       "<div>\n",
       "<style scoped>\n",
       "    .dataframe tbody tr th:only-of-type {\n",
       "        vertical-align: middle;\n",
       "    }\n",
       "\n",
       "    .dataframe tbody tr th {\n",
       "        vertical-align: top;\n",
       "    }\n",
       "\n",
       "    .dataframe thead th {\n",
       "        text-align: right;\n",
       "    }\n",
       "</style>\n",
       "<table border=\"1\" class=\"dataframe\">\n",
       "  <thead>\n",
       "    <tr style=\"text-align: right;\">\n",
       "      <th></th>\n",
       "      <th>User ID</th>\n",
       "      <th>Gender</th>\n",
       "      <th>Age</th>\n",
       "      <th>EstimatedSalary</th>\n",
       "      <th>Purchased</th>\n",
       "    </tr>\n",
       "  </thead>\n",
       "  <tbody>\n",
       "    <tr>\n",
       "      <th>0</th>\n",
       "      <td>15624510</td>\n",
       "      <td>Male</td>\n",
       "      <td>19</td>\n",
       "      <td>19000</td>\n",
       "      <td>0</td>\n",
       "    </tr>\n",
       "    <tr>\n",
       "      <th>1</th>\n",
       "      <td>15810944</td>\n",
       "      <td>Male</td>\n",
       "      <td>35</td>\n",
       "      <td>20000</td>\n",
       "      <td>0</td>\n",
       "    </tr>\n",
       "    <tr>\n",
       "      <th>2</th>\n",
       "      <td>15668575</td>\n",
       "      <td>Female</td>\n",
       "      <td>26</td>\n",
       "      <td>43000</td>\n",
       "      <td>0</td>\n",
       "    </tr>\n",
       "    <tr>\n",
       "      <th>3</th>\n",
       "      <td>15603246</td>\n",
       "      <td>Female</td>\n",
       "      <td>27</td>\n",
       "      <td>57000</td>\n",
       "      <td>0</td>\n",
       "    </tr>\n",
       "    <tr>\n",
       "      <th>4</th>\n",
       "      <td>15804002</td>\n",
       "      <td>Male</td>\n",
       "      <td>19</td>\n",
       "      <td>76000</td>\n",
       "      <td>0</td>\n",
       "    </tr>\n",
       "  </tbody>\n",
       "</table>\n",
       "</div>"
      ],
      "text/plain": [
       "    User ID  Gender  Age  EstimatedSalary  Purchased\n",
       "0  15624510    Male   19            19000          0\n",
       "1  15810944    Male   35            20000          0\n",
       "2  15668575  Female   26            43000          0\n",
       "3  15603246  Female   27            57000          0\n",
       "4  15804002    Male   19            76000          0"
      ]
     },
     "execution_count": 3,
     "metadata": {},
     "output_type": "execute_result"
    }
   ],
   "source": [
    "df=pd.read_csv('D:/dataset1/Social_Network_Ads.csv')\n",
    "df.head()"
   ]
  },
  {
   "cell_type": "code",
   "execution_count": 4,
   "metadata": {
    "ExecuteTime": {
     "end_time": "2020-05-04T14:52:27.761542Z",
     "start_time": "2020-05-04T14:52:27.747544Z"
    }
   },
   "outputs": [
    {
     "data": {
      "text/plain": [
       "User ID            False\n",
       "Gender             False\n",
       "Age                False\n",
       "EstimatedSalary    False\n",
       "Purchased          False\n",
       "dtype: bool"
      ]
     },
     "execution_count": 4,
     "metadata": {},
     "output_type": "execute_result"
    }
   ],
   "source": [
    "df.isnull().any()"
   ]
  },
  {
   "cell_type": "code",
   "execution_count": 5,
   "metadata": {
    "ExecuteTime": {
     "end_time": "2020-05-04T14:52:28.545594Z",
     "start_time": "2020-05-04T14:52:28.539594Z"
    }
   },
   "outputs": [
    {
     "data": {
      "text/plain": [
       "(400, 5)"
      ]
     },
     "execution_count": 5,
     "metadata": {},
     "output_type": "execute_result"
    }
   ],
   "source": [
    "df.shape"
   ]
  },
  {
   "cell_type": "code",
   "execution_count": 6,
   "metadata": {
    "ExecuteTime": {
     "end_time": "2020-05-04T14:52:29.190524Z",
     "start_time": "2020-05-04T14:52:29.176528Z"
    }
   },
   "outputs": [
    {
     "name": "stdout",
     "output_type": "stream",
     "text": [
      "<class 'pandas.core.frame.DataFrame'>\n",
      "RangeIndex: 400 entries, 0 to 399\n",
      "Data columns (total 5 columns):\n",
      "User ID            400 non-null int64\n",
      "Gender             400 non-null object\n",
      "Age                400 non-null int64\n",
      "EstimatedSalary    400 non-null int64\n",
      "Purchased          400 non-null int64\n",
      "dtypes: int64(4), object(1)\n",
      "memory usage: 15.7+ KB\n"
     ]
    }
   ],
   "source": [
    "df.info()"
   ]
  },
  {
   "cell_type": "code",
   "execution_count": 7,
   "metadata": {
    "ExecuteTime": {
     "end_time": "2020-05-04T14:52:29.824123Z",
     "start_time": "2020-05-04T14:52:29.771131Z"
    }
   },
   "outputs": [
    {
     "data": {
      "text/html": [
       "<div>\n",
       "<style scoped>\n",
       "    .dataframe tbody tr th:only-of-type {\n",
       "        vertical-align: middle;\n",
       "    }\n",
       "\n",
       "    .dataframe tbody tr th {\n",
       "        vertical-align: top;\n",
       "    }\n",
       "\n",
       "    .dataframe thead th {\n",
       "        text-align: right;\n",
       "    }\n",
       "</style>\n",
       "<table border=\"1\" class=\"dataframe\">\n",
       "  <thead>\n",
       "    <tr style=\"text-align: right;\">\n",
       "      <th></th>\n",
       "      <th>User ID</th>\n",
       "      <th>Age</th>\n",
       "      <th>EstimatedSalary</th>\n",
       "      <th>Purchased</th>\n",
       "    </tr>\n",
       "  </thead>\n",
       "  <tbody>\n",
       "    <tr>\n",
       "      <th>count</th>\n",
       "      <td>4.000000e+02</td>\n",
       "      <td>400.000000</td>\n",
       "      <td>400.000000</td>\n",
       "      <td>400.000000</td>\n",
       "    </tr>\n",
       "    <tr>\n",
       "      <th>mean</th>\n",
       "      <td>1.569154e+07</td>\n",
       "      <td>37.655000</td>\n",
       "      <td>69742.500000</td>\n",
       "      <td>0.357500</td>\n",
       "    </tr>\n",
       "    <tr>\n",
       "      <th>std</th>\n",
       "      <td>7.165832e+04</td>\n",
       "      <td>10.482877</td>\n",
       "      <td>34096.960282</td>\n",
       "      <td>0.479864</td>\n",
       "    </tr>\n",
       "    <tr>\n",
       "      <th>min</th>\n",
       "      <td>1.556669e+07</td>\n",
       "      <td>18.000000</td>\n",
       "      <td>15000.000000</td>\n",
       "      <td>0.000000</td>\n",
       "    </tr>\n",
       "    <tr>\n",
       "      <th>25%</th>\n",
       "      <td>1.562676e+07</td>\n",
       "      <td>29.750000</td>\n",
       "      <td>43000.000000</td>\n",
       "      <td>0.000000</td>\n",
       "    </tr>\n",
       "    <tr>\n",
       "      <th>50%</th>\n",
       "      <td>1.569434e+07</td>\n",
       "      <td>37.000000</td>\n",
       "      <td>70000.000000</td>\n",
       "      <td>0.000000</td>\n",
       "    </tr>\n",
       "    <tr>\n",
       "      <th>75%</th>\n",
       "      <td>1.575036e+07</td>\n",
       "      <td>46.000000</td>\n",
       "      <td>88000.000000</td>\n",
       "      <td>1.000000</td>\n",
       "    </tr>\n",
       "    <tr>\n",
       "      <th>max</th>\n",
       "      <td>1.581524e+07</td>\n",
       "      <td>60.000000</td>\n",
       "      <td>150000.000000</td>\n",
       "      <td>1.000000</td>\n",
       "    </tr>\n",
       "  </tbody>\n",
       "</table>\n",
       "</div>"
      ],
      "text/plain": [
       "            User ID         Age  EstimatedSalary   Purchased\n",
       "count  4.000000e+02  400.000000       400.000000  400.000000\n",
       "mean   1.569154e+07   37.655000     69742.500000    0.357500\n",
       "std    7.165832e+04   10.482877     34096.960282    0.479864\n",
       "min    1.556669e+07   18.000000     15000.000000    0.000000\n",
       "25%    1.562676e+07   29.750000     43000.000000    0.000000\n",
       "50%    1.569434e+07   37.000000     70000.000000    0.000000\n",
       "75%    1.575036e+07   46.000000     88000.000000    1.000000\n",
       "max    1.581524e+07   60.000000    150000.000000    1.000000"
      ]
     },
     "execution_count": 7,
     "metadata": {},
     "output_type": "execute_result"
    }
   ],
   "source": [
    "df.describe()"
   ]
  },
  {
   "cell_type": "markdown",
   "metadata": {},
   "source": [
    "# Univariate Analysis"
   ]
  },
  {
   "cell_type": "code",
   "execution_count": 8,
   "metadata": {
    "ExecuteTime": {
     "end_time": "2020-05-04T14:52:31.776855Z",
     "start_time": "2020-05-04T14:52:30.971868Z"
    }
   },
   "outputs": [
    {
     "data": {
      "image/png": "[encoded data removed]",
      "text/plain": [
       "<Figure size 432x288 with 1 Axes>"
      ]
     },
     "metadata": {
      "needs_background": "light"
     },
     "output_type": "display_data"
    }
   ],
   "source": [
    "import seaborn as sns\n",
    "import matplotlib.pyplot as plt\n",
    "%matplotlib inline\n",
    "sns.distplot(df['EstimatedSalary'])\n",
    "plt.show()"
   ]
  },
  {
   "cell_type": "code",
   "execution_count": 9,
   "metadata": {
    "ExecuteTime": {
     "end_time": "2020-05-04T14:52:32.087790Z",
     "start_time": "2020-05-04T14:52:31.781837Z"
    }
   },
   "outputs": [
    {
     "data": {
      "image/png": "[encoded data removed]",
      "text/plain": [
       "<Figure size 432x288 with 1 Axes>"
      ]
     },
     "metadata": {
      "needs_background": "light"
     },
     "output_type": "display_data"
    }
   ],
   "source": [
    "sns.distplot(df['Age'])\n",
    "plt.show()"
   ]
  },
  {
   "cell_type": "markdown",
   "metadata": {},
   "source": [
    "# Bivariate Analysis"
   ]
  },
  {
   "cell_type": "code",
   "execution_count": 10,
   "metadata": {
    "ExecuteTime": {
     "end_time": "2020-05-04T14:52:33.214599Z",
     "start_time": "2020-05-04T14:52:32.763686Z"
    }
   },
   "outputs": [
    {
     "data": {
      "text/plain": [
       "<matplotlib.axes._subplots.AxesSubplot at 0x1b1d8a2e278>"
      ]
     },
     "execution_count": 10,
     "metadata": {},
     "output_type": "execute_result"
    },
    {
     "data": {
      "image/png": "[encoded data removed]",
      "text/plain": [
       "<Figure size 432x288 with 1 Axes>"
      ]
     },
     "metadata": {
      "needs_background": "light"
     },
     "output_type": "display_data"
    }
   ],
   "source": [
    "sns.scatterplot(x='Age', y='Purchased', hue='Purchased', data=df)"
   ]
  },
  {
   "cell_type": "code",
   "execution_count": 11,
   "metadata": {
    "ExecuteTime": {
     "end_time": "2020-05-04T14:52:33.940486Z",
     "start_time": "2020-05-04T14:52:33.332583Z"
    }
   },
   "outputs": [
    {
     "data": {
      "text/plain": [
       "<matplotlib.axes._subplots.AxesSubplot at 0x1b1d8ab1908>"
      ]
     },
     "execution_count": 11,
     "metadata": {},
     "output_type": "execute_result"
    },
    {
     "data": {
      "image/png": "[encoded data removed]",
      "text/plain": [
       "<Figure size 432x288 with 1 Axes>"
      ]
     },
     "metadata": {
      "needs_background": "light"
     },
     "output_type": "display_data"
    }
   ],
   "source": [
    "sns.scatterplot(x='EstimatedSalary', y='Purchased', hue='Purchased', data=df)"
   ]
  },
  {
   "cell_type": "code",
   "execution_count": 12,
   "metadata": {
    "ExecuteTime": {
     "end_time": "2020-05-04T14:52:34.508400Z",
     "start_time": "2020-05-04T14:52:33.987479Z"
    }
   },
   "outputs": [
    {
     "data": {
      "text/plain": [
       "<matplotlib.axes._subplots.AxesSubplot at 0x1b1d89679b0>"
      ]
     },
     "execution_count": 12,
     "metadata": {},
     "output_type": "execute_result"
    },
    {
     "data": {
      "image/png": "[encoded data removed]",
      "text/plain": [
       "<Figure size 432x288 with 1 Axes>"
      ]
     },
     "metadata": {
      "needs_background": "light"
     },
     "output_type": "display_data"
    }
   ],
   "source": [
    "sns.scatterplot(x='Age', y='EstimatedSalary', hue='Age', data=df)"
   ]
  },
  {
   "cell_type": "code",
   "execution_count": 13,
   "metadata": {
    "ExecuteTime": {
     "end_time": "2020-05-04T14:52:35.054909Z",
     "start_time": "2020-05-04T14:52:34.574984Z"
    }
   },
   "outputs": [
    {
     "data": {
      "text/plain": [
       "<matplotlib.axes._subplots.AxesSubplot at 0x1b1d89a26a0>"
      ]
     },
     "execution_count": 13,
     "metadata": {},
     "output_type": "execute_result"
    },
    {
     "data": {
      "image/png": "[encoded data removed]",
      "text/plain": [
       "<Figure size 432x288 with 1 Axes>"
      ]
     },
     "metadata": {
      "needs_background": "light"
     },
     "output_type": "display_data"
    }
   ],
   "source": [
    "sns.scatterplot(x='Gender', y='EstimatedSalary', hue='Gender', data=df)"
   ]
  },
  {
   "cell_type": "markdown",
   "metadata": {},
   "source": [
    "# Heatmap"
   ]
  },
  {
   "cell_type": "code",
   "execution_count": 14,
   "metadata": {
    "ExecuteTime": {
     "end_time": "2020-05-04T14:52:36.867525Z",
     "start_time": "2020-05-04T14:52:36.517565Z"
    }
   },
   "outputs": [
    {
     "data": {
      "image/png": "[encoded data removed]",
      "text/plain": [
       "<Figure size 432x288 with 2 Axes>"
      ]
     },
     "metadata": {
      "needs_background": "light"
     },
     "output_type": "display_data"
    }
   ],
   "source": [
    "df=df.drop(['User ID'], axis=1)\n",
    "heat_map = sns.heatmap(df.corr())"
   ]
  },
  {
   "cell_type": "markdown",
   "metadata": {},
   "source": [
    "# Removing outliers"
   ]
  },
  {
   "cell_type": "code",
   "execution_count": 15,
   "metadata": {
    "ExecuteTime": {
     "end_time": "2020-05-04T14:52:38.755306Z",
     "start_time": "2020-05-04T14:52:38.530342Z"
    }
   },
   "outputs": [
    {
     "data": {
      "text/plain": [
       "<matplotlib.axes._subplots.AxesSubplot at 0x1b1d8bc40b8>"
      ]
     },
     "execution_count": 15,
     "metadata": {},
     "output_type": "execute_result"
    },
    {
     "data": {
      "image/png": "[encoded data removed]",
      "text/plain": [
       "<Figure size 432x288 with 1 Axes>"
      ]
     },
     "metadata": {
      "needs_background": "light"
     },
     "output_type": "display_data"
    }
   ],
   "source": [
    "sns.boxplot(df['EstimatedSalary'])"
   ]
  },
  {
   "cell_type": "code",
   "execution_count": 16,
   "metadata": {
    "ExecuteTime": {
     "end_time": "2020-05-04T14:52:39.417367Z",
     "start_time": "2020-05-04T14:52:39.210400Z"
    }
   },
   "outputs": [
    {
     "data": {
      "text/plain": [
       "<matplotlib.axes._subplots.AxesSubplot at 0x1b1d8c41978>"
      ]
     },
     "execution_count": 16,
     "metadata": {},
     "output_type": "execute_result"
    },
    {
     "data": {
      "image/png": "[encoded data removed]",
      "text/plain": [
       "<Figure size 432x288 with 1 Axes>"
      ]
     },
     "metadata": {
      "needs_background": "light"
     },
     "output_type": "display_data"
    }
   ],
   "source": [
    "sns.boxplot(df['Age'])"
   ]
  },
  {
   "cell_type": "markdown",
   "metadata": {},
   "source": [
    "There are no outliers."
   ]
  },
  {
   "cell_type": "markdown",
   "metadata": {},
   "source": [
    "# Modeling"
   ]
  },
  {
   "cell_type": "code",
   "execution_count": 17,
   "metadata": {
    "ExecuteTime": {
     "end_time": "2020-05-04T14:52:41.584289Z",
     "start_time": "2020-05-04T14:52:41.550311Z"
    }
   },
   "outputs": [
    {
     "data": {
      "text/html": [
       "<div>\n",
       "<style scoped>\n",
       "    .dataframe tbody tr th:only-of-type {\n",
       "        vertical-align: middle;\n",
       "    }\n",
       "\n",
       "    .dataframe tbody tr th {\n",
       "        vertical-align: top;\n",
       "    }\n",
       "\n",
       "    .dataframe thead th {\n",
       "        text-align: right;\n",
       "    }\n",
       "</style>\n",
       "<table border=\"1\" class=\"dataframe\">\n",
       "  <thead>\n",
       "    <tr style=\"text-align: right;\">\n",
       "      <th></th>\n",
       "      <th>Age</th>\n",
       "      <th>EstimatedSalary</th>\n",
       "      <th>Female</th>\n",
       "      <th>Male</th>\n",
       "    </tr>\n",
       "  </thead>\n",
       "  <tbody>\n",
       "    <tr>\n",
       "      <th>0</th>\n",
       "      <td>19</td>\n",
       "      <td>19000</td>\n",
       "      <td>0</td>\n",
       "      <td>1</td>\n",
       "    </tr>\n",
       "    <tr>\n",
       "      <th>1</th>\n",
       "      <td>35</td>\n",
       "      <td>20000</td>\n",
       "      <td>0</td>\n",
       "      <td>1</td>\n",
       "    </tr>\n",
       "    <tr>\n",
       "      <th>2</th>\n",
       "      <td>26</td>\n",
       "      <td>43000</td>\n",
       "      <td>1</td>\n",
       "      <td>0</td>\n",
       "    </tr>\n",
       "    <tr>\n",
       "      <th>3</th>\n",
       "      <td>27</td>\n",
       "      <td>57000</td>\n",
       "      <td>1</td>\n",
       "      <td>0</td>\n",
       "    </tr>\n",
       "    <tr>\n",
       "      <th>4</th>\n",
       "      <td>19</td>\n",
       "      <td>76000</td>\n",
       "      <td>0</td>\n",
       "      <td>1</td>\n",
       "    </tr>\n",
       "  </tbody>\n",
       "</table>\n",
       "</div>"
      ],
      "text/plain": [
       "   Age  EstimatedSalary  Female  Male\n",
       "0   19            19000       0     1\n",
       "1   35            20000       0     1\n",
       "2   26            43000       1     0\n",
       "3   27            57000       1     0\n",
       "4   19            76000       0     1"
      ]
     },
     "execution_count": 17,
     "metadata": {},
     "output_type": "execute_result"
    }
   ],
   "source": [
    "#One hot encoding\n",
    "Feature = df[['Gender','Age','EstimatedSalary']]\n",
    "Feature = pd.concat([Feature,pd.get_dummies(df['Gender'])], axis=1)\n",
    "Feature.drop(['Gender'], axis=1, inplace=True)\n",
    "Feature.head()"
   ]
  },
  {
   "cell_type": "code",
   "execution_count": 18,
   "metadata": {
    "ExecuteTime": {
     "end_time": "2020-05-04T14:52:42.369759Z",
     "start_time": "2020-05-04T14:52:42.243730Z"
    }
   },
   "outputs": [],
   "source": [
    "#define model with 3 hidden layers of 10 nodes and relu as activation function\n",
    "# and use MSE as loss metrics and adam as optimizer\n",
    "model = Sequential()\n",
    "model.add(Dense(10, activation='relu', input_dim=4))\n",
    "model.add(Dense(10, activation='relu'))\n",
    "model.add(Dense(10, activation='relu'))\n",
    "model.add(Dense(1, activation='linear'))\n",
    "# Compile model\n",
    "model.compile(loss='mean_squared_error', optimizer='adam')"
   ]
  },
  {
   "cell_type": "code",
   "execution_count": 19,
   "metadata": {
    "ExecuteTime": {
     "end_time": "2020-05-04T14:52:42.989743Z",
     "start_time": "2020-05-04T14:52:42.984743Z"
    }
   },
   "outputs": [],
   "source": [
    "#split dataset in target values and features\n",
    "X=Feature.iloc[:,:]\n",
    "y=df['Purchased'].values"
   ]
  },
  {
   "cell_type": "code",
   "execution_count": 20,
   "metadata": {
    "ExecuteTime": {
     "end_time": "2020-05-04T14:52:43.700630Z",
     "start_time": "2020-05-04T14:52:43.689633Z"
    }
   },
   "outputs": [],
   "source": [
    "X_train, X_test, y_train, y_test = train_test_split(X, y, test_size=0.3)"
   ]
  },
  {
   "cell_type": "code",
   "execution_count": 21,
   "metadata": {
    "ExecuteTime": {
     "end_time": "2020-05-04T14:52:48.497077Z",
     "start_time": "2020-05-04T14:52:44.293301Z"
    }
   },
   "outputs": [
    {
     "name": "stdout",
     "output_type": "stream",
     "text": [
      "Epoch 1/100\n",
      "280/280 [==============================] - 0s 678us/step - loss: 0.2179\n",
      "Epoch 2/100\n",
      "280/280 [==============================] - 0s 96us/step - loss: 0.1972\n",
      "Epoch 3/100\n",
      "280/280 [==============================] - 0s 86us/step - loss: 0.1813\n",
      "Epoch 4/100\n",
      "280/280 [==============================] - 0s 107us/step - loss: 0.1679\n",
      "Epoch 5/100\n",
      "280/280 [==============================] - 0s 86us/step - loss: 0.1558\n",
      "Epoch 6/100\n",
      "280/280 [==============================] - 0s 86us/step - loss: 0.1438\n",
      "Epoch 7/100\n",
      "280/280 [==============================] - 0s 129us/step - loss: 0.1324\n",
      "Epoch 8/100\n",
      "280/280 [==============================] - 0s 121us/step - loss: 0.1228\n",
      "Epoch 9/100\n",
      "280/280 [==============================] - 0s 89us/step - loss: 0.1124\n",
      "Epoch 10/100\n",
      "280/280 [==============================] - 0s 100us/step - loss: 0.1040\n",
      "Epoch 11/100\n",
      "280/280 [==============================] - 0s 111us/step - loss: 0.0964\n",
      "Epoch 12/100\n",
      "280/280 [==============================] - 0s 96us/step - loss: 0.0903\n",
      "Epoch 13/100\n",
      "280/280 [==============================] - 0s 125us/step - loss: 0.0851\n",
      "Epoch 14/100\n",
      "280/280 [==============================] - 0s 107us/step - loss: 0.0809\n",
      "Epoch 15/100\n",
      "280/280 [==============================] - 0s 100us/step - loss: 0.0774\n",
      "Epoch 16/100\n",
      "280/280 [==============================] - 0s 93us/step - loss: 0.0745\n",
      "Epoch 17/100\n",
      "280/280 [==============================] - 0s 104us/step - loss: 0.0724\n",
      "Epoch 18/100\n",
      "280/280 [==============================] - 0s 100us/step - loss: 0.0705\n",
      "Epoch 19/100\n",
      "280/280 [==============================] - 0s 121us/step - loss: 0.0689\n",
      "Epoch 20/100\n",
      "280/280 [==============================] - 0s 99us/step - loss: 0.0681\n",
      "Epoch 21/100\n",
      "280/280 [==============================] - 0s 93us/step - loss: 0.0668\n",
      "Epoch 22/100\n",
      "280/280 [==============================] - 0s 107us/step - loss: 0.0658\n",
      "Epoch 23/100\n",
      "280/280 [==============================] - 0s 86us/step - loss: 0.0653\n",
      "Epoch 24/100\n",
      "280/280 [==============================] - 0s 100us/step - loss: 0.0648\n",
      "Epoch 25/100\n",
      "280/280 [==============================] - 0s 75us/step - loss: 0.0643\n",
      "Epoch 26/100\n",
      "280/280 [==============================] - 0s 104us/step - loss: 0.0633\n",
      "Epoch 27/100\n",
      "280/280 [==============================] - 0s 89us/step - loss: 0.0631\n",
      "Epoch 28/100\n",
      "280/280 [==============================] - 0s 121us/step - loss: 0.0629\n",
      "Epoch 29/100\n",
      "280/280 [==============================] - 0s 107us/step - loss: 0.0625\n",
      "Epoch 30/100\n",
      "280/280 [==============================] - 0s 104us/step - loss: 0.0621\n",
      "Epoch 31/100\n",
      "280/280 [==============================] - 0s 100us/step - loss: 0.0619\n",
      "Epoch 32/100\n",
      "280/280 [==============================] - 0s 100us/step - loss: 0.0616\n",
      "Epoch 33/100\n",
      "280/280 [==============================] - 0s 82us/step - loss: 0.0613\n",
      "Epoch 34/100\n",
      "280/280 [==============================] - 0s 96us/step - loss: 0.0613\n",
      "Epoch 35/100\n",
      "280/280 [==============================] - 0s 107us/step - loss: 0.0608\n",
      "Epoch 36/100\n",
      "280/280 [==============================] - 0s 107us/step - loss: 0.0608\n",
      "Epoch 37/100\n",
      "280/280 [==============================] - 0s 93us/step - loss: 0.0605\n",
      "Epoch 38/100\n",
      "280/280 [==============================] - 0s 100us/step - loss: 0.0602\n",
      "Epoch 39/100\n",
      "280/280 [==============================] - 0s 89us/step - loss: 0.0602\n",
      "Epoch 40/100\n",
      "280/280 [==============================] - 0s 89us/step - loss: 0.0601\n",
      "Epoch 41/100\n",
      "280/280 [==============================] - 0s 96us/step - loss: 0.0598\n",
      "Epoch 42/100\n",
      "280/280 [==============================] - 0s 104us/step - loss: 0.0597\n",
      "Epoch 43/100\n",
      "280/280 [==============================] - 0s 93us/step - loss: 0.0598\n",
      "Epoch 44/100\n",
      "280/280 [==============================] - 0s 93us/step - loss: 0.0594\n",
      "Epoch 45/100\n",
      "280/280 [==============================] - 0s 96us/step - loss: 0.0594\n",
      "Epoch 46/100\n",
      "280/280 [==============================] - 0s 104us/step - loss: 0.0591\n",
      "Epoch 47/100\n",
      "280/280 [==============================] - 0s 96us/step - loss: 0.0588\n",
      "Epoch 48/100\n",
      "280/280 [==============================] - 0s 89us/step - loss: 0.0588\n",
      "Epoch 49/100\n",
      "280/280 [==============================] - 0s 89us/step - loss: 0.0587\n",
      "Epoch 50/100\n",
      "280/280 [==============================] - 0s 93us/step - loss: 0.0585\n",
      "Epoch 51/100\n",
      "280/280 [==============================] - 0s 82us/step - loss: 0.0591\n",
      "Epoch 52/100\n",
      "280/280 [==============================] - 0s 236us/step - loss: 0.0585\n",
      "Epoch 53/100\n",
      "280/280 [==============================] - 0s 96us/step - loss: 0.0582\n",
      "Epoch 54/100\n",
      "280/280 [==============================] - 0s 96us/step - loss: 0.0581\n",
      "Epoch 55/100\n",
      "280/280 [==============================] - 0s 79us/step - loss: 0.0581\n",
      "Epoch 56/100\n",
      "280/280 [==============================] - 0s 93us/step - loss: 0.0578\n",
      "Epoch 57/100\n",
      "280/280 [==============================] - 0s 82us/step - loss: 0.0583\n",
      "Epoch 58/100\n",
      "280/280 [==============================] - 0s 82us/step - loss: 0.0577\n",
      "Epoch 59/100\n",
      "280/280 [==============================] - 0s 111us/step - loss: 0.0576\n",
      "Epoch 60/100\n",
      "280/280 [==============================] - 0s 79us/step - loss: 0.0577\n",
      "Epoch 61/100\n",
      "280/280 [==============================] - 0s 104us/step - loss: 0.0578\n",
      "Epoch 62/100\n",
      "280/280 [==============================] - 0s 89us/step - loss: 0.0577\n",
      "Epoch 63/100\n",
      "280/280 [==============================] - 0s 93us/step - loss: 0.0573\n",
      "Epoch 64/100\n",
      "280/280 [==============================] - 0s 86us/step - loss: 0.0571\n",
      "Epoch 65/100\n",
      "280/280 [==============================] - 0s 89us/step - loss: 0.0571\n",
      "Epoch 66/100\n",
      "280/280 [==============================] - 0s 86us/step - loss: 0.0574\n",
      "Epoch 67/100\n",
      "280/280 [==============================] - 0s 96us/step - loss: 0.0571\n",
      "Epoch 68/100\n",
      "280/280 [==============================] - 0s 104us/step - loss: 0.0572\n",
      "Epoch 69/100\n",
      "280/280 [==============================] - 0s 96us/step - loss: 0.0570\n",
      "Epoch 70/100\n",
      "280/280 [==============================] - 0s 89us/step - loss: 0.0566\n",
      "Epoch 71/100\n",
      "280/280 [==============================] - 0s 107us/step - loss: 0.0568\n",
      "Epoch 72/100\n",
      "280/280 [==============================] - 0s 118us/step - loss: 0.0567\n",
      "Epoch 73/100\n",
      "280/280 [==============================] - 0s 118us/step - loss: 0.0566\n",
      "Epoch 74/100\n",
      "280/280 [==============================] - 0s 107us/step - loss: 0.0564\n",
      "Epoch 75/100\n",
      "280/280 [==============================] - 0s 107us/step - loss: 0.0564\n",
      "Epoch 76/100\n",
      "280/280 [==============================] - 0s 107us/step - loss: 0.0565\n",
      "Epoch 77/100\n",
      "280/280 [==============================] - 0s 103us/step - loss: 0.0570\n",
      "Epoch 78/100\n",
      "280/280 [==============================] - 0s 113us/step - loss: 0.0569\n",
      "Epoch 79/100\n",
      "280/280 [==============================] - 0s 96us/step - loss: 0.0560\n",
      "Epoch 80/100\n",
      "280/280 [==============================] - 0s 104us/step - loss: 0.0561\n",
      "Epoch 81/100\n",
      "280/280 [==============================] - 0s 89us/step - loss: 0.0561\n",
      "Epoch 82/100\n",
      "280/280 [==============================] - 0s 104us/step - loss: 0.0559\n",
      "Epoch 83/100\n",
      "280/280 [==============================] - 0s 100us/step - loss: 0.0558\n",
      "Epoch 84/100\n",
      "280/280 [==============================] - 0s 93us/step - loss: 0.0559\n",
      "Epoch 85/100\n",
      "280/280 [==============================] - 0s 89us/step - loss: 0.0557\n",
      "Epoch 86/100\n",
      "280/280 [==============================] - 0s 89us/step - loss: 0.0558\n",
      "Epoch 87/100\n",
      "280/280 [==============================] - 0s 100us/step - loss: 0.0559\n",
      "Epoch 88/100\n",
      "280/280 [==============================] - 0s 93us/step - loss: 0.0556\n",
      "Epoch 89/100\n",
      "280/280 [==============================] - 0s 86us/step - loss: 0.0557\n",
      "Epoch 90/100\n",
      "280/280 [==============================] - 0s 89us/step - loss: 0.0554\n",
      "Epoch 91/100\n",
      "280/280 [==============================] - 0s 86us/step - loss: 0.0553\n",
      "Epoch 92/100\n",
      "280/280 [==============================] - 0s 86us/step - loss: 0.0550\n",
      "Epoch 93/100\n",
      "280/280 [==============================] - 0s 86us/step - loss: 0.0551\n",
      "Epoch 94/100\n",
      "280/280 [==============================] - 0s 82us/step - loss: 0.0550\n",
      "Epoch 95/100\n",
      "280/280 [==============================] - 0s 82us/step - loss: 0.0551\n",
      "Epoch 96/100\n",
      "280/280 [==============================] - 0s 86us/step - loss: 0.0549\n",
      "Epoch 97/100\n",
      "280/280 [==============================] - 0s 86us/step - loss: 0.0554\n",
      "Epoch 98/100\n",
      "280/280 [==============================] - 0s 86us/step - loss: 0.0546\n",
      "Epoch 99/100\n",
      "280/280 [==============================] - 0s 93us/step - loss: 0.0545\n",
      "Epoch 100/100\n",
      "280/280 [==============================] - 0s 75us/step - loss: 0.0544\n"
     ]
    },
    {
     "data": {
      "text/plain": [
       "<keras.callbacks.callbacks.History at 0x1b1da374e48>"
      ]
     },
     "execution_count": 21,
     "metadata": {},
     "output_type": "execute_result"
    }
   ],
   "source": [
    "import warnings\n",
    "warnings.filterwarnings('ignore')\n",
    "scaler = StandardScaler()\n",
    "# fit scaler with train data\n",
    "scaler.fit(X_train)\n",
    "\n",
    "X_train_scaled = scaler.transform(X_train)\n",
    "X_test_scaled = scaler.transform(X_test)\n",
    "\n",
    "#train model\n",
    "model.fit(X_train_scaled, y_train, epochs=100)"
   ]
  },
  {
   "cell_type": "code",
   "execution_count": 22,
   "metadata": {
    "ExecuteTime": {
     "end_time": "2020-05-04T14:52:55.143471Z",
     "start_time": "2020-05-04T14:52:55.068483Z"
    }
   },
   "outputs": [
    {
     "name": "stdout",
     "output_type": "stream",
     "text": [
      "MSE on train set = 0.0539587382406286\n",
      "MSE on test set = 0.12174713889055995\n"
     ]
    }
   ],
   "source": [
    "#perform evaluation on train and test set\n",
    "y_train_predicted = model.predict(X_train_scaled)\n",
    "y_test_predicted = model.predict(X_test_scaled)\n",
    "\n",
    "MSE_train = mean_squared_error(y_train, y_train_predicted)\n",
    "MSE_test = mean_squared_error(y_test, y_test_predicted)\n",
    "\n",
    "print('MSE on train set = {}'.format(MSE_train))\n",
    "print('MSE on test set = {}'. format(MSE_test))"
   ]
  },
  {
   "cell_type": "code",
   "execution_count": 23,
   "metadata": {
    "ExecuteTime": {
     "end_time": "2020-05-04T14:53:08.082207Z",
     "start_time": "2020-05-04T14:53:07.912938Z"
    }
   },
   "outputs": [],
   "source": [
    "model.save(\"Social Network\")"
   ]
  },
  {
   "cell_type": "code",
   "execution_count": null,
   "metadata": {},
   "outputs": [],
   "source": []
  }
 ],
 "metadata": {
  "kernelspec": {
   "display_name": "Python 3",
   "language": "python",
   "name": "python3"
  },
  "language_info": {
   "codemirror_mode": {
    "name": "ipython",
    "version": 3
   },
   "file_extension": ".py",
   "mimetype": "text/x-python",
   "name": "python",
   "nbconvert_exporter": "python",
   "pygments_lexer": "ipython3",
   "version": "3.7.3"
  },
  "toc": {
   "base_numbering": 1,
   "nav_menu": {},
   "number_sections": true,
   "sideBar": true,
   "skip_h1_title": false,
   "title_cell": "Table of Contents",
   "title_sidebar": "Contents",
   "toc_cell": false,
   "toc_position": {},
   "toc_section_display": true,
   "toc_window_display": false
  }
 },
 "nbformat": 4,
 "nbformat_minor": 2
}

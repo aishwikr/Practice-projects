{
 "cells": [
  {
   "cell_type": "code",
   "execution_count": 33,
   "metadata": {
    "ExecuteTime": {
     "end_time": "2020-05-04T14:53:41.832593Z",
     "start_time": "2020-05-04T14:53:41.525133Z"
    }
   },
   "outputs": [],
   "source": [
    "import numpy as np\n",
    "import pandas as pd\n",
    "import matplotlib.pyplot as plt\n",
    "%matplotlib inline\n",
    "import seaborn as sns\n",
    "from sklearn.linear_model import LinearRegression\n",
    "from sklearn.metrics import mean_squared_error\n",
    "from sklearn.metrics import classification_report\n",
    "from sklearn.model_selection import train_test_split\n",
    "df=pd.read_csv('D:/dataset1/titanic_train.csv')"
   ]
  },
  {
   "cell_type": "code",
   "execution_count": 2,
   "metadata": {
    "ExecuteTime": {
     "end_time": "2020-05-04T10:44:27.948189Z",
     "start_time": "2020-05-04T10:44:27.917190Z"
    }
   },
   "outputs": [
    {
     "data": {
      "text/html": [
       "<div>\n",
       "<style scoped>\n",
       "    .dataframe tbody tr th:only-of-type {\n",
       "        vertical-align: middle;\n",
       "    }\n",
       "\n",
       "    .dataframe tbody tr th {\n",
       "        vertical-align: top;\n",
       "    }\n",
       "\n",
       "    .dataframe thead th {\n",
       "        text-align: right;\n",
       "    }\n",
       "</style>\n",
       "<table border=\"1\" class=\"dataframe\">\n",
       "  <thead>\n",
       "    <tr style=\"text-align: right;\">\n",
       "      <th></th>\n",
       "      <th>PassengerId</th>\n",
       "      <th>Survived</th>\n",
       "      <th>Pclass</th>\n",
       "      <th>Name</th>\n",
       "      <th>Sex</th>\n",
       "      <th>Age</th>\n",
       "      <th>SibSp</th>\n",
       "      <th>Parch</th>\n",
       "      <th>Ticket</th>\n",
       "      <th>Fare</th>\n",
       "      <th>Cabin</th>\n",
       "      <th>Embarked</th>\n",
       "    </tr>\n",
       "  </thead>\n",
       "  <tbody>\n",
       "    <tr>\n",
       "      <th>0</th>\n",
       "      <td>1</td>\n",
       "      <td>0</td>\n",
       "      <td>3</td>\n",
       "      <td>Braund, Mr. Owen Harris</td>\n",
       "      <td>male</td>\n",
       "      <td>22.0</td>\n",
       "      <td>1</td>\n",
       "      <td>0</td>\n",
       "      <td>A/5 21171</td>\n",
       "      <td>7.2500</td>\n",
       "      <td>NaN</td>\n",
       "      <td>S</td>\n",
       "    </tr>\n",
       "    <tr>\n",
       "      <th>1</th>\n",
       "      <td>2</td>\n",
       "      <td>1</td>\n",
       "      <td>1</td>\n",
       "      <td>Cumings, Mrs. John Bradley (Florence Briggs Th...</td>\n",
       "      <td>female</td>\n",
       "      <td>38.0</td>\n",
       "      <td>1</td>\n",
       "      <td>0</td>\n",
       "      <td>PC 17599</td>\n",
       "      <td>71.2833</td>\n",
       "      <td>C85</td>\n",
       "      <td>C</td>\n",
       "    </tr>\n",
       "    <tr>\n",
       "      <th>2</th>\n",
       "      <td>3</td>\n",
       "      <td>1</td>\n",
       "      <td>3</td>\n",
       "      <td>Heikkinen, Miss. Laina</td>\n",
       "      <td>female</td>\n",
       "      <td>26.0</td>\n",
       "      <td>0</td>\n",
       "      <td>0</td>\n",
       "      <td>STON/O2. 3101282</td>\n",
       "      <td>7.9250</td>\n",
       "      <td>NaN</td>\n",
       "      <td>S</td>\n",
       "    </tr>\n",
       "    <tr>\n",
       "      <th>3</th>\n",
       "      <td>4</td>\n",
       "      <td>1</td>\n",
       "      <td>1</td>\n",
       "      <td>Futrelle, Mrs. Jacques Heath (Lily May Peel)</td>\n",
       "      <td>female</td>\n",
       "      <td>35.0</td>\n",
       "      <td>1</td>\n",
       "      <td>0</td>\n",
       "      <td>113803</td>\n",
       "      <td>53.1000</td>\n",
       "      <td>C123</td>\n",
       "      <td>S</td>\n",
       "    </tr>\n",
       "    <tr>\n",
       "      <th>4</th>\n",
       "      <td>5</td>\n",
       "      <td>0</td>\n",
       "      <td>3</td>\n",
       "      <td>Allen, Mr. William Henry</td>\n",
       "      <td>male</td>\n",
       "      <td>35.0</td>\n",
       "      <td>0</td>\n",
       "      <td>0</td>\n",
       "      <td>373450</td>\n",
       "      <td>8.0500</td>\n",
       "      <td>NaN</td>\n",
       "      <td>S</td>\n",
       "    </tr>\n",
       "  </tbody>\n",
       "</table>\n",
       "</div>"
      ],
      "text/plain": [
       "   PassengerId  Survived  Pclass  \\\n",
       "0            1         0       3   \n",
       "1            2         1       1   \n",
       "2            3         1       3   \n",
       "3            4         1       1   \n",
       "4            5         0       3   \n",
       "\n",
       "                                                Name     Sex   Age  SibSp  \\\n",
       "0                            Braund, Mr. Owen Harris    male  22.0      1   \n",
       "1  Cumings, Mrs. John Bradley (Florence Briggs Th...  female  38.0      1   \n",
       "2                             Heikkinen, Miss. Laina  female  26.0      0   \n",
       "3       Futrelle, Mrs. Jacques Heath (Lily May Peel)  female  35.0      1   \n",
       "4                           Allen, Mr. William Henry    male  35.0      0   \n",
       "\n",
       "   Parch            Ticket     Fare Cabin Embarked  \n",
       "0      0         A/5 21171   7.2500   NaN        S  \n",
       "1      0          PC 17599  71.2833   C85        C  \n",
       "2      0  STON/O2. 3101282   7.9250   NaN        S  \n",
       "3      0            113803  53.1000  C123        S  \n",
       "4      0            373450   8.0500   NaN        S  "
      ]
     },
     "execution_count": 2,
     "metadata": {},
     "output_type": "execute_result"
    }
   ],
   "source": [
    "df.head()"
   ]
  },
  {
   "cell_type": "code",
   "execution_count": 3,
   "metadata": {
    "ExecuteTime": {
     "end_time": "2020-05-04T10:44:30.164624Z",
     "start_time": "2020-05-04T10:44:30.158627Z"
    }
   },
   "outputs": [
    {
     "data": {
      "text/plain": [
       "(891, 12)"
      ]
     },
     "execution_count": 3,
     "metadata": {},
     "output_type": "execute_result"
    }
   ],
   "source": [
    "df.shape"
   ]
  },
  {
   "cell_type": "code",
   "execution_count": 4,
   "metadata": {
    "ExecuteTime": {
     "end_time": "2020-05-04T10:44:30.931327Z",
     "start_time": "2020-05-04T10:44:30.904330Z"
    }
   },
   "outputs": [
    {
     "name": "stdout",
     "output_type": "stream",
     "text": [
      "<class 'pandas.core.frame.DataFrame'>\n",
      "RangeIndex: 891 entries, 0 to 890\n",
      "Data columns (total 12 columns):\n",
      "PassengerId    891 non-null int64\n",
      "Survived       891 non-null int64\n",
      "Pclass         891 non-null int64\n",
      "Name           891 non-null object\n",
      "Sex            891 non-null object\n",
      "Age            714 non-null float64\n",
      "SibSp          891 non-null int64\n",
      "Parch          891 non-null int64\n",
      "Ticket         891 non-null object\n",
      "Fare           891 non-null float64\n",
      "Cabin          204 non-null object\n",
      "Embarked       889 non-null object\n",
      "dtypes: float64(2), int64(5), object(5)\n",
      "memory usage: 83.6+ KB\n"
     ]
    }
   ],
   "source": [
    "df.info()"
   ]
  },
  {
   "cell_type": "code",
   "execution_count": 5,
   "metadata": {
    "ExecuteTime": {
     "end_time": "2020-05-04T10:44:33.523144Z",
     "start_time": "2020-05-04T10:44:33.465152Z"
    }
   },
   "outputs": [
    {
     "data": {
      "text/html": [
       "<div>\n",
       "<style scoped>\n",
       "    .dataframe tbody tr th:only-of-type {\n",
       "        vertical-align: middle;\n",
       "    }\n",
       "\n",
       "    .dataframe tbody tr th {\n",
       "        vertical-align: top;\n",
       "    }\n",
       "\n",
       "    .dataframe thead th {\n",
       "        text-align: right;\n",
       "    }\n",
       "</style>\n",
       "<table border=\"1\" class=\"dataframe\">\n",
       "  <thead>\n",
       "    <tr style=\"text-align: right;\">\n",
       "      <th></th>\n",
       "      <th>PassengerId</th>\n",
       "      <th>Survived</th>\n",
       "      <th>Pclass</th>\n",
       "      <th>Age</th>\n",
       "      <th>SibSp</th>\n",
       "      <th>Parch</th>\n",
       "      <th>Fare</th>\n",
       "    </tr>\n",
       "  </thead>\n",
       "  <tbody>\n",
       "    <tr>\n",
       "      <th>count</th>\n",
       "      <td>891.000000</td>\n",
       "      <td>891.000000</td>\n",
       "      <td>891.000000</td>\n",
       "      <td>714.000000</td>\n",
       "      <td>891.000000</td>\n",
       "      <td>891.000000</td>\n",
       "      <td>891.000000</td>\n",
       "    </tr>\n",
       "    <tr>\n",
       "      <th>mean</th>\n",
       "      <td>446.000000</td>\n",
       "      <td>0.383838</td>\n",
       "      <td>2.308642</td>\n",
       "      <td>29.699118</td>\n",
       "      <td>0.523008</td>\n",
       "      <td>0.381594</td>\n",
       "      <td>32.204208</td>\n",
       "    </tr>\n",
       "    <tr>\n",
       "      <th>std</th>\n",
       "      <td>257.353842</td>\n",
       "      <td>0.486592</td>\n",
       "      <td>0.836071</td>\n",
       "      <td>14.526497</td>\n",
       "      <td>1.102743</td>\n",
       "      <td>0.806057</td>\n",
       "      <td>49.693429</td>\n",
       "    </tr>\n",
       "    <tr>\n",
       "      <th>min</th>\n",
       "      <td>1.000000</td>\n",
       "      <td>0.000000</td>\n",
       "      <td>1.000000</td>\n",
       "      <td>0.420000</td>\n",
       "      <td>0.000000</td>\n",
       "      <td>0.000000</td>\n",
       "      <td>0.000000</td>\n",
       "    </tr>\n",
       "    <tr>\n",
       "      <th>25%</th>\n",
       "      <td>223.500000</td>\n",
       "      <td>0.000000</td>\n",
       "      <td>2.000000</td>\n",
       "      <td>20.125000</td>\n",
       "      <td>0.000000</td>\n",
       "      <td>0.000000</td>\n",
       "      <td>7.910400</td>\n",
       "    </tr>\n",
       "    <tr>\n",
       "      <th>50%</th>\n",
       "      <td>446.000000</td>\n",
       "      <td>0.000000</td>\n",
       "      <td>3.000000</td>\n",
       "      <td>28.000000</td>\n",
       "      <td>0.000000</td>\n",
       "      <td>0.000000</td>\n",
       "      <td>14.454200</td>\n",
       "    </tr>\n",
       "    <tr>\n",
       "      <th>75%</th>\n",
       "      <td>668.500000</td>\n",
       "      <td>1.000000</td>\n",
       "      <td>3.000000</td>\n",
       "      <td>38.000000</td>\n",
       "      <td>1.000000</td>\n",
       "      <td>0.000000</td>\n",
       "      <td>31.000000</td>\n",
       "    </tr>\n",
       "    <tr>\n",
       "      <th>max</th>\n",
       "      <td>891.000000</td>\n",
       "      <td>1.000000</td>\n",
       "      <td>3.000000</td>\n",
       "      <td>80.000000</td>\n",
       "      <td>8.000000</td>\n",
       "      <td>6.000000</td>\n",
       "      <td>512.329200</td>\n",
       "    </tr>\n",
       "  </tbody>\n",
       "</table>\n",
       "</div>"
      ],
      "text/plain": [
       "       PassengerId    Survived      Pclass         Age       SibSp  \\\n",
       "count   891.000000  891.000000  891.000000  714.000000  891.000000   \n",
       "mean    446.000000    0.383838    2.308642   29.699118    0.523008   \n",
       "std     257.353842    0.486592    0.836071   14.526497    1.102743   \n",
       "min       1.000000    0.000000    1.000000    0.420000    0.000000   \n",
       "25%     223.500000    0.000000    2.000000   20.125000    0.000000   \n",
       "50%     446.000000    0.000000    3.000000   28.000000    0.000000   \n",
       "75%     668.500000    1.000000    3.000000   38.000000    1.000000   \n",
       "max     891.000000    1.000000    3.000000   80.000000    8.000000   \n",
       "\n",
       "            Parch        Fare  \n",
       "count  891.000000  891.000000  \n",
       "mean     0.381594   32.204208  \n",
       "std      0.806057   49.693429  \n",
       "min      0.000000    0.000000  \n",
       "25%      0.000000    7.910400  \n",
       "50%      0.000000   14.454200  \n",
       "75%      0.000000   31.000000  \n",
       "max      6.000000  512.329200  "
      ]
     },
     "execution_count": 5,
     "metadata": {},
     "output_type": "execute_result"
    }
   ],
   "source": [
    "df.describe()"
   ]
  },
  {
   "cell_type": "code",
   "execution_count": 6,
   "metadata": {
    "ExecuteTime": {
     "end_time": "2020-05-04T10:44:34.196256Z",
     "start_time": "2020-05-04T10:44:34.186255Z"
    }
   },
   "outputs": [
    {
     "name": "stdout",
     "output_type": "stream",
     "text": [
      "PassengerId      0\n",
      "Survived         0\n",
      "Pclass           0\n",
      "Name             0\n",
      "Sex              0\n",
      "Age            177\n",
      "SibSp            0\n",
      "Parch            0\n",
      "Ticket           0\n",
      "Fare             0\n",
      "Cabin          687\n",
      "Embarked         2\n",
      "dtype: int64\n"
     ]
    }
   ],
   "source": [
    "#Checking for any null values\n",
    "print(df.isnull().sum())"
   ]
  },
  {
   "cell_type": "code",
   "execution_count": 7,
   "metadata": {
    "ExecuteTime": {
     "end_time": "2020-05-04T10:44:35.314505Z",
     "start_time": "2020-05-04T10:44:35.303511Z"
    }
   },
   "outputs": [],
   "source": [
    "# fill missing age with median age for each title (Mr, Mrs, Miss, Others)\n",
    "df[\"Age\"].fillna(df.groupby(\"Sex\")[\"Age\"].transform(\"median\"), inplace=True)"
   ]
  },
  {
   "cell_type": "code",
   "execution_count": 8,
   "metadata": {
    "ExecuteTime": {
     "end_time": "2020-05-04T10:44:45.530550Z",
     "start_time": "2020-05-04T10:44:45.520553Z"
    }
   },
   "outputs": [],
   "source": [
    "df=df.fillna(0)"
   ]
  },
  {
   "cell_type": "markdown",
   "metadata": {},
   "source": [
    "# Univariate Analysis"
   ]
  },
  {
   "cell_type": "code",
   "execution_count": 9,
   "metadata": {
    "ExecuteTime": {
     "end_time": "2020-05-04T10:44:48.568384Z",
     "start_time": "2020-05-04T10:44:48.325475Z"
    }
   },
   "outputs": [
    {
     "data": {
      "image/png": "[encoded data removed]",
      "text/plain": [
       "<Figure size 432x288 with 1 Axes>"
      ]
     },
     "metadata": {
      "needs_background": "light"
     },
     "output_type": "display_data"
    }
   ],
   "source": [
    "sns.distplot(df['Survived'])\n",
    "plt.show()"
   ]
  },
  {
   "cell_type": "code",
   "execution_count": 10,
   "metadata": {
    "ExecuteTime": {
     "end_time": "2020-05-04T10:44:51.795189Z",
     "start_time": "2020-05-04T10:44:51.784189Z"
    }
   },
   "outputs": [
    {
     "data": {
      "text/plain": [
       "0    549\n",
       "1    342\n",
       "Name: Survived, dtype: int64"
      ]
     },
     "execution_count": 10,
     "metadata": {},
     "output_type": "execute_result"
    }
   ],
   "source": [
    "df.Survived.value_counts().head()"
   ]
  },
  {
   "cell_type": "markdown",
   "metadata": {},
   "source": [
    "# Bivariate Analysis"
   ]
  },
  {
   "cell_type": "code",
   "execution_count": 11,
   "metadata": {
    "ExecuteTime": {
     "end_time": "2020-05-04T10:44:55.622671Z",
     "start_time": "2020-05-04T10:44:55.181699Z"
    }
   },
   "outputs": [
    {
     "data": {
      "text/plain": [
       "<matplotlib.axes._subplots.AxesSubplot at 0x21330d16160>"
      ]
     },
     "execution_count": 11,
     "metadata": {},
     "output_type": "execute_result"
    },
    {
     "data": {
      "image/png": "[encoded data removed]",
      "text/plain": [
       "<Figure size 432x288 with 1 Axes>"
      ]
     },
     "metadata": {
      "needs_background": "light"
     },
     "output_type": "display_data"
    }
   ],
   "source": [
    "sns.scatterplot(x='Age', y='Survived', hue='Survived', data=df)"
   ]
  },
  {
   "cell_type": "code",
   "execution_count": 12,
   "metadata": {
    "ExecuteTime": {
     "end_time": "2020-05-04T10:44:59.115567Z",
     "start_time": "2020-05-04T10:44:59.093570Z"
    }
   },
   "outputs": [
    {
     "data": {
      "text/html": [
       "<div>\n",
       "<style scoped>\n",
       "    .dataframe tbody tr th:only-of-type {\n",
       "        vertical-align: middle;\n",
       "    }\n",
       "\n",
       "    .dataframe tbody tr th {\n",
       "        vertical-align: top;\n",
       "    }\n",
       "\n",
       "    .dataframe thead th {\n",
       "        text-align: right;\n",
       "    }\n",
       "</style>\n",
       "<table border=\"1\" class=\"dataframe\">\n",
       "  <thead>\n",
       "    <tr style=\"text-align: right;\">\n",
       "      <th></th>\n",
       "      <th>Survived</th>\n",
       "    </tr>\n",
       "    <tr>\n",
       "      <th>Sex</th>\n",
       "      <th></th>\n",
       "    </tr>\n",
       "  </thead>\n",
       "  <tbody>\n",
       "    <tr>\n",
       "      <th>female</th>\n",
       "      <td>233</td>\n",
       "    </tr>\n",
       "    <tr>\n",
       "      <th>male</th>\n",
       "      <td>109</td>\n",
       "    </tr>\n",
       "  </tbody>\n",
       "</table>\n",
       "</div>"
      ],
      "text/plain": [
       "        Survived\n",
       "Sex             \n",
       "female       233\n",
       "male         109"
      ]
     },
     "execution_count": 12,
     "metadata": {},
     "output_type": "execute_result"
    }
   ],
   "source": [
    "#Gender associated with survival\n",
    "df.groupby(['Sex']).agg({'Survived': 'sum'}).sort_values(by= 'Survived', ascending = False).head()"
   ]
  },
  {
   "cell_type": "code",
   "execution_count": 13,
   "metadata": {
    "ExecuteTime": {
     "end_time": "2020-05-04T10:45:02.246982Z",
     "start_time": "2020-05-04T10:45:02.228979Z"
    }
   },
   "outputs": [
    {
     "data": {
      "text/html": [
       "<div>\n",
       "<style scoped>\n",
       "    .dataframe tbody tr th:only-of-type {\n",
       "        vertical-align: middle;\n",
       "    }\n",
       "\n",
       "    .dataframe tbody tr th {\n",
       "        vertical-align: top;\n",
       "    }\n",
       "\n",
       "    .dataframe thead th {\n",
       "        text-align: right;\n",
       "    }\n",
       "</style>\n",
       "<table border=\"1\" class=\"dataframe\">\n",
       "  <thead>\n",
       "    <tr style=\"text-align: right;\">\n",
       "      <th></th>\n",
       "      <th>Survived</th>\n",
       "    </tr>\n",
       "    <tr>\n",
       "      <th>Sex</th>\n",
       "      <th></th>\n",
       "    </tr>\n",
       "  </thead>\n",
       "  <tbody>\n",
       "    <tr>\n",
       "      <th>female</th>\n",
       "      <td>0.742038</td>\n",
       "    </tr>\n",
       "    <tr>\n",
       "      <th>male</th>\n",
       "      <td>0.188908</td>\n",
       "    </tr>\n",
       "  </tbody>\n",
       "</table>\n",
       "</div>"
      ],
      "text/plain": [
       "        Survived\n",
       "Sex             \n",
       "female  0.742038\n",
       "male    0.188908"
      ]
     },
     "execution_count": 13,
     "metadata": {},
     "output_type": "execute_result"
    }
   ],
   "source": [
    "df.groupby(['Sex']).agg({'Survived': 'mean'}).sort_values(by= 'Survived', ascending = False).head()"
   ]
  },
  {
   "cell_type": "markdown",
   "metadata": {},
   "source": [
    "# Heatmap"
   ]
  },
  {
   "cell_type": "code",
   "execution_count": 14,
   "metadata": {
    "ExecuteTime": {
     "end_time": "2020-05-04T10:45:06.018330Z",
     "start_time": "2020-05-04T10:45:05.673372Z"
    }
   },
   "outputs": [
    {
     "data": {
      "image/png": "[encoded data removed]",
      "text/plain": [
       "<Figure size 432x288 with 2 Axes>"
      ]
     },
     "metadata": {
      "needs_background": "light"
     },
     "output_type": "display_data"
    }
   ],
   "source": [
    "df1=df.drop(['PassengerId'], axis=1)\n",
    "heat_map = sns.heatmap(df1.corr())"
   ]
  },
  {
   "cell_type": "code",
   "execution_count": 15,
   "metadata": {
    "ExecuteTime": {
     "end_time": "2020-05-04T10:45:09.485587Z",
     "start_time": "2020-05-04T10:45:08.617508Z"
    }
   },
   "outputs": [
    {
     "data": {
      "text/plain": [
       "<matplotlib.axes._subplots.AxesSubplot at 0x21330de6240>"
      ]
     },
     "execution_count": 15,
     "metadata": {},
     "output_type": "execute_result"
    },
    {
     "data": {
      "image/png": "[encoded data removed]",
      "text/plain": [
       "<Figure size 1080x432 with 2 Axes>"
      ]
     },
     "metadata": {
      "needs_background": "light"
     },
     "output_type": "display_data"
    }
   ],
   "source": [
    "plt.figure(figsize=(15,6))\n",
    "h=pd.pivot_table(df,columns='Age',values=[\"Survived\"])\n",
    "sns.heatmap(h,cmap=['skyblue','red','green'],linewidths=0.05)"
   ]
  },
  {
   "cell_type": "code",
   "execution_count": 16,
   "metadata": {
    "ExecuteTime": {
     "end_time": "2020-05-04T10:45:13.047019Z",
     "start_time": "2020-05-04T10:45:11.219891Z"
    }
   },
   "outputs": [
    {
     "data": {
      "text/plain": [
       "<matplotlib.axes._subplots.AxesSubplot at 0x21330f9c240>"
      ]
     },
     "execution_count": 16,
     "metadata": {},
     "output_type": "execute_result"
    },
    {
     "data": {
      "image/png": "[encoded data removed]",
      "text/plain": [
       "<Figure size 1080x432 with 2 Axes>"
      ]
     },
     "metadata": {
      "needs_background": "light"
     },
     "output_type": "display_data"
    }
   ],
   "source": [
    "plt.figure(figsize=(15,6))\n",
    "h=pd.pivot_table(df,columns='Fare',values=[\"Survived\"])\n",
    "sns.heatmap(h,cmap=['skyblue','red','green'],linewidths=0.05)"
   ]
  },
  {
   "cell_type": "markdown",
   "metadata": {},
   "source": [
    "# Removing outliers"
   ]
  },
  {
   "cell_type": "code",
   "execution_count": 17,
   "metadata": {
    "ExecuteTime": {
     "end_time": "2020-05-04T10:45:23.023374Z",
     "start_time": "2020-05-04T10:45:22.800415Z"
    }
   },
   "outputs": [
    {
     "data": {
      "text/plain": [
       "<matplotlib.axes._subplots.AxesSubplot at 0x21330f74710>"
      ]
     },
     "execution_count": 17,
     "metadata": {},
     "output_type": "execute_result"
    },
    {
     "data": {
      "image/png": "[encoded data removed]",
      "text/plain": [
       "<Figure size 432x288 with 1 Axes>"
      ]
     },
     "metadata": {
      "needs_background": "light"
     },
     "output_type": "display_data"
    }
   ],
   "source": [
    "sns.boxplot(df['Age'])"
   ]
  },
  {
   "cell_type": "code",
   "execution_count": 18,
   "metadata": {
    "ExecuteTime": {
     "end_time": "2020-05-04T10:45:53.438717Z",
     "start_time": "2020-05-04T10:45:53.429722Z"
    }
   },
   "outputs": [],
   "source": [
    "from scipy import stats\n",
    "z = np.abs(stats.zscore(df['Age']))\n",
    "df = df[(z < 3)] #outliers with z-score >3 are removed"
   ]
  },
  {
   "cell_type": "code",
   "execution_count": 19,
   "metadata": {
    "ExecuteTime": {
     "end_time": "2020-05-04T10:45:56.166970Z",
     "start_time": "2020-05-04T10:45:55.968006Z"
    }
   },
   "outputs": [
    {
     "data": {
      "text/plain": [
       "<matplotlib.axes._subplots.AxesSubplot at 0x213310975f8>"
      ]
     },
     "execution_count": 19,
     "metadata": {},
     "output_type": "execute_result"
    },
    {
     "data": {
      "image/png": "[encoded data removed]",
      "text/plain": [
       "<Figure size 432x288 with 1 Axes>"
      ]
     },
     "metadata": {
      "needs_background": "light"
     },
     "output_type": "display_data"
    }
   ],
   "source": [
    "sns.boxplot(df['Fare'])"
   ]
  },
  {
   "cell_type": "code",
   "execution_count": 20,
   "metadata": {
    "ExecuteTime": {
     "end_time": "2020-05-04T10:45:58.970134Z",
     "start_time": "2020-05-04T10:45:58.962138Z"
    }
   },
   "outputs": [],
   "source": [
    "z = np.abs(stats.zscore(df['Fare']))\n",
    "df = df[(z < 3)] #outliers with z-score >3 are removed"
   ]
  },
  {
   "cell_type": "code",
   "execution_count": 21,
   "metadata": {
    "ExecuteTime": {
     "end_time": "2020-05-04T10:46:00.851043Z",
     "start_time": "2020-05-04T10:46:00.845043Z"
    }
   },
   "outputs": [
    {
     "data": {
      "text/plain": [
       "(864, 12)"
      ]
     },
     "execution_count": 21,
     "metadata": {},
     "output_type": "execute_result"
    }
   ],
   "source": [
    "df.shape"
   ]
  },
  {
   "cell_type": "markdown",
   "metadata": {},
   "source": [
    "# One-hot enocoding"
   ]
  },
  {
   "cell_type": "code",
   "execution_count": 22,
   "metadata": {
    "ExecuteTime": {
     "end_time": "2020-05-04T10:46:11.521324Z",
     "start_time": "2020-05-04T10:46:11.486310Z"
    }
   },
   "outputs": [
    {
     "data": {
      "text/html": [
       "<div>\n",
       "<style scoped>\n",
       "    .dataframe tbody tr th:only-of-type {\n",
       "        vertical-align: middle;\n",
       "    }\n",
       "\n",
       "    .dataframe tbody tr th {\n",
       "        vertical-align: top;\n",
       "    }\n",
       "\n",
       "    .dataframe thead th {\n",
       "        text-align: right;\n",
       "    }\n",
       "</style>\n",
       "<table border=\"1\" class=\"dataframe\">\n",
       "  <thead>\n",
       "    <tr style=\"text-align: right;\">\n",
       "      <th></th>\n",
       "      <th>Pclass</th>\n",
       "      <th>Age</th>\n",
       "      <th>Fare</th>\n",
       "      <th>0                0\n",
       "1              C85\n",
       "2                0\n",
       "3             C123\n",
       "4                0\n",
       "5                0\n",
       "6              E46\n",
       "7                0\n",
       "8                0\n",
       "9                0\n",
       "10              G6\n",
       "11            C103\n",
       "12               0\n",
       "13               0\n",
       "14               0\n",
       "15               0\n",
       "16               0\n",
       "17               0\n",
       "18               0\n",
       "19               0\n",
       "20               0\n",
       "21             D56\n",
       "22               0\n",
       "23              A6\n",
       "24               0\n",
       "25               0\n",
       "26               0\n",
       "28               0\n",
       "29               0\n",
       "30               0\n",
       "          ...     \n",
       "861              0\n",
       "862            D17\n",
       "863              0\n",
       "864              0\n",
       "865              0\n",
       "866              0\n",
       "867            A24\n",
       "868              0\n",
       "869              0\n",
       "870              0\n",
       "871            D35\n",
       "872    B51 B53 B55\n",
       "873              0\n",
       "874              0\n",
       "875              0\n",
       "876              0\n",
       "877              0\n",
       "878              0\n",
       "879            C50\n",
       "880              0\n",
       "881              0\n",
       "882              0\n",
       "883              0\n",
       "884              0\n",
       "885              0\n",
       "886              0\n",
       "887            B42\n",
       "888              0\n",
       "889           C148\n",
       "890              0\n",
       "Name: Cabin, Length: 864, dtype: object_female</th>\n",
       "      <th>0                0\n",
       "1              C85\n",
       "2                0\n",
       "3             C123\n",
       "4                0\n",
       "5                0\n",
       "6              E46\n",
       "7                0\n",
       "8                0\n",
       "9                0\n",
       "10              G6\n",
       "11            C103\n",
       "12               0\n",
       "13               0\n",
       "14               0\n",
       "15               0\n",
       "16               0\n",
       "17               0\n",
       "18               0\n",
       "19               0\n",
       "20               0\n",
       "21             D56\n",
       "22               0\n",
       "23              A6\n",
       "24               0\n",
       "25               0\n",
       "26               0\n",
       "28               0\n",
       "29               0\n",
       "30               0\n",
       "          ...     \n",
       "861              0\n",
       "862            D17\n",
       "863              0\n",
       "864              0\n",
       "865              0\n",
       "866              0\n",
       "867            A24\n",
       "868              0\n",
       "869              0\n",
       "870              0\n",
       "871            D35\n",
       "872    B51 B53 B55\n",
       "873              0\n",
       "874              0\n",
       "875              0\n",
       "876              0\n",
       "877              0\n",
       "878              0\n",
       "879            C50\n",
       "880              0\n",
       "881              0\n",
       "882              0\n",
       "883              0\n",
       "884              0\n",
       "885              0\n",
       "886              0\n",
       "887            B42\n",
       "888              0\n",
       "889           C148\n",
       "890              0\n",
       "Name: Cabin, Length: 864, dtype: object_male</th>\n",
       "    </tr>\n",
       "  </thead>\n",
       "  <tbody>\n",
       "    <tr>\n",
       "      <th>0</th>\n",
       "      <td>3</td>\n",
       "      <td>22.0</td>\n",
       "      <td>7.2500</td>\n",
       "      <td>0</td>\n",
       "      <td>1</td>\n",
       "    </tr>\n",
       "    <tr>\n",
       "      <th>1</th>\n",
       "      <td>1</td>\n",
       "      <td>38.0</td>\n",
       "      <td>71.2833</td>\n",
       "      <td>1</td>\n",
       "      <td>0</td>\n",
       "    </tr>\n",
       "    <tr>\n",
       "      <th>2</th>\n",
       "      <td>3</td>\n",
       "      <td>26.0</td>\n",
       "      <td>7.9250</td>\n",
       "      <td>1</td>\n",
       "      <td>0</td>\n",
       "    </tr>\n",
       "    <tr>\n",
       "      <th>3</th>\n",
       "      <td>1</td>\n",
       "      <td>35.0</td>\n",
       "      <td>53.1000</td>\n",
       "      <td>1</td>\n",
       "      <td>0</td>\n",
       "    </tr>\n",
       "    <tr>\n",
       "      <th>4</th>\n",
       "      <td>3</td>\n",
       "      <td>35.0</td>\n",
       "      <td>8.0500</td>\n",
       "      <td>0</td>\n",
       "      <td>1</td>\n",
       "    </tr>\n",
       "  </tbody>\n",
       "</table>\n",
       "</div>"
      ],
      "text/plain": [
       "   Pclass   Age     Fare  \\\n",
       "0       3  22.0   7.2500   \n",
       "1       1  38.0  71.2833   \n",
       "2       3  26.0   7.9250   \n",
       "3       1  35.0  53.1000   \n",
       "4       3  35.0   8.0500   \n",
       "\n",
       "   0                0\\n1              C85\\n2                0\\n3             C123\\n4                0\\n5                0\\n6              E46\\n7                0\\n8                0\\n9                0\\n10              G6\\n11            C103\\n12               0\\n13               0\\n14               0\\n15               0\\n16               0\\n17               0\\n18               0\\n19               0\\n20               0\\n21             D56\\n22               0\\n23              A6\\n24               0\\n25               0\\n26               0\\n28               0\\n29               0\\n30               0\\n          ...     \\n861              0\\n862            D17\\n863              0\\n864              0\\n865              0\\n866              0\\n867            A24\\n868              0\\n869              0\\n870              0\\n871            D35\\n872    B51 B53 B55\\n873              0\\n874              0\\n875              0\\n876              0\\n877              0\\n878              0\\n879            C50\\n880              0\\n881              0\\n882              0\\n883              0\\n884              0\\n885              0\\n886              0\\n887            B42\\n888              0\\n889           C148\\n890              0\\nName: Cabin, Length: 864, dtype: object_female  \\\n",
       "0                                                  0                                                                                                                                                                                                                                                                                                                                                                                                                                                                                                                                                                                                                                                                                                                                                                                                                                                                                                                                                                                                                                                                                                                                                                                                                                                                    \n",
       "1                                                  1                                                                                                                                                                                                                                                                                                                                                                                                                                                                                                                                                                                                                                                                                                                                                                                                                                                                                                                                                                                                                                                                                                                                                                                                                                                                    \n",
       "2                                                  1                                                                                                                                                                                                                                                                                                                                                                                                                                                                                                                                                                                                                                                                                                                                                                                                                                                                                                                                                                                                                                                                                                                                                                                                                                                                    \n",
       "3                                                  1                                                                                                                                                                                                                                                                                                                                                                                                                                                                                                                                                                                                                                                                                                                                                                                                                                                                                                                                                                                                                                                                                                                                                                                                                                                                    \n",
       "4                                                  0                                                                                                                                                                                                                                                                                                                                                                                                                                                                                                                                                                                                                                                                                                                                                                                                                                                                                                                                                                                                                                                                                                                                                                                                                                                                    \n",
       "\n",
       "   0                0\\n1              C85\\n2                0\\n3             C123\\n4                0\\n5                0\\n6              E46\\n7                0\\n8                0\\n9                0\\n10              G6\\n11            C103\\n12               0\\n13               0\\n14               0\\n15               0\\n16               0\\n17               0\\n18               0\\n19               0\\n20               0\\n21             D56\\n22               0\\n23              A6\\n24               0\\n25               0\\n26               0\\n28               0\\n29               0\\n30               0\\n          ...     \\n861              0\\n862            D17\\n863              0\\n864              0\\n865              0\\n866              0\\n867            A24\\n868              0\\n869              0\\n870              0\\n871            D35\\n872    B51 B53 B55\\n873              0\\n874              0\\n875              0\\n876              0\\n877              0\\n878              0\\n879            C50\\n880              0\\n881              0\\n882              0\\n883              0\\n884              0\\n885              0\\n886              0\\n887            B42\\n888              0\\n889           C148\\n890              0\\nName: Cabin, Length: 864, dtype: object_male  \n",
       "0                                                  1                                                                                                                                                                                                                                                                                                                                                                                                                                                                                                                                                                                                                                                                                                                                                                                                                                                                                                                                                                                                                                                                                                                                                                                                                                                                 \n",
       "1                                                  0                                                                                                                                                                                                                                                                                                                                                                                                                                                                                                                                                                                                                                                                                                                                                                                                                                                                                                                                                                                                                                                                                                                                                                                                                                                                 \n",
       "2                                                  0                                                                                                                                                                                                                                                                                                                                                                                                                                                                                                                                                                                                                                                                                                                                                                                                                                                                                                                                                                                                                                                                                                                                                                                                                                                                 \n",
       "3                                                  0                                                                                                                                                                                                                                                                                                                                                                                                                                                                                                                                                                                                                                                                                                                                                                                                                                                                                                                                                                                                                                                                                                                                                                                                                                                                 \n",
       "4                                                  1                                                                                                                                                                                                                                                                                                                                                                                                                                                                                                                                                                                                                                                                                                                                                                                                                                                                                                                                                                                                                                                                                                                                                                                                                                                                 "
      ]
     },
     "execution_count": 22,
     "metadata": {},
     "output_type": "execute_result"
    }
   ],
   "source": [
    "#One hot encoding\n",
    "Feature = df[['Pclass','Age','Fare','Sex','Cabin']]\n",
    "Feature = pd.concat([Feature,pd.get_dummies(df['Sex'],df['Cabin'])], axis=1)\n",
    "Feature.drop(['Sex'], axis=1, inplace=True)\n",
    "Feature.drop(['Cabin'], axis=1, inplace=True)\n",
    "Feature.head()"
   ]
  },
  {
   "cell_type": "markdown",
   "metadata": {},
   "source": [
    "# Modeling"
   ]
  },
  {
   "cell_type": "code",
   "execution_count": 24,
   "metadata": {
    "ExecuteTime": {
     "end_time": "2020-05-04T10:46:19.558438Z",
     "start_time": "2020-05-04T10:46:19.551439Z"
    }
   },
   "outputs": [],
   "source": [
    "from sklearn.model_selection import train_test_split\n",
    "from sklearn.preprocessing import StandardScaler\n",
    "from sklearn.metrics import mean_squared_error\n",
    "\n",
    "from keras.models import Sequential\n",
    "from keras.layers import Dense\n",
    "from keras.wrappers.scikit_learn import KerasRegressor"
   ]
  },
  {
   "cell_type": "code",
   "execution_count": 25,
   "metadata": {
    "ExecuteTime": {
     "end_time": "2020-05-04T10:46:21.393236Z",
     "start_time": "2020-05-04T10:46:21.388238Z"
    }
   },
   "outputs": [],
   "source": [
    "#set seed for reproducibility\n",
    "seed = 4\n",
    "np.random.seed(seed)"
   ]
  },
  {
   "cell_type": "code",
   "execution_count": 26,
   "metadata": {
    "ExecuteTime": {
     "end_time": "2020-05-04T10:46:24.397399Z",
     "start_time": "2020-05-04T10:46:24.287386Z"
    }
   },
   "outputs": [],
   "source": [
    "#define model with 3 hidden layers of 10 nodes and relu as activation function\n",
    "# and use MSE as loss metrics and adam as optimizer\n",
    "model = Sequential()\n",
    "model.add(Dense(10, activation='relu', input_dim=5))\n",
    "model.add(Dense(10, activation='relu'))\n",
    "model.add(Dense(10, activation='relu'))\n",
    "model.add(Dense(1, activation='linear'))\n",
    "# Compile model\n",
    "model.compile(loss='mean_squared_error', optimizer='adam')\n"
   ]
  },
  {
   "cell_type": "code",
   "execution_count": 27,
   "metadata": {
    "ExecuteTime": {
     "end_time": "2020-05-04T10:46:26.675254Z",
     "start_time": "2020-05-04T10:46:26.668253Z"
    }
   },
   "outputs": [],
   "source": [
    "#split dataset in target values and features\n",
    "X=Feature.iloc[:,:]\n",
    "y=df['Survived'].values"
   ]
  },
  {
   "cell_type": "code",
   "execution_count": 28,
   "metadata": {
    "ExecuteTime": {
     "end_time": "2020-05-04T10:46:28.854835Z",
     "start_time": "2020-05-04T10:46:28.842833Z"
    }
   },
   "outputs": [],
   "source": [
    "X_train, X_test, y_train, y_test = train_test_split(X, \n",
    "                                                    y, \n",
    "                                                    test_size=0.3, \n",
    "                                                    random_state=seed)\n"
   ]
  },
  {
   "cell_type": "code",
   "execution_count": 29,
   "metadata": {
    "ExecuteTime": {
     "end_time": "2020-05-04T10:46:43.735638Z",
     "start_time": "2020-05-04T10:46:38.214550Z"
    }
   },
   "outputs": [
    {
     "name": "stdout",
     "output_type": "stream",
     "text": [
      "Epoch 1/100\n",
      "604/604 [==============================] - 0s 316us/step - loss: 0.7994\n",
      "Epoch 2/100\n",
      "604/604 [==============================] - 0s 66us/step - loss: 0.5266\n",
      "Epoch 3/100\n",
      "604/604 [==============================] - 0s 65us/step - loss: 0.3862\n",
      "Epoch 4/100\n",
      "604/604 [==============================] - 0s 66us/step - loss: 0.3031\n",
      "Epoch 5/100\n",
      "604/604 [==============================] - 0s 63us/step - loss: 0.2502\n",
      "Epoch 6/100\n",
      "604/604 [==============================] - 0s 70us/step - loss: 0.2186\n",
      "Epoch 7/100\n",
      "604/604 [==============================] - 0s 63us/step - loss: 0.2024\n",
      "Epoch 8/100\n",
      "604/604 [==============================] - 0s 71us/step - loss: 0.1925\n",
      "Epoch 9/100\n",
      "604/604 [==============================] - 0s 63us/step - loss: 0.1833\n",
      "Epoch 10/100\n",
      "604/604 [==============================] - 0s 76us/step - loss: 0.1758\n",
      "Epoch 11/100\n",
      "604/604 [==============================] - 0s 74us/step - loss: 0.1717\n",
      "Epoch 12/100\n",
      "604/604 [==============================] - 0s 70us/step - loss: 0.1666\n",
      "Epoch 13/100\n",
      "604/604 [==============================] - 0s 70us/step - loss: 0.1634\n",
      "Epoch 14/100\n",
      "604/604 [==============================] - 0s 74us/step - loss: 0.1600\n",
      "Epoch 15/100\n",
      "604/604 [==============================] - 0s 73us/step - loss: 0.1575\n",
      "Epoch 16/100\n",
      "604/604 [==============================] - 0s 73us/step - loss: 0.1553\n",
      "Epoch 17/100\n",
      "604/604 [==============================] - 0s 71us/step - loss: 0.1530\n",
      "Epoch 18/100\n",
      "604/604 [==============================] - 0s 76us/step - loss: 0.1507\n",
      "Epoch 19/100\n",
      "604/604 [==============================] - 0s 70us/step - loss: 0.1490\n",
      "Epoch 20/100\n",
      "604/604 [==============================] - 0s 71us/step - loss: 0.1464\n",
      "Epoch 21/100\n",
      "604/604 [==============================] - 0s 78us/step - loss: 0.1449\n",
      "Epoch 22/100\n",
      "604/604 [==============================] - 0s 73us/step - loss: 0.1436\n",
      "Epoch 23/100\n",
      "604/604 [==============================] - 0s 71us/step - loss: 0.1420\n",
      "Epoch 24/100\n",
      "604/604 [==============================] - 0s 73us/step - loss: 0.1410\n",
      "Epoch 25/100\n",
      "604/604 [==============================] - 0s 73us/step - loss: 0.1400\n",
      "Epoch 26/100\n",
      "604/604 [==============================] - 0s 76us/step - loss: 0.1392\n",
      "Epoch 27/100\n",
      "604/604 [==============================] - 0s 73us/step - loss: 0.1389\n",
      "Epoch 28/100\n",
      "604/604 [==============================] - 0s 71us/step - loss: 0.1378\n",
      "Epoch 29/100\n",
      "604/604 [==============================] - 0s 70us/step - loss: 0.1371\n",
      "Epoch 30/100\n",
      "604/604 [==============================] - 0s 73us/step - loss: 0.1368\n",
      "Epoch 31/100\n",
      "604/604 [==============================] - 0s 65us/step - loss: 0.1362\n",
      "Epoch 32/100\n",
      "604/604 [==============================] - 0s 76us/step - loss: 0.1357\n",
      "Epoch 33/100\n",
      "604/604 [==============================] - 0s 76us/step - loss: 0.1360\n",
      "Epoch 34/100\n",
      "604/604 [==============================] - 0s 76us/step - loss: 0.1346\n",
      "Epoch 35/100\n",
      "604/604 [==============================] - 0s 79us/step - loss: 0.1353\n",
      "Epoch 36/100\n",
      "604/604 [==============================] - 0s 83us/step - loss: 0.1336\n",
      "Epoch 37/100\n",
      "604/604 [==============================] - 0s 73us/step - loss: 0.1331\n",
      "Epoch 38/100\n",
      "604/604 [==============================] - 0s 86us/step - loss: 0.1331\n",
      "Epoch 39/100\n",
      "604/604 [==============================] - 0s 103us/step - loss: 0.1332\n",
      "Epoch 40/100\n",
      "604/604 [==============================] - 0s 83us/step - loss: 0.1324\n",
      "Epoch 41/100\n",
      "604/604 [==============================] - 0s 79us/step - loss: 0.1325\n",
      "Epoch 42/100\n",
      "604/604 [==============================] - 0s 84us/step - loss: 0.1329\n",
      "Epoch 43/100\n",
      "604/604 [==============================] - 0s 78us/step - loss: 0.1322\n",
      "Epoch 44/100\n",
      "604/604 [==============================] - 0s 79us/step - loss: 0.1315\n",
      "Epoch 45/100\n",
      "604/604 [==============================] - 0s 81us/step - loss: 0.1314\n",
      "Epoch 46/100\n",
      "604/604 [==============================] - 0s 74us/step - loss: 0.1310\n",
      "Epoch 47/100\n",
      "604/604 [==============================] - 0s 78us/step - loss: 0.1309\n",
      "Epoch 48/100\n",
      "604/604 [==============================] - 0s 79us/step - loss: 0.1302\n",
      "Epoch 49/100\n",
      "604/604 [==============================] - 0s 73us/step - loss: 0.1299\n",
      "Epoch 50/100\n",
      "604/604 [==============================] - 0s 79us/step - loss: 0.1306\n",
      "Epoch 51/100\n",
      "604/604 [==============================] - 0s 83us/step - loss: 0.1308\n",
      "Epoch 52/100\n",
      "604/604 [==============================] - 0s 81us/step - loss: 0.1305\n",
      "Epoch 53/100\n",
      "604/604 [==============================] - 0s 94us/step - loss: 0.1291\n",
      "Epoch 54/100\n",
      "604/604 [==============================] - 0s 74us/step - loss: 0.1290\n",
      "Epoch 55/100\n",
      "604/604 [==============================] - 0s 79us/step - loss: 0.1290\n",
      "Epoch 56/100\n",
      "604/604 [==============================] - 0s 83us/step - loss: 0.1290\n",
      "Epoch 57/100\n",
      "604/604 [==============================] - 0s 84us/step - loss: 0.1283\n",
      "Epoch 58/100\n",
      "604/604 [==============================] - 0s 83us/step - loss: 0.1283\n",
      "Epoch 59/100\n",
      "604/604 [==============================] - 0s 71us/step - loss: 0.1292\n",
      "Epoch 60/100\n",
      "604/604 [==============================] - 0s 71us/step - loss: 0.1286\n",
      "Epoch 61/100\n",
      "604/604 [==============================] - 0s 70us/step - loss: 0.1276\n",
      "Epoch 62/100\n",
      "604/604 [==============================] - 0s 70us/step - loss: 0.1277\n",
      "Epoch 63/100\n",
      "604/604 [==============================] - 0s 71us/step - loss: 0.1273\n",
      "Epoch 64/100\n",
      "604/604 [==============================] - 0s 66us/step - loss: 0.1285\n",
      "Epoch 65/100\n",
      "604/604 [==============================] - 0s 68us/step - loss: 0.1270\n",
      "Epoch 66/100\n",
      "604/604 [==============================] - 0s 63us/step - loss: 0.1271\n",
      "Epoch 67/100\n",
      "604/604 [==============================] - 0s 68us/step - loss: 0.1269\n",
      "Epoch 68/100\n",
      "604/604 [==============================] - 0s 61us/step - loss: 0.1271\n",
      "Epoch 69/100\n",
      "604/604 [==============================] - 0s 73us/step - loss: 0.1263\n",
      "Epoch 70/100\n",
      "604/604 [==============================] - 0s 60us/step - loss: 0.1272\n",
      "Epoch 71/100\n",
      "604/604 [==============================] - 0s 63us/step - loss: 0.1271\n",
      "Epoch 72/100\n",
      "604/604 [==============================] - 0s 61us/step - loss: 0.1265\n",
      "Epoch 73/100\n",
      "604/604 [==============================] - 0s 63us/step - loss: 0.1263\n",
      "Epoch 74/100\n",
      "604/604 [==============================] - 0s 70us/step - loss: 0.1257\n",
      "Epoch 75/100\n",
      "604/604 [==============================] - 0s 65us/step - loss: 0.1257\n",
      "Epoch 76/100\n",
      "604/604 [==============================] - 0s 61us/step - loss: 0.1257\n",
      "Epoch 77/100\n",
      "604/604 [==============================] - 0s 63us/step - loss: 0.1267\n",
      "Epoch 78/100\n",
      "604/604 [==============================] - 0s 58us/step - loss: 0.1261\n",
      "Epoch 79/100\n",
      "604/604 [==============================] - 0s 66us/step - loss: 0.1270\n",
      "Epoch 80/100\n",
      "604/604 [==============================] - 0s 68us/step - loss: 0.1260\n",
      "Epoch 81/100\n",
      "604/604 [==============================] - 0s 60us/step - loss: 0.1250\n",
      "Epoch 82/100\n",
      "604/604 [==============================] - 0s 70us/step - loss: 0.1248\n",
      "Epoch 83/100\n",
      "604/604 [==============================] - 0s 65us/step - loss: 0.1243\n",
      "Epoch 84/100\n",
      "604/604 [==============================] - 0s 73us/step - loss: 0.1245\n",
      "Epoch 85/100\n",
      "604/604 [==============================] - 0s 71us/step - loss: 0.1246\n",
      "Epoch 86/100\n",
      "604/604 [==============================] - 0s 73us/step - loss: 0.1245\n",
      "Epoch 87/100\n",
      "604/604 [==============================] - 0s 74us/step - loss: 0.1238\n",
      "Epoch 88/100\n",
      "604/604 [==============================] - 0s 71us/step - loss: 0.1237\n",
      "Epoch 89/100\n",
      "604/604 [==============================] - 0s 68us/step - loss: 0.1243\n",
      "Epoch 90/100\n",
      "604/604 [==============================] - 0s 70us/step - loss: 0.1235\n",
      "Epoch 91/100\n",
      "604/604 [==============================] - 0s 68us/step - loss: 0.1235\n",
      "Epoch 92/100\n",
      "604/604 [==============================] - 0s 73us/step - loss: 0.1236\n",
      "Epoch 93/100\n",
      "604/604 [==============================] - 0s 71us/step - loss: 0.1240\n",
      "Epoch 94/100\n",
      "604/604 [==============================] - 0s 70us/step - loss: 0.1238\n",
      "Epoch 95/100\n",
      "604/604 [==============================] - 0s 73us/step - loss: 0.1229\n",
      "Epoch 96/100\n",
      "604/604 [==============================] - 0s 70us/step - loss: 0.1235\n",
      "Epoch 97/100\n",
      "604/604 [==============================] - 0s 76us/step - loss: 0.1229\n",
      "Epoch 98/100\n",
      "604/604 [==============================] - 0s 74us/step - loss: 0.1230\n",
      "Epoch 99/100\n",
      "604/604 [==============================] - 0s 89us/step - loss: 0.1225\n",
      "Epoch 100/100\n",
      "604/604 [==============================] - 0s 81us/step - loss: 0.1220\n"
     ]
    },
    {
     "data": {
      "text/plain": [
       "<keras.callbacks.callbacks.History at 0x213364e1240>"
      ]
     },
     "execution_count": 29,
     "metadata": {},
     "output_type": "execute_result"
    }
   ],
   "source": [
    "import warnings\n",
    "warnings.filterwarnings(\"ignore\")\n",
    "scaler = StandardScaler()\n",
    "# fit scaler with train data\n",
    "scaler.fit(X_train)\n",
    "\n",
    "X_train_scaled = scaler.transform(X_train)\n",
    "X_test_scaled = scaler.transform(X_test)\n",
    "\n",
    "#train model\n",
    "model.fit(X_train_scaled, y_train, epochs=100)"
   ]
  },
  {
   "cell_type": "code",
   "execution_count": 34,
   "metadata": {
    "ExecuteTime": {
     "end_time": "2020-05-04T14:53:54.391564Z",
     "start_time": "2020-05-04T14:53:54.170792Z"
    }
   },
   "outputs": [
    {
     "name": "stdout",
     "output_type": "stream",
     "text": [
      "MSE on train set = 0.12137932451298175\n",
      "MSE on test set = 0.13765275725988896\n"
     ]
    }
   ],
   "source": [
    "#perform evaluation on train and test set\n",
    "y_train_predicted = model.predict(X_train_scaled)\n",
    "y_test_predicted = model.predict(X_test_scaled)\n",
    "\n",
    "MSE_train = mean_squared_error(y_train, y_train_predicted)\n",
    "MSE_test = mean_squared_error(y_test, y_test_predicted)\n",
    "\n",
    "print('MSE on train set = {}'.format(MSE_train))\n",
    "print('MSE on test set = {}'. format(MSE_test))"
   ]
  },
  {
   "cell_type": "code",
   "execution_count": 35,
   "metadata": {
    "ExecuteTime": {
     "end_time": "2020-05-04T14:53:58.786700Z",
     "start_time": "2020-05-04T14:53:58.552138Z"
    }
   },
   "outputs": [],
   "source": [
    "model.save(\"Titanic\")"
   ]
  },
  {
   "cell_type": "code",
   "execution_count": null,
   "metadata": {},
   "outputs": [],
   "source": []
  }
 ],
 "metadata": {
  "kernelspec": {
   "display_name": "Python 3",
   "language": "python",
   "name": "python3"
  },
  "language_info": {
   "codemirror_mode": {
    "name": "ipython",
    "version": 3
   },
   "file_extension": ".py",
   "mimetype": "text/x-python",
   "name": "python",
   "nbconvert_exporter": "python",
   "pygments_lexer": "ipython3",
   "version": "3.7.3"
  },
  "toc": {
   "base_numbering": 1,
   "nav_menu": {},
   "number_sections": true,
   "sideBar": true,
   "skip_h1_title": false,
   "title_cell": "Table of Contents",
   "title_sidebar": "Contents",
   "toc_cell": false,
   "toc_position": {},
   "toc_section_display": true,
   "toc_window_display": false
  }
 },
 "nbformat": 4,
 "nbformat_minor": 2
}

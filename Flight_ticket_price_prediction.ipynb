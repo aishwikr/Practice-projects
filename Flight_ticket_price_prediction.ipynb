{
 "cells": [
  {
   "cell_type": "code",
   "execution_count": 30,
   "metadata": {
    "ExecuteTime": {
     "end_time": "2020-05-12T05:52:02.100303Z",
     "start_time": "2020-05-12T05:51:58.920051Z"
    }
   },
   "outputs": [],
   "source": [
    "import pandas as pd\n",
    "import numpy as np\n",
    "import matplotlib.pyplot as plt\n",
    "%matplotlib inline\n",
    "import seaborn as sns\n",
    "import re\n",
    "import warnings\n",
    "warnings.filterwarnings('ignore')\n",
    "import catboost as cb\n",
    "from sklearn.metrics import mean_squared_log_error, mean_squared_error\n",
    "from sklearn.model_selection import train_test_split, KFold, RepeatedKFold\n",
    "from sklearn.linear_model import ElasticNet, LinearRegression\n",
    "from sklearn.feature_extraction.text import TfidfVectorizer\n",
    "from sklearn.decomposition import TruncatedSVD"
   ]
  },
  {
   "cell_type": "code",
   "execution_count": 32,
   "metadata": {
    "ExecuteTime": {
     "end_time": "2020-05-12T05:52:38.820469Z",
     "start_time": "2020-05-12T05:52:34.289324Z"
    }
   },
   "outputs": [],
   "source": [
    "train_df = pd.read_excel(\"D:/Downloads/Flight_Ticket_Participant_Datasets/Data_Train.xlsx\")\n",
    "test_df = pd.read_excel(\"D:/Downloads/Flight_Ticket_Participant_Datasets/Test_set.xlsx\")"
   ]
  },
  {
   "cell_type": "code",
   "execution_count": 38,
   "metadata": {
    "ExecuteTime": {
     "end_time": "2020-05-12T05:55:52.110822Z",
     "start_time": "2020-05-12T05:55:52.064829Z"
    }
   },
   "outputs": [
    {
     "name": "stdout",
     "output_type": "stream",
     "text": [
      "\n",
      "EDA on Training Set\n",
      "\n",
      "##############################\n",
      "\n",
      "Features/Columns : \n",
      " Index(['Airline', 'Date_of_Journey', 'Source', 'Destination', 'Route',\n",
      "       'Dep_Time', 'Arrival_Time', 'Duration', 'Total_Stops',\n",
      "       'Additional_Info', 'Price'],\n",
      "      dtype='object')\n",
      "\n",
      "\n",
      "Number of Features/Columns :  11\n",
      "\n",
      "Number of Rows :  10682\n",
      "\n",
      "\n",
      "Data Types :\n",
      " Airline            object\n",
      "Date_of_Journey    object\n",
      "Source             object\n",
      "Destination        object\n",
      "Route              object\n",
      "Dep_Time           object\n",
      "Arrival_Time       object\n",
      "Duration           object\n",
      "Total_Stops        object\n",
      "Additional_Info    object\n",
      "Price               int64\n",
      "dtype: object\n",
      "\n",
      " Contains NaN/Empty cells :  False\n",
      "\n",
      " Total empty cells by column :\n",
      " Airline            0\n",
      "Date_of_Journey    0\n",
      "Source             0\n",
      "Destination        0\n",
      "Route              0\n",
      "Dep_Time           0\n",
      "Arrival_Time       0\n",
      "Duration           0\n",
      "Total_Stops        0\n",
      "Additional_Info    0\n",
      "Price              0\n",
      "dtype: int64 \n",
      "\n",
      "\n"
     ]
    }
   ],
   "source": [
    "# chechking the features in the Datasets\n",
    "\n",
    "#Training Set\n",
    "\n",
    "print(\"\\nEDA on Training Set\\n\")\n",
    "print(\"#\"*30)\n",
    "\n",
    "print(\"\\nFeatures/Columns : \\n\", train_df.columns)\n",
    "print(\"\\n\\nNumber of Features/Columns : \", len(train_df.columns))\n",
    "print(\"\\nNumber of Rows : \",len(train_df))\n",
    "print(\"\\n\\nData Types :\\n\", train_df.dtypes)\n",
    "\n",
    "print(\"\\n Contains NaN/Empty cells : \", train_df.isnull().values.any())\n",
    "\n",
    "print(\"\\n Total empty cells by column :\\n\", train_df.isnull().sum(), \"\\n\\n\")"
   ]
  },
  {
   "cell_type": "code",
   "execution_count": 39,
   "metadata": {
    "ExecuteTime": {
     "end_time": "2020-05-12T05:56:08.313584Z",
     "start_time": "2020-05-12T05:56:08.285588Z"
    }
   },
   "outputs": [
    {
     "name": "stdout",
     "output_type": "stream",
     "text": [
      "##############################\n",
      "\n",
      "EDA on Test Set\n",
      "\n",
      "##############################\n",
      "\n",
      "Features/Columns : \n",
      " Index(['Airline', 'Source', 'Destination', 'Route', 'Total_Stops',\n",
      "       'Additional_Info', 'Journey_Day', 'Journey_Month', 'Duration_hours',\n",
      "       'Duration_minutes', 'Depart_Time_Hour', 'Depart_Time_Minutes',\n",
      "       'Arr_Time_Hour', 'Arr_Time_Minutes'],\n",
      "      dtype='object')\n",
      "\n",
      "\n",
      "Number of Features/Columns :  14\n",
      "\n",
      "Number of Rows :  2671\n",
      "\n",
      "\n",
      "Data Types :\n",
      " Airline                object\n",
      "Source                 object\n",
      "Destination            object\n",
      "Route                  object\n",
      "Total_Stops            object\n",
      "Additional_Info        object\n",
      "Journey_Day             int64\n",
      "Journey_Month           int64\n",
      "Duration_hours          int64\n",
      "Duration_minutes        int64\n",
      "Depart_Time_Hour        int64\n",
      "Depart_Time_Minutes     int64\n",
      "Arr_Time_Hour           int64\n",
      "Arr_Time_Minutes        int64\n",
      "dtype: object\n",
      "\n",
      " Contains NaN/Empty cells :  False\n",
      "\n",
      " Total empty cells by column :\n",
      " Airline                0\n",
      "Source                 0\n",
      "Destination            0\n",
      "Route                  0\n",
      "Total_Stops            0\n",
      "Additional_Info        0\n",
      "Journey_Day            0\n",
      "Journey_Month          0\n",
      "Duration_hours         0\n",
      "Duration_minutes       0\n",
      "Depart_Time_Hour       0\n",
      "Depart_Time_Minutes    0\n",
      "Arr_Time_Hour          0\n",
      "Arr_Time_Minutes       0\n",
      "dtype: int64\n"
     ]
    }
   ],
   "source": [
    "# Test Set\n",
    "print(\"#\"*30)\n",
    "print(\"\\nEDA on Test Set\\n\")\n",
    "print(\"#\"*30)\n",
    "\n",
    "\n",
    "print(\"\\nFeatures/Columns : \\n\",test_set.columns)\n",
    "print(\"\\n\\nNumber of Features/Columns : \",len(test_set.columns))\n",
    "print(\"\\nNumber of Rows : \",len(test_set))\n",
    "print(\"\\n\\nData Types :\\n\", test_set.dtypes)\n",
    "print(\"\\n Contains NaN/Empty cells : \", test_set.isnull().values.any())\n",
    "print(\"\\n Total empty cells by column :\\n\", test_set.isnull().sum())"
   ]
  },
  {
   "cell_type": "markdown",
   "metadata": {},
   "source": [
    "# Data Cleaning"
   ]
  },
  {
   "cell_type": "code",
   "execution_count": 40,
   "metadata": {
    "ExecuteTime": {
     "end_time": "2020-05-12T05:56:20.973136Z",
     "start_time": "2020-05-12T05:56:20.944143Z"
    }
   },
   "outputs": [
    {
     "name": "stdout",
     "output_type": "stream",
     "text": [
      "Original Length of Training Set :  10682\n",
      "Length of Training Set after dropping NaN:  10682\n"
     ]
    }
   ],
   "source": [
    "# Dealing with the Missing Value\n",
    "\n",
    "print(\"Original Length of Training Set : \", len(train_df))\n",
    "\n",
    "train_df = train_df.dropna()\n",
    "\n",
    "print(\"Length of Training Set after dropping NaN: \", len(train_df))"
   ]
  },
  {
   "cell_type": "code",
   "execution_count": 44,
   "metadata": {
    "ExecuteTime": {
     "end_time": "2020-05-12T05:57:31.400567Z",
     "start_time": "2020-05-12T05:57:31.150354Z"
    }
   },
   "outputs": [],
   "source": [
    "#Cleaning Journey Date \n",
    "\n",
    "#Training Set\n",
    "\n",
    "train_df['Journey_Day'] = pd.to_datetime(train_df.Date_of_Journey, format='%d/%m/%Y').dt.day\n",
    "\n",
    "train_df['Journey_Month'] = pd.to_datetime(train_df.Date_of_Journey, format='%d/%m/%Y').dt.month\n",
    "\n",
    "# Test Set\n",
    "\n",
    "test_df['Journey_Day'] = pd.to_datetime(test_df.Date_of_Journey, format='%d/%m/%Y').dt.day\n",
    "\n",
    "test_df['Journey_Month'] = pd.to_datetime(test_df.Date_of_Journey, format='%d/%m/%Y').dt.month\n",
    "\n",
    "# Compare the dates and delete the original date feature\n",
    "\n",
    "train_df.drop(labels = 'Date_of_Journey', axis = 1, inplace = True)\n",
    "\n",
    "test_df.drop(labels = 'Date_of_Journey', axis = 1, inplace = True)"
   ]
  },
  {
   "cell_type": "code",
   "execution_count": 45,
   "metadata": {
    "ExecuteTime": {
     "end_time": "2020-05-12T05:58:02.278443Z",
     "start_time": "2020-05-12T05:58:02.192463Z"
    }
   },
   "outputs": [],
   "source": [
    "# Cleaning Duration\n",
    "\n",
    "# Training Set\n",
    "\n",
    "duration = list(train_df['Duration'])\n",
    "\n",
    "for i in range(len(duration)) :\n",
    "    if len(duration[i].split()) != 2:\n",
    "        if 'h' in duration[i] :\n",
    "            duration[i] = duration[i].strip() + ' 0m'\n",
    "        elif 'm' in duration[i] :\n",
    "            duration[i] = '0h {}'.format(duration[i].strip())\n",
    "\n",
    "dur_hours = []\n",
    "dur_minutes = []  \n",
    "\n",
    "for i in range(len(duration)) :\n",
    "    dur_hours.append(int(duration[i].split()[0][:-1]))\n",
    "    dur_minutes.append(int(duration[i].split()[1][:-1]))\n",
    "    \n",
    "train_df['Duration_hours'] = dur_hours\n",
    "train_df['Duration_minutes'] =dur_minutes\n",
    "\n",
    "train_df.drop(labels = 'Duration', axis = 1, inplace = True)"
   ]
  },
  {
   "cell_type": "code",
   "execution_count": 47,
   "metadata": {
    "ExecuteTime": {
     "end_time": "2020-05-12T05:58:47.549579Z",
     "start_time": "2020-05-12T05:58:47.510581Z"
    }
   },
   "outputs": [],
   "source": [
    "# Test Set\n",
    "\n",
    "durationT = list(test_df['Duration'])\n",
    "\n",
    "for i in range(len(durationT)) :\n",
    "    if len(durationT[i].split()) != 2:\n",
    "        if 'h' in durationT[i] :\n",
    "            durationT[i] = durationT[i].strip() + ' 0m'\n",
    "        elif 'm' in durationT[i] :\n",
    "            durationT[i] = '0h {}'.format(durationT[i].strip())\n",
    "            \n",
    "dur_hours = []\n",
    "dur_minutes = []  \n",
    "\n",
    "for i in range(len(durationT)) :\n",
    "    dur_hours.append(int(durationT[i].split()[0][:-1]))\n",
    "    dur_minutes.append(int(durationT[i].split()[1][:-1]))\n",
    "  \n",
    "    \n",
    "test_df['Duration_hours'] = dur_hours\n",
    "test_df['Duration_minutes'] = dur_minutes\n",
    "\n",
    "test_df.drop(labels = 'Duration', axis = 1, inplace = True)"
   ]
  },
  {
   "cell_type": "code",
   "execution_count": 48,
   "metadata": {
    "ExecuteTime": {
     "end_time": "2020-05-12T05:59:54.731837Z",
     "start_time": "2020-05-12T05:59:49.952075Z"
    }
   },
   "outputs": [],
   "source": [
    "#Cleaning Departure and Arrival Times\n",
    "\n",
    "# Training Set\n",
    "\n",
    "\n",
    "train_df['Depart_Time_Hour'] = pd.to_datetime(train_df.Dep_Time).dt.hour\n",
    "train_df['Depart_Time_Minutes'] = pd.to_datetime(train_df.Dep_Time).dt.minute\n",
    "\n",
    "train_df.drop(labels = 'Dep_Time', axis = 1, inplace = True)\n",
    "\n",
    "\n",
    "train_df['Arr_Time_Hour'] = pd.to_datetime(train_df.Arrival_Time).dt.hour\n",
    "train_df['Arr_Time_Minutes'] = pd.to_datetime(train_df.Arrival_Time).dt.minute\n",
    "\n",
    "train_df.drop(labels = 'Arrival_Time', axis = 1, inplace = True)"
   ]
  },
  {
   "cell_type": "code",
   "execution_count": 49,
   "metadata": {
    "ExecuteTime": {
     "end_time": "2020-05-12T06:00:25.280490Z",
     "start_time": "2020-05-12T06:00:23.839448Z"
    }
   },
   "outputs": [],
   "source": [
    "# Test Set\n",
    "\n",
    "\n",
    "test_df['Depart_Time_Hour'] = pd.to_datetime(test_df.Dep_Time).dt.hour\n",
    "test_df['Depart_Time_Minutes'] = pd.to_datetime(test_df.Dep_Time).dt.minute\n",
    "\n",
    "\n",
    "test_df.drop(labels = 'Dep_Time', axis = 1, inplace = True)\n",
    "\n",
    "test_df['Arr_Time_Hour'] = pd.to_datetime(test_df.Arrival_Time).dt.hour\n",
    "test_df['Arr_Time_Minutes'] = pd.to_datetime(test_df.Arrival_Time).dt.minute\n",
    "\n",
    "test_df.drop(labels = 'Arrival_Time', axis = 1, inplace = True)"
   ]
  },
  {
   "cell_type": "code",
   "execution_count": 50,
   "metadata": {
    "ExecuteTime": {
     "end_time": "2020-05-12T06:00:34.272984Z",
     "start_time": "2020-05-12T06:00:34.240989Z"
    }
   },
   "outputs": [
    {
     "data": {
      "text/html": [
       "<div>\n",
       "<style scoped>\n",
       "    .dataframe tbody tr th:only-of-type {\n",
       "        vertical-align: middle;\n",
       "    }\n",
       "\n",
       "    .dataframe tbody tr th {\n",
       "        vertical-align: top;\n",
       "    }\n",
       "\n",
       "    .dataframe thead th {\n",
       "        text-align: right;\n",
       "    }\n",
       "</style>\n",
       "<table border=\"1\" class=\"dataframe\">\n",
       "  <thead>\n",
       "    <tr style=\"text-align: right;\">\n",
       "      <th></th>\n",
       "      <th>Airline</th>\n",
       "      <th>Source</th>\n",
       "      <th>Destination</th>\n",
       "      <th>Route</th>\n",
       "      <th>Total_Stops</th>\n",
       "      <th>Additional_Info</th>\n",
       "      <th>Price</th>\n",
       "      <th>Journey_Day</th>\n",
       "      <th>Journey_Month</th>\n",
       "      <th>Duration_hours</th>\n",
       "      <th>Duration_minutes</th>\n",
       "      <th>Depart_Time_Hour</th>\n",
       "      <th>Depart_Time_Minutes</th>\n",
       "      <th>Arr_Time_Hour</th>\n",
       "      <th>Arr_Time_Minutes</th>\n",
       "    </tr>\n",
       "  </thead>\n",
       "  <tbody>\n",
       "    <tr>\n",
       "      <th>0</th>\n",
       "      <td>IndiGo</td>\n",
       "      <td>Banglore</td>\n",
       "      <td>New Delhi</td>\n",
       "      <td>BLR → DEL</td>\n",
       "      <td>non-stop</td>\n",
       "      <td>No info</td>\n",
       "      <td>3897</td>\n",
       "      <td>24</td>\n",
       "      <td>3</td>\n",
       "      <td>2</td>\n",
       "      <td>50</td>\n",
       "      <td>22</td>\n",
       "      <td>20</td>\n",
       "      <td>1</td>\n",
       "      <td>10</td>\n",
       "    </tr>\n",
       "    <tr>\n",
       "      <th>1</th>\n",
       "      <td>Air India</td>\n",
       "      <td>Kolkata</td>\n",
       "      <td>Banglore</td>\n",
       "      <td>CCU → IXR → BBI → BLR</td>\n",
       "      <td>2 stops</td>\n",
       "      <td>No info</td>\n",
       "      <td>7662</td>\n",
       "      <td>1</td>\n",
       "      <td>5</td>\n",
       "      <td>7</td>\n",
       "      <td>25</td>\n",
       "      <td>5</td>\n",
       "      <td>50</td>\n",
       "      <td>13</td>\n",
       "      <td>15</td>\n",
       "    </tr>\n",
       "    <tr>\n",
       "      <th>2</th>\n",
       "      <td>Jet Airways</td>\n",
       "      <td>Delhi</td>\n",
       "      <td>Cochin</td>\n",
       "      <td>DEL → LKO → BOM → COK</td>\n",
       "      <td>2 stops</td>\n",
       "      <td>No info</td>\n",
       "      <td>13882</td>\n",
       "      <td>9</td>\n",
       "      <td>6</td>\n",
       "      <td>19</td>\n",
       "      <td>0</td>\n",
       "      <td>9</td>\n",
       "      <td>25</td>\n",
       "      <td>4</td>\n",
       "      <td>25</td>\n",
       "    </tr>\n",
       "    <tr>\n",
       "      <th>3</th>\n",
       "      <td>IndiGo</td>\n",
       "      <td>Kolkata</td>\n",
       "      <td>Banglore</td>\n",
       "      <td>CCU → NAG → BLR</td>\n",
       "      <td>1 stop</td>\n",
       "      <td>No info</td>\n",
       "      <td>6218</td>\n",
       "      <td>12</td>\n",
       "      <td>5</td>\n",
       "      <td>5</td>\n",
       "      <td>25</td>\n",
       "      <td>18</td>\n",
       "      <td>5</td>\n",
       "      <td>23</td>\n",
       "      <td>30</td>\n",
       "    </tr>\n",
       "    <tr>\n",
       "      <th>4</th>\n",
       "      <td>IndiGo</td>\n",
       "      <td>Banglore</td>\n",
       "      <td>New Delhi</td>\n",
       "      <td>BLR → NAG → DEL</td>\n",
       "      <td>1 stop</td>\n",
       "      <td>No info</td>\n",
       "      <td>13302</td>\n",
       "      <td>1</td>\n",
       "      <td>3</td>\n",
       "      <td>4</td>\n",
       "      <td>45</td>\n",
       "      <td>16</td>\n",
       "      <td>50</td>\n",
       "      <td>21</td>\n",
       "      <td>35</td>\n",
       "    </tr>\n",
       "  </tbody>\n",
       "</table>\n",
       "</div>"
      ],
      "text/plain": [
       "       Airline    Source Destination                  Route Total_Stops  \\\n",
       "0       IndiGo  Banglore   New Delhi              BLR → DEL    non-stop   \n",
       "1    Air India   Kolkata    Banglore  CCU → IXR → BBI → BLR     2 stops   \n",
       "2  Jet Airways     Delhi      Cochin  DEL → LKO → BOM → COK     2 stops   \n",
       "3       IndiGo   Kolkata    Banglore        CCU → NAG → BLR      1 stop   \n",
       "4       IndiGo  Banglore   New Delhi        BLR → NAG → DEL      1 stop   \n",
       "\n",
       "  Additional_Info  Price  Journey_Day  Journey_Month  Duration_hours  \\\n",
       "0         No info   3897           24              3               2   \n",
       "1         No info   7662            1              5               7   \n",
       "2         No info  13882            9              6              19   \n",
       "3         No info   6218           12              5               5   \n",
       "4         No info  13302            1              3               4   \n",
       "\n",
       "   Duration_minutes  Depart_Time_Hour  Depart_Time_Minutes  Arr_Time_Hour  \\\n",
       "0                50                22                   20              1   \n",
       "1                25                 5                   50             13   \n",
       "2                 0                 9                   25              4   \n",
       "3                25                18                    5             23   \n",
       "4                45                16                   50             21   \n",
       "\n",
       "   Arr_Time_Minutes  \n",
       "0                10  \n",
       "1                15  \n",
       "2                25  \n",
       "3                30  \n",
       "4                35  "
      ]
     },
     "execution_count": 50,
     "metadata": {},
     "output_type": "execute_result"
    }
   ],
   "source": [
    "train_df.head()"
   ]
  },
  {
   "cell_type": "code",
   "execution_count": 16,
   "metadata": {
    "ExecuteTime": {
     "end_time": "2020-05-11T19:46:52.083148Z",
     "start_time": "2020-05-11T19:46:51.995765Z"
    }
   },
   "outputs": [
    {
     "data": {
      "text/html": [
       "<div>\n",
       "<style scoped>\n",
       "    .dataframe tbody tr th:only-of-type {\n",
       "        vertical-align: middle;\n",
       "    }\n",
       "\n",
       "    .dataframe tbody tr th {\n",
       "        vertical-align: top;\n",
       "    }\n",
       "\n",
       "    .dataframe thead th {\n",
       "        text-align: right;\n",
       "    }\n",
       "</style>\n",
       "<table border=\"1\" class=\"dataframe\">\n",
       "  <thead>\n",
       "    <tr style=\"text-align: right;\">\n",
       "      <th></th>\n",
       "      <th>Airline</th>\n",
       "      <th>Source</th>\n",
       "      <th>Destination</th>\n",
       "      <th>Route</th>\n",
       "      <th>Total_Stops</th>\n",
       "      <th>Additional_Info</th>\n",
       "      <th>Journey_Day</th>\n",
       "      <th>Journey_Month</th>\n",
       "      <th>Duration_hours</th>\n",
       "      <th>Duration_minutes</th>\n",
       "      <th>Depart_Time_Hour</th>\n",
       "      <th>Depart_Time_Minutes</th>\n",
       "      <th>Arr_Time_Hour</th>\n",
       "      <th>Arr_Time_Minutes</th>\n",
       "    </tr>\n",
       "  </thead>\n",
       "  <tbody>\n",
       "    <tr>\n",
       "      <th>0</th>\n",
       "      <td>Jet Airways</td>\n",
       "      <td>Delhi</td>\n",
       "      <td>Cochin</td>\n",
       "      <td>DEL → BOM → COK</td>\n",
       "      <td>1 stop</td>\n",
       "      <td>No info</td>\n",
       "      <td>6</td>\n",
       "      <td>6</td>\n",
       "      <td>10</td>\n",
       "      <td>55</td>\n",
       "      <td>17</td>\n",
       "      <td>30</td>\n",
       "      <td>4</td>\n",
       "      <td>25</td>\n",
       "    </tr>\n",
       "    <tr>\n",
       "      <th>1</th>\n",
       "      <td>IndiGo</td>\n",
       "      <td>Kolkata</td>\n",
       "      <td>Banglore</td>\n",
       "      <td>CCU → MAA → BLR</td>\n",
       "      <td>1 stop</td>\n",
       "      <td>No info</td>\n",
       "      <td>12</td>\n",
       "      <td>5</td>\n",
       "      <td>4</td>\n",
       "      <td>0</td>\n",
       "      <td>6</td>\n",
       "      <td>20</td>\n",
       "      <td>10</td>\n",
       "      <td>20</td>\n",
       "    </tr>\n",
       "    <tr>\n",
       "      <th>2</th>\n",
       "      <td>Jet Airways</td>\n",
       "      <td>Delhi</td>\n",
       "      <td>Cochin</td>\n",
       "      <td>DEL → BOM → COK</td>\n",
       "      <td>1 stop</td>\n",
       "      <td>In-flight meal not included</td>\n",
       "      <td>21</td>\n",
       "      <td>5</td>\n",
       "      <td>23</td>\n",
       "      <td>45</td>\n",
       "      <td>19</td>\n",
       "      <td>15</td>\n",
       "      <td>19</td>\n",
       "      <td>0</td>\n",
       "    </tr>\n",
       "    <tr>\n",
       "      <th>3</th>\n",
       "      <td>Multiple carriers</td>\n",
       "      <td>Delhi</td>\n",
       "      <td>Cochin</td>\n",
       "      <td>DEL → BOM → COK</td>\n",
       "      <td>1 stop</td>\n",
       "      <td>No info</td>\n",
       "      <td>21</td>\n",
       "      <td>5</td>\n",
       "      <td>13</td>\n",
       "      <td>0</td>\n",
       "      <td>8</td>\n",
       "      <td>0</td>\n",
       "      <td>21</td>\n",
       "      <td>0</td>\n",
       "    </tr>\n",
       "    <tr>\n",
       "      <th>4</th>\n",
       "      <td>Air Asia</td>\n",
       "      <td>Banglore</td>\n",
       "      <td>Delhi</td>\n",
       "      <td>BLR → DEL</td>\n",
       "      <td>non-stop</td>\n",
       "      <td>No info</td>\n",
       "      <td>24</td>\n",
       "      <td>6</td>\n",
       "      <td>2</td>\n",
       "      <td>50</td>\n",
       "      <td>23</td>\n",
       "      <td>55</td>\n",
       "      <td>2</td>\n",
       "      <td>45</td>\n",
       "    </tr>\n",
       "  </tbody>\n",
       "</table>\n",
       "</div>"
      ],
      "text/plain": [
       "             Airline    Source Destination            Route Total_Stops  \\\n",
       "0        Jet Airways     Delhi      Cochin  DEL → BOM → COK      1 stop   \n",
       "1             IndiGo   Kolkata    Banglore  CCU → MAA → BLR      1 stop   \n",
       "2        Jet Airways     Delhi      Cochin  DEL → BOM → COK      1 stop   \n",
       "3  Multiple carriers     Delhi      Cochin  DEL → BOM → COK      1 stop   \n",
       "4           Air Asia  Banglore       Delhi        BLR → DEL    non-stop   \n",
       "\n",
       "               Additional_Info  Journey_Day  Journey_Month  Duration_hours  \\\n",
       "0                      No info            6              6              10   \n",
       "1                      No info           12              5               4   \n",
       "2  In-flight meal not included           21              5              23   \n",
       "3                      No info           21              5              13   \n",
       "4                      No info           24              6               2   \n",
       "\n",
       "   Duration_minutes  Depart_Time_Hour  Depart_Time_Minutes  Arr_Time_Hour  \\\n",
       "0                55                17                   30              4   \n",
       "1                 0                 6                   20             10   \n",
       "2                45                19                   15             19   \n",
       "3                 0                 8                    0             21   \n",
       "4                50                23                   55              2   \n",
       "\n",
       "   Arr_Time_Minutes  \n",
       "0                25  \n",
       "1                20  \n",
       "2                 0  \n",
       "3                 0  \n",
       "4                45  "
      ]
     },
     "execution_count": 16,
     "metadata": {},
     "output_type": "execute_result"
    }
   ],
   "source": [
    "test_set.head()"
   ]
  },
  {
   "cell_type": "code",
   "execution_count": 51,
   "metadata": {
    "ExecuteTime": {
     "end_time": "2020-05-12T06:00:40.740624Z",
     "start_time": "2020-05-12T06:00:40.237238Z"
    }
   },
   "outputs": [
    {
     "data": {
      "image/png": "[encoded data removed]",
      "text/plain": [
       "<Figure size 1080x504 with 1 Axes>"
      ]
     },
     "metadata": {
      "needs_background": "light"
     },
     "output_type": "display_data"
    }
   ],
   "source": [
    "fig, ax = plt.subplots(figsize=(15, 7))\n",
    "sns.distplot(train_df['Price'].sort_values(), ax=ax)\n",
    "plt.show()"
   ]
  },
  {
   "cell_type": "code",
   "execution_count": 52,
   "metadata": {
    "ExecuteTime": {
     "end_time": "2020-05-12T06:08:10.016058Z",
     "start_time": "2020-05-12T06:08:09.736955Z"
    }
   },
   "outputs": [
    {
     "data": {
      "image/png": "[encoded data removed]",
      "text/plain": [
       "<Figure size 1080x504 with 1 Axes>"
      ]
     },
     "metadata": {
      "needs_background": "light"
     },
     "output_type": "display_data"
    }
   ],
   "source": [
    "fig, ax = plt.subplots(figsize=(15,7))\n",
    "sns.countplot(train_df['Destination'])\n",
    "plt.show()"
   ]
  },
  {
   "cell_type": "code",
   "execution_count": 64,
   "metadata": {
    "ExecuteTime": {
     "end_time": "2020-05-12T06:16:27.122779Z",
     "start_time": "2020-05-12T06:16:26.437984Z"
    }
   },
   "outputs": [
    {
     "data": {
      "image/png": "[encoded data removed]",
      "text/plain": [
       "<Figure size 720x720 with 1 Axes>"
      ]
     },
     "metadata": {
      "needs_background": "light"
     },
     "output_type": "display_data"
    }
   ],
   "source": [
    "plt.figure(figsize=(10,10))\n",
    "sns.barplot(y='Price',x='Total_Stops',data=train_df)\n",
    "plt.show()"
   ]
  },
  {
   "cell_type": "code",
   "execution_count": 62,
   "metadata": {
    "ExecuteTime": {
     "end_time": "2020-05-12T06:15:48.679810Z",
     "start_time": "2020-05-12T06:15:48.656814Z"
    }
   },
   "outputs": [
    {
     "data": {
      "text/html": [
       "<div>\n",
       "<style scoped>\n",
       "    .dataframe tbody tr th:only-of-type {\n",
       "        vertical-align: middle;\n",
       "    }\n",
       "\n",
       "    .dataframe tbody tr th {\n",
       "        vertical-align: top;\n",
       "    }\n",
       "\n",
       "    .dataframe thead th {\n",
       "        text-align: right;\n",
       "    }\n",
       "</style>\n",
       "<table border=\"1\" class=\"dataframe\">\n",
       "  <thead>\n",
       "    <tr style=\"text-align: right;\">\n",
       "      <th></th>\n",
       "      <th>Price</th>\n",
       "    </tr>\n",
       "    <tr>\n",
       "      <th>Airline</th>\n",
       "      <th></th>\n",
       "    </tr>\n",
       "  </thead>\n",
       "  <tbody>\n",
       "    <tr>\n",
       "      <th>Jet Airways Business</th>\n",
       "      <td>58358.666667</td>\n",
       "    </tr>\n",
       "    <tr>\n",
       "      <th>Jet Airways</th>\n",
       "      <td>11643.923357</td>\n",
       "    </tr>\n",
       "    <tr>\n",
       "      <th>Multiple carriers Premium economy</th>\n",
       "      <td>11418.846154</td>\n",
       "    </tr>\n",
       "    <tr>\n",
       "      <th>Multiple carriers</th>\n",
       "      <td>10902.678094</td>\n",
       "    </tr>\n",
       "    <tr>\n",
       "      <th>Air India</th>\n",
       "      <td>9612.427756</td>\n",
       "    </tr>\n",
       "  </tbody>\n",
       "</table>\n",
       "</div>"
      ],
      "text/plain": [
       "                                          Price\n",
       "Airline                                        \n",
       "Jet Airways Business               58358.666667\n",
       "Jet Airways                        11643.923357\n",
       "Multiple carriers Premium economy  11418.846154\n",
       "Multiple carriers                  10902.678094\n",
       "Air India                           9612.427756"
      ]
     },
     "execution_count": 62,
     "metadata": {},
     "output_type": "execute_result"
    }
   ],
   "source": [
    "train_df.groupby(['Airline']).agg({'Price': 'mean'}).sort_values(by= 'Price', ascending = False).head()"
   ]
  },
  {
   "cell_type": "code",
   "execution_count": 65,
   "metadata": {
    "ExecuteTime": {
     "end_time": "2020-05-12T06:17:21.537695Z",
     "start_time": "2020-05-12T06:17:20.936972Z"
    }
   },
   "outputs": [
    {
     "data": {
      "image/png": "[encoded data removed]",
      "text/plain": [
       "<Figure size 432x288 with 2 Axes>"
      ]
     },
     "metadata": {
      "needs_background": "light"
     },
     "output_type": "display_data"
    }
   ],
   "source": [
    "heat_map = sns.heatmap(train_df.corr())"
   ]
  },
  {
   "cell_type": "code",
   "execution_count": 66,
   "metadata": {
    "ExecuteTime": {
     "end_time": "2020-05-12T06:17:55.753170Z",
     "start_time": "2020-05-12T06:17:55.728169Z"
    }
   },
   "outputs": [],
   "source": [
    "# Dependent Variable\n",
    "Y_train = train_df.iloc[:,6].values  # 6 is the index of \"Price\" in the Training Set \n",
    "\n",
    "# Independent Variables\n",
    "X_train = train_df.iloc[:,train_df.columns != 'Price'].values # selects all columns except \"Price\"\n",
    "\n",
    "# Independent Variables for Test Set\n",
    "X_test = test_df.iloc[:,:].values"
   ]
  },
  {
   "cell_type": "code",
   "execution_count": 67,
   "metadata": {
    "ExecuteTime": {
     "end_time": "2020-05-12T06:17:57.035422Z",
     "start_time": "2020-05-12T06:17:57.031422Z"
    }
   },
   "outputs": [],
   "source": [
    "from sklearn.preprocessing import LabelEncoder\n",
    "\n",
    "le1 = LabelEncoder()\n",
    "le2 = LabelEncoder()"
   ]
  },
  {
   "cell_type": "code",
   "execution_count": 68,
   "metadata": {
    "ExecuteTime": {
     "end_time": "2020-05-12T06:18:01.826352Z",
     "start_time": "2020-05-12T06:18:01.797360Z"
    }
   },
   "outputs": [],
   "source": [
    "# Training Set    \n",
    "\n",
    "X_train[:,0] = le1.fit_transform(X_train[:,0])\n",
    "\n",
    "X_train[:,1] = le1.fit_transform(X_train[:,1])\n",
    "\n",
    "X_train[:,2] = le1.fit_transform(X_train[:,2])\n",
    "\n",
    "X_train[:,3] = le1.fit_transform(X_train[:,3])\n",
    "\n",
    "X_train[:,4] = le1.fit_transform(X_train[:,4])\n",
    "\n",
    "X_train[:,5] = le1.fit_transform(X_train[:,5])"
   ]
  },
  {
   "cell_type": "code",
   "execution_count": 69,
   "metadata": {
    "ExecuteTime": {
     "end_time": "2020-05-12T06:18:04.514278Z",
     "start_time": "2020-05-12T06:18:04.497299Z"
    }
   },
   "outputs": [],
   "source": [
    "# Test Set\n",
    "\n",
    "X_test[:,0] = le2.fit_transform(X_test[:,0])\n",
    "\n",
    "X_test[:,1] = le2.fit_transform(X_test[:,1])\n",
    "\n",
    "X_test[:,2] = le2.fit_transform(X_test[:,2])\n",
    "\n",
    "X_test[:,3] = le2.fit_transform(X_test[:,3])\n",
    "\n",
    "X_test[:,4] = le2.fit_transform(X_test[:,4])\n",
    "\n",
    "X_test[:,5] = le2.fit_transform(X_test[:,5])"
   ]
  },
  {
   "cell_type": "code",
   "execution_count": 70,
   "metadata": {
    "ExecuteTime": {
     "end_time": "2020-05-12T06:18:06.749847Z",
     "start_time": "2020-05-12T06:18:06.731849Z"
    }
   },
   "outputs": [
    {
     "name": "stdout",
     "output_type": "stream",
     "text": [
      "  0  1  2    3  4  5   6  7   8   9   10  11  12  13\n",
      "0  3  0  5   18  4  8  24  3   2  50  22  20   1  10\n",
      "1  1  3  0   84  1  8   1  5   7  25   5  50  13  15\n",
      "2  4  2  1  118  1  8   9  6  19   0   9  25   4  25\n",
      "3  3  3  0   91  0  8  12  5   5  25  18   5  23  30\n",
      "4  3  0  5   29  0  8   1  3   4  45  16  50  21  35\n"
     ]
    }
   ],
   "source": [
    "#data after encoding\n",
    "print(pd.DataFrame(X_train).head())"
   ]
  },
  {
   "cell_type": "markdown",
   "metadata": {},
   "source": [
    "# Feature Scaling"
   ]
  },
  {
   "cell_type": "code",
   "execution_count": 71,
   "metadata": {
    "ExecuteTime": {
     "end_time": "2020-05-12T06:18:10.759107Z",
     "start_time": "2020-05-12T06:18:10.718098Z"
    }
   },
   "outputs": [],
   "source": [
    "# Feature Scaling\n",
    "\n",
    "\n",
    "sc_X = StandardScaler()\n",
    "\n",
    "X_train = sc_X.fit_transform(X_train)\n",
    "\n",
    "X_test = sc_X.transform(X_test)\n",
    "\n",
    "#sc_y = StandardScaler()\n",
    "\n",
    "Y_train = Y_train.reshape((len(Y_train), 1)) \n",
    "\n",
    "Y_train = sc_X.fit_transform(Y_train)\n",
    "\n",
    "Y_train = Y_train.ravel()"
   ]
  },
  {
   "cell_type": "code",
   "execution_count": 73,
   "metadata": {
    "ExecuteTime": {
     "end_time": "2020-05-12T06:18:49.715972Z",
     "start_time": "2020-05-12T06:18:49.698977Z"
    }
   },
   "outputs": [
    {
     "name": "stdout",
     "output_type": "stream",
     "text": [
      "         0         1         2         3         4         5         6   \\\n",
      "0 -0.410805 -1.658359  2.416534 -1.547082  1.407210  0.499921  1.237288   \n",
      "1 -1.261152  0.890014 -0.973812  0.249946 -0.253703  0.499921 -1.475307   \n",
      "2  0.014369  0.040556 -0.295743  1.175687 -0.253703  0.499921 -0.531796   \n",
      "3 -0.410805  0.890014 -0.973812  0.440539 -0.807341  0.499921 -0.177979   \n",
      "4 -0.410805 -1.658359  2.416534 -1.247577 -0.807341  0.499921 -1.475307   \n",
      "\n",
      "         7         8         9         10        11        12        13  \n",
      "0 -1.467402 -0.970614  1.279041  1.654154 -0.234950 -1.800436 -0.890014  \n",
      "1  0.250289 -0.381999 -0.196319 -1.303113  1.363607 -0.050909 -0.587094  \n",
      "2  1.109135  1.030677 -1.671678 -0.607286  0.031476 -1.363054  0.018745  \n",
      "3  0.250289 -0.617445 -0.196319  0.958326 -1.034229  1.407030  0.321664  \n",
      "4 -1.467402 -0.735168  0.983969  0.610412  1.363607  1.115442  0.624584  \n"
     ]
    }
   ],
   "source": [
    "print(pd.DataFrame(X_train).head()) # Xtrain after scaling"
   ]
  },
  {
   "cell_type": "code",
   "execution_count": 74,
   "metadata": {
    "ExecuteTime": {
     "end_time": "2020-05-12T06:18:51.275880Z",
     "start_time": "2020-05-12T06:18:51.266883Z"
    }
   },
   "outputs": [
    {
     "name": "stdout",
     "output_type": "stream",
     "text": [
      "          0\n",
      "0 -1.125535\n",
      "1 -0.309068\n",
      "2  1.039783\n",
      "3 -0.622209\n",
      "4  0.914006\n"
     ]
    }
   ],
   "source": [
    "print(pd.DataFrame(Y_train).head())"
   ]
  },
  {
   "cell_type": "markdown",
   "metadata": {},
   "source": [
    "# Modeling"
   ]
  },
  {
   "cell_type": "code",
   "execution_count": 75,
   "metadata": {
    "ExecuteTime": {
     "end_time": "2020-05-12T06:19:23.911205Z",
     "start_time": "2020-05-12T06:19:16.799759Z"
    }
   },
   "outputs": [],
   "source": [
    "from sklearn.svm import SVR\n",
    "\n",
    "svr = SVR(kernel = \"rbf\")\n",
    "\n",
    "svr.fit(X_train,Y_train)\n",
    "\n",
    "Y_pred = sc_X.inverse_transform(svr.predict(X_test))"
   ]
  },
  {
   "cell_type": "code",
   "execution_count": 77,
   "metadata": {
    "ExecuteTime": {
     "end_time": "2020-05-12T06:50:20.678947Z",
     "start_time": "2020-05-12T06:50:20.166258Z"
    }
   },
   "outputs": [],
   "source": [
    "pd.DataFrame(Y_pred, columns = ['Price']).to_excel(\"D:/Downloads/Flight_Ticket_Participant_Datasets/Submission.xlsx\", index = False)"
   ]
  },
  {
   "cell_type": "code",
   "execution_count": 78,
   "metadata": {
    "ExecuteTime": {
     "end_time": "2020-05-12T06:50:24.562730Z",
     "start_time": "2020-05-12T06:50:24.552735Z"
    }
   },
   "outputs": [
    {
     "name": "stdout",
     "output_type": "stream",
     "text": [
      "              0\n",
      "0  10547.002077\n",
      "1   6773.635780\n",
      "2  11482.732670\n",
      "3  11281.247128\n",
      "4   4379.175423\n"
     ]
    }
   ],
   "source": [
    "print(pd.DataFrame(Y_pred).head())"
   ]
  },
  {
   "cell_type": "code",
   "execution_count": null,
   "metadata": {},
   "outputs": [],
   "source": []
  }
 ],
 "metadata": {
  "kernelspec": {
   "display_name": "Python 3",
   "language": "python",
   "name": "python3"
  },
  "language_info": {
   "codemirror_mode": {
    "name": "ipython",
    "version": 3
   },
   "file_extension": ".py",
   "mimetype": "text/x-python",
   "name": "python",
   "nbconvert_exporter": "python",
   "pygments_lexer": "ipython3",
   "version": "3.7.3"
  },
  "toc": {
   "base_numbering": 1,
   "nav_menu": {},
   "number_sections": true,
   "sideBar": true,
   "skip_h1_title": false,
   "title_cell": "Table of Contents",
   "title_sidebar": "Contents",
   "toc_cell": false,
   "toc_position": {},
   "toc_section_display": true,
   "toc_window_display": false
  }
 },
 "nbformat": 4,
 "nbformat_minor": 2
}

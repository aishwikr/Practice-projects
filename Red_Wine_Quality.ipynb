{
 "cells": [
  {
   "cell_type": "code",
   "execution_count": 3,
   "metadata": {
    "ExecuteTime": {
     "end_time": "2020-05-04T11:51:41.514652Z",
     "start_time": "2020-05-04T11:51:41.488662Z"
    }
   },
   "outputs": [],
   "source": [
    "import numpy as np\n",
    "import pandas as pd\n",
    "import matplotlib.pyplot as plt\n",
    "%matplotlib inline\n",
    "from sklearn.model_selection import train_test_split\n",
    "from sklearn.preprocessing import StandardScaler\n",
    "from sklearn.metrics import mean_squared_error\n",
    "from keras.models import Sequential\n",
    "from keras.layers import Dense\n",
    "from keras.wrappers.scikit_learn import KerasRegressor\n",
    "df=pd.read_csv('D:/DSData/winequality-red.csv')"
   ]
  },
  {
   "cell_type": "code",
   "execution_count": 2,
   "metadata": {
    "ExecuteTime": {
     "end_time": "2020-05-04T11:51:38.072125Z",
     "start_time": "2020-05-04T11:51:38.032550Z"
    }
   },
   "outputs": [
    {
     "data": {
      "text/html": [
       "<div>\n",
       "<style scoped>\n",
       "    .dataframe tbody tr th:only-of-type {\n",
       "        vertical-align: middle;\n",
       "    }\n",
       "\n",
       "    .dataframe tbody tr th {\n",
       "        vertical-align: top;\n",
       "    }\n",
       "\n",
       "    .dataframe thead th {\n",
       "        text-align: right;\n",
       "    }\n",
       "</style>\n",
       "<table border=\"1\" class=\"dataframe\">\n",
       "  <thead>\n",
       "    <tr style=\"text-align: right;\">\n",
       "      <th></th>\n",
       "      <th>fixed acidity</th>\n",
       "      <th>volatile acidity</th>\n",
       "      <th>citric acid</th>\n",
       "      <th>residual sugar</th>\n",
       "      <th>chlorides</th>\n",
       "      <th>free sulfur dioxide</th>\n",
       "      <th>total sulfur dioxide</th>\n",
       "      <th>density</th>\n",
       "      <th>pH</th>\n",
       "      <th>sulphates</th>\n",
       "      <th>alcohol</th>\n",
       "      <th>quality</th>\n",
       "    </tr>\n",
       "  </thead>\n",
       "  <tbody>\n",
       "    <tr>\n",
       "      <th>0</th>\n",
       "      <td>7.4</td>\n",
       "      <td>0.70</td>\n",
       "      <td>0.00</td>\n",
       "      <td>1.9</td>\n",
       "      <td>0.076</td>\n",
       "      <td>11.0</td>\n",
       "      <td>34.0</td>\n",
       "      <td>0.9978</td>\n",
       "      <td>3.51</td>\n",
       "      <td>0.56</td>\n",
       "      <td>9.4</td>\n",
       "      <td>5</td>\n",
       "    </tr>\n",
       "    <tr>\n",
       "      <th>1</th>\n",
       "      <td>7.8</td>\n",
       "      <td>0.88</td>\n",
       "      <td>0.00</td>\n",
       "      <td>2.6</td>\n",
       "      <td>0.098</td>\n",
       "      <td>25.0</td>\n",
       "      <td>67.0</td>\n",
       "      <td>0.9968</td>\n",
       "      <td>3.20</td>\n",
       "      <td>0.68</td>\n",
       "      <td>9.8</td>\n",
       "      <td>5</td>\n",
       "    </tr>\n",
       "    <tr>\n",
       "      <th>2</th>\n",
       "      <td>7.8</td>\n",
       "      <td>0.76</td>\n",
       "      <td>0.04</td>\n",
       "      <td>2.3</td>\n",
       "      <td>0.092</td>\n",
       "      <td>15.0</td>\n",
       "      <td>54.0</td>\n",
       "      <td>0.9970</td>\n",
       "      <td>3.26</td>\n",
       "      <td>0.65</td>\n",
       "      <td>9.8</td>\n",
       "      <td>5</td>\n",
       "    </tr>\n",
       "    <tr>\n",
       "      <th>3</th>\n",
       "      <td>11.2</td>\n",
       "      <td>0.28</td>\n",
       "      <td>0.56</td>\n",
       "      <td>1.9</td>\n",
       "      <td>0.075</td>\n",
       "      <td>17.0</td>\n",
       "      <td>60.0</td>\n",
       "      <td>0.9980</td>\n",
       "      <td>3.16</td>\n",
       "      <td>0.58</td>\n",
       "      <td>9.8</td>\n",
       "      <td>6</td>\n",
       "    </tr>\n",
       "    <tr>\n",
       "      <th>4</th>\n",
       "      <td>7.4</td>\n",
       "      <td>0.70</td>\n",
       "      <td>0.00</td>\n",
       "      <td>1.9</td>\n",
       "      <td>0.076</td>\n",
       "      <td>11.0</td>\n",
       "      <td>34.0</td>\n",
       "      <td>0.9978</td>\n",
       "      <td>3.51</td>\n",
       "      <td>0.56</td>\n",
       "      <td>9.4</td>\n",
       "      <td>5</td>\n",
       "    </tr>\n",
       "  </tbody>\n",
       "</table>\n",
       "</div>"
      ],
      "text/plain": [
       "   fixed acidity  volatile acidity  citric acid  residual sugar  chlorides  \\\n",
       "0            7.4              0.70         0.00             1.9      0.076   \n",
       "1            7.8              0.88         0.00             2.6      0.098   \n",
       "2            7.8              0.76         0.04             2.3      0.092   \n",
       "3           11.2              0.28         0.56             1.9      0.075   \n",
       "4            7.4              0.70         0.00             1.9      0.076   \n",
       "\n",
       "   free sulfur dioxide  total sulfur dioxide  density    pH  sulphates  \\\n",
       "0                 11.0                  34.0   0.9978  3.51       0.56   \n",
       "1                 25.0                  67.0   0.9968  3.20       0.68   \n",
       "2                 15.0                  54.0   0.9970  3.26       0.65   \n",
       "3                 17.0                  60.0   0.9980  3.16       0.58   \n",
       "4                 11.0                  34.0   0.9978  3.51       0.56   \n",
       "\n",
       "   alcohol  quality  \n",
       "0      9.4        5  \n",
       "1      9.8        5  \n",
       "2      9.8        5  \n",
       "3      9.8        6  \n",
       "4      9.4        5  "
      ]
     },
     "execution_count": 2,
     "metadata": {},
     "output_type": "execute_result"
    }
   ],
   "source": [
    "df.head()"
   ]
  },
  {
   "cell_type": "code",
   "execution_count": 6,
   "metadata": {
    "ExecuteTime": {
     "end_time": "2020-05-04T11:52:22.883511Z",
     "start_time": "2020-05-04T11:52:22.870499Z"
    }
   },
   "outputs": [
    {
     "data": {
      "text/plain": [
       "fixed acidity           False\n",
       "volatile acidity        False\n",
       "citric acid             False\n",
       "residual sugar          False\n",
       "chlorides               False\n",
       "free sulfur dioxide     False\n",
       "total sulfur dioxide    False\n",
       "density                 False\n",
       "pH                      False\n",
       "sulphates               False\n",
       "alcohol                 False\n",
       "quality                 False\n",
       "dtype: bool"
      ]
     },
     "execution_count": 6,
     "metadata": {},
     "output_type": "execute_result"
    }
   ],
   "source": [
    "df.isnull().any()"
   ]
  },
  {
   "cell_type": "code",
   "execution_count": 4,
   "metadata": {
    "ExecuteTime": {
     "end_time": "2020-05-04T11:52:00.762101Z",
     "start_time": "2020-05-04T11:52:00.756102Z"
    }
   },
   "outputs": [
    {
     "data": {
      "text/plain": [
       "(1599, 12)"
      ]
     },
     "execution_count": 4,
     "metadata": {},
     "output_type": "execute_result"
    }
   ],
   "source": [
    "df.shape"
   ]
  },
  {
   "cell_type": "code",
   "execution_count": 7,
   "metadata": {
    "ExecuteTime": {
     "end_time": "2020-05-04T11:52:35.101019Z",
     "start_time": "2020-05-04T11:52:35.085025Z"
    }
   },
   "outputs": [
    {
     "name": "stdout",
     "output_type": "stream",
     "text": [
      "<class 'pandas.core.frame.DataFrame'>\n",
      "RangeIndex: 1599 entries, 0 to 1598\n",
      "Data columns (total 12 columns):\n",
      "fixed acidity           1599 non-null float64\n",
      "volatile acidity        1599 non-null float64\n",
      "citric acid             1599 non-null float64\n",
      "residual sugar          1599 non-null float64\n",
      "chlorides               1599 non-null float64\n",
      "free sulfur dioxide     1599 non-null float64\n",
      "total sulfur dioxide    1599 non-null float64\n",
      "density                 1599 non-null float64\n",
      "pH                      1599 non-null float64\n",
      "sulphates               1599 non-null float64\n",
      "alcohol                 1599 non-null float64\n",
      "quality                 1599 non-null int64\n",
      "dtypes: float64(11), int64(1)\n",
      "memory usage: 150.0 KB\n"
     ]
    }
   ],
   "source": [
    "df.info()"
   ]
  },
  {
   "cell_type": "code",
   "execution_count": 8,
   "metadata": {
    "ExecuteTime": {
     "end_time": "2020-05-04T11:52:45.856179Z",
     "start_time": "2020-05-04T11:52:45.759736Z"
    }
   },
   "outputs": [
    {
     "data": {
      "text/html": [
       "<div>\n",
       "<style scoped>\n",
       "    .dataframe tbody tr th:only-of-type {\n",
       "        vertical-align: middle;\n",
       "    }\n",
       "\n",
       "    .dataframe tbody tr th {\n",
       "        vertical-align: top;\n",
       "    }\n",
       "\n",
       "    .dataframe thead th {\n",
       "        text-align: right;\n",
       "    }\n",
       "</style>\n",
       "<table border=\"1\" class=\"dataframe\">\n",
       "  <thead>\n",
       "    <tr style=\"text-align: right;\">\n",
       "      <th></th>\n",
       "      <th>fixed acidity</th>\n",
       "      <th>volatile acidity</th>\n",
       "      <th>citric acid</th>\n",
       "      <th>residual sugar</th>\n",
       "      <th>chlorides</th>\n",
       "      <th>free sulfur dioxide</th>\n",
       "      <th>total sulfur dioxide</th>\n",
       "      <th>density</th>\n",
       "      <th>pH</th>\n",
       "      <th>sulphates</th>\n",
       "      <th>alcohol</th>\n",
       "      <th>quality</th>\n",
       "    </tr>\n",
       "  </thead>\n",
       "  <tbody>\n",
       "    <tr>\n",
       "      <th>count</th>\n",
       "      <td>1599.000000</td>\n",
       "      <td>1599.000000</td>\n",
       "      <td>1599.000000</td>\n",
       "      <td>1599.000000</td>\n",
       "      <td>1599.000000</td>\n",
       "      <td>1599.000000</td>\n",
       "      <td>1599.000000</td>\n",
       "      <td>1599.000000</td>\n",
       "      <td>1599.000000</td>\n",
       "      <td>1599.000000</td>\n",
       "      <td>1599.000000</td>\n",
       "      <td>1599.000000</td>\n",
       "    </tr>\n",
       "    <tr>\n",
       "      <th>mean</th>\n",
       "      <td>8.319637</td>\n",
       "      <td>0.527821</td>\n",
       "      <td>0.270976</td>\n",
       "      <td>2.538806</td>\n",
       "      <td>0.087467</td>\n",
       "      <td>15.874922</td>\n",
       "      <td>46.467792</td>\n",
       "      <td>0.996747</td>\n",
       "      <td>3.311113</td>\n",
       "      <td>0.658149</td>\n",
       "      <td>10.422983</td>\n",
       "      <td>5.636023</td>\n",
       "    </tr>\n",
       "    <tr>\n",
       "      <th>std</th>\n",
       "      <td>1.741096</td>\n",
       "      <td>0.179060</td>\n",
       "      <td>0.194801</td>\n",
       "      <td>1.409928</td>\n",
       "      <td>0.047065</td>\n",
       "      <td>10.460157</td>\n",
       "      <td>32.895324</td>\n",
       "      <td>0.001887</td>\n",
       "      <td>0.154386</td>\n",
       "      <td>0.169507</td>\n",
       "      <td>1.065668</td>\n",
       "      <td>0.807569</td>\n",
       "    </tr>\n",
       "    <tr>\n",
       "      <th>min</th>\n",
       "      <td>4.600000</td>\n",
       "      <td>0.120000</td>\n",
       "      <td>0.000000</td>\n",
       "      <td>0.900000</td>\n",
       "      <td>0.012000</td>\n",
       "      <td>1.000000</td>\n",
       "      <td>6.000000</td>\n",
       "      <td>0.990070</td>\n",
       "      <td>2.740000</td>\n",
       "      <td>0.330000</td>\n",
       "      <td>8.400000</td>\n",
       "      <td>3.000000</td>\n",
       "    </tr>\n",
       "    <tr>\n",
       "      <th>25%</th>\n",
       "      <td>7.100000</td>\n",
       "      <td>0.390000</td>\n",
       "      <td>0.090000</td>\n",
       "      <td>1.900000</td>\n",
       "      <td>0.070000</td>\n",
       "      <td>7.000000</td>\n",
       "      <td>22.000000</td>\n",
       "      <td>0.995600</td>\n",
       "      <td>3.210000</td>\n",
       "      <td>0.550000</td>\n",
       "      <td>9.500000</td>\n",
       "      <td>5.000000</td>\n",
       "    </tr>\n",
       "    <tr>\n",
       "      <th>50%</th>\n",
       "      <td>7.900000</td>\n",
       "      <td>0.520000</td>\n",
       "      <td>0.260000</td>\n",
       "      <td>2.200000</td>\n",
       "      <td>0.079000</td>\n",
       "      <td>14.000000</td>\n",
       "      <td>38.000000</td>\n",
       "      <td>0.996750</td>\n",
       "      <td>3.310000</td>\n",
       "      <td>0.620000</td>\n",
       "      <td>10.200000</td>\n",
       "      <td>6.000000</td>\n",
       "    </tr>\n",
       "    <tr>\n",
       "      <th>75%</th>\n",
       "      <td>9.200000</td>\n",
       "      <td>0.640000</td>\n",
       "      <td>0.420000</td>\n",
       "      <td>2.600000</td>\n",
       "      <td>0.090000</td>\n",
       "      <td>21.000000</td>\n",
       "      <td>62.000000</td>\n",
       "      <td>0.997835</td>\n",
       "      <td>3.400000</td>\n",
       "      <td>0.730000</td>\n",
       "      <td>11.100000</td>\n",
       "      <td>6.000000</td>\n",
       "    </tr>\n",
       "    <tr>\n",
       "      <th>max</th>\n",
       "      <td>15.900000</td>\n",
       "      <td>1.580000</td>\n",
       "      <td>1.000000</td>\n",
       "      <td>15.500000</td>\n",
       "      <td>0.611000</td>\n",
       "      <td>72.000000</td>\n",
       "      <td>289.000000</td>\n",
       "      <td>1.003690</td>\n",
       "      <td>4.010000</td>\n",
       "      <td>2.000000</td>\n",
       "      <td>14.900000</td>\n",
       "      <td>8.000000</td>\n",
       "    </tr>\n",
       "  </tbody>\n",
       "</table>\n",
       "</div>"
      ],
      "text/plain": [
       "       fixed acidity  volatile acidity  citric acid  residual sugar  \\\n",
       "count    1599.000000       1599.000000  1599.000000     1599.000000   \n",
       "mean        8.319637          0.527821     0.270976        2.538806   \n",
       "std         1.741096          0.179060     0.194801        1.409928   \n",
       "min         4.600000          0.120000     0.000000        0.900000   \n",
       "25%         7.100000          0.390000     0.090000        1.900000   \n",
       "50%         7.900000          0.520000     0.260000        2.200000   \n",
       "75%         9.200000          0.640000     0.420000        2.600000   \n",
       "max        15.900000          1.580000     1.000000       15.500000   \n",
       "\n",
       "         chlorides  free sulfur dioxide  total sulfur dioxide      density  \\\n",
       "count  1599.000000          1599.000000           1599.000000  1599.000000   \n",
       "mean      0.087467            15.874922             46.467792     0.996747   \n",
       "std       0.047065            10.460157             32.895324     0.001887   \n",
       "min       0.012000             1.000000              6.000000     0.990070   \n",
       "25%       0.070000             7.000000             22.000000     0.995600   \n",
       "50%       0.079000            14.000000             38.000000     0.996750   \n",
       "75%       0.090000            21.000000             62.000000     0.997835   \n",
       "max       0.611000            72.000000            289.000000     1.003690   \n",
       "\n",
       "                pH    sulphates      alcohol      quality  \n",
       "count  1599.000000  1599.000000  1599.000000  1599.000000  \n",
       "mean      3.311113     0.658149    10.422983     5.636023  \n",
       "std       0.154386     0.169507     1.065668     0.807569  \n",
       "min       2.740000     0.330000     8.400000     3.000000  \n",
       "25%       3.210000     0.550000     9.500000     5.000000  \n",
       "50%       3.310000     0.620000    10.200000     6.000000  \n",
       "75%       3.400000     0.730000    11.100000     6.000000  \n",
       "max       4.010000     2.000000    14.900000     8.000000  "
      ]
     },
     "execution_count": 8,
     "metadata": {},
     "output_type": "execute_result"
    }
   ],
   "source": [
    "df.describe()"
   ]
  },
  {
   "cell_type": "markdown",
   "metadata": {},
   "source": [
    "# Univariate Analysis"
   ]
  },
  {
   "cell_type": "code",
   "execution_count": 9,
   "metadata": {
    "ExecuteTime": {
     "end_time": "2020-05-04T11:52:50.162859Z",
     "start_time": "2020-05-04T11:52:50.153859Z"
    }
   },
   "outputs": [
    {
     "data": {
      "text/plain": [
       "Counter({5: 681, 6: 638, 7: 199, 4: 53, 8: 18, 3: 10})"
      ]
     },
     "execution_count": 9,
     "metadata": {},
     "output_type": "execute_result"
    }
   ],
   "source": [
    "from collections import Counter\n",
    "Counter(df['quality'])"
   ]
  },
  {
   "cell_type": "code",
   "execution_count": 8,
   "metadata": {
    "ExecuteTime": {
     "end_time": "2020-04-23T17:01:40.007512Z",
     "start_time": "2020-04-23T17:01:39.520533Z"
    }
   },
   "outputs": [
    {
     "data": {
      "text/plain": [
       "<matplotlib.axes._subplots.AxesSubplot at 0x20f2d01f198>"
      ]
     },
     "execution_count": 8,
     "metadata": {},
     "output_type": "execute_result"
    },
    {
     "data": {
      "image/png": "[encoded data removed]",
      "text/plain": [
       "<Figure size 432x288 with 1 Axes>"
      ]
     },
     "metadata": {
      "needs_background": "light"
     },
     "output_type": "display_data"
    }
   ],
   "source": [
    "import seaborn as sns\n",
    "sns.countplot(x='quality', data=df)"
   ]
  },
  {
   "cell_type": "code",
   "execution_count": 11,
   "metadata": {
    "ExecuteTime": {
     "end_time": "2020-05-04T11:54:44.875890Z",
     "start_time": "2020-05-04T11:54:44.301448Z"
    }
   },
   "outputs": [
    {
     "data": {
      "image/png": "[encoded data removed]",
      "text/plain": [
       "<Figure size 432x288 with 1 Axes>"
      ]
     },
     "metadata": {
      "needs_background": "light"
     },
     "output_type": "display_data"
    }
   ],
   "source": [
    "import seaborn as sns\n",
    "sns.distplot(df['fixed acidity'])\n",
    "plt.show()"
   ]
  },
  {
   "cell_type": "markdown",
   "metadata": {},
   "source": [
    "# Bivariate Analysis"
   ]
  },
  {
   "cell_type": "code",
   "execution_count": 12,
   "metadata": {
    "ExecuteTime": {
     "end_time": "2020-05-04T11:55:26.653125Z",
     "start_time": "2020-05-04T11:55:26.302667Z"
    }
   },
   "outputs": [
    {
     "data": {
      "text/plain": [
       "<matplotlib.axes._subplots.AxesSubplot at 0x17e4c3ed518>"
      ]
     },
     "execution_count": 12,
     "metadata": {},
     "output_type": "execute_result"
    },
    {
     "data": {
      "image/png": "[encoded data removed]",
      "text/plain": [
       "<Figure size 432x288 with 1 Axes>"
      ]
     },
     "metadata": {
      "needs_background": "light"
     },
     "output_type": "display_data"
    }
   ],
   "source": [
    "sns.boxplot('quality', 'fixed acidity', data = df)"
   ]
  },
  {
   "cell_type": "code",
   "execution_count": 13,
   "metadata": {
    "ExecuteTime": {
     "end_time": "2020-05-04T11:55:31.041372Z",
     "start_time": "2020-05-04T11:55:30.685427Z"
    }
   },
   "outputs": [
    {
     "data": {
      "text/plain": [
       "<matplotlib.axes._subplots.AxesSubplot at 0x17e4c512048>"
      ]
     },
     "execution_count": 13,
     "metadata": {},
     "output_type": "execute_result"
    },
    {
     "data": {
      "image/png": "[encoded data removed]",
      "text/plain": [
       "<Figure size 432x288 with 1 Axes>"
      ]
     },
     "metadata": {
      "needs_background": "light"
     },
     "output_type": "display_data"
    }
   ],
   "source": [
    "sns.boxplot('quality', 'volatile acidity', data = df)"
   ]
  },
  {
   "cell_type": "markdown",
   "metadata": {},
   "source": [
    "# Heatmap"
   ]
  },
  {
   "cell_type": "code",
   "execution_count": 14,
   "metadata": {
    "ExecuteTime": {
     "end_time": "2020-05-04T11:56:16.752777Z",
     "start_time": "2020-05-04T11:56:16.239126Z"
    }
   },
   "outputs": [
    {
     "data": {
      "image/png": "[encoded data removed]",
      "text/plain": [
       "<Figure size 432x288 with 2 Axes>"
      ]
     },
     "metadata": {
      "needs_background": "light"
     },
     "output_type": "display_data"
    }
   ],
   "source": [
    "heat_map = sns.heatmap(df.corr())"
   ]
  },
  {
   "cell_type": "markdown",
   "metadata": {},
   "source": [
    "# Removing outliers"
   ]
  },
  {
   "cell_type": "code",
   "execution_count": 15,
   "metadata": {
    "ExecuteTime": {
     "end_time": "2020-05-04T11:57:01.649903Z",
     "start_time": "2020-05-04T11:57:01.407348Z"
    }
   },
   "outputs": [
    {
     "data": {
      "text/plain": [
       "<matplotlib.axes._subplots.AxesSubplot at 0x17e4c5b1cc0>"
      ]
     },
     "execution_count": 15,
     "metadata": {},
     "output_type": "execute_result"
    },
    {
     "data": {
      "image/png": "[encoded data removed]",
      "text/plain": [
       "<Figure size 432x288 with 1 Axes>"
      ]
     },
     "metadata": {
      "needs_background": "light"
     },
     "output_type": "display_data"
    }
   ],
   "source": [
    "sns.boxplot(df)"
   ]
  },
  {
   "cell_type": "code",
   "execution_count": 16,
   "metadata": {
    "ExecuteTime": {
     "end_time": "2020-05-04T11:57:25.762450Z",
     "start_time": "2020-05-04T11:57:25.753456Z"
    }
   },
   "outputs": [],
   "source": [
    "from scipy import stats\n",
    "z = np.abs(stats.zscore(df))\n",
    "df1 = df[(z < 3).all(axis=1)] #outliers with z-score >3 are removed"
   ]
  },
  {
   "cell_type": "code",
   "execution_count": 17,
   "metadata": {
    "ExecuteTime": {
     "end_time": "2020-05-04T11:57:32.352790Z",
     "start_time": "2020-05-04T11:57:32.346791Z"
    }
   },
   "outputs": [
    {
     "data": {
      "text/plain": [
       "(1599, 12)"
      ]
     },
     "execution_count": 17,
     "metadata": {},
     "output_type": "execute_result"
    }
   ],
   "source": [
    "df.shape"
   ]
  },
  {
   "cell_type": "code",
   "execution_count": 18,
   "metadata": {
    "ExecuteTime": {
     "end_time": "2020-05-04T11:57:44.065193Z",
     "start_time": "2020-05-04T11:57:44.057195Z"
    }
   },
   "outputs": [
    {
     "data": {
      "text/plain": [
       "(1451, 12)"
      ]
     },
     "execution_count": 18,
     "metadata": {},
     "output_type": "execute_result"
    }
   ],
   "source": [
    "df1.shape"
   ]
  },
  {
   "cell_type": "code",
   "execution_count": 22,
   "metadata": {
    "ExecuteTime": {
     "end_time": "2020-05-04T11:58:40.673787Z",
     "start_time": "2020-05-04T11:58:40.566804Z"
    }
   },
   "outputs": [],
   "source": [
    "import warnings\n",
    "warnings.filterwarnings('ignore')\n",
    "reviews = []\n",
    "for i in df1['quality']:\n",
    "    if i >= 1 and i <= 3:\n",
    "        reviews.append('1')\n",
    "    elif i >= 4 and i <= 7:\n",
    "        reviews.append('2')\n",
    "    elif i >= 8 and i <= 10:\n",
    "        reviews.append('3')\n",
    "df1['Reviews'] = reviews"
   ]
  },
  {
   "cell_type": "code",
   "execution_count": 23,
   "metadata": {
    "ExecuteTime": {
     "end_time": "2020-05-04T11:58:43.260293Z",
     "start_time": "2020-05-04T11:58:43.229302Z"
    }
   },
   "outputs": [
    {
     "data": {
      "text/html": [
       "<div>\n",
       "<style scoped>\n",
       "    .dataframe tbody tr th:only-of-type {\n",
       "        vertical-align: middle;\n",
       "    }\n",
       "\n",
       "    .dataframe tbody tr th {\n",
       "        vertical-align: top;\n",
       "    }\n",
       "\n",
       "    .dataframe thead th {\n",
       "        text-align: right;\n",
       "    }\n",
       "</style>\n",
       "<table border=\"1\" class=\"dataframe\">\n",
       "  <thead>\n",
       "    <tr style=\"text-align: right;\">\n",
       "      <th></th>\n",
       "      <th>fixed acidity</th>\n",
       "      <th>volatile acidity</th>\n",
       "      <th>citric acid</th>\n",
       "      <th>residual sugar</th>\n",
       "      <th>chlorides</th>\n",
       "      <th>free sulfur dioxide</th>\n",
       "      <th>total sulfur dioxide</th>\n",
       "      <th>density</th>\n",
       "      <th>pH</th>\n",
       "      <th>sulphates</th>\n",
       "      <th>alcohol</th>\n",
       "      <th>quality</th>\n",
       "      <th>Reviews</th>\n",
       "    </tr>\n",
       "  </thead>\n",
       "  <tbody>\n",
       "    <tr>\n",
       "      <th>0</th>\n",
       "      <td>7.4</td>\n",
       "      <td>0.70</td>\n",
       "      <td>0.00</td>\n",
       "      <td>1.9</td>\n",
       "      <td>0.076</td>\n",
       "      <td>11.0</td>\n",
       "      <td>34.0</td>\n",
       "      <td>0.9978</td>\n",
       "      <td>3.51</td>\n",
       "      <td>0.56</td>\n",
       "      <td>9.4</td>\n",
       "      <td>5</td>\n",
       "      <td>2</td>\n",
       "    </tr>\n",
       "    <tr>\n",
       "      <th>1</th>\n",
       "      <td>7.8</td>\n",
       "      <td>0.88</td>\n",
       "      <td>0.00</td>\n",
       "      <td>2.6</td>\n",
       "      <td>0.098</td>\n",
       "      <td>25.0</td>\n",
       "      <td>67.0</td>\n",
       "      <td>0.9968</td>\n",
       "      <td>3.20</td>\n",
       "      <td>0.68</td>\n",
       "      <td>9.8</td>\n",
       "      <td>5</td>\n",
       "      <td>2</td>\n",
       "    </tr>\n",
       "    <tr>\n",
       "      <th>2</th>\n",
       "      <td>7.8</td>\n",
       "      <td>0.76</td>\n",
       "      <td>0.04</td>\n",
       "      <td>2.3</td>\n",
       "      <td>0.092</td>\n",
       "      <td>15.0</td>\n",
       "      <td>54.0</td>\n",
       "      <td>0.9970</td>\n",
       "      <td>3.26</td>\n",
       "      <td>0.65</td>\n",
       "      <td>9.8</td>\n",
       "      <td>5</td>\n",
       "      <td>2</td>\n",
       "    </tr>\n",
       "    <tr>\n",
       "      <th>3</th>\n",
       "      <td>11.2</td>\n",
       "      <td>0.28</td>\n",
       "      <td>0.56</td>\n",
       "      <td>1.9</td>\n",
       "      <td>0.075</td>\n",
       "      <td>17.0</td>\n",
       "      <td>60.0</td>\n",
       "      <td>0.9980</td>\n",
       "      <td>3.16</td>\n",
       "      <td>0.58</td>\n",
       "      <td>9.8</td>\n",
       "      <td>6</td>\n",
       "      <td>2</td>\n",
       "    </tr>\n",
       "    <tr>\n",
       "      <th>4</th>\n",
       "      <td>7.4</td>\n",
       "      <td>0.70</td>\n",
       "      <td>0.00</td>\n",
       "      <td>1.9</td>\n",
       "      <td>0.076</td>\n",
       "      <td>11.0</td>\n",
       "      <td>34.0</td>\n",
       "      <td>0.9978</td>\n",
       "      <td>3.51</td>\n",
       "      <td>0.56</td>\n",
       "      <td>9.4</td>\n",
       "      <td>5</td>\n",
       "      <td>2</td>\n",
       "    </tr>\n",
       "  </tbody>\n",
       "</table>\n",
       "</div>"
      ],
      "text/plain": [
       "   fixed acidity  volatile acidity  citric acid  residual sugar  chlorides  \\\n",
       "0            7.4              0.70         0.00             1.9      0.076   \n",
       "1            7.8              0.88         0.00             2.6      0.098   \n",
       "2            7.8              0.76         0.04             2.3      0.092   \n",
       "3           11.2              0.28         0.56             1.9      0.075   \n",
       "4            7.4              0.70         0.00             1.9      0.076   \n",
       "\n",
       "   free sulfur dioxide  total sulfur dioxide  density    pH  sulphates  \\\n",
       "0                 11.0                  34.0   0.9978  3.51       0.56   \n",
       "1                 25.0                  67.0   0.9968  3.20       0.68   \n",
       "2                 15.0                  54.0   0.9970  3.26       0.65   \n",
       "3                 17.0                  60.0   0.9980  3.16       0.58   \n",
       "4                 11.0                  34.0   0.9978  3.51       0.56   \n",
       "\n",
       "   alcohol  quality Reviews  \n",
       "0      9.4        5       2  \n",
       "1      9.8        5       2  \n",
       "2      9.8        5       2  \n",
       "3      9.8        6       2  \n",
       "4      9.4        5       2  "
      ]
     },
     "execution_count": 23,
     "metadata": {},
     "output_type": "execute_result"
    }
   ],
   "source": [
    "df1.head()"
   ]
  },
  {
   "cell_type": "code",
   "execution_count": 24,
   "metadata": {
    "ExecuteTime": {
     "end_time": "2020-05-04T11:58:53.297464Z",
     "start_time": "2020-05-04T11:58:53.281822Z"
    }
   },
   "outputs": [],
   "source": [
    "x = df1.iloc[:,:-2]\n",
    "y = df1['Reviews']"
   ]
  },
  {
   "cell_type": "code",
   "execution_count": 25,
   "metadata": {
    "ExecuteTime": {
     "end_time": "2020-05-04T11:58:54.824666Z",
     "start_time": "2020-05-04T11:58:54.813673Z"
    }
   },
   "outputs": [],
   "source": [
    "sc = StandardScaler()\n",
    "x = sc.fit_transform(x)"
   ]
  },
  {
   "cell_type": "code",
   "execution_count": 26,
   "metadata": {
    "ExecuteTime": {
     "end_time": "2020-05-04T11:58:56.661320Z",
     "start_time": "2020-05-04T11:58:56.499317Z"
    }
   },
   "outputs": [],
   "source": [
    "from sklearn.decomposition import PCA\n",
    "pca = PCA()\n",
    "x_pca = pca.fit_transform(x)"
   ]
  },
  {
   "cell_type": "code",
   "execution_count": 27,
   "metadata": {
    "ExecuteTime": {
     "end_time": "2020-05-04T11:59:02.140529Z",
     "start_time": "2020-05-04T11:59:01.807368Z"
    }
   },
   "outputs": [
    {
     "data": {
      "image/png": "[encoded data removed]",
      "text/plain": [
       "<Figure size 720x720 with 1 Axes>"
      ]
     },
     "metadata": {
      "needs_background": "light"
     },
     "output_type": "display_data"
    }
   ],
   "source": [
    "plt.figure(figsize=(10,10))\n",
    "plt.plot(np.cumsum(pca.explained_variance_ratio_), 'ro-')\n",
    "plt.grid()"
   ]
  },
  {
   "cell_type": "code",
   "execution_count": 28,
   "metadata": {
    "ExecuteTime": {
     "end_time": "2020-05-04T11:59:06.341937Z",
     "start_time": "2020-05-04T11:59:06.098610Z"
    }
   },
   "outputs": [],
   "source": [
    "pca_new = PCA(n_components=8)\n",
    "x_new = pca_new.fit_transform(x)"
   ]
  },
  {
   "cell_type": "code",
   "execution_count": 29,
   "metadata": {
    "ExecuteTime": {
     "end_time": "2020-05-04T11:59:07.333189Z",
     "start_time": "2020-05-04T11:59:07.324190Z"
    }
   },
   "outputs": [],
   "source": [
    "x_train, x_test, y_train, y_test = train_test_split(x_new, y, test_size = 0.25)"
   ]
  },
  {
   "cell_type": "code",
   "execution_count": 30,
   "metadata": {
    "ExecuteTime": {
     "end_time": "2020-05-04T11:59:10.064461Z",
     "start_time": "2020-05-04T11:59:10.053461Z"
    }
   },
   "outputs": [],
   "source": [
    "from sklearn.linear_model import LogisticRegression\n",
    "from sklearn.metrics import confusion_matrix, accuracy_score\n",
    "lr = LogisticRegression()\n",
    "lr.fit(x_train, y_train)\n",
    "lr_predict = lr.predict(x_test)"
   ]
  },
  {
   "cell_type": "code",
   "execution_count": 31,
   "metadata": {
    "ExecuteTime": {
     "end_time": "2020-05-04T11:59:13.717919Z",
     "start_time": "2020-05-04T11:59:13.705923Z"
    }
   },
   "outputs": [
    {
     "name": "stdout",
     "output_type": "stream",
     "text": [
      "[[360   0]\n",
      " [  3   0]]\n",
      "99.17355371900827\n"
     ]
    }
   ],
   "source": [
    "#print confusion matrix and accuracy score\n",
    "lr_conf_matrix = confusion_matrix(y_test, lr_predict)\n",
    "lr_acc_score = accuracy_score(y_test, lr_predict)\n",
    "print(lr_conf_matrix)\n",
    "print(lr_acc_score*100)"
   ]
  },
  {
   "cell_type": "code",
   "execution_count": 32,
   "metadata": {
    "ExecuteTime": {
     "end_time": "2020-05-04T11:59:14.896416Z",
     "start_time": "2020-05-04T11:59:14.780420Z"
    }
   },
   "outputs": [],
   "source": [
    "#set seed for reproducibility\n",
    "seed = 4\n",
    "np.random.seed(seed)\n",
    "#define model with 3 hidden layers of 10 nodes and relu as activation function\n",
    "# and use MSE as loss metrics and adam as optimizer\n",
    "model = Sequential()\n",
    "model.add(Dense(10, activation='relu', input_dim=8))\n",
    "model.add(Dense(10, activation='relu'))\n",
    "model.add(Dense(10, activation='relu'))\n",
    "model.add(Dense(1, activation='linear'))\n",
    "# Compile model\n",
    "model.compile(loss='mean_squared_error', optimizer='adam')"
   ]
  },
  {
   "cell_type": "code",
   "execution_count": 33,
   "metadata": {
    "ExecuteTime": {
     "end_time": "2020-05-04T11:59:28.816542Z",
     "start_time": "2020-05-04T11:59:19.621051Z"
    }
   },
   "outputs": [
    {
     "name": "stdout",
     "output_type": "stream",
     "text": [
      "Epoch 1/100\n",
      "1088/1088 [==============================] - 0s 208us/step - loss: 4.9779\n",
      "Epoch 2/100\n",
      "1088/1088 [==============================] - 0s 74us/step - loss: 3.7679\n",
      "Epoch 3/100\n",
      "1088/1088 [==============================] - 0s 63us/step - loss: 2.8514\n",
      "Epoch 4/100\n",
      "1088/1088 [==============================] - 0s 72us/step - loss: 1.7413\n",
      "Epoch 5/100\n",
      "1088/1088 [==============================] - 0s 67us/step - loss: 0.7381\n",
      "Epoch 6/100\n",
      "1088/1088 [==============================] - 0s 67us/step - loss: 0.3618\n",
      "Epoch 7/100\n",
      "1088/1088 [==============================] - 0s 75us/step - loss: 0.2382\n",
      "Epoch 8/100\n",
      "1088/1088 [==============================] - 0s 65us/step - loss: 0.1832\n",
      "Epoch 9/100\n",
      "1088/1088 [==============================] - 0s 64us/step - loss: 0.1531\n",
      "Epoch 10/100\n",
      "1088/1088 [==============================] - 0s 64us/step - loss: 0.1347\n",
      "Epoch 11/100\n",
      "1088/1088 [==============================] - 0s 67us/step - loss: 0.1221\n",
      "Epoch 12/100\n",
      "1088/1088 [==============================] - 0s 64us/step - loss: 0.1121\n",
      "Epoch 13/100\n",
      "1088/1088 [==============================] - 0s 65us/step - loss: 0.1043\n",
      "Epoch 14/100\n",
      "1088/1088 [==============================] - 0s 64us/step - loss: 0.0970\n",
      "Epoch 15/100\n",
      "1088/1088 [==============================] - 0s 63us/step - loss: 0.0906\n",
      "Epoch 16/100\n",
      "1088/1088 [==============================] - 0s 68us/step - loss: 0.0849\n",
      "Epoch 17/100\n",
      "1088/1088 [==============================] - 0s 73us/step - loss: 0.0797\n",
      "Epoch 18/100\n",
      "1088/1088 [==============================] - 0s 77us/step - loss: 0.0752\n",
      "Epoch 19/100\n",
      "1088/1088 [==============================] - 0s 96us/step - loss: 0.0712\n",
      "Epoch 20/100\n",
      "1088/1088 [==============================] - 0s 96us/step - loss: 0.0664\n",
      "Epoch 21/100\n",
      "1088/1088 [==============================] - 0s 96us/step - loss: 0.0625\n",
      "Epoch 22/100\n",
      "1088/1088 [==============================] - 0s 94us/step - loss: 0.0589\n",
      "Epoch 23/100\n",
      "1088/1088 [==============================] - 0s 82us/step - loss: 0.0556\n",
      "Epoch 24/100\n",
      "1088/1088 [==============================] - 0s 74us/step - loss: 0.0524\n",
      "Epoch 25/100\n",
      "1088/1088 [==============================] - 0s 64us/step - loss: 0.0495\n",
      "Epoch 26/100\n",
      "1088/1088 [==============================] - 0s 64us/step - loss: 0.0464\n",
      "Epoch 27/100\n",
      "1088/1088 [==============================] - 0s 79us/step - loss: 0.0438\n",
      "Epoch 28/100\n",
      "1088/1088 [==============================] - 0s 87us/step - loss: 0.0412\n",
      "Epoch 29/100\n",
      "1088/1088 [==============================] - 0s 76us/step - loss: 0.0389\n",
      "Epoch 30/100\n",
      "1088/1088 [==============================] - 0s 84us/step - loss: 0.0364\n",
      "Epoch 31/100\n",
      "1088/1088 [==============================] - 0s 85us/step - loss: 0.0347\n",
      "Epoch 32/100\n",
      "1088/1088 [==============================] - 0s 99us/step - loss: 0.0324\n",
      "Epoch 33/100\n",
      "1088/1088 [==============================] - 0s 107us/step - loss: 0.0307\n",
      "Epoch 34/100\n",
      "1088/1088 [==============================] - 0s 87us/step - loss: 0.0291\n",
      "Epoch 35/100\n",
      "1088/1088 [==============================] - 0s 92us/step - loss: 0.0276\n",
      "Epoch 36/100\n",
      "1088/1088 [==============================] - 0s 90us/step - loss: 0.0261\n",
      "Epoch 37/100\n",
      "1088/1088 [==============================] - 0s 90us/step - loss: 0.0249\n",
      "Epoch 38/100\n",
      "1088/1088 [==============================] - 0s 105us/step - loss: 0.0237\n",
      "Epoch 39/100\n",
      "1088/1088 [==============================] - 0s 86us/step - loss: 0.0227\n",
      "Epoch 40/100\n",
      "1088/1088 [==============================] - 0s 80us/step - loss: 0.0217\n",
      "Epoch 41/100\n",
      "1088/1088 [==============================] - 0s 82us/step - loss: 0.0208\n",
      "Epoch 42/100\n",
      "1088/1088 [==============================] - 0s 86us/step - loss: 0.0199\n",
      "Epoch 43/100\n",
      "1088/1088 [==============================] - 0s 78us/step - loss: 0.0192\n",
      "Epoch 44/100\n",
      "1088/1088 [==============================] - 0s 85us/step - loss: 0.0185\n",
      "Epoch 45/100\n",
      "1088/1088 [==============================] - 0s 81us/step - loss: 0.0179\n",
      "Epoch 46/100\n",
      "1088/1088 [==============================] - 0s 86us/step - loss: 0.0173\n",
      "Epoch 47/100\n",
      "1088/1088 [==============================] - 0s 75us/step - loss: 0.0168\n",
      "Epoch 48/100\n",
      "1088/1088 [==============================] - 0s 70us/step - loss: 0.0163\n",
      "Epoch 49/100\n",
      "1088/1088 [==============================] - 0s 76us/step - loss: 0.0159\n",
      "Epoch 50/100\n",
      "1088/1088 [==============================] - 0s 78us/step - loss: 0.0157\n",
      "Epoch 51/100\n",
      "1088/1088 [==============================] - 0s 77us/step - loss: 0.0153\n",
      "Epoch 52/100\n",
      "1088/1088 [==============================] - 0s 73us/step - loss: 0.0150\n",
      "Epoch 53/100\n",
      "1088/1088 [==============================] - 0s 79us/step - loss: 0.0145\n",
      "Epoch 54/100\n",
      "1088/1088 [==============================] - 0s 91us/step - loss: 0.0142\n",
      "Epoch 55/100\n",
      "1088/1088 [==============================] - 0s 67us/step - loss: 0.0140\n",
      "Epoch 56/100\n",
      "1088/1088 [==============================] - 0s 64us/step - loss: 0.0138\n",
      "Epoch 57/100\n",
      "1088/1088 [==============================] - 0s 65us/step - loss: 0.0137\n",
      "Epoch 58/100\n",
      "1088/1088 [==============================] - 0s 58us/step - loss: 0.0135\n",
      "Epoch 59/100\n",
      "1088/1088 [==============================] - 0s 63us/step - loss: 0.0132\n",
      "Epoch 60/100\n",
      "1088/1088 [==============================] - 0s 65us/step - loss: 0.0130\n",
      "Epoch 61/100\n",
      "1088/1088 [==============================] - 0s 64us/step - loss: 0.0129\n",
      "Epoch 62/100\n",
      "1088/1088 [==============================] - 0s 62us/step - loss: 0.0127\n",
      "Epoch 63/100\n",
      "1088/1088 [==============================] - 0s 68us/step - loss: 0.0124\n",
      "Epoch 64/100\n",
      "1088/1088 [==============================] - 0s 65us/step - loss: 0.0126\n",
      "Epoch 65/100\n",
      "1088/1088 [==============================] - 0s 64us/step - loss: 0.0123\n",
      "Epoch 66/100\n",
      "1088/1088 [==============================] - 0s 65us/step - loss: 0.0123\n",
      "Epoch 67/100\n",
      "1088/1088 [==============================] - 0s 75us/step - loss: 0.0122\n",
      "Epoch 68/100\n",
      "1088/1088 [==============================] - 0s 75us/step - loss: 0.0120\n",
      "Epoch 69/100\n",
      "1088/1088 [==============================] - 0s 64us/step - loss: 0.0119\n",
      "Epoch 70/100\n",
      "1088/1088 [==============================] - 0s 79us/step - loss: 0.0118\n",
      "Epoch 71/100\n",
      "1088/1088 [==============================] - 0s 74us/step - loss: 0.0118\n",
      "Epoch 72/100\n",
      "1088/1088 [==============================] - 0s 69us/step - loss: 0.0118\n",
      "Epoch 73/100\n",
      "1088/1088 [==============================] - 0s 76us/step - loss: 0.0117\n",
      "Epoch 74/100\n",
      "1088/1088 [==============================] - 0s 75us/step - loss: 0.0115\n",
      "Epoch 75/100\n",
      "1088/1088 [==============================] - 0s 72us/step - loss: 0.0115\n",
      "Epoch 76/100\n",
      "1088/1088 [==============================] - 0s 74us/step - loss: 0.0116\n",
      "Epoch 77/100\n",
      "1088/1088 [==============================] - 0s 59us/step - loss: 0.0114\n",
      "Epoch 78/100\n",
      "1088/1088 [==============================] - 0s 62us/step - loss: 0.0113\n",
      "Epoch 79/100\n",
      "1088/1088 [==============================] - 0s 70us/step - loss: 0.0113\n",
      "Epoch 80/100\n",
      "1088/1088 [==============================] - 0s 74us/step - loss: 0.0112\n",
      "Epoch 81/100\n",
      "1088/1088 [==============================] - 0s 87us/step - loss: 0.0111\n",
      "Epoch 82/100\n",
      "1088/1088 [==============================] - 0s 80us/step - loss: 0.0112\n",
      "Epoch 83/100\n",
      "1088/1088 [==============================] - 0s 84us/step - loss: 0.0111\n",
      "Epoch 84/100\n",
      "1088/1088 [==============================] - 0s 89us/step - loss: 0.0110\n",
      "Epoch 85/100\n",
      "1088/1088 [==============================] - 0s 91us/step - loss: 0.0109\n",
      "Epoch 86/100\n",
      "1088/1088 [==============================] - 0s 79us/step - loss: 0.0108\n",
      "Epoch 87/100\n",
      "1088/1088 [==============================] - ETA: 0s - loss: 0.011 - 0s 76us/step - loss: 0.0109\n",
      "Epoch 88/100\n",
      "1088/1088 [==============================] - 0s 65us/step - loss: 0.0109\n",
      "Epoch 89/100\n",
      "1088/1088 [==============================] - 0s 70us/step - loss: 0.0107\n",
      "Epoch 90/100\n",
      "1088/1088 [==============================] - 0s 62us/step - loss: 0.0108\n",
      "Epoch 91/100\n",
      "1088/1088 [==============================] - 0s 66us/step - loss: 0.0107\n",
      "Epoch 92/100\n",
      "1088/1088 [==============================] - 0s 69us/step - loss: 0.0107\n",
      "Epoch 93/100\n",
      "1088/1088 [==============================] - 0s 74us/step - loss: 0.0107\n",
      "Epoch 94/100\n",
      "1088/1088 [==============================] - 0s 62us/step - loss: 0.0106\n",
      "Epoch 95/100\n",
      "1088/1088 [==============================] - 0s 66us/step - loss: 0.0106\n",
      "Epoch 96/100\n",
      "1088/1088 [==============================] - 0s 67us/step - loss: 0.0104\n",
      "Epoch 97/100\n",
      "1088/1088 [==============================] - 0s 61us/step - loss: 0.0105\n",
      "Epoch 98/100\n",
      "1088/1088 [==============================] - 0s 63us/step - loss: 0.0105\n",
      "Epoch 99/100\n",
      "1088/1088 [==============================] - 0s 62us/step - loss: 0.0103\n",
      "Epoch 100/100\n",
      "1088/1088 [==============================] - 0s 61us/step - loss: 0.0103\n"
     ]
    },
    {
     "data": {
      "text/plain": [
       "<keras.callbacks.callbacks.History at 0x17e4cae0908>"
      ]
     },
     "execution_count": 33,
     "metadata": {},
     "output_type": "execute_result"
    }
   ],
   "source": [
    "scaler = StandardScaler()\n",
    "# fit scaler with train data\n",
    "scaler.fit(x_train)\n",
    "\n",
    "x_train_scaled = scaler.transform(x_train)\n",
    "x_test_scaled = scaler.transform(x_test)\n",
    "\n",
    "#train model\n",
    "model.fit(x_train_scaled, y_train, epochs=100)"
   ]
  },
  {
   "cell_type": "code",
   "execution_count": 38,
   "metadata": {
    "ExecuteTime": {
     "end_time": "2020-05-04T14:55:36.179367Z",
     "start_time": "2020-05-04T14:55:36.042309Z"
    }
   },
   "outputs": [
    {
     "name": "stdout",
     "output_type": "stream",
     "text": [
      "MSE on train set = 0.017268274301669412\n",
      "MSE on test set = 0.01577920863213138\n"
     ]
    }
   ],
   "source": [
    "#perform evaluation on train and test set\n",
    "y_train_predicted = model.predict(x_train)\n",
    "y_test_predicted = model.predict(x_test)\n",
    "\n",
    "MSE_train = mean_squared_error(y_train, y_train_predicted)\n",
    "MSE_test = mean_squared_error(y_test, y_test_predicted)\n",
    "\n",
    "print('MSE on train set = {}'.format(MSE_train))\n",
    "print('MSE on test set = {}'. format(MSE_test))"
   ]
  },
  {
   "cell_type": "code",
   "execution_count": 39,
   "metadata": {
    "ExecuteTime": {
     "end_time": "2020-05-04T14:55:40.043537Z",
     "start_time": "2020-05-04T14:55:39.813195Z"
    }
   },
   "outputs": [],
   "source": [
    "model.save('Red_wine')"
   ]
  },
  {
   "cell_type": "code",
   "execution_count": null,
   "metadata": {},
   "outputs": [],
   "source": []
  }
 ],
 "metadata": {
  "kernelspec": {
   "display_name": "Python 3",
   "language": "python",
   "name": "python3"
  },
  "language_info": {
   "codemirror_mode": {
    "name": "ipython",
    "version": 3
   },
   "file_extension": ".py",
   "mimetype": "text/x-python",
   "name": "python",
   "nbconvert_exporter": "python",
   "pygments_lexer": "ipython3",
   "version": "3.7.3"
  },
  "toc": {
   "base_numbering": 1,
   "nav_menu": {},
   "number_sections": true,
   "sideBar": true,
   "skip_h1_title": false,
   "title_cell": "Table of Contents",
   "title_sidebar": "Contents",
   "toc_cell": false,
   "toc_position": {},
   "toc_section_display": true,
   "toc_window_display": false
  }
 },
 "nbformat": 4,
 "nbformat_minor": 2
}

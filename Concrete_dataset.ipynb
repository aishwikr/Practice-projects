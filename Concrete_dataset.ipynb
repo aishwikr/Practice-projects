{
 "cells": [
  {
   "cell_type": "code",
   "execution_count": 2,
   "metadata": {
    "ExecuteTime": {
     "end_time": "2020-05-02T22:41:05.314954Z",
     "start_time": "2020-05-02T22:41:05.298955Z"
    }
   },
   "outputs": [],
   "source": [
    "import numpy as np\n",
    "import pandas as pd\n",
    "\n",
    "from sklearn.model_selection import train_test_split\n",
    "from sklearn.preprocessing import StandardScaler\n",
    "from sklearn.metrics import mean_squared_error\n",
    "\n",
    "import matplotlib.pyplot as plt\n",
    "%matplotlib inline\n",
    "import seaborn as sns\n",
    "\n",
    "from keras.models import Sequential\n",
    "from keras.layers import Dense\n",
    "from keras.wrappers.scikit_learn import KerasRegressor\n",
    "import warnings\n",
    "warnings.filterwarnings(\"ignore\", category=DeprecationWarning)"
   ]
  },
  {
   "cell_type": "code",
   "execution_count": 3,
   "metadata": {
    "ExecuteTime": {
     "end_time": "2020-05-02T23:14:04.309185Z",
     "start_time": "2020-05-02T23:14:04.250192Z"
    },
    "scrolled": true
   },
   "outputs": [
    {
     "data": {
      "text/html": [
       "<div>\n",
       "<style scoped>\n",
       "    .dataframe tbody tr th:only-of-type {\n",
       "        vertical-align: middle;\n",
       "    }\n",
       "\n",
       "    .dataframe tbody tr th {\n",
       "        vertical-align: top;\n",
       "    }\n",
       "\n",
       "    .dataframe thead th {\n",
       "        text-align: right;\n",
       "    }\n",
       "</style>\n",
       "<table border=\"1\" class=\"dataframe\">\n",
       "  <thead>\n",
       "    <tr style=\"text-align: right;\">\n",
       "      <th></th>\n",
       "      <th>Cement</th>\n",
       "      <th>Blast</th>\n",
       "      <th>Fly Ash</th>\n",
       "      <th>Water</th>\n",
       "      <th>Superplasticizer</th>\n",
       "      <th>CA</th>\n",
       "      <th>FA</th>\n",
       "      <th>Age</th>\n",
       "      <th>CMS</th>\n",
       "    </tr>\n",
       "  </thead>\n",
       "  <tbody>\n",
       "    <tr>\n",
       "      <th>0</th>\n",
       "      <td>540.0</td>\n",
       "      <td>0.0</td>\n",
       "      <td>0.0</td>\n",
       "      <td>162.0</td>\n",
       "      <td>2.5</td>\n",
       "      <td>1040.0</td>\n",
       "      <td>676.0</td>\n",
       "      <td>28</td>\n",
       "      <td>79.99</td>\n",
       "    </tr>\n",
       "    <tr>\n",
       "      <th>1</th>\n",
       "      <td>540.0</td>\n",
       "      <td>0.0</td>\n",
       "      <td>0.0</td>\n",
       "      <td>162.0</td>\n",
       "      <td>2.5</td>\n",
       "      <td>1055.0</td>\n",
       "      <td>676.0</td>\n",
       "      <td>28</td>\n",
       "      <td>61.89</td>\n",
       "    </tr>\n",
       "    <tr>\n",
       "      <th>2</th>\n",
       "      <td>332.5</td>\n",
       "      <td>142.5</td>\n",
       "      <td>0.0</td>\n",
       "      <td>228.0</td>\n",
       "      <td>0.0</td>\n",
       "      <td>932.0</td>\n",
       "      <td>594.0</td>\n",
       "      <td>270</td>\n",
       "      <td>40.27</td>\n",
       "    </tr>\n",
       "    <tr>\n",
       "      <th>3</th>\n",
       "      <td>332.5</td>\n",
       "      <td>142.5</td>\n",
       "      <td>0.0</td>\n",
       "      <td>228.0</td>\n",
       "      <td>0.0</td>\n",
       "      <td>932.0</td>\n",
       "      <td>594.0</td>\n",
       "      <td>365</td>\n",
       "      <td>41.05</td>\n",
       "    </tr>\n",
       "    <tr>\n",
       "      <th>4</th>\n",
       "      <td>198.6</td>\n",
       "      <td>132.4</td>\n",
       "      <td>0.0</td>\n",
       "      <td>192.0</td>\n",
       "      <td>0.0</td>\n",
       "      <td>978.4</td>\n",
       "      <td>825.5</td>\n",
       "      <td>360</td>\n",
       "      <td>44.30</td>\n",
       "    </tr>\n",
       "  </tbody>\n",
       "</table>\n",
       "</div>"
      ],
      "text/plain": [
       "   Cement  Blast  Fly Ash  Water  Superplasticizer      CA     FA  Age    CMS\n",
       "0   540.0    0.0      0.0  162.0               2.5  1040.0  676.0   28  79.99\n",
       "1   540.0    0.0      0.0  162.0               2.5  1055.0  676.0   28  61.89\n",
       "2   332.5  142.5      0.0  228.0               0.0   932.0  594.0  270  40.27\n",
       "3   332.5  142.5      0.0  228.0               0.0   932.0  594.0  365  41.05\n",
       "4   198.6  132.4      0.0  192.0               0.0   978.4  825.5  360  44.30"
      ]
     },
     "execution_count": 3,
     "metadata": {},
     "output_type": "execute_result"
    }
   ],
   "source": [
    "#load dataset\n",
    "df = pd.read_csv('D:/DSData/Concrete_Data.csv')\n",
    "df.head()"
   ]
  },
  {
   "cell_type": "code",
   "execution_count": 4,
   "metadata": {
    "ExecuteTime": {
     "end_time": "2020-05-02T23:14:08.357314Z",
     "start_time": "2020-05-02T23:14:08.349314Z"
    }
   },
   "outputs": [
    {
     "data": {
      "text/plain": [
       "Cement              float64\n",
       "Blast               float64\n",
       "Fly Ash             float64\n",
       "Water               float64\n",
       "Superplasticizer    float64\n",
       "CA                  float64\n",
       "FA                  float64\n",
       "Age                   int64\n",
       "CMS                 float64\n",
       "dtype: object"
      ]
     },
     "execution_count": 4,
     "metadata": {},
     "output_type": "execute_result"
    }
   ],
   "source": [
    "#datatype\n",
    "df.dtypes"
   ]
  },
  {
   "cell_type": "code",
   "execution_count": 5,
   "metadata": {
    "ExecuteTime": {
     "end_time": "2020-05-02T23:14:12.386774Z",
     "start_time": "2020-05-02T23:14:12.378772Z"
    }
   },
   "outputs": [
    {
     "name": "stdout",
     "output_type": "stream",
     "text": [
      "Cement              False\n",
      "Blast               False\n",
      "Fly Ash             False\n",
      "Water               False\n",
      "Superplasticizer    False\n",
      "CA                  False\n",
      "FA                  False\n",
      "Age                 False\n",
      "CMS                 False\n",
      "dtype: bool\n"
     ]
    }
   ],
   "source": [
    "#Checking for any null values\n",
    "print(df.isnull().any())"
   ]
  },
  {
   "cell_type": "code",
   "execution_count": 6,
   "metadata": {
    "ExecuteTime": {
     "end_time": "2020-05-02T23:14:15.522153Z",
     "start_time": "2020-05-02T23:14:15.515153Z"
    }
   },
   "outputs": [
    {
     "data": {
      "text/plain": [
       "(1030, 9)"
      ]
     },
     "execution_count": 6,
     "metadata": {},
     "output_type": "execute_result"
    }
   ],
   "source": [
    "df.shape"
   ]
  },
  {
   "cell_type": "code",
   "execution_count": 7,
   "metadata": {
    "ExecuteTime": {
     "end_time": "2020-05-02T23:14:17.698825Z",
     "start_time": "2020-05-02T23:14:17.621838Z"
    },
    "scrolled": true
   },
   "outputs": [
    {
     "data": {
      "text/html": [
       "<div>\n",
       "<style scoped>\n",
       "    .dataframe tbody tr th:only-of-type {\n",
       "        vertical-align: middle;\n",
       "    }\n",
       "\n",
       "    .dataframe tbody tr th {\n",
       "        vertical-align: top;\n",
       "    }\n",
       "\n",
       "    .dataframe thead th {\n",
       "        text-align: right;\n",
       "    }\n",
       "</style>\n",
       "<table border=\"1\" class=\"dataframe\">\n",
       "  <thead>\n",
       "    <tr style=\"text-align: right;\">\n",
       "      <th></th>\n",
       "      <th>Cement</th>\n",
       "      <th>Blast</th>\n",
       "      <th>Fly Ash</th>\n",
       "      <th>Water</th>\n",
       "      <th>Superplasticizer</th>\n",
       "      <th>CA</th>\n",
       "      <th>FA</th>\n",
       "      <th>Age</th>\n",
       "      <th>CMS</th>\n",
       "    </tr>\n",
       "  </thead>\n",
       "  <tbody>\n",
       "    <tr>\n",
       "      <th>count</th>\n",
       "      <td>1030.000000</td>\n",
       "      <td>1030.000000</td>\n",
       "      <td>1030.000000</td>\n",
       "      <td>1030.000000</td>\n",
       "      <td>1030.000000</td>\n",
       "      <td>1030.000000</td>\n",
       "      <td>1030.000000</td>\n",
       "      <td>1030.000000</td>\n",
       "      <td>1030.000000</td>\n",
       "    </tr>\n",
       "    <tr>\n",
       "      <th>mean</th>\n",
       "      <td>281.167864</td>\n",
       "      <td>73.895825</td>\n",
       "      <td>54.188350</td>\n",
       "      <td>181.567282</td>\n",
       "      <td>6.204660</td>\n",
       "      <td>972.918932</td>\n",
       "      <td>773.580485</td>\n",
       "      <td>45.662136</td>\n",
       "      <td>35.817961</td>\n",
       "    </tr>\n",
       "    <tr>\n",
       "      <th>std</th>\n",
       "      <td>104.506364</td>\n",
       "      <td>86.279342</td>\n",
       "      <td>63.997004</td>\n",
       "      <td>21.354219</td>\n",
       "      <td>5.973841</td>\n",
       "      <td>77.753954</td>\n",
       "      <td>80.175980</td>\n",
       "      <td>63.169912</td>\n",
       "      <td>16.705742</td>\n",
       "    </tr>\n",
       "    <tr>\n",
       "      <th>min</th>\n",
       "      <td>102.000000</td>\n",
       "      <td>0.000000</td>\n",
       "      <td>0.000000</td>\n",
       "      <td>121.800000</td>\n",
       "      <td>0.000000</td>\n",
       "      <td>801.000000</td>\n",
       "      <td>594.000000</td>\n",
       "      <td>1.000000</td>\n",
       "      <td>2.330000</td>\n",
       "    </tr>\n",
       "    <tr>\n",
       "      <th>25%</th>\n",
       "      <td>192.375000</td>\n",
       "      <td>0.000000</td>\n",
       "      <td>0.000000</td>\n",
       "      <td>164.900000</td>\n",
       "      <td>0.000000</td>\n",
       "      <td>932.000000</td>\n",
       "      <td>730.950000</td>\n",
       "      <td>7.000000</td>\n",
       "      <td>23.710000</td>\n",
       "    </tr>\n",
       "    <tr>\n",
       "      <th>50%</th>\n",
       "      <td>272.900000</td>\n",
       "      <td>22.000000</td>\n",
       "      <td>0.000000</td>\n",
       "      <td>185.000000</td>\n",
       "      <td>6.400000</td>\n",
       "      <td>968.000000</td>\n",
       "      <td>779.500000</td>\n",
       "      <td>28.000000</td>\n",
       "      <td>34.445000</td>\n",
       "    </tr>\n",
       "    <tr>\n",
       "      <th>75%</th>\n",
       "      <td>350.000000</td>\n",
       "      <td>142.950000</td>\n",
       "      <td>118.300000</td>\n",
       "      <td>192.000000</td>\n",
       "      <td>10.200000</td>\n",
       "      <td>1029.400000</td>\n",
       "      <td>824.000000</td>\n",
       "      <td>56.000000</td>\n",
       "      <td>46.135000</td>\n",
       "    </tr>\n",
       "    <tr>\n",
       "      <th>max</th>\n",
       "      <td>540.000000</td>\n",
       "      <td>359.400000</td>\n",
       "      <td>200.100000</td>\n",
       "      <td>247.000000</td>\n",
       "      <td>32.200000</td>\n",
       "      <td>1145.000000</td>\n",
       "      <td>992.600000</td>\n",
       "      <td>365.000000</td>\n",
       "      <td>82.600000</td>\n",
       "    </tr>\n",
       "  </tbody>\n",
       "</table>\n",
       "</div>"
      ],
      "text/plain": [
       "            Cement        Blast      Fly Ash        Water  Superplasticizer  \\\n",
       "count  1030.000000  1030.000000  1030.000000  1030.000000       1030.000000   \n",
       "mean    281.167864    73.895825    54.188350   181.567282          6.204660   \n",
       "std     104.506364    86.279342    63.997004    21.354219          5.973841   \n",
       "min     102.000000     0.000000     0.000000   121.800000          0.000000   \n",
       "25%     192.375000     0.000000     0.000000   164.900000          0.000000   \n",
       "50%     272.900000    22.000000     0.000000   185.000000          6.400000   \n",
       "75%     350.000000   142.950000   118.300000   192.000000         10.200000   \n",
       "max     540.000000   359.400000   200.100000   247.000000         32.200000   \n",
       "\n",
       "                CA           FA          Age          CMS  \n",
       "count  1030.000000  1030.000000  1030.000000  1030.000000  \n",
       "mean    972.918932   773.580485    45.662136    35.817961  \n",
       "std      77.753954    80.175980    63.169912    16.705742  \n",
       "min     801.000000   594.000000     1.000000     2.330000  \n",
       "25%     932.000000   730.950000     7.000000    23.710000  \n",
       "50%     968.000000   779.500000    28.000000    34.445000  \n",
       "75%    1029.400000   824.000000    56.000000    46.135000  \n",
       "max    1145.000000   992.600000   365.000000    82.600000  "
      ]
     },
     "execution_count": 7,
     "metadata": {},
     "output_type": "execute_result"
    }
   ],
   "source": [
    "df.describe()"
   ]
  },
  {
   "cell_type": "markdown",
   "metadata": {},
   "source": [
    "# Univariate Analysis"
   ]
  },
  {
   "cell_type": "code",
   "execution_count": 8,
   "metadata": {
    "ExecuteTime": {
     "end_time": "2020-05-02T23:14:21.176371Z",
     "start_time": "2020-05-02T23:14:21.164369Z"
    }
   },
   "outputs": [
    {
     "data": {
      "text/plain": [
       "362.6    20\n",
       "425.0    20\n",
       "251.4    15\n",
       "310.0    14\n",
       "446.0    14\n",
       "Name: Cement, dtype: int64"
      ]
     },
     "execution_count": 8,
     "metadata": {},
     "output_type": "execute_result"
    }
   ],
   "source": [
    "df.Cement.value_counts().head()"
   ]
  },
  {
   "cell_type": "code",
   "execution_count": 20,
   "metadata": {
    "ExecuteTime": {
     "end_time": "2020-05-02T23:15:18.752612Z",
     "start_time": "2020-05-02T23:15:18.473485Z"
    }
   },
   "outputs": [
    {
     "data": {
      "image/png": "[encoded data removed]",
      "text/plain": [
       "<Figure size 432x288 with 1 Axes>"
      ]
     },
     "metadata": {
      "needs_background": "light"
     },
     "output_type": "display_data"
    }
   ],
   "source": [
    "sns.distplot(df['Cement'])\n",
    "plt.show()"
   ]
  },
  {
   "cell_type": "code",
   "execution_count": 21,
   "metadata": {
    "ExecuteTime": {
     "end_time": "2020-05-02T23:15:24.027649Z",
     "start_time": "2020-05-02T23:15:24.013645Z"
    }
   },
   "outputs": [
    {
     "data": {
      "text/plain": [
       "33.40    6\n",
       "71.30    4\n",
       "41.05    4\n",
       "31.35    4\n",
       "23.52    4\n",
       "Name: CMS, dtype: int64"
      ]
     },
     "execution_count": 21,
     "metadata": {},
     "output_type": "execute_result"
    }
   ],
   "source": [
    "df.CMS.value_counts().head()"
   ]
  },
  {
   "cell_type": "code",
   "execution_count": 23,
   "metadata": {
    "ExecuteTime": {
     "end_time": "2020-05-02T23:15:29.292217Z",
     "start_time": "2020-05-02T23:15:29.033979Z"
    }
   },
   "outputs": [
    {
     "data": {
      "image/png": "[encoded data removed]",
      "text/plain": [
       "<Figure size 432x288 with 1 Axes>"
      ]
     },
     "metadata": {
      "needs_background": "light"
     },
     "output_type": "display_data"
    }
   ],
   "source": [
    "sns.distplot(df['CMS'])\n",
    "plt.show()"
   ]
  },
  {
   "cell_type": "markdown",
   "metadata": {},
   "source": [
    "# Bivariate analysis"
   ]
  },
  {
   "cell_type": "code",
   "execution_count": 25,
   "metadata": {
    "ExecuteTime": {
     "end_time": "2020-05-02T23:15:43.527259Z",
     "start_time": "2020-05-02T23:15:42.961348Z"
    }
   },
   "outputs": [
    {
     "data": {
      "text/plain": [
       "<matplotlib.axes._subplots.AxesSubplot at 0x17e1c743da0>"
      ]
     },
     "execution_count": 25,
     "metadata": {},
     "output_type": "execute_result"
    },
    {
     "data": {
      "image/png": "[encoded data removed]",
      "text/plain": [
       "<Figure size 432x288 with 1 Axes>"
      ]
     },
     "metadata": {
      "needs_background": "light"
     },
     "output_type": "display_data"
    }
   ],
   "source": [
    "sns.scatterplot(x='Cement', y='CMS', hue='CMS', data=df)"
   ]
  },
  {
   "cell_type": "code",
   "execution_count": 76,
   "metadata": {
    "ExecuteTime": {
     "end_time": "2020-05-03T12:47:20.136899Z",
     "start_time": "2020-05-03T12:47:20.114904Z"
    }
   },
   "outputs": [
    {
     "data": {
      "text/html": [
       "<div>\n",
       "<style scoped>\n",
       "    .dataframe tbody tr th:only-of-type {\n",
       "        vertical-align: middle;\n",
       "    }\n",
       "\n",
       "    .dataframe tbody tr th {\n",
       "        vertical-align: top;\n",
       "    }\n",
       "\n",
       "    .dataframe thead th {\n",
       "        text-align: right;\n",
       "    }\n",
       "</style>\n",
       "<table border=\"1\" class=\"dataframe\">\n",
       "  <thead>\n",
       "    <tr style=\"text-align: right;\">\n",
       "      <th></th>\n",
       "      <th>CMS</th>\n",
       "    </tr>\n",
       "    <tr>\n",
       "      <th>Age</th>\n",
       "      <th></th>\n",
       "    </tr>\n",
       "  </thead>\n",
       "  <tbody>\n",
       "    <tr>\n",
       "      <th>91</th>\n",
       "      <td>69.808636</td>\n",
       "    </tr>\n",
       "    <tr>\n",
       "      <th>56</th>\n",
       "      <td>51.890220</td>\n",
       "    </tr>\n",
       "    <tr>\n",
       "      <th>270</th>\n",
       "      <td>51.272308</td>\n",
       "    </tr>\n",
       "    <tr>\n",
       "      <th>100</th>\n",
       "      <td>47.668846</td>\n",
       "    </tr>\n",
       "    <tr>\n",
       "      <th>365</th>\n",
       "      <td>43.557857</td>\n",
       "    </tr>\n",
       "  </tbody>\n",
       "</table>\n",
       "</div>"
      ],
      "text/plain": [
       "           CMS\n",
       "Age           \n",
       "91   69.808636\n",
       "56   51.890220\n",
       "270  51.272308\n",
       "100  47.668846\n",
       "365  43.557857"
      ]
     },
     "execution_count": 76,
     "metadata": {},
     "output_type": "execute_result"
    }
   ],
   "source": [
    "#which Age has highest average Strength\n",
    "df.groupby(['Age']).agg({'CMS': 'mean'}).sort_values(by= 'CMS', ascending = False).head()"
   ]
  },
  {
   "cell_type": "markdown",
   "metadata": {},
   "source": [
    "# Heatmap"
   ]
  },
  {
   "cell_type": "code",
   "execution_count": 31,
   "metadata": {
    "ExecuteTime": {
     "end_time": "2020-05-02T23:15:57.905889Z",
     "start_time": "2020-05-02T23:15:57.525936Z"
    }
   },
   "outputs": [
    {
     "data": {
      "image/png": "[encoded data removed]",
      "text/plain": [
       "<Figure size 432x288 with 2 Axes>"
      ]
     },
     "metadata": {
      "needs_background": "light"
     },
     "output_type": "display_data"
    }
   ],
   "source": [
    " heat_map = sns.heatmap(df.corr())"
   ]
  },
  {
   "cell_type": "code",
   "execution_count": 32,
   "metadata": {
    "ExecuteTime": {
     "end_time": "2020-05-02T23:16:01.595420Z",
     "start_time": "2020-05-02T23:16:01.189480Z"
    }
   },
   "outputs": [
    {
     "data": {
      "text/plain": [
       "<matplotlib.axes._subplots.AxesSubplot at 0x17e1c8d1eb8>"
      ]
     },
     "execution_count": 32,
     "metadata": {},
     "output_type": "execute_result"
    },
    {
     "data": {
      "image/png": "[encoded data removed]",
      "text/plain": [
       "<Figure size 1080x432 with 2 Axes>"
      ]
     },
     "metadata": {
      "needs_background": "light"
     },
     "output_type": "display_data"
    }
   ],
   "source": [
    "plt.figure(figsize=(15,6))\n",
    "h=pd.pivot_table(df,columns='Age',values=[\"CMS\"])\n",
    "sns.heatmap(h,cmap=['skyblue','red','green'],linewidths=0.05)"
   ]
  },
  {
   "cell_type": "markdown",
   "metadata": {},
   "source": [
    "# Removing outliers"
   ]
  },
  {
   "cell_type": "code",
   "execution_count": 73,
   "metadata": {
    "ExecuteTime": {
     "end_time": "2020-05-02T23:42:54.580764Z",
     "start_time": "2020-05-02T23:42:54.370796Z"
    }
   },
   "outputs": [
    {
     "data": {
      "text/plain": [
       "<matplotlib.axes._subplots.AxesSubplot at 0x17e1eca7390>"
      ]
     },
     "execution_count": 73,
     "metadata": {},
     "output_type": "execute_result"
    },
    {
     "data": {
      "image/png": "[encoded data removed]",
      "text/plain": [
       "<Figure size 432x288 with 1 Axes>"
      ]
     },
     "metadata": {
      "needs_background": "light"
     },
     "output_type": "display_data"
    }
   ],
   "source": [
    "sns.boxplot(df['CMS'])"
   ]
  },
  {
   "cell_type": "code",
   "execution_count": 35,
   "metadata": {
    "ExecuteTime": {
     "end_time": "2020-05-02T23:16:13.230113Z",
     "start_time": "2020-05-02T23:16:13.220113Z"
    },
    "scrolled": true
   },
   "outputs": [
    {
     "name": "stdout",
     "output_type": "stream",
     "text": [
      "(array([  2,   3,   4,   6,  12,  17,  24,  25,  26,  30,  31,  33,  34,\n",
      "        35,  41,  42,  56,  60,  61,  63,  65,  66,  76,  79,  99, 102,\n",
      "       122, 125, 145, 148, 168, 171, 553, 559, 571, 584, 604, 610, 616,\n",
      "       620, 622, 756, 769, 792, 798, 814, 820, 873, 936], dtype=int64), array([7, 7, 7, 7, 7, 7, 7, 7, 7, 7, 7, 7, 7, 7, 7, 7, 7, 7, 7, 7, 7, 7,\n",
      "       4, 4, 4, 4, 4, 4, 4, 4, 4, 4, 1, 1, 1, 1, 7, 7, 7, 7, 7, 7, 7, 7,\n",
      "       7, 7, 7, 3, 3], dtype=int64))\n"
     ]
    }
   ],
   "source": [
    "#z-score\n",
    "from scipy import stats\n",
    "z = np.abs(stats.zscore(df))\n",
    "threshold = 3\n",
    "print(np.where(z > 3)) #first array contains list of rows and second array contains list of columns"
   ]
  },
  {
   "cell_type": "code",
   "execution_count": 36,
   "metadata": {
    "ExecuteTime": {
     "end_time": "2020-05-02T23:16:15.266745Z",
     "start_time": "2020-05-02T23:16:15.247748Z"
    }
   },
   "outputs": [
    {
     "name": "stdout",
     "output_type": "stream",
     "text": [
      "Cement              157.625\n",
      "Blast               142.950\n",
      "Fly Ash             118.300\n",
      "Water                27.100\n",
      "Superplasticizer     10.200\n",
      "CA                   97.400\n",
      "FA                   93.050\n",
      "Age                  49.000\n",
      "CMS                  22.425\n",
      "dtype: float64\n"
     ]
    }
   ],
   "source": [
    "#Inter quartile range\n",
    "Q1 = df.quantile(0.25)\n",
    "Q3 = df.quantile(0.75)\n",
    "IQR = Q3 - Q1\n",
    "print(IQR)"
   ]
  },
  {
   "cell_type": "code",
   "execution_count": 38,
   "metadata": {
    "ExecuteTime": {
     "end_time": "2020-05-02T23:16:22.315653Z",
     "start_time": "2020-05-02T23:16:22.263659Z"
    }
   },
   "outputs": [
    {
     "name": "stdout",
     "output_type": "stream",
     "text": [
      "      Cement  Blast  Fly Ash  Water  Superplasticizer     CA     FA    Age  \\\n",
      "0      False  False    False  False             False  False  False  False   \n",
      "1      False  False    False  False             False  False  False  False   \n",
      "2      False  False    False  False             False  False  False   True   \n",
      "3      False  False    False  False             False  False  False   True   \n",
      "4      False  False    False  False             False  False  False   True   \n",
      "5      False  False    False  False             False  False  False  False   \n",
      "6      False  False    False  False             False  False  False   True   \n",
      "7      False  False    False  False             False  False  False  False   \n",
      "8      False  False    False  False             False  False  False  False   \n",
      "9      False  False    False  False             False  False  False  False   \n",
      "10     False  False    False  False             False  False  False  False   \n",
      "11     False  False    False  False             False  False  False  False   \n",
      "12     False  False    False  False             False  False  False   True   \n",
      "13     False  False    False  False             False  False  False  False   \n",
      "14     False  False    False  False             False  False  False  False   \n",
      "15     False  False    False  False             False  False  False  False   \n",
      "16     False  False    False  False             False  False  False  False   \n",
      "17     False  False    False  False             False  False  False   True   \n",
      "18     False  False    False  False             False  False  False  False   \n",
      "19     False  False    False  False             False  False  False   True   \n",
      "20     False  False    False  False             False  False  False   True   \n",
      "21     False  False    False  False             False  False  False  False   \n",
      "22     False  False    False  False             False  False  False  False   \n",
      "23     False  False    False  False             False  False  False   True   \n",
      "24     False  False    False  False             False  False  False   True   \n",
      "25     False  False    False  False             False  False  False   True   \n",
      "26     False  False    False  False             False  False  False   True   \n",
      "27     False  False    False  False             False  False  False   True   \n",
      "28     False  False    False  False             False  False  False  False   \n",
      "29     False  False    False  False             False  False  False  False   \n",
      "...      ...    ...      ...    ...               ...    ...    ...    ...   \n",
      "1000   False  False    False  False             False  False  False  False   \n",
      "1001   False  False    False  False             False  False  False  False   \n",
      "1002   False  False    False  False             False  False  False  False   \n",
      "1003   False  False    False  False             False  False  False  False   \n",
      "1004   False  False    False  False             False  False  False  False   \n",
      "1005   False  False    False  False             False  False  False  False   \n",
      "1006   False  False    False  False             False  False  False  False   \n",
      "1007   False  False    False  False             False  False  False  False   \n",
      "1008   False  False    False  False             False  False  False  False   \n",
      "1009   False  False    False  False             False  False  False  False   \n",
      "1010   False  False    False  False             False  False  False  False   \n",
      "1011   False  False    False  False             False  False  False  False   \n",
      "1012   False  False    False  False             False  False  False  False   \n",
      "1013   False  False    False  False             False  False  False  False   \n",
      "1014   False  False    False  False             False  False  False  False   \n",
      "1015   False  False    False  False             False  False  False  False   \n",
      "1016   False  False    False  False             False  False  False  False   \n",
      "1017   False  False    False  False             False  False  False  False   \n",
      "1018   False  False    False  False             False  False  False  False   \n",
      "1019   False  False    False   True             False  False  False  False   \n",
      "1020   False  False    False  False             False  False  False  False   \n",
      "1021   False  False    False  False             False  False  False  False   \n",
      "1022   False  False    False  False             False  False  False  False   \n",
      "1023   False  False    False  False             False  False  False  False   \n",
      "1024   False  False    False  False             False  False  False  False   \n",
      "1025   False  False    False  False             False  False  False  False   \n",
      "1026   False  False    False  False             False  False  False  False   \n",
      "1027   False  False    False  False             False  False  False  False   \n",
      "1028   False  False    False  False             False  False  False  False   \n",
      "1029   False  False    False  False             False  False  False  False   \n",
      "\n",
      "        CMS  \n",
      "0      True  \n",
      "1     False  \n",
      "2     False  \n",
      "3     False  \n",
      "4     False  \n",
      "5     False  \n",
      "6     False  \n",
      "7     False  \n",
      "8     False  \n",
      "9     False  \n",
      "10    False  \n",
      "11    False  \n",
      "12    False  \n",
      "13    False  \n",
      "14    False  \n",
      "15    False  \n",
      "16    False  \n",
      "17    False  \n",
      "18    False  \n",
      "19    False  \n",
      "20    False  \n",
      "21    False  \n",
      "22    False  \n",
      "23    False  \n",
      "24    False  \n",
      "25    False  \n",
      "26    False  \n",
      "27    False  \n",
      "28    False  \n",
      "29    False  \n",
      "...     ...  \n",
      "1000  False  \n",
      "1001  False  \n",
      "1002  False  \n",
      "1003  False  \n",
      "1004  False  \n",
      "1005  False  \n",
      "1006  False  \n",
      "1007  False  \n",
      "1008  False  \n",
      "1009  False  \n",
      "1010  False  \n",
      "1011  False  \n",
      "1012  False  \n",
      "1013  False  \n",
      "1014  False  \n",
      "1015  False  \n",
      "1016  False  \n",
      "1017  False  \n",
      "1018  False  \n",
      "1019  False  \n",
      "1020  False  \n",
      "1021  False  \n",
      "1022  False  \n",
      "1023  False  \n",
      "1024  False  \n",
      "1025  False  \n",
      "1026  False  \n",
      "1027  False  \n",
      "1028  False  \n",
      "1029  False  \n",
      "\n",
      "[1030 rows x 9 columns]\n"
     ]
    }
   ],
   "source": [
    "print((df < (Q1 - 1.5 * IQR)) | (df > (Q3 + 1.5 * IQR)))"
   ]
  },
  {
   "cell_type": "code",
   "execution_count": 48,
   "metadata": {
    "ExecuteTime": {
     "end_time": "2020-05-02T23:27:26.252093Z",
     "start_time": "2020-05-02T23:27:26.245093Z"
    }
   },
   "outputs": [],
   "source": [
    "df1 = df[(z < 3).all(axis=1)] #outliers with z-score >3 are removed"
   ]
  },
  {
   "cell_type": "code",
   "execution_count": 49,
   "metadata": {
    "ExecuteTime": {
     "end_time": "2020-05-02T23:27:30.438782Z",
     "start_time": "2020-05-02T23:27:30.431783Z"
    }
   },
   "outputs": [
    {
     "data": {
      "text/plain": [
       "(981, 9)"
      ]
     },
     "execution_count": 49,
     "metadata": {},
     "output_type": "execute_result"
    }
   ],
   "source": [
    "df1.shape"
   ]
  },
  {
   "cell_type": "markdown",
   "metadata": {},
   "source": [
    "# Modeling"
   ]
  },
  {
   "cell_type": "code",
   "execution_count": 61,
   "metadata": {
    "ExecuteTime": {
     "end_time": "2020-05-02T23:30:44.080930Z",
     "start_time": "2020-05-02T23:30:44.074935Z"
    }
   },
   "outputs": [],
   "source": [
    "#split dataset in target values and features\n",
    "y = df1.iloc[:, -1].values\n",
    "X = df1.iloc[:, :-1].values"
   ]
  },
  {
   "cell_type": "code",
   "execution_count": 62,
   "metadata": {
    "ExecuteTime": {
     "end_time": "2020-05-02T23:30:46.501369Z",
     "start_time": "2020-05-02T23:30:46.494368Z"
    }
   },
   "outputs": [],
   "source": [
    "#split dataset into train and test (70-30)\n",
    "\n",
    "X_train, X_test, y_train, y_test = train_test_split(X, y, test_size=0.3)"
   ]
  },
  {
   "cell_type": "code",
   "execution_count": 63,
   "metadata": {
    "ExecuteTime": {
     "end_time": "2020-05-02T23:31:02.199499Z",
     "start_time": "2020-05-02T23:31:02.095478Z"
    }
   },
   "outputs": [],
   "source": [
    "#define model with 3 hidden layers of 20 nodes and relu as activation function\n",
    "# and use MSE as loss metrics and adam as optimizer\n",
    "model = Sequential()\n",
    "model.add(Dense(20, activation='relu', input_dim=8))\n",
    "model.add(Dense(20, activation='relu'))\n",
    "model.add(Dense(20, activation='relu'))\n",
    "model.add(Dense(1, activation='linear'))\n",
    "# Compile model\n",
    "model.compile(loss='mean_squared_error', optimizer='adam')"
   ]
  },
  {
   "cell_type": "code",
   "execution_count": 64,
   "metadata": {
    "ExecuteTime": {
     "end_time": "2020-05-02T23:31:12.771981Z",
     "start_time": "2020-05-02T23:31:06.026032Z"
    }
   },
   "outputs": [
    {
     "name": "stdout",
     "output_type": "stream",
     "text": [
      "Epoch 1/100\n",
      "686/686 [==============================] - 0s 366us/step - loss: 460.0806\n",
      "Epoch 2/100\n",
      "686/686 [==============================] - 0s 93us/step - loss: 328.3951\n",
      "Epoch 3/100\n",
      "686/686 [==============================] - 0s 83us/step - loss: 277.1964\n",
      "Epoch 4/100\n",
      "686/686 [==============================] - 0s 76us/step - loss: 241.5594\n",
      "Epoch 5/100\n",
      "686/686 [==============================] - 0s 79us/step - loss: 211.7376\n",
      "Epoch 6/100\n",
      "686/686 [==============================] - 0s 95us/step - loss: 183.6204\n",
      "Epoch 7/100\n",
      "686/686 [==============================] - 0s 93us/step - loss: 154.9033\n",
      "Epoch 8/100\n",
      "686/686 [==============================] - 0s 87us/step - loss: 140.5379\n",
      "Epoch 9/100\n",
      "686/686 [==============================] - 0s 93us/step - loss: 121.3668\n",
      "Epoch 10/100\n",
      "686/686 [==============================] - 0s 87us/step - loss: 106.5260\n",
      "Epoch 11/100\n",
      "686/686 [==============================] - 0s 96us/step - loss: 92.6671\n",
      "Epoch 12/100\n",
      "686/686 [==============================] - 0s 87us/step - loss: 93.9842\n",
      "Epoch 13/100\n",
      "686/686 [==============================] - 0s 77us/step - loss: 86.9062\n",
      "Epoch 14/100\n",
      "686/686 [==============================] - 0s 95us/step - loss: 82.1185\n",
      "Epoch 15/100\n",
      "686/686 [==============================] - 0s 101us/step - loss: 83.9372\n",
      "Epoch 16/100\n",
      "686/686 [==============================] - 0s 101us/step - loss: 81.5187\n",
      "Epoch 17/100\n",
      "686/686 [==============================] - 0s 90us/step - loss: 79.9624\n",
      "Epoch 18/100\n",
      "686/686 [==============================] - 0s 87us/step - loss: 82.4207\n",
      "Epoch 19/100\n",
      "686/686 [==============================] - 0s 79us/step - loss: 78.3849\n",
      "Epoch 20/100\n",
      "686/686 [==============================] - 0s 74us/step - loss: 78.5864\n",
      "Epoch 21/100\n",
      "686/686 [==============================] - 0s 87us/step - loss: 82.8228\n",
      "Epoch 22/100\n",
      "686/686 [==============================] - 0s 79us/step - loss: 89.5591\n",
      "Epoch 23/100\n",
      "686/686 [==============================] - 0s 80us/step - loss: 81.9757\n",
      "Epoch 24/100\n",
      "686/686 [==============================] - 0s 87us/step - loss: 76.8128\n",
      "Epoch 25/100\n",
      "686/686 [==============================] - 0s 105us/step - loss: 76.4598\n",
      "Epoch 26/100\n",
      "686/686 [==============================] - 0s 92us/step - loss: 77.5615\n",
      "Epoch 27/100\n",
      "686/686 [==============================] - 0s 96us/step - loss: 81.7264\n",
      "Epoch 28/100\n",
      "686/686 [==============================] - 0s 102us/step - loss: 79.3267\n",
      "Epoch 29/100\n",
      "686/686 [==============================] - 0s 89us/step - loss: 83.4743\n",
      "Epoch 30/100\n",
      "686/686 [==============================] - 0s 93us/step - loss: 75.9679\n",
      "Epoch 31/100\n",
      "686/686 [==============================] - 0s 80us/step - loss: 73.9174\n",
      "Epoch 32/100\n",
      "686/686 [==============================] - 0s 86us/step - loss: 76.6941\n",
      "Epoch 33/100\n",
      "686/686 [==============================] - 0s 80us/step - loss: 72.8045\n",
      "Epoch 34/100\n",
      "686/686 [==============================] - ETA: 0s - loss: 74.07 - 0s 87us/step - loss: 73.4538\n",
      "Epoch 35/100\n",
      "686/686 [==============================] - 0s 79us/step - loss: 72.7176\n",
      "Epoch 36/100\n",
      "686/686 [==============================] - 0s 73us/step - loss: 73.1184\n",
      "Epoch 37/100\n",
      "686/686 [==============================] - 0s 76us/step - loss: 72.5388\n",
      "Epoch 38/100\n",
      "686/686 [==============================] - 0s 73us/step - loss: 74.0054\n",
      "Epoch 39/100\n",
      "686/686 [==============================] - 0s 79us/step - loss: 71.5815\n",
      "Epoch 40/100\n",
      "686/686 [==============================] - 0s 74us/step - loss: 73.9715\n",
      "Epoch 41/100\n",
      "686/686 [==============================] - 0s 76us/step - loss: 72.2173\n",
      "Epoch 42/100\n",
      "686/686 [==============================] - 0s 73us/step - loss: 69.7926\n",
      "Epoch 43/100\n",
      "686/686 [==============================] - 0s 77us/step - loss: 67.7067\n",
      "Epoch 44/100\n",
      "686/686 [==============================] - 0s 76us/step - loss: 68.6763\n",
      "Epoch 45/100\n",
      "686/686 [==============================] - 0s 77us/step - loss: 69.1166\n",
      "Epoch 46/100\n",
      "686/686 [==============================] - 0s 93us/step - loss: 65.7502\n",
      "Epoch 47/100\n",
      "686/686 [==============================] - 0s 93us/step - loss: 78.4217\n",
      "Epoch 48/100\n",
      "686/686 [==============================] - 0s 87us/step - loss: 64.3435\n",
      "Epoch 49/100\n",
      "686/686 [==============================] - 0s 79us/step - loss: 62.6024\n",
      "Epoch 50/100\n",
      "686/686 [==============================] - 0s 92us/step - loss: 65.5661\n",
      "Epoch 51/100\n",
      "686/686 [==============================] - 0s 79us/step - loss: 67.4993\n",
      "Epoch 52/100\n",
      "686/686 [==============================] - 0s 82us/step - loss: 60.4321\n",
      "Epoch 53/100\n",
      "686/686 [==============================] - 0s 80us/step - loss: 62.2587\n",
      "Epoch 54/100\n",
      "686/686 [==============================] - 0s 87us/step - loss: 69.7333\n",
      "Epoch 55/100\n",
      "686/686 [==============================] - 0s 73us/step - loss: 63.2331\n",
      "Epoch 56/100\n",
      "686/686 [==============================] - 0s 71us/step - loss: 58.6537\n",
      "Epoch 57/100\n",
      "686/686 [==============================] - 0s 66us/step - loss: 56.3813\n",
      "Epoch 58/100\n",
      "686/686 [==============================] - 0s 63us/step - loss: 56.0138\n",
      "Epoch 59/100\n",
      "686/686 [==============================] - 0s 67us/step - loss: 64.7117\n",
      "Epoch 60/100\n",
      "686/686 [==============================] - 0s 63us/step - loss: 58.1848\n",
      "Epoch 61/100\n",
      "686/686 [==============================] - 0s 74us/step - loss: 55.4909\n",
      "Epoch 62/100\n",
      "686/686 [==============================] - 0s 67us/step - loss: 59.6662\n",
      "Epoch 63/100\n",
      "686/686 [==============================] - 0s 67us/step - loss: 71.5112\n",
      "Epoch 64/100\n",
      "686/686 [==============================] - 0s 71us/step - loss: 70.2954\n",
      "Epoch 65/100\n",
      "686/686 [==============================] - 0s 70us/step - loss: 52.0584\n",
      "Epoch 66/100\n",
      "686/686 [==============================] - 0s 67us/step - loss: 49.9137\n",
      "Epoch 67/100\n",
      "686/686 [==============================] - 0s 76us/step - loss: 48.3016\n",
      "Epoch 68/100\n",
      "686/686 [==============================] - 0s 67us/step - loss: 47.6849\n",
      "Epoch 69/100\n",
      "686/686 [==============================] - 0s 70us/step - loss: 46.0631\n",
      "Epoch 70/100\n",
      "686/686 [==============================] - 0s 70us/step - loss: 46.7318\n",
      "Epoch 71/100\n",
      "686/686 [==============================] - 0s 70us/step - loss: 54.0723\n",
      "Epoch 72/100\n",
      "686/686 [==============================] - 0s 76us/step - loss: 44.3456\n",
      "Epoch 73/100\n",
      "686/686 [==============================] - 0s 96us/step - loss: 46.1355\n",
      "Epoch 74/100\n",
      "686/686 [==============================] - 0s 99us/step - loss: 48.7108\n",
      "Epoch 75/100\n",
      "686/686 [==============================] - 0s 105us/step - loss: 50.0704\n",
      "Epoch 76/100\n",
      "686/686 [==============================] - 0s 95us/step - loss: 43.9826\n",
      "Epoch 77/100\n",
      "686/686 [==============================] - 0s 99us/step - loss: 43.8125\n",
      "Epoch 78/100\n",
      "686/686 [==============================] - 0s 96us/step - loss: 41.8843\n",
      "Epoch 79/100\n",
      "686/686 [==============================] - 0s 93us/step - loss: 49.0851\n",
      "Epoch 80/100\n",
      "686/686 [==============================] - 0s 77us/step - loss: 41.8314\n",
      "Epoch 81/100\n",
      "686/686 [==============================] - 0s 73us/step - loss: 42.6233\n",
      "Epoch 82/100\n",
      "686/686 [==============================] - 0s 70us/step - loss: 44.3708\n",
      "Epoch 83/100\n",
      "686/686 [==============================] - 0s 66us/step - loss: 40.9713\n",
      "Epoch 84/100\n",
      "686/686 [==============================] - 0s 67us/step - loss: 41.1720\n",
      "Epoch 85/100\n",
      "686/686 [==============================] - 0s 76us/step - loss: 40.9648\n",
      "Epoch 86/100\n",
      "686/686 [==============================] - 0s 67us/step - loss: 42.6307\n",
      "Epoch 87/100\n",
      "686/686 [==============================] - 0s 61us/step - loss: 44.5582\n",
      "Epoch 88/100\n",
      "686/686 [==============================] - 0s 71us/step - loss: 42.9099\n",
      "Epoch 89/100\n",
      "686/686 [==============================] - 0s 77us/step - loss: 43.6030\n",
      "Epoch 90/100\n",
      "686/686 [==============================] - 0s 71us/step - loss: 41.5903\n",
      "Epoch 91/100\n",
      "686/686 [==============================] - 0s 71us/step - loss: 40.8111\n",
      "Epoch 92/100\n",
      "686/686 [==============================] - 0s 73us/step - loss: 44.6887\n",
      "Epoch 93/100\n",
      "686/686 [==============================] - 0s 66us/step - loss: 40.3670\n",
      "Epoch 94/100\n",
      "686/686 [==============================] - 0s 76us/step - loss: 45.8507\n",
      "Epoch 95/100\n",
      "686/686 [==============================] - 0s 77us/step - loss: 44.0934\n",
      "Epoch 96/100\n",
      "686/686 [==============================] - 0s 87us/step - loss: 45.7907\n",
      "Epoch 97/100\n"
     ]
    },
    {
     "name": "stdout",
     "output_type": "stream",
     "text": [
      "686/686 [==============================] - 0s 74us/step - loss: 41.9245\n",
      "Epoch 98/100\n",
      "686/686 [==============================] - 0s 80us/step - loss: 47.4967\n",
      "Epoch 99/100\n",
      "686/686 [==============================] - 0s 77us/step - loss: 39.6723\n",
      "Epoch 100/100\n",
      "686/686 [==============================] - 0s 79us/step - loss: 40.8263\n"
     ]
    },
    {
     "data": {
      "text/plain": [
       "<keras.callbacks.callbacks.History at 0x17e1d420358>"
      ]
     },
     "execution_count": 64,
     "metadata": {},
     "output_type": "execute_result"
    }
   ],
   "source": [
    "#train model\n",
    "model.fit(X_train, y_train, epochs=100)"
   ]
  },
  {
   "cell_type": "code",
   "execution_count": 68,
   "metadata": {
    "ExecuteTime": {
     "end_time": "2020-05-02T23:37:51.880211Z",
     "start_time": "2020-05-02T23:37:51.850217Z"
    }
   },
   "outputs": [
    {
     "name": "stdout",
     "output_type": "stream",
     "text": [
      "MSE on train set =39.28467218486767\n",
      "MSE on test set = 42.6620796394442\n"
     ]
    }
   ],
   "source": [
    "#perform evaluation on train & test set\n",
    "y_train_pred = model.predict(X_train)\n",
    "MSE_train = mean_squared_error(y_train, y_train_pred)\n",
    "print('MSE on train set ={}'.format(MSE_train))\n",
    "\n",
    "y_test_pred = model.predict(X_test)\n",
    "MSE_test = mean_squared_error(y_test, y_test_pred)\n",
    "print('MSE on test set = {}'. format(MSE_test))"
   ]
  },
  {
   "cell_type": "code",
   "execution_count": 66,
   "metadata": {
    "ExecuteTime": {
     "end_time": "2020-05-02T23:31:25.390042Z",
     "start_time": "2020-05-02T23:31:25.384045Z"
    }
   },
   "outputs": [
    {
     "name": "stdout",
     "output_type": "stream",
     "text": [
      "r2_score = 0.8474985089297603\n"
     ]
    }
   ],
   "source": [
    "import sklearn\n",
    "from sklearn import metrics\n",
    "r2_score = sklearn.metrics.r2_score(y_test, y_test_pred)\n",
    "print('r2_score = {}'.format(r2_score))"
   ]
  },
  {
   "cell_type": "code",
   "execution_count": 78,
   "metadata": {
    "ExecuteTime": {
     "end_time": "2020-05-03T13:31:26.045461Z",
     "start_time": "2020-05-03T13:31:25.683177Z"
    }
   },
   "outputs": [],
   "source": [
    "model.save(\"concrete\")"
   ]
  },
  {
   "cell_type": "code",
   "execution_count": null,
   "metadata": {},
   "outputs": [],
   "source": []
  }
 ],
 "metadata": {
  "kernelspec": {
   "display_name": "Python 3",
   "language": "python",
   "name": "python3"
  },
  "language_info": {
   "codemirror_mode": {
    "name": "ipython",
    "version": 3
   },
   "file_extension": ".py",
   "mimetype": "text/x-python",
   "name": "python",
   "nbconvert_exporter": "python",
   "pygments_lexer": "ipython3",
   "version": "3.7.3"
  },
  "toc": {
   "base_numbering": 1,
   "nav_menu": {},
   "number_sections": true,
   "sideBar": true,
   "skip_h1_title": false,
   "title_cell": "Table of Contents",
   "title_sidebar": "Contents",
   "toc_cell": false,
   "toc_position": {},
   "toc_section_display": true,
   "toc_window_display": false
  }
 },
 "nbformat": 4,
 "nbformat_minor": 2
}

{
 "cells": [
  {
   "cell_type": "code",
   "execution_count": 87,
   "metadata": {
    "ExecuteTime": {
     "end_time": "2020-05-11T08:04:02.296687Z",
     "start_time": "2020-05-11T08:04:02.274691Z"
    }
   },
   "outputs": [],
   "source": [
    "import pandas as pd\n",
    "import numpy as np\n",
    "import matplotlib.pyplot as plt\n",
    "%matplotlib inline\n",
    "import seaborn as sns\n",
    "import re\n",
    "import warnings\n",
    "warnings.filterwarnings('ignore')\n",
    "import catboost as cb\n",
    "from sklearn.metrics import mean_squared_log_error, mean_squared_error\n",
    "from sklearn.model_selection import train_test_split, KFold, RepeatedKFold\n",
    "from sklearn.linear_model import ElasticNet, LinearRegression\n",
    "from sklearn.feature_extraction.text import TfidfVectorizer\n",
    "from sklearn.decomposition import TruncatedSVD\n",
    "import xgboost as xgb"
   ]
  },
  {
   "cell_type": "code",
   "execution_count": 88,
   "metadata": {
    "ExecuteTime": {
     "end_time": "2020-05-11T08:04:08.501186Z",
     "start_time": "2020-05-11T08:04:06.508376Z"
    }
   },
   "outputs": [],
   "source": [
    "train_df = pd.read_excel('D:/Downloads/Doctor_fee_consultation/Final_train.xlsx')\n",
    "test_df = pd.read_excel('D:/Downloads/Doctor_fee_consultation/Final_test.xlsx')"
   ]
  },
  {
   "cell_type": "code",
   "execution_count": 89,
   "metadata": {
    "ExecuteTime": {
     "end_time": "2020-05-11T08:04:10.254846Z",
     "start_time": "2020-05-11T08:04:10.230849Z"
    }
   },
   "outputs": [
    {
     "data": {
      "text/html": [
       "<div>\n",
       "<style scoped>\n",
       "    .dataframe tbody tr th:only-of-type {\n",
       "        vertical-align: middle;\n",
       "    }\n",
       "\n",
       "    .dataframe tbody tr th {\n",
       "        vertical-align: top;\n",
       "    }\n",
       "\n",
       "    .dataframe thead th {\n",
       "        text-align: right;\n",
       "    }\n",
       "</style>\n",
       "<table border=\"1\" class=\"dataframe\">\n",
       "  <thead>\n",
       "    <tr style=\"text-align: right;\">\n",
       "      <th></th>\n",
       "      <th>Qualification</th>\n",
       "      <th>Experience</th>\n",
       "      <th>Rating</th>\n",
       "      <th>Place</th>\n",
       "      <th>Profile</th>\n",
       "      <th>Miscellaneous_Info</th>\n",
       "      <th>Fees</th>\n",
       "    </tr>\n",
       "  </thead>\n",
       "  <tbody>\n",
       "    <tr>\n",
       "      <th>0</th>\n",
       "      <td>BHMS, MD - Homeopathy</td>\n",
       "      <td>24 years experience</td>\n",
       "      <td>100%</td>\n",
       "      <td>Kakkanad, Ernakulam</td>\n",
       "      <td>Homeopath</td>\n",
       "      <td>100% 16 Feedback Kakkanad, Ernakulam</td>\n",
       "      <td>100</td>\n",
       "    </tr>\n",
       "    <tr>\n",
       "      <th>1</th>\n",
       "      <td>BAMS, MD - Ayurveda Medicine</td>\n",
       "      <td>12 years experience</td>\n",
       "      <td>98%</td>\n",
       "      <td>Whitefield, Bangalore</td>\n",
       "      <td>Ayurveda</td>\n",
       "      <td>98% 76 Feedback Whitefield, Bangalore</td>\n",
       "      <td>350</td>\n",
       "    </tr>\n",
       "    <tr>\n",
       "      <th>2</th>\n",
       "      <td>MBBS, MS - Otorhinolaryngology</td>\n",
       "      <td>9 years experience</td>\n",
       "      <td>NaN</td>\n",
       "      <td>Mathikere - BEL, Bangalore</td>\n",
       "      <td>ENT Specialist</td>\n",
       "      <td>NaN</td>\n",
       "      <td>300</td>\n",
       "    </tr>\n",
       "    <tr>\n",
       "      <th>3</th>\n",
       "      <td>BSc - Zoology, BAMS</td>\n",
       "      <td>12 years experience</td>\n",
       "      <td>NaN</td>\n",
       "      <td>Bannerghatta Road, Bangalore</td>\n",
       "      <td>Ayurveda</td>\n",
       "      <td>Bannerghatta Road, Bangalore ₹250 Available on...</td>\n",
       "      <td>250</td>\n",
       "    </tr>\n",
       "    <tr>\n",
       "      <th>4</th>\n",
       "      <td>BAMS</td>\n",
       "      <td>20 years experience</td>\n",
       "      <td>100%</td>\n",
       "      <td>Keelkattalai, Chennai</td>\n",
       "      <td>Ayurveda</td>\n",
       "      <td>100% 4 Feedback Keelkattalai, Chennai</td>\n",
       "      <td>250</td>\n",
       "    </tr>\n",
       "  </tbody>\n",
       "</table>\n",
       "</div>"
      ],
      "text/plain": [
       "                    Qualification           Experience Rating  \\\n",
       "0           BHMS, MD - Homeopathy  24 years experience   100%   \n",
       "1    BAMS, MD - Ayurveda Medicine  12 years experience    98%   \n",
       "2  MBBS, MS - Otorhinolaryngology   9 years experience    NaN   \n",
       "3             BSc - Zoology, BAMS  12 years experience    NaN   \n",
       "4                            BAMS  20 years experience   100%   \n",
       "\n",
       "                          Place         Profile  \\\n",
       "0           Kakkanad, Ernakulam       Homeopath   \n",
       "1         Whitefield, Bangalore        Ayurveda   \n",
       "2    Mathikere - BEL, Bangalore  ENT Specialist   \n",
       "3  Bannerghatta Road, Bangalore        Ayurveda   \n",
       "4         Keelkattalai, Chennai        Ayurveda   \n",
       "\n",
       "                                  Miscellaneous_Info  Fees  \n",
       "0               100% 16 Feedback Kakkanad, Ernakulam   100  \n",
       "1              98% 76 Feedback Whitefield, Bangalore   350  \n",
       "2                                                NaN   300  \n",
       "3  Bannerghatta Road, Bangalore ₹250 Available on...   250  \n",
       "4              100% 4 Feedback Keelkattalai, Chennai   250  "
      ]
     },
     "execution_count": 89,
     "metadata": {},
     "output_type": "execute_result"
    }
   ],
   "source": [
    "train_df.head()"
   ]
  },
  {
   "cell_type": "code",
   "execution_count": 90,
   "metadata": {
    "ExecuteTime": {
     "end_time": "2020-05-11T08:04:14.932789Z",
     "start_time": "2020-05-11T08:04:14.923790Z"
    }
   },
   "outputs": [
    {
     "data": {
      "text/plain": [
       "(5961, 7)"
      ]
     },
     "execution_count": 90,
     "metadata": {},
     "output_type": "execute_result"
    }
   ],
   "source": [
    "train_df.shape"
   ]
  },
  {
   "cell_type": "code",
   "execution_count": 91,
   "metadata": {
    "ExecuteTime": {
     "end_time": "2020-05-11T08:04:16.059818Z",
     "start_time": "2020-05-11T08:04:16.043816Z"
    }
   },
   "outputs": [
    {
     "data": {
      "text/plain": [
       "Qualification            0\n",
       "Experience               0\n",
       "Rating                3302\n",
       "Place                   25\n",
       "Profile                  0\n",
       "Miscellaneous_Info    2620\n",
       "Fees                     0\n",
       "dtype: int64"
      ]
     },
     "execution_count": 91,
     "metadata": {},
     "output_type": "execute_result"
    }
   ],
   "source": [
    "train_df.isnull().sum()"
   ]
  },
  {
   "cell_type": "code",
   "execution_count": 92,
   "metadata": {
    "ExecuteTime": {
     "end_time": "2020-05-11T08:04:16.925928Z",
     "start_time": "2020-05-11T08:04:16.903931Z"
    }
   },
   "outputs": [
    {
     "data": {
      "text/html": [
       "<div>\n",
       "<style scoped>\n",
       "    .dataframe tbody tr th:only-of-type {\n",
       "        vertical-align: middle;\n",
       "    }\n",
       "\n",
       "    .dataframe tbody tr th {\n",
       "        vertical-align: top;\n",
       "    }\n",
       "\n",
       "    .dataframe thead th {\n",
       "        text-align: right;\n",
       "    }\n",
       "</style>\n",
       "<table border=\"1\" class=\"dataframe\">\n",
       "  <thead>\n",
       "    <tr style=\"text-align: right;\">\n",
       "      <th></th>\n",
       "      <th>Qualification</th>\n",
       "      <th>Experience</th>\n",
       "      <th>Rating</th>\n",
       "      <th>Place</th>\n",
       "      <th>Profile</th>\n",
       "      <th>Miscellaneous_Info</th>\n",
       "    </tr>\n",
       "  </thead>\n",
       "  <tbody>\n",
       "    <tr>\n",
       "      <th>0</th>\n",
       "      <td>MBBS</td>\n",
       "      <td>35 years experience</td>\n",
       "      <td>NaN</td>\n",
       "      <td>Ghatkopar East, Mumbai</td>\n",
       "      <td>General Medicine</td>\n",
       "      <td>NaN</td>\n",
       "    </tr>\n",
       "    <tr>\n",
       "      <th>1</th>\n",
       "      <td>MBBS, Diploma in Otorhinolaryngology (DLO)</td>\n",
       "      <td>31 years experience</td>\n",
       "      <td>NaN</td>\n",
       "      <td>West Marredpally, Hyderabad</td>\n",
       "      <td>ENT Specialist</td>\n",
       "      <td>NaN</td>\n",
       "    </tr>\n",
       "    <tr>\n",
       "      <th>2</th>\n",
       "      <td>MBBS, DDVL</td>\n",
       "      <td>40 years experience</td>\n",
       "      <td>70%</td>\n",
       "      <td>KK Nagar, Chennai</td>\n",
       "      <td>Dermatologists</td>\n",
       "      <td>70% 4 Feedback KK Nagar, Chennai</td>\n",
       "    </tr>\n",
       "    <tr>\n",
       "      <th>3</th>\n",
       "      <td>BAMS</td>\n",
       "      <td>0 years experience</td>\n",
       "      <td>NaN</td>\n",
       "      <td>New Ashok Nagar, Delhi</td>\n",
       "      <td>Ayurveda</td>\n",
       "      <td>NaN</td>\n",
       "    </tr>\n",
       "    <tr>\n",
       "      <th>4</th>\n",
       "      <td>BDS, MDS - Conservative Dentistry &amp; Endodontics</td>\n",
       "      <td>16 years experience</td>\n",
       "      <td>100%</td>\n",
       "      <td>Kanakpura Road, Bangalore</td>\n",
       "      <td>Dentist</td>\n",
       "      <td>General Dentistry Conservative Dentistry Cosme...</td>\n",
       "    </tr>\n",
       "  </tbody>\n",
       "</table>\n",
       "</div>"
      ],
      "text/plain": [
       "                                     Qualification           Experience  \\\n",
       "0                                             MBBS  35 years experience   \n",
       "1       MBBS, Diploma in Otorhinolaryngology (DLO)  31 years experience   \n",
       "2                                       MBBS, DDVL  40 years experience   \n",
       "3                                             BAMS   0 years experience   \n",
       "4  BDS, MDS - Conservative Dentistry & Endodontics  16 years experience   \n",
       "\n",
       "  Rating                        Place           Profile  \\\n",
       "0    NaN       Ghatkopar East, Mumbai  General Medicine   \n",
       "1    NaN  West Marredpally, Hyderabad    ENT Specialist   \n",
       "2    70%            KK Nagar, Chennai    Dermatologists   \n",
       "3    NaN       New Ashok Nagar, Delhi          Ayurveda   \n",
       "4   100%    Kanakpura Road, Bangalore           Dentist   \n",
       "\n",
       "                                  Miscellaneous_Info  \n",
       "0                                                NaN  \n",
       "1                                                NaN  \n",
       "2                   70% 4 Feedback KK Nagar, Chennai  \n",
       "3                                                NaN  \n",
       "4  General Dentistry Conservative Dentistry Cosme...  "
      ]
     },
     "execution_count": 92,
     "metadata": {},
     "output_type": "execute_result"
    }
   ],
   "source": [
    "test_df.head()"
   ]
  },
  {
   "cell_type": "code",
   "execution_count": 93,
   "metadata": {
    "ExecuteTime": {
     "end_time": "2020-05-11T08:04:19.393245Z",
     "start_time": "2020-05-11T08:04:19.378247Z"
    }
   },
   "outputs": [
    {
     "data": {
      "text/plain": [
       "Qualification            0\n",
       "Experience               0\n",
       "Rating                1090\n",
       "Place                    6\n",
       "Profile                  0\n",
       "Miscellaneous_Info     834\n",
       "dtype: int64"
      ]
     },
     "execution_count": 93,
     "metadata": {},
     "output_type": "execute_result"
    }
   ],
   "source": [
    "test_df.isnull().sum()"
   ]
  },
  {
   "cell_type": "markdown",
   "metadata": {},
   "source": [
    "# Data cleaning, extracting features"
   ]
  },
  {
   "cell_type": "code",
   "execution_count": 94,
   "metadata": {
    "ExecuteTime": {
     "end_time": "2020-05-11T08:04:31.775509Z",
     "start_time": "2020-05-11T08:04:31.759516Z"
    }
   },
   "outputs": [],
   "source": [
    "train_df['Experience'] = train_df['Experience'].str[0:-17].astype(int)"
   ]
  },
  {
   "cell_type": "code",
   "execution_count": 95,
   "metadata": {
    "ExecuteTime": {
     "end_time": "2020-05-11T08:04:32.459885Z",
     "start_time": "2020-05-11T08:04:32.452885Z"
    }
   },
   "outputs": [],
   "source": [
    "test_df['Experience'] = test_df['Experience'].str[0:-17].astype(int)"
   ]
  },
  {
   "cell_type": "code",
   "execution_count": 96,
   "metadata": {
    "ExecuteTime": {
     "end_time": "2020-05-11T08:04:33.156872Z",
     "start_time": "2020-05-11T08:04:33.142880Z"
    }
   },
   "outputs": [],
   "source": [
    "train_df['Rating'] = train_df['Rating'].str[0:-1].astype(float)\n",
    "test_df['Rating'] = test_df['Rating'].str[0:-1].astype(float)"
   ]
  },
  {
   "cell_type": "code",
   "execution_count": 97,
   "metadata": {
    "ExecuteTime": {
     "end_time": "2020-05-11T08:04:33.778490Z",
     "start_time": "2020-05-11T08:04:33.769492Z"
    }
   },
   "outputs": [],
   "source": [
    "train_df['Place'].fillna('none, none', inplace=True)\n",
    "test_df['Place'].fillna('none, none', inplace=True)"
   ]
  },
  {
   "cell_type": "code",
   "execution_count": 98,
   "metadata": {
    "ExecuteTime": {
     "end_time": "2020-05-11T08:04:34.477382Z",
     "start_time": "2020-05-11T08:04:34.404393Z"
    }
   },
   "outputs": [],
   "source": [
    "train_df['Area'] = train_df['Place'].str.rsplit(',', 1).str.get(0)\n",
    "train_df['City'] = train_df['Place'].str.rsplit(',', 1).str.get(1)\n",
    "test_df['Area'] = test_df['Place'].str.rsplit(',', 1).str.get(0)\n",
    "test_df['City'] = test_df['Place'].str.split(',', 1).str.get(1)"
   ]
  },
  {
   "cell_type": "code",
   "execution_count": 99,
   "metadata": {
    "ExecuteTime": {
     "end_time": "2020-05-11T08:04:35.204892Z",
     "start_time": "2020-05-11T08:04:35.189891Z"
    }
   },
   "outputs": [],
   "source": [
    "train_df['City'] = train_df['City'].str.strip()\n",
    "test_df['City'] = test_df['City'].str.strip()"
   ]
  },
  {
   "cell_type": "code",
   "execution_count": 100,
   "metadata": {
    "ExecuteTime": {
     "end_time": "2020-05-11T08:04:35.932662Z",
     "start_time": "2020-05-11T08:04:35.906652Z"
    }
   },
   "outputs": [
    {
     "data": {
      "text/html": [
       "<div>\n",
       "<style scoped>\n",
       "    .dataframe tbody tr th:only-of-type {\n",
       "        vertical-align: middle;\n",
       "    }\n",
       "\n",
       "    .dataframe tbody tr th {\n",
       "        vertical-align: top;\n",
       "    }\n",
       "\n",
       "    .dataframe thead th {\n",
       "        text-align: right;\n",
       "    }\n",
       "</style>\n",
       "<table border=\"1\" class=\"dataframe\">\n",
       "  <thead>\n",
       "    <tr style=\"text-align: right;\">\n",
       "      <th></th>\n",
       "      <th>Qualification</th>\n",
       "      <th>Experience</th>\n",
       "      <th>Rating</th>\n",
       "      <th>Place</th>\n",
       "      <th>Profile</th>\n",
       "      <th>Miscellaneous_Info</th>\n",
       "      <th>Fees</th>\n",
       "      <th>Area</th>\n",
       "      <th>City</th>\n",
       "    </tr>\n",
       "  </thead>\n",
       "  <tbody>\n",
       "    <tr>\n",
       "      <th>0</th>\n",
       "      <td>BHMS, MD - Homeopathy</td>\n",
       "      <td>24</td>\n",
       "      <td>100.0</td>\n",
       "      <td>Kakkanad, Ernakulam</td>\n",
       "      <td>Homeopath</td>\n",
       "      <td>100% 16 Feedback Kakkanad, Ernakulam</td>\n",
       "      <td>100</td>\n",
       "      <td>Kakkanad</td>\n",
       "      <td>Ernakulam</td>\n",
       "    </tr>\n",
       "    <tr>\n",
       "      <th>1</th>\n",
       "      <td>BAMS, MD - Ayurveda Medicine</td>\n",
       "      <td>12</td>\n",
       "      <td>98.0</td>\n",
       "      <td>Whitefield, Bangalore</td>\n",
       "      <td>Ayurveda</td>\n",
       "      <td>98% 76 Feedback Whitefield, Bangalore</td>\n",
       "      <td>350</td>\n",
       "      <td>Whitefield</td>\n",
       "      <td>Bangalore</td>\n",
       "    </tr>\n",
       "    <tr>\n",
       "      <th>2</th>\n",
       "      <td>MBBS, MS - Otorhinolaryngology</td>\n",
       "      <td>9</td>\n",
       "      <td>NaN</td>\n",
       "      <td>Mathikere - BEL, Bangalore</td>\n",
       "      <td>ENT Specialist</td>\n",
       "      <td>NaN</td>\n",
       "      <td>300</td>\n",
       "      <td>Mathikere - BEL</td>\n",
       "      <td>Bangalore</td>\n",
       "    </tr>\n",
       "    <tr>\n",
       "      <th>3</th>\n",
       "      <td>BSc - Zoology, BAMS</td>\n",
       "      <td>12</td>\n",
       "      <td>NaN</td>\n",
       "      <td>Bannerghatta Road, Bangalore</td>\n",
       "      <td>Ayurveda</td>\n",
       "      <td>Bannerghatta Road, Bangalore ₹250 Available on...</td>\n",
       "      <td>250</td>\n",
       "      <td>Bannerghatta Road</td>\n",
       "      <td>Bangalore</td>\n",
       "    </tr>\n",
       "    <tr>\n",
       "      <th>4</th>\n",
       "      <td>BAMS</td>\n",
       "      <td>20</td>\n",
       "      <td>100.0</td>\n",
       "      <td>Keelkattalai, Chennai</td>\n",
       "      <td>Ayurveda</td>\n",
       "      <td>100% 4 Feedback Keelkattalai, Chennai</td>\n",
       "      <td>250</td>\n",
       "      <td>Keelkattalai</td>\n",
       "      <td>Chennai</td>\n",
       "    </tr>\n",
       "  </tbody>\n",
       "</table>\n",
       "</div>"
      ],
      "text/plain": [
       "                    Qualification  Experience  Rating  \\\n",
       "0           BHMS, MD - Homeopathy          24   100.0   \n",
       "1    BAMS, MD - Ayurveda Medicine          12    98.0   \n",
       "2  MBBS, MS - Otorhinolaryngology           9     NaN   \n",
       "3             BSc - Zoology, BAMS          12     NaN   \n",
       "4                            BAMS          20   100.0   \n",
       "\n",
       "                          Place         Profile  \\\n",
       "0           Kakkanad, Ernakulam       Homeopath   \n",
       "1         Whitefield, Bangalore        Ayurveda   \n",
       "2    Mathikere - BEL, Bangalore  ENT Specialist   \n",
       "3  Bannerghatta Road, Bangalore        Ayurveda   \n",
       "4         Keelkattalai, Chennai        Ayurveda   \n",
       "\n",
       "                                  Miscellaneous_Info  Fees               Area  \\\n",
       "0               100% 16 Feedback Kakkanad, Ernakulam   100           Kakkanad   \n",
       "1              98% 76 Feedback Whitefield, Bangalore   350         Whitefield   \n",
       "2                                                NaN   300    Mathikere - BEL   \n",
       "3  Bannerghatta Road, Bangalore ₹250 Available on...   250  Bannerghatta Road   \n",
       "4              100% 4 Feedback Keelkattalai, Chennai   250       Keelkattalai   \n",
       "\n",
       "        City  \n",
       "0  Ernakulam  \n",
       "1  Bangalore  \n",
       "2  Bangalore  \n",
       "3  Bangalore  \n",
       "4    Chennai  "
      ]
     },
     "execution_count": 100,
     "metadata": {},
     "output_type": "execute_result"
    }
   ],
   "source": [
    "train_df.head()"
   ]
  },
  {
   "cell_type": "code",
   "execution_count": 101,
   "metadata": {
    "ExecuteTime": {
     "end_time": "2020-05-11T08:04:39.897456Z",
     "start_time": "2020-05-11T08:04:39.888459Z"
    }
   },
   "outputs": [
    {
     "data": {
      "text/plain": [
       "array(['Ernakulam', 'Bangalore', 'Chennai', 'Delhi', 'Hyderabad',\n",
       "       'Coimbatore', 'Mumbai', 'Thiruvananthapuram', 'none', nan],\n",
       "      dtype=object)"
      ]
     },
     "execution_count": 101,
     "metadata": {},
     "output_type": "execute_result"
    }
   ],
   "source": [
    "train_df['City'].unique()"
   ]
  },
  {
   "cell_type": "code",
   "execution_count": 102,
   "metadata": {
    "ExecuteTime": {
     "end_time": "2020-05-11T08:04:40.933936Z",
     "start_time": "2020-05-11T08:04:40.925940Z"
    }
   },
   "outputs": [
    {
     "data": {
      "text/plain": [
       "array(['Mumbai', 'Hyderabad', 'Chennai', 'Delhi', 'Bangalore',\n",
       "       'Coimbatore', 'Thiruvananthapuram', 'Ernakulam', 'none'],\n",
       "      dtype=object)"
      ]
     },
     "execution_count": 102,
     "metadata": {},
     "output_type": "execute_result"
    }
   ],
   "source": [
    "test_df['City'].unique()"
   ]
  },
  {
   "cell_type": "code",
   "execution_count": 103,
   "metadata": {
    "ExecuteTime": {
     "end_time": "2020-05-11T08:04:42.618468Z",
     "start_time": "2020-05-11T08:04:42.590474Z"
    }
   },
   "outputs": [
    {
     "data": {
      "text/html": [
       "<div>\n",
       "<style scoped>\n",
       "    .dataframe tbody tr th:only-of-type {\n",
       "        vertical-align: middle;\n",
       "    }\n",
       "\n",
       "    .dataframe tbody tr th {\n",
       "        vertical-align: top;\n",
       "    }\n",
       "\n",
       "    .dataframe thead th {\n",
       "        text-align: right;\n",
       "    }\n",
       "</style>\n",
       "<table border=\"1\" class=\"dataframe\">\n",
       "  <thead>\n",
       "    <tr style=\"text-align: right;\">\n",
       "      <th></th>\n",
       "      <th>Qualification</th>\n",
       "      <th>Experience</th>\n",
       "      <th>Rating</th>\n",
       "      <th>Place</th>\n",
       "      <th>Profile</th>\n",
       "      <th>Miscellaneous_Info</th>\n",
       "      <th>Fees</th>\n",
       "      <th>Area</th>\n",
       "      <th>City</th>\n",
       "    </tr>\n",
       "  </thead>\n",
       "  <tbody>\n",
       "    <tr>\n",
       "      <th>3980</th>\n",
       "      <td>BDS</td>\n",
       "      <td>23</td>\n",
       "      <td>NaN</td>\n",
       "      <td>e</td>\n",
       "      <td>Dentist</td>\n",
       "      <td>NaN</td>\n",
       "      <td>250</td>\n",
       "      <td>e</td>\n",
       "      <td>NaN</td>\n",
       "    </tr>\n",
       "  </tbody>\n",
       "</table>\n",
       "</div>"
      ],
      "text/plain": [
       "     Qualification  Experience  Rating Place  Profile Miscellaneous_Info  \\\n",
       "3980           BDS          23     NaN     e  Dentist                NaN   \n",
       "\n",
       "      Fees Area City  \n",
       "3980   250    e  NaN  "
      ]
     },
     "execution_count": 103,
     "metadata": {},
     "output_type": "execute_result"
    }
   ],
   "source": [
    "train_df[train_df['City'].isnull()]"
   ]
  },
  {
   "cell_type": "code",
   "execution_count": 104,
   "metadata": {
    "ExecuteTime": {
     "end_time": "2020-05-11T08:04:43.347223Z",
     "start_time": "2020-05-11T08:04:43.330229Z"
    }
   },
   "outputs": [],
   "source": [
    "train_df.loc[train_df['City'].isnull(), 'Area'] = 'none'\n",
    "train_df['City'] = train_df['City'].fillna('none')"
   ]
  },
  {
   "cell_type": "code",
   "execution_count": 105,
   "metadata": {
    "ExecuteTime": {
     "end_time": "2020-05-11T08:04:44.019399Z",
     "start_time": "2020-05-11T08:04:44.009401Z"
    }
   },
   "outputs": [
    {
     "data": {
      "text/plain": [
       "array(['Ernakulam', 'Bangalore', 'Chennai', 'Delhi', 'Hyderabad',\n",
       "       'Coimbatore', 'Mumbai', 'Thiruvananthapuram', 'none'], dtype=object)"
      ]
     },
     "execution_count": 105,
     "metadata": {},
     "output_type": "execute_result"
    }
   ],
   "source": [
    "train_df['City'].unique()"
   ]
  },
  {
   "cell_type": "code",
   "execution_count": 106,
   "metadata": {
    "ExecuteTime": {
     "end_time": "2020-05-11T08:04:44.659073Z",
     "start_time": "2020-05-11T08:04:44.650076Z"
    }
   },
   "outputs": [
    {
     "data": {
      "text/plain": [
       "867"
      ]
     },
     "execution_count": 106,
     "metadata": {},
     "output_type": "execute_result"
    }
   ],
   "source": [
    "train_df['Area'].nunique()"
   ]
  },
  {
   "cell_type": "code",
   "execution_count": 108,
   "metadata": {
    "ExecuteTime": {
     "end_time": "2020-05-11T08:04:46.281042Z",
     "start_time": "2020-05-11T08:04:46.271047Z"
    }
   },
   "outputs": [
    {
     "data": {
      "text/plain": [
       "array(['Homeopath', 'Ayurveda', 'ENT Specialist', 'Dentist',\n",
       "       'General Medicine', 'Dermatologists'], dtype=object)"
      ]
     },
     "execution_count": 108,
     "metadata": {},
     "output_type": "execute_result"
    }
   ],
   "source": [
    "train_df['Profile'].unique()"
   ]
  },
  {
   "cell_type": "code",
   "execution_count": 109,
   "metadata": {
    "ExecuteTime": {
     "end_time": "2020-05-11T08:04:48.057339Z",
     "start_time": "2020-05-11T08:04:48.049340Z"
    }
   },
   "outputs": [
    {
     "data": {
      "text/plain": [
       "array(['General Medicine', 'ENT Specialist', 'Dermatologists', 'Ayurveda',\n",
       "       'Dentist', 'Homeopath'], dtype=object)"
      ]
     },
     "execution_count": 109,
     "metadata": {},
     "output_type": "execute_result"
    }
   ],
   "source": [
    "test_df['Profile'].unique()"
   ]
  },
  {
   "cell_type": "code",
   "execution_count": 110,
   "metadata": {
    "ExecuteTime": {
     "end_time": "2020-05-11T08:04:48.627762Z",
     "start_time": "2020-05-11T08:04:48.611764Z"
    }
   },
   "outputs": [],
   "source": [
    "train_df['Has_M_Info'] = (~train_df['Miscellaneous_Info'].isnull())\n",
    "test_df['Has_M_Info'] = (~test_df['Miscellaneous_Info'].isnull())\n",
    "train_df['Has_M_Info'] = train_df['Has_M_Info'].astype(int)\n",
    "test_df['Has_M_Info'] = test_df['Has_M_Info'].astype(int)"
   ]
  },
  {
   "cell_type": "code",
   "execution_count": 111,
   "metadata": {
    "ExecuteTime": {
     "end_time": "2020-05-11T08:04:52.732067Z",
     "start_time": "2020-05-11T08:04:52.705072Z"
    }
   },
   "outputs": [
    {
     "data": {
      "text/html": [
       "<div>\n",
       "<style scoped>\n",
       "    .dataframe tbody tr th:only-of-type {\n",
       "        vertical-align: middle;\n",
       "    }\n",
       "\n",
       "    .dataframe tbody tr th {\n",
       "        vertical-align: top;\n",
       "    }\n",
       "\n",
       "    .dataframe thead th {\n",
       "        text-align: right;\n",
       "    }\n",
       "</style>\n",
       "<table border=\"1\" class=\"dataframe\">\n",
       "  <thead>\n",
       "    <tr style=\"text-align: right;\">\n",
       "      <th></th>\n",
       "      <th>Qualification</th>\n",
       "      <th>Experience</th>\n",
       "      <th>Rating</th>\n",
       "      <th>Place</th>\n",
       "      <th>Profile</th>\n",
       "      <th>Miscellaneous_Info</th>\n",
       "      <th>Fees</th>\n",
       "      <th>Area</th>\n",
       "      <th>City</th>\n",
       "      <th>Has_M_Info</th>\n",
       "    </tr>\n",
       "  </thead>\n",
       "  <tbody>\n",
       "    <tr>\n",
       "      <th>0</th>\n",
       "      <td>BHMS, MD - Homeopathy</td>\n",
       "      <td>24</td>\n",
       "      <td>100.0</td>\n",
       "      <td>Kakkanad, Ernakulam</td>\n",
       "      <td>Homeopath</td>\n",
       "      <td>100% 16 Feedback Kakkanad, Ernakulam</td>\n",
       "      <td>100</td>\n",
       "      <td>Kakkanad</td>\n",
       "      <td>Ernakulam</td>\n",
       "      <td>1</td>\n",
       "    </tr>\n",
       "    <tr>\n",
       "      <th>1</th>\n",
       "      <td>BAMS, MD - Ayurveda Medicine</td>\n",
       "      <td>12</td>\n",
       "      <td>98.0</td>\n",
       "      <td>Whitefield, Bangalore</td>\n",
       "      <td>Ayurveda</td>\n",
       "      <td>98% 76 Feedback Whitefield, Bangalore</td>\n",
       "      <td>350</td>\n",
       "      <td>Whitefield</td>\n",
       "      <td>Bangalore</td>\n",
       "      <td>1</td>\n",
       "    </tr>\n",
       "    <tr>\n",
       "      <th>2</th>\n",
       "      <td>MBBS, MS - Otorhinolaryngology</td>\n",
       "      <td>9</td>\n",
       "      <td>NaN</td>\n",
       "      <td>Mathikere - BEL, Bangalore</td>\n",
       "      <td>ENT Specialist</td>\n",
       "      <td>NaN</td>\n",
       "      <td>300</td>\n",
       "      <td>Mathikere - BEL</td>\n",
       "      <td>Bangalore</td>\n",
       "      <td>0</td>\n",
       "    </tr>\n",
       "    <tr>\n",
       "      <th>3</th>\n",
       "      <td>BSc - Zoology, BAMS</td>\n",
       "      <td>12</td>\n",
       "      <td>NaN</td>\n",
       "      <td>Bannerghatta Road, Bangalore</td>\n",
       "      <td>Ayurveda</td>\n",
       "      <td>Bannerghatta Road, Bangalore ₹250 Available on...</td>\n",
       "      <td>250</td>\n",
       "      <td>Bannerghatta Road</td>\n",
       "      <td>Bangalore</td>\n",
       "      <td>1</td>\n",
       "    </tr>\n",
       "    <tr>\n",
       "      <th>4</th>\n",
       "      <td>BAMS</td>\n",
       "      <td>20</td>\n",
       "      <td>100.0</td>\n",
       "      <td>Keelkattalai, Chennai</td>\n",
       "      <td>Ayurveda</td>\n",
       "      <td>100% 4 Feedback Keelkattalai, Chennai</td>\n",
       "      <td>250</td>\n",
       "      <td>Keelkattalai</td>\n",
       "      <td>Chennai</td>\n",
       "      <td>1</td>\n",
       "    </tr>\n",
       "  </tbody>\n",
       "</table>\n",
       "</div>"
      ],
      "text/plain": [
       "                    Qualification  Experience  Rating  \\\n",
       "0           BHMS, MD - Homeopathy          24   100.0   \n",
       "1    BAMS, MD - Ayurveda Medicine          12    98.0   \n",
       "2  MBBS, MS - Otorhinolaryngology           9     NaN   \n",
       "3             BSc - Zoology, BAMS          12     NaN   \n",
       "4                            BAMS          20   100.0   \n",
       "\n",
       "                          Place         Profile  \\\n",
       "0           Kakkanad, Ernakulam       Homeopath   \n",
       "1         Whitefield, Bangalore        Ayurveda   \n",
       "2    Mathikere - BEL, Bangalore  ENT Specialist   \n",
       "3  Bannerghatta Road, Bangalore        Ayurveda   \n",
       "4         Keelkattalai, Chennai        Ayurveda   \n",
       "\n",
       "                                  Miscellaneous_Info  Fees               Area  \\\n",
       "0               100% 16 Feedback Kakkanad, Ernakulam   100           Kakkanad   \n",
       "1              98% 76 Feedback Whitefield, Bangalore   350         Whitefield   \n",
       "2                                                NaN   300    Mathikere - BEL   \n",
       "3  Bannerghatta Road, Bangalore ₹250 Available on...   250  Bannerghatta Road   \n",
       "4              100% 4 Feedback Keelkattalai, Chennai   250       Keelkattalai   \n",
       "\n",
       "        City  Has_M_Info  \n",
       "0  Ernakulam           1  \n",
       "1  Bangalore           1  \n",
       "2  Bangalore           0  \n",
       "3  Bangalore           1  \n",
       "4    Chennai           1  "
      ]
     },
     "execution_count": 111,
     "metadata": {},
     "output_type": "execute_result"
    }
   ],
   "source": [
    "train_df.head()"
   ]
  },
  {
   "cell_type": "markdown",
   "metadata": {},
   "source": [
    "# Univariate, Bivariate Analysis"
   ]
  },
  {
   "cell_type": "code",
   "execution_count": 112,
   "metadata": {
    "ExecuteTime": {
     "end_time": "2020-05-11T08:04:56.362109Z",
     "start_time": "2020-05-11T08:04:55.979008Z"
    }
   },
   "outputs": [
    {
     "data": {
      "image/png": "[encoded data removed]",
      "text/plain": [
       "<Figure size 1080x504 with 1 Axes>"
      ]
     },
     "metadata": {
      "needs_background": "light"
     },
     "output_type": "display_data"
    }
   ],
   "source": [
    "fig, ax = plt.subplots(figsize=(15, 7))\n",
    "sns.distplot(train_df['Fees'].sort_values(), ax=ax)\n",
    "plt.show()"
   ]
  },
  {
   "cell_type": "code",
   "execution_count": 113,
   "metadata": {
    "ExecuteTime": {
     "end_time": "2020-05-11T08:04:59.377149Z",
     "start_time": "2020-05-11T08:04:57.641418Z"
    }
   },
   "outputs": [
    {
     "data": {
      "image/png": "[encoded data removed]",
      "text/plain": [
       "<Figure size 1080x504 with 1 Axes>"
      ]
     },
     "metadata": {
      "needs_background": "light"
     },
     "output_type": "display_data"
    }
   ],
   "source": [
    "fig, ax = plt.subplots(figsize=(15,7))\n",
    "sns.countplot(train_df['Experience'])\n",
    "ax.set(title='Distribution of Experience')\n",
    "plt.show()"
   ]
  },
  {
   "cell_type": "code",
   "execution_count": 114,
   "metadata": {
    "ExecuteTime": {
     "end_time": "2020-05-11T08:05:00.057142Z",
     "start_time": "2020-05-11T08:04:59.733192Z"
    }
   },
   "outputs": [
    {
     "data": {
      "image/png": "[encoded data removed]",
      "text/plain": [
       "<Figure size 576x432 with 1 Axes>"
      ]
     },
     "metadata": {
      "needs_background": "light"
     },
     "output_type": "display_data"
    }
   ],
   "source": [
    "fig, ax = plt.subplots(figsize=(8,6))\n",
    "sns.countplot(train_df['City'].sort_values())\n",
    "plt.xticks(rotation=50)\n",
    "plt.show()"
   ]
  },
  {
   "cell_type": "code",
   "execution_count": 115,
   "metadata": {
    "ExecuteTime": {
     "end_time": "2020-05-11T08:05:00.660408Z",
     "start_time": "2020-05-11T08:05:00.340448Z"
    }
   },
   "outputs": [
    {
     "data": {
      "image/png": "[encoded data removed]",
      "text/plain": [
       "<Figure size 576x432 with 1 Axes>"
      ]
     },
     "metadata": {
      "needs_background": "light"
     },
     "output_type": "display_data"
    }
   ],
   "source": [
    "fig, ax = plt.subplots(figsize=(8,6))\n",
    "sns.countplot(train_df['Profile'].sort_values())\n",
    "plt.xticks(rotation=50)\n",
    "plt.show()"
   ]
  },
  {
   "cell_type": "code",
   "execution_count": 116,
   "metadata": {
    "ExecuteTime": {
     "end_time": "2020-05-11T08:05:02.431266Z",
     "start_time": "2020-05-11T08:05:01.915349Z"
    }
   },
   "outputs": [
    {
     "data": {
      "image/png": "[encoded data removed]",
      "text/plain": [
       "<Figure size 432x432 with 1 Axes>"
      ]
     },
     "metadata": {
      "needs_background": "light"
     },
     "output_type": "display_data"
    }
   ],
   "source": [
    "sns.catplot(x='Fees', y='City', data=train_df.sort_values(\"City\"), kind='box', height=6)\n",
    "plt.show()"
   ]
  },
  {
   "cell_type": "code",
   "execution_count": 117,
   "metadata": {
    "ExecuteTime": {
     "end_time": "2020-05-11T08:05:04.432781Z",
     "start_time": "2020-05-11T08:05:03.987833Z"
    }
   },
   "outputs": [
    {
     "data": {
      "image/png": "[encoded data removed]",
      "text/plain": [
       "<Figure size 432x432 with 1 Axes>"
      ]
     },
     "metadata": {
      "needs_background": "light"
     },
     "output_type": "display_data"
    }
   ],
   "source": [
    "sns.catplot(x='Fees', y='Profile', data=train_df.sort_values(\"Profile\"), kind='box', height=6)\n",
    "plt.show()"
   ]
  },
  {
   "cell_type": "code",
   "execution_count": 118,
   "metadata": {
    "ExecuteTime": {
     "end_time": "2020-05-11T08:05:15.476068Z",
     "start_time": "2020-05-11T08:05:06.374116Z"
    }
   },
   "outputs": [
    {
     "data": {
      "image/png": "[encoded data removed]",
      "text/plain": [
       "<Figure size 861.5x720 with 20 Axes>"
      ]
     },
     "metadata": {
      "needs_background": "light"
     },
     "output_type": "display_data"
    }
   ],
   "source": [
    "sns.pairplot(train_df.dropna().drop(['Qualification', 'Place', 'Area', 'Miscellaneous_Info'], axis=1), kind=\"scatter\", hue=\"City\", plot_kws=dict(s=50, edgecolor=\"white\", linewidth=1))\n",
    "plt.show()\n"
   ]
  },
  {
   "cell_type": "code",
   "execution_count": 119,
   "metadata": {
    "ExecuteTime": {
     "end_time": "2020-05-11T08:05:53.551071Z",
     "start_time": "2020-05-11T08:05:53.527074Z"
    }
   },
   "outputs": [
    {
     "data": {
      "text/html": [
       "<div>\n",
       "<style scoped>\n",
       "    .dataframe tbody tr th:only-of-type {\n",
       "        vertical-align: middle;\n",
       "    }\n",
       "\n",
       "    .dataframe tbody tr th {\n",
       "        vertical-align: top;\n",
       "    }\n",
       "\n",
       "    .dataframe thead th {\n",
       "        text-align: right;\n",
       "    }\n",
       "</style>\n",
       "<table border=\"1\" class=\"dataframe\">\n",
       "  <thead>\n",
       "    <tr style=\"text-align: right;\">\n",
       "      <th></th>\n",
       "      <th>Fees</th>\n",
       "    </tr>\n",
       "    <tr>\n",
       "      <th>Profile</th>\n",
       "      <th></th>\n",
       "    </tr>\n",
       "  </thead>\n",
       "  <tbody>\n",
       "    <tr>\n",
       "      <th>Dermatologists</th>\n",
       "      <td>393.133462</td>\n",
       "    </tr>\n",
       "    <tr>\n",
       "      <th>ENT Specialist</th>\n",
       "      <td>387.321429</td>\n",
       "    </tr>\n",
       "    <tr>\n",
       "      <th>General Medicine</th>\n",
       "      <td>313.908781</td>\n",
       "    </tr>\n",
       "    <tr>\n",
       "      <th>Homeopath</th>\n",
       "      <td>306.499407</td>\n",
       "    </tr>\n",
       "    <tr>\n",
       "      <th>Ayurveda</th>\n",
       "      <td>238.968193</td>\n",
       "    </tr>\n",
       "    <tr>\n",
       "      <th>Dentist</th>\n",
       "      <td>238.199714</td>\n",
       "    </tr>\n",
       "  </tbody>\n",
       "</table>\n",
       "</div>"
      ],
      "text/plain": [
       "                        Fees\n",
       "Profile                     \n",
       "Dermatologists    393.133462\n",
       "ENT Specialist    387.321429\n",
       "General Medicine  313.908781\n",
       "Homeopath         306.499407\n",
       "Ayurveda          238.968193\n",
       "Dentist           238.199714"
      ]
     },
     "execution_count": 119,
     "metadata": {},
     "output_type": "execute_result"
    }
   ],
   "source": [
    "train_df.groupby(['Profile']).agg({'Fees': 'mean'}).sort_values(by= 'Fees', ascending = False)"
   ]
  },
  {
   "cell_type": "code",
   "execution_count": 120,
   "metadata": {
    "ExecuteTime": {
     "end_time": "2020-05-11T08:06:08.689445Z",
     "start_time": "2020-05-11T08:06:08.664469Z"
    }
   },
   "outputs": [
    {
     "data": {
      "text/html": [
       "<div>\n",
       "<style scoped>\n",
       "    .dataframe tbody tr th:only-of-type {\n",
       "        vertical-align: middle;\n",
       "    }\n",
       "\n",
       "    .dataframe tbody tr th {\n",
       "        vertical-align: top;\n",
       "    }\n",
       "\n",
       "    .dataframe thead th {\n",
       "        text-align: right;\n",
       "    }\n",
       "</style>\n",
       "<table border=\"1\" class=\"dataframe\">\n",
       "  <thead>\n",
       "    <tr style=\"text-align: right;\">\n",
       "      <th></th>\n",
       "      <th>Fees</th>\n",
       "    </tr>\n",
       "    <tr>\n",
       "      <th>City</th>\n",
       "      <th></th>\n",
       "    </tr>\n",
       "  </thead>\n",
       "  <tbody>\n",
       "    <tr>\n",
       "      <th>Delhi</th>\n",
       "      <td>362.911392</td>\n",
       "    </tr>\n",
       "    <tr>\n",
       "      <th>Bangalore</th>\n",
       "      <td>328.842607</td>\n",
       "    </tr>\n",
       "    <tr>\n",
       "      <th>Mumbai</th>\n",
       "      <td>308.292863</td>\n",
       "    </tr>\n",
       "    <tr>\n",
       "      <th>Hyderabad</th>\n",
       "      <td>307.507886</td>\n",
       "    </tr>\n",
       "    <tr>\n",
       "      <th>Chennai</th>\n",
       "      <td>283.602339</td>\n",
       "    </tr>\n",
       "    <tr>\n",
       "      <th>Ernakulam</th>\n",
       "      <td>188.431373</td>\n",
       "    </tr>\n",
       "    <tr>\n",
       "      <th>Thiruvananthapuram</th>\n",
       "      <td>167.267442</td>\n",
       "    </tr>\n",
       "    <tr>\n",
       "      <th>Coimbatore</th>\n",
       "      <td>154.298246</td>\n",
       "    </tr>\n",
       "    <tr>\n",
       "      <th>none</th>\n",
       "      <td>107.692308</td>\n",
       "    </tr>\n",
       "  </tbody>\n",
       "</table>\n",
       "</div>"
      ],
      "text/plain": [
       "                          Fees\n",
       "City                          \n",
       "Delhi               362.911392\n",
       "Bangalore           328.842607\n",
       "Mumbai              308.292863\n",
       "Hyderabad           307.507886\n",
       "Chennai             283.602339\n",
       "Ernakulam           188.431373\n",
       "Thiruvananthapuram  167.267442\n",
       "Coimbatore          154.298246\n",
       "none                107.692308"
      ]
     },
     "execution_count": 120,
     "metadata": {},
     "output_type": "execute_result"
    }
   ],
   "source": [
    "train_df.groupby(['City']).agg({'Fees': 'mean'}).sort_values(by= 'Fees', ascending = False)"
   ]
  },
  {
   "cell_type": "markdown",
   "metadata": {},
   "source": [
    "# Feature extraction"
   ]
  },
  {
   "cell_type": "code",
   "execution_count": 122,
   "metadata": {
    "ExecuteTime": {
     "end_time": "2020-05-11T08:07:41.469926Z",
     "start_time": "2020-05-11T08:07:41.434932Z"
    }
   },
   "outputs": [],
   "source": [
    "quals = pd.DataFrame(item for item in train_df['Qualification'].str.split(', '))"
   ]
  },
  {
   "cell_type": "code",
   "execution_count": 123,
   "metadata": {
    "ExecuteTime": {
     "end_time": "2020-05-11T08:07:42.469588Z",
     "start_time": "2020-05-11T08:07:42.442588Z"
    }
   },
   "outputs": [
    {
     "data": {
      "text/html": [
       "<div>\n",
       "<style scoped>\n",
       "    .dataframe tbody tr th:only-of-type {\n",
       "        vertical-align: middle;\n",
       "    }\n",
       "\n",
       "    .dataframe tbody tr th {\n",
       "        vertical-align: top;\n",
       "    }\n",
       "\n",
       "    .dataframe thead th {\n",
       "        text-align: right;\n",
       "    }\n",
       "</style>\n",
       "<table border=\"1\" class=\"dataframe\">\n",
       "  <thead>\n",
       "    <tr style=\"text-align: right;\">\n",
       "      <th></th>\n",
       "      <th>0</th>\n",
       "      <th>1</th>\n",
       "      <th>2</th>\n",
       "      <th>3</th>\n",
       "      <th>4</th>\n",
       "      <th>5</th>\n",
       "      <th>6</th>\n",
       "      <th>7</th>\n",
       "      <th>8</th>\n",
       "      <th>9</th>\n",
       "    </tr>\n",
       "  </thead>\n",
       "  <tbody>\n",
       "    <tr>\n",
       "      <th>0</th>\n",
       "      <td>BHMS</td>\n",
       "      <td>MD - Homeopathy</td>\n",
       "      <td>None</td>\n",
       "      <td>None</td>\n",
       "      <td>None</td>\n",
       "      <td>None</td>\n",
       "      <td>None</td>\n",
       "      <td>None</td>\n",
       "      <td>None</td>\n",
       "      <td>None</td>\n",
       "    </tr>\n",
       "    <tr>\n",
       "      <th>1</th>\n",
       "      <td>BAMS</td>\n",
       "      <td>MD - Ayurveda Medicine</td>\n",
       "      <td>None</td>\n",
       "      <td>None</td>\n",
       "      <td>None</td>\n",
       "      <td>None</td>\n",
       "      <td>None</td>\n",
       "      <td>None</td>\n",
       "      <td>None</td>\n",
       "      <td>None</td>\n",
       "    </tr>\n",
       "    <tr>\n",
       "      <th>2</th>\n",
       "      <td>MBBS</td>\n",
       "      <td>MS - Otorhinolaryngology</td>\n",
       "      <td>None</td>\n",
       "      <td>None</td>\n",
       "      <td>None</td>\n",
       "      <td>None</td>\n",
       "      <td>None</td>\n",
       "      <td>None</td>\n",
       "      <td>None</td>\n",
       "      <td>None</td>\n",
       "    </tr>\n",
       "    <tr>\n",
       "      <th>3</th>\n",
       "      <td>BSc - Zoology</td>\n",
       "      <td>BAMS</td>\n",
       "      <td>None</td>\n",
       "      <td>None</td>\n",
       "      <td>None</td>\n",
       "      <td>None</td>\n",
       "      <td>None</td>\n",
       "      <td>None</td>\n",
       "      <td>None</td>\n",
       "      <td>None</td>\n",
       "    </tr>\n",
       "    <tr>\n",
       "      <th>4</th>\n",
       "      <td>BAMS</td>\n",
       "      <td>None</td>\n",
       "      <td>None</td>\n",
       "      <td>None</td>\n",
       "      <td>None</td>\n",
       "      <td>None</td>\n",
       "      <td>None</td>\n",
       "      <td>None</td>\n",
       "      <td>None</td>\n",
       "      <td>None</td>\n",
       "    </tr>\n",
       "  </tbody>\n",
       "</table>\n",
       "</div>"
      ],
      "text/plain": [
       "               0                         1     2     3     4     5     6  \\\n",
       "0           BHMS           MD - Homeopathy  None  None  None  None  None   \n",
       "1           BAMS    MD - Ayurveda Medicine  None  None  None  None  None   \n",
       "2           MBBS  MS - Otorhinolaryngology  None  None  None  None  None   \n",
       "3  BSc - Zoology                      BAMS  None  None  None  None  None   \n",
       "4           BAMS                      None  None  None  None  None  None   \n",
       "\n",
       "      7     8     9  \n",
       "0  None  None  None  \n",
       "1  None  None  None  \n",
       "2  None  None  None  \n",
       "3  None  None  None  \n",
       "4  None  None  None  "
      ]
     },
     "execution_count": 123,
     "metadata": {},
     "output_type": "execute_result"
    }
   ],
   "source": [
    "quals.head()"
   ]
  },
  {
   "cell_type": "code",
   "execution_count": 124,
   "metadata": {
    "ExecuteTime": {
     "end_time": "2020-05-11T08:07:43.454579Z",
     "start_time": "2020-05-11T08:07:43.440585Z"
    }
   },
   "outputs": [
    {
     "data": {
      "text/plain": [
       "0       0\n",
       "1    1962\n",
       "2    4598\n",
       "3    5592\n",
       "4    5842\n",
       "5    5926\n",
       "6    5949\n",
       "7    5956\n",
       "8    5958\n",
       "9    5960\n",
       "dtype: int64"
      ]
     },
     "execution_count": 124,
     "metadata": {},
     "output_type": "execute_result"
    }
   ],
   "source": [
    "quals.isnull().sum()"
   ]
  },
  {
   "cell_type": "code",
   "execution_count": 125,
   "metadata": {
    "ExecuteTime": {
     "end_time": "2020-05-11T08:07:44.171054Z",
     "start_time": "2020-05-11T08:07:44.144051Z"
    }
   },
   "outputs": [
    {
     "name": "stdout",
     "output_type": "stream",
     "text": [
      "151\n",
      "425\n",
      "405\n",
      "209\n",
      "95\n",
      "32\n",
      "12\n",
      "5\n",
      "3\n",
      "1\n"
     ]
    }
   ],
   "source": [
    "for i in range(10):\n",
    "    print(quals[i].nunique())"
   ]
  },
  {
   "cell_type": "code",
   "execution_count": 126,
   "metadata": {
    "ExecuteTime": {
     "end_time": "2020-05-11T08:07:45.265046Z",
     "start_time": "2020-05-11T08:07:45.247053Z"
    },
    "scrolled": false
   },
   "outputs": [
    {
     "data": {
      "text/plain": [
       "MBBS                                                     2448\n",
       "BDS                                                      1208\n",
       "BAMS                                                      711\n",
       "BHMS                                                      706\n",
       "MD - Dermatology                                           84\n",
       "MS - ENT                                                   71\n",
       "MD - Dermatology                                           62\n",
       "MD - Homeopathy                                            56\n",
       "MD - Ayurveda Medicine                                     38\n",
       "DHMS (Diploma in Homeopathic Medicine and Surgery)         36\n",
       "MD - General Medicine                                      26\n",
       "MDS - Oral & Maxillofacial Surgery                         26\n",
       "MDS - Conservative Dentistry & Endodontics                 25\n",
       "MS - Otorhinolaryngology                                   25\n",
       "Get inspired by remarkable stories of people like you      24\n",
       "DDVL                                                       20\n",
       "MD - Physician                                             18\n",
       "MDS - Prosthodontics                                       17\n",
       "DNB - Dermatology & Venereology                            16\n",
       "Diploma in Otorhinolaryngology (DLO)                       15\n",
       "LCEH                                                       14\n",
       "MDS - Prosthodontist And Crown Bridge                      14\n",
       "MDS - Orthodontics                                         14\n",
       "MDS - Periodontology and Oral Implantology                 13\n",
       "MD - Medicine                                              12\n",
       "DNB - ENT                                                  10\n",
       "MDS                                                        10\n",
       "MDS - Periodontics                                         10\n",
       "MDS - Paedodontics And Preventive Dentistry                10\n",
       "MDS - Orthodontics and Dentofacial Orthopaedics             9\n",
       "                                                         ... \n",
       "Ayurvedic panchkarma                                        1\n",
       "MD - Alternate Medicine                                     1\n",
       "Masters Diploma in Acupressure                              1\n",
       "DNB - General Surgery                                       1\n",
       "FRGUHS                                                      1\n",
       "BIMS                                                        1\n",
       "Cochlear Implant Surgery                                    1\n",
       "MDS - Oral & Maxillofacial Pathology and Microbiology       1\n",
       "BSc - Zoology                                               1\n",
       "Training in Facial Aesthetics                               1\n",
       "Fellowship In Laryngology Bronchoesophagology               1\n",
       "MD AYURVED AND YOG                                          1\n",
       "MD - Ayurvedic Pharmacology                                 1\n",
       "PhD - Neuropsychology                                       1\n",
       "39 years experience                                         1\n",
       "Post Graduate Diploma in Dermotology (PGDD)                 1\n",
       "BUMS                                                        1\n",
       "MS - Psychology                                             1\n",
       "Certification of Aesthetic Dentistry & Periodontics         1\n",
       "Advanced Certificate Course in Aesthetic Dentistry          1\n",
       "DM - Cardiology                                             1\n",
       "MD - Acupuncture                                            1\n",
       "MD - CCM                                                    1\n",
       "DNB - Urology/Genito - Urinary Surgery                      1\n",
       "FRCP                                                        1\n",
       "DNB - Paediatrics                                           1\n",
       "DNB - Orthopedics/Orthopedic Surgery                        1\n",
       "Doctor of Homeopathic Medicine (HMD)                        1\n",
       "Diploma in Diet and Nutrition                               1\n",
       "MS - Ayurvedic Gynecology & Obstetrics                      1\n",
       "Name: 0, Length: 151, dtype: int64"
      ]
     },
     "execution_count": 126,
     "metadata": {},
     "output_type": "execute_result"
    }
   ],
   "source": [
    "quals[0].value_counts()"
   ]
  },
  {
   "cell_type": "code",
   "execution_count": 127,
   "metadata": {
    "ExecuteTime": {
     "end_time": "2020-05-11T08:07:53.105157Z",
     "start_time": "2020-05-11T08:07:53.101160Z"
    }
   },
   "outputs": [],
   "source": [
    "vecz = TfidfVectorizer(analyzer='word')"
   ]
  },
  {
   "cell_type": "code",
   "execution_count": 128,
   "metadata": {
    "ExecuteTime": {
     "end_time": "2020-05-11T08:07:53.863684Z",
     "start_time": "2020-05-11T08:07:53.778700Z"
    }
   },
   "outputs": [
    {
     "data": {
      "text/plain": [
       "TfidfVectorizer(analyzer='word', binary=False, decode_error='strict',\n",
       "        dtype=<class 'numpy.float64'>, encoding='utf-8', input='content',\n",
       "        lowercase=True, max_df=1.0, max_features=None, min_df=1,\n",
       "        ngram_range=(1, 1), norm='l2', preprocessor=None, smooth_idf=True,\n",
       "        stop_words=None, strip_accents=None, sublinear_tf=False,\n",
       "        token_pattern='(?u)\\\\b\\\\w\\\\w+\\\\b', tokenizer=None, use_idf=True,\n",
       "        vocabulary=None)"
      ]
     },
     "execution_count": 128,
     "metadata": {},
     "output_type": "execute_result"
    }
   ],
   "source": [
    "vecz.fit(train_df['Qualification'])"
   ]
  },
  {
   "cell_type": "code",
   "execution_count": 129,
   "metadata": {
    "ExecuteTime": {
     "end_time": "2020-05-11T08:07:54.884639Z",
     "start_time": "2020-05-11T08:07:54.793637Z"
    }
   },
   "outputs": [],
   "source": [
    "qual_train = vecz.transform(train_df['Qualification'])"
   ]
  },
  {
   "cell_type": "code",
   "execution_count": 130,
   "metadata": {
    "ExecuteTime": {
     "end_time": "2020-05-11T08:07:58.509438Z",
     "start_time": "2020-05-11T08:07:58.501441Z"
    }
   },
   "outputs": [
    {
     "data": {
      "text/plain": [
       "<5961x699 sparse matrix of type '<class 'numpy.float64'>'\n",
       "\twith 22663 stored elements in Compressed Sparse Row format>"
      ]
     },
     "execution_count": 130,
     "metadata": {},
     "output_type": "execute_result"
    }
   ],
   "source": [
    "qual_train"
   ]
  },
  {
   "cell_type": "code",
   "execution_count": 131,
   "metadata": {
    "ExecuteTime": {
     "end_time": "2020-05-11T08:07:59.317253Z",
     "start_time": "2020-05-11T08:07:59.278242Z"
    }
   },
   "outputs": [],
   "source": [
    "qual_test = vecz.transform(test_df['Qualification'])"
   ]
  },
  {
   "cell_type": "code",
   "execution_count": 132,
   "metadata": {
    "ExecuteTime": {
     "end_time": "2020-05-11T08:08:00.161924Z",
     "start_time": "2020-05-11T08:08:00.153925Z"
    }
   },
   "outputs": [
    {
     "data": {
      "text/plain": [
       "<1987x699 sparse matrix of type '<class 'numpy.float64'>'\n",
       "\twith 7799 stored elements in Compressed Sparse Row format>"
      ]
     },
     "execution_count": 132,
     "metadata": {},
     "output_type": "execute_result"
    }
   ],
   "source": [
    "qual_test"
   ]
  },
  {
   "cell_type": "code",
   "execution_count": 133,
   "metadata": {
    "ExecuteTime": {
     "end_time": "2020-05-11T08:08:02.652132Z",
     "start_time": "2020-05-11T08:08:02.539148Z"
    }
   },
   "outputs": [
    {
     "name": "stdout",
     "output_type": "stream",
     "text": [
      "0.7305549363871849\n",
      "[0.0651461  0.0932571  0.08841786 0.09215534 0.06995137 0.04716524\n",
      " 0.04335797 0.0386357  0.02726833 0.02072668 0.01942391 0.01691478\n",
      " 0.0164064  0.01555549 0.01513252 0.01454735 0.01366493 0.01325779\n",
      " 0.01007883 0.00949124]\n"
     ]
    }
   ],
   "source": [
    "svd = TruncatedSVD(n_components=20)\n",
    "svd.fit(qual_train)\n",
    "print(svd.explained_variance_ratio_.sum())\n",
    "print(svd.explained_variance_ratio_)"
   ]
  },
  {
   "cell_type": "code",
   "execution_count": 134,
   "metadata": {
    "ExecuteTime": {
     "end_time": "2020-05-11T08:08:07.866795Z",
     "start_time": "2020-05-11T08:08:07.840801Z"
    }
   },
   "outputs": [],
   "source": [
    "qual_train = svd.transform(qual_train)\n",
    "qual_train = pd.DataFrame(qual_train, columns=['svd_{}'.format(i) for i in range(20)])\n",
    "train_df = pd.concat((train_df, qual_train), axis=1)\n",
    "qual_test = svd.transform(qual_test)\n",
    "qual_test = pd.DataFrame(qual_test, columns=['svd_{}'.format(i) for i in range(20)])\n",
    "test_df = pd.concat((test_df, qual_test), axis=1)"
   ]
  },
  {
   "cell_type": "code",
   "execution_count": 135,
   "metadata": {
    "ExecuteTime": {
     "end_time": "2020-05-11T08:08:14.254509Z",
     "start_time": "2020-05-11T08:08:14.191508Z"
    }
   },
   "outputs": [
    {
     "data": {
      "text/html": [
       "<div>\n",
       "<style scoped>\n",
       "    .dataframe tbody tr th:only-of-type {\n",
       "        vertical-align: middle;\n",
       "    }\n",
       "\n",
       "    .dataframe tbody tr th {\n",
       "        vertical-align: top;\n",
       "    }\n",
       "\n",
       "    .dataframe thead th {\n",
       "        text-align: right;\n",
       "    }\n",
       "</style>\n",
       "<table border=\"1\" class=\"dataframe\">\n",
       "  <thead>\n",
       "    <tr style=\"text-align: right;\">\n",
       "      <th></th>\n",
       "      <th>Qualification</th>\n",
       "      <th>Experience</th>\n",
       "      <th>Rating</th>\n",
       "      <th>Place</th>\n",
       "      <th>Profile</th>\n",
       "      <th>Miscellaneous_Info</th>\n",
       "      <th>Fees</th>\n",
       "      <th>Area</th>\n",
       "      <th>City</th>\n",
       "      <th>Has_M_Info</th>\n",
       "      <th>svd_0</th>\n",
       "      <th>svd_1</th>\n",
       "      <th>svd_2</th>\n",
       "      <th>svd_3</th>\n",
       "      <th>svd_4</th>\n",
       "      <th>svd_5</th>\n",
       "      <th>svd_6</th>\n",
       "      <th>svd_7</th>\n",
       "      <th>svd_8</th>\n",
       "      <th>svd_9</th>\n",
       "      <th>svd_10</th>\n",
       "      <th>svd_11</th>\n",
       "      <th>svd_12</th>\n",
       "      <th>svd_13</th>\n",
       "      <th>svd_14</th>\n",
       "      <th>svd_15</th>\n",
       "      <th>svd_16</th>\n",
       "      <th>svd_17</th>\n",
       "      <th>svd_18</th>\n",
       "      <th>svd_19</th>\n",
       "    </tr>\n",
       "  </thead>\n",
       "  <tbody>\n",
       "    <tr>\n",
       "      <th>0</th>\n",
       "      <td>BHMS, MD - Homeopathy</td>\n",
       "      <td>24</td>\n",
       "      <td>100.0</td>\n",
       "      <td>Kakkanad, Ernakulam</td>\n",
       "      <td>Homeopath</td>\n",
       "      <td>100% 16 Feedback Kakkanad, Ernakulam</td>\n",
       "      <td>100</td>\n",
       "      <td>Kakkanad</td>\n",
       "      <td>Ernakulam</td>\n",
       "      <td>1</td>\n",
       "      <td>0.204698</td>\n",
       "      <td>-0.004905</td>\n",
       "      <td>0.617614</td>\n",
       "      <td>-0.094015</td>\n",
       "      <td>-0.160937</td>\n",
       "      <td>0.038923</td>\n",
       "      <td>-0.176068</td>\n",
       "      <td>-0.056247</td>\n",
       "      <td>-0.029595</td>\n",
       "      <td>0.469657</td>\n",
       "      <td>0.178304</td>\n",
       "      <td>0.227179</td>\n",
       "      <td>-0.325477</td>\n",
       "      <td>0.006802</td>\n",
       "      <td>-0.233805</td>\n",
       "      <td>0.164198</td>\n",
       "      <td>0.075277</td>\n",
       "      <td>-0.023649</td>\n",
       "      <td>0.001091</td>\n",
       "      <td>-0.029777</td>\n",
       "    </tr>\n",
       "    <tr>\n",
       "      <th>1</th>\n",
       "      <td>BAMS, MD - Ayurveda Medicine</td>\n",
       "      <td>12</td>\n",
       "      <td>98.0</td>\n",
       "      <td>Whitefield, Bangalore</td>\n",
       "      <td>Ayurveda</td>\n",
       "      <td>98% 76 Feedback Whitefield, Bangalore</td>\n",
       "      <td>350</td>\n",
       "      <td>Whitefield</td>\n",
       "      <td>Bangalore</td>\n",
       "      <td>1</td>\n",
       "      <td>0.268381</td>\n",
       "      <td>-0.001537</td>\n",
       "      <td>0.122677</td>\n",
       "      <td>0.555758</td>\n",
       "      <td>-0.217448</td>\n",
       "      <td>0.304366</td>\n",
       "      <td>-0.322422</td>\n",
       "      <td>-0.039006</td>\n",
       "      <td>-0.031482</td>\n",
       "      <td>0.040159</td>\n",
       "      <td>0.082558</td>\n",
       "      <td>0.054594</td>\n",
       "      <td>0.101395</td>\n",
       "      <td>-0.115269</td>\n",
       "      <td>0.429609</td>\n",
       "      <td>0.089250</td>\n",
       "      <td>0.199118</td>\n",
       "      <td>-0.232460</td>\n",
       "      <td>-0.001182</td>\n",
       "      <td>-0.092342</td>\n",
       "    </tr>\n",
       "    <tr>\n",
       "      <th>2</th>\n",
       "      <td>MBBS, MS - Otorhinolaryngology</td>\n",
       "      <td>9</td>\n",
       "      <td>NaN</td>\n",
       "      <td>Mathikere - BEL, Bangalore</td>\n",
       "      <td>ENT Specialist</td>\n",
       "      <td>NaN</td>\n",
       "      <td>300</td>\n",
       "      <td>Mathikere - BEL</td>\n",
       "      <td>Bangalore</td>\n",
       "      <td>0</td>\n",
       "      <td>0.421921</td>\n",
       "      <td>-0.009890</td>\n",
       "      <td>-0.076033</td>\n",
       "      <td>-0.047997</td>\n",
       "      <td>0.483719</td>\n",
       "      <td>-0.076854</td>\n",
       "      <td>-0.143327</td>\n",
       "      <td>0.128528</td>\n",
       "      <td>-0.047773</td>\n",
       "      <td>0.046817</td>\n",
       "      <td>-0.042404</td>\n",
       "      <td>0.289299</td>\n",
       "      <td>-0.147402</td>\n",
       "      <td>-0.030047</td>\n",
       "      <td>0.268585</td>\n",
       "      <td>-0.187892</td>\n",
       "      <td>-0.286436</td>\n",
       "      <td>0.069708</td>\n",
       "      <td>-0.127071</td>\n",
       "      <td>0.000164</td>\n",
       "    </tr>\n",
       "    <tr>\n",
       "      <th>3</th>\n",
       "      <td>BSc - Zoology, BAMS</td>\n",
       "      <td>12</td>\n",
       "      <td>NaN</td>\n",
       "      <td>Bannerghatta Road, Bangalore</td>\n",
       "      <td>Ayurveda</td>\n",
       "      <td>Bannerghatta Road, Bangalore ₹250 Available on...</td>\n",
       "      <td>250</td>\n",
       "      <td>Bannerghatta Road</td>\n",
       "      <td>Bangalore</td>\n",
       "      <td>1</td>\n",
       "      <td>0.019226</td>\n",
       "      <td>0.000641</td>\n",
       "      <td>0.042800</td>\n",
       "      <td>0.252416</td>\n",
       "      <td>0.020670</td>\n",
       "      <td>-0.017922</td>\n",
       "      <td>0.022171</td>\n",
       "      <td>0.001428</td>\n",
       "      <td>0.001324</td>\n",
       "      <td>-0.001620</td>\n",
       "      <td>-0.003270</td>\n",
       "      <td>-0.002043</td>\n",
       "      <td>-0.004653</td>\n",
       "      <td>0.004881</td>\n",
       "      <td>-0.017885</td>\n",
       "      <td>-0.002695</td>\n",
       "      <td>-0.006749</td>\n",
       "      <td>0.007466</td>\n",
       "      <td>-0.002445</td>\n",
       "      <td>0.005250</td>\n",
       "    </tr>\n",
       "    <tr>\n",
       "      <th>4</th>\n",
       "      <td>BAMS</td>\n",
       "      <td>20</td>\n",
       "      <td>100.0</td>\n",
       "      <td>Keelkattalai, Chennai</td>\n",
       "      <td>Ayurveda</td>\n",
       "      <td>100% 4 Feedback Keelkattalai, Chennai</td>\n",
       "      <td>250</td>\n",
       "      <td>Keelkattalai</td>\n",
       "      <td>Chennai</td>\n",
       "      <td>1</td>\n",
       "      <td>0.073281</td>\n",
       "      <td>0.000587</td>\n",
       "      <td>0.162586</td>\n",
       "      <td>0.970117</td>\n",
       "      <td>0.079316</td>\n",
       "      <td>-0.069387</td>\n",
       "      <td>0.087409</td>\n",
       "      <td>0.000966</td>\n",
       "      <td>0.004394</td>\n",
       "      <td>-0.007643</td>\n",
       "      <td>-0.014114</td>\n",
       "      <td>-0.001961</td>\n",
       "      <td>-0.017865</td>\n",
       "      <td>0.022022</td>\n",
       "      <td>-0.063619</td>\n",
       "      <td>-0.018406</td>\n",
       "      <td>-0.026626</td>\n",
       "      <td>0.031914</td>\n",
       "      <td>0.002653</td>\n",
       "      <td>0.016306</td>\n",
       "    </tr>\n",
       "  </tbody>\n",
       "</table>\n",
       "</div>"
      ],
      "text/plain": [
       "                    Qualification  Experience  Rating  \\\n",
       "0           BHMS, MD - Homeopathy          24   100.0   \n",
       "1    BAMS, MD - Ayurveda Medicine          12    98.0   \n",
       "2  MBBS, MS - Otorhinolaryngology           9     NaN   \n",
       "3             BSc - Zoology, BAMS          12     NaN   \n",
       "4                            BAMS          20   100.0   \n",
       "\n",
       "                          Place         Profile  \\\n",
       "0           Kakkanad, Ernakulam       Homeopath   \n",
       "1         Whitefield, Bangalore        Ayurveda   \n",
       "2    Mathikere - BEL, Bangalore  ENT Specialist   \n",
       "3  Bannerghatta Road, Bangalore        Ayurveda   \n",
       "4         Keelkattalai, Chennai        Ayurveda   \n",
       "\n",
       "                                  Miscellaneous_Info  Fees               Area  \\\n",
       "0               100% 16 Feedback Kakkanad, Ernakulam   100           Kakkanad   \n",
       "1              98% 76 Feedback Whitefield, Bangalore   350         Whitefield   \n",
       "2                                                NaN   300    Mathikere - BEL   \n",
       "3  Bannerghatta Road, Bangalore ₹250 Available on...   250  Bannerghatta Road   \n",
       "4              100% 4 Feedback Keelkattalai, Chennai   250       Keelkattalai   \n",
       "\n",
       "        City  Has_M_Info     svd_0     svd_1     svd_2     svd_3     svd_4  \\\n",
       "0  Ernakulam           1  0.204698 -0.004905  0.617614 -0.094015 -0.160937   \n",
       "1  Bangalore           1  0.268381 -0.001537  0.122677  0.555758 -0.217448   \n",
       "2  Bangalore           0  0.421921 -0.009890 -0.076033 -0.047997  0.483719   \n",
       "3  Bangalore           1  0.019226  0.000641  0.042800  0.252416  0.020670   \n",
       "4    Chennai           1  0.073281  0.000587  0.162586  0.970117  0.079316   \n",
       "\n",
       "      svd_5     svd_6     svd_7     svd_8     svd_9    svd_10    svd_11  \\\n",
       "0  0.038923 -0.176068 -0.056247 -0.029595  0.469657  0.178304  0.227179   \n",
       "1  0.304366 -0.322422 -0.039006 -0.031482  0.040159  0.082558  0.054594   \n",
       "2 -0.076854 -0.143327  0.128528 -0.047773  0.046817 -0.042404  0.289299   \n",
       "3 -0.017922  0.022171  0.001428  0.001324 -0.001620 -0.003270 -0.002043   \n",
       "4 -0.069387  0.087409  0.000966  0.004394 -0.007643 -0.014114 -0.001961   \n",
       "\n",
       "     svd_12    svd_13    svd_14    svd_15    svd_16    svd_17    svd_18  \\\n",
       "0 -0.325477  0.006802 -0.233805  0.164198  0.075277 -0.023649  0.001091   \n",
       "1  0.101395 -0.115269  0.429609  0.089250  0.199118 -0.232460 -0.001182   \n",
       "2 -0.147402 -0.030047  0.268585 -0.187892 -0.286436  0.069708 -0.127071   \n",
       "3 -0.004653  0.004881 -0.017885 -0.002695 -0.006749  0.007466 -0.002445   \n",
       "4 -0.017865  0.022022 -0.063619 -0.018406 -0.026626  0.031914  0.002653   \n",
       "\n",
       "     svd_19  \n",
       "0 -0.029777  \n",
       "1 -0.092342  \n",
       "2  0.000164  \n",
       "3  0.005250  \n",
       "4  0.016306  "
      ]
     },
     "metadata": {},
     "output_type": "display_data"
    }
   ],
   "source": [
    "show_all(train_df.head())"
   ]
  },
  {
   "cell_type": "code",
   "execution_count": 140,
   "metadata": {
    "ExecuteTime": {
     "end_time": "2020-05-11T08:13:42.997137Z",
     "start_time": "2020-05-11T08:13:42.328241Z"
    }
   },
   "outputs": [
    {
     "data": {
      "image/png": "[encoded data removed]",
      "text/plain": [
       "<Figure size 432x288 with 2 Axes>"
      ]
     },
     "metadata": {
      "needs_background": "light"
     },
     "output_type": "display_data"
    }
   ],
   "source": [
    "heat_map = sns.heatmap(train_df.corr())"
   ]
  },
  {
   "cell_type": "code",
   "execution_count": 141,
   "metadata": {
    "ExecuteTime": {
     "end_time": "2020-05-11T08:13:47.845147Z",
     "start_time": "2020-05-11T08:13:47.839150Z"
    }
   },
   "outputs": [],
   "source": [
    "features = [col for col in test_df.columns if col not in ['Qualification', 'Place', 'Miscellaneous_Info', 'Area']]"
   ]
  },
  {
   "cell_type": "code",
   "execution_count": 142,
   "metadata": {
    "ExecuteTime": {
     "end_time": "2020-05-11T08:13:52.133177Z",
     "start_time": "2020-05-11T08:13:52.124198Z"
    }
   },
   "outputs": [
    {
     "data": {
      "text/plain": [
       "['Experience',\n",
       " 'Rating',\n",
       " 'Profile',\n",
       " 'City',\n",
       " 'Has_M_Info',\n",
       " 'svd_0',\n",
       " 'svd_1',\n",
       " 'svd_2',\n",
       " 'svd_3',\n",
       " 'svd_4',\n",
       " 'svd_5',\n",
       " 'svd_6',\n",
       " 'svd_7',\n",
       " 'svd_8',\n",
       " 'svd_9',\n",
       " 'svd_10',\n",
       " 'svd_11',\n",
       " 'svd_12',\n",
       " 'svd_13',\n",
       " 'svd_14',\n",
       " 'svd_15',\n",
       " 'svd_16',\n",
       " 'svd_17',\n",
       " 'svd_18',\n",
       " 'svd_19']"
      ]
     },
     "execution_count": 142,
     "metadata": {},
     "output_type": "execute_result"
    }
   ],
   "source": [
    "features"
   ]
  },
  {
   "cell_type": "markdown",
   "metadata": {},
   "source": [
    "# Modeling"
   ]
  },
  {
   "cell_type": "code",
   "execution_count": 158,
   "metadata": {
    "ExecuteTime": {
     "end_time": "2020-05-11T19:53:55.171756Z",
     "start_time": "2020-05-11T19:53:55.141760Z"
    }
   },
   "outputs": [],
   "source": [
    "def rmse(actual, predicted):\n",
    "    return np.sqrt(mean_squared_error(actual, predicted))"
   ]
  },
  {
   "cell_type": "code",
   "execution_count": 162,
   "metadata": {
    "ExecuteTime": {
     "end_time": "2020-05-11T19:54:45.192535Z",
     "start_time": "2020-05-11T19:54:45.164539Z"
    }
   },
   "outputs": [],
   "source": [
    "cat_inds = [2,3,4]\n",
    "def run_cv_model(train, target, model_fn, params={}, n_repeats=1, n_splits=5, test=None, eval_fn=None, label='model', cv_verbose = False, model_verbose=False):\n",
    "    kf = RepeatedKFold(n_splits=n_splits, random_state=42, n_repeats = n_repeats)\n",
    "    fold_splits = kf.split(train, target)\n",
    "    cv_scores = []\n",
    "    rmsle_scores = []\n",
    "    pred_full_test = np.zeros((test.shape[0], n_splits*n_repeats))\n",
    "    pred_train = np.zeros((train.shape[0], n_splits*n_repeats))\n",
    "    feature_importance_df = pd.DataFrame()\n",
    "    i = 1\n",
    "    for dev_index, val_index in fold_splits:\n",
    "        if cv_verbose:\n",
    "            print('Started ' + label + ' fold ' + str(i) + '/'+str(n_splits*n_repeats))\n",
    "        if isinstance(train, pd.DataFrame):\n",
    "            dev_X, val_X = train.iloc[dev_index], train.iloc[val_index]\n",
    "            dev_y, val_y = target[dev_index], target[val_index]\n",
    "        else:\n",
    "            dev_X, val_X = train[dev_index], train[val_index]\n",
    "            dev_y, val_y = target[dev_index], target[val_index]\n",
    "        params2 = params.copy()\n",
    "        pred_val_y, pred_test_y, importances, rmsle = model_fn(dev_X, dev_y, val_X, val_y, test, params2, model_verbose)\n",
    "        pred_full_test[:, i-1] = pred_test_y.flatten()\n",
    "        pred_train[val_index] = pred_val_y\n",
    "        if eval_fn is not None:\n",
    "            cv_score = eval_fn(val_y, pred_val_y)\n",
    "            cv_scores.append(cv_score)\n",
    "            rmsle_scores.append(rmsle)\n",
    "            if cv_verbose:\n",
    "                print(label + ' cv score {}: RMSE {}, RMSLE {}'.format(i, cv_score, rmsle))\n",
    "        fold_importance_df = pd.DataFrame()\n",
    "        fold_importance_df['feature'] = train.columns.values\n",
    "        fold_importance_df['importance'] = importances\n",
    "        fold_importance_df['fold'] = i\n",
    "        feature_importance_df = pd.concat([feature_importance_df, fold_importance_df], axis=0)        \n",
    "        i += 1\n",
    "    \n",
    "    if cv_verbose:\n",
    "        print(\"\\n\\n CV - Report\\n\")\n",
    "        print('{} cv RMSE scores : {}'.format(label, cv_scores))\n",
    "        print('{} cv mean RMSE score : {}'.format(label, np.mean(cv_scores)))\n",
    "        print('{} cv std RMSE score : {}'.format(label, np.std(cv_scores)))\n",
    "        print('{} cv RMSLE scores : {}'.format(label, rmsle_scores))\n",
    "        print('{} cv mean RMSLE score : {}'.format(label, np.mean(rmsle_scores)))\n",
    "        print('{} cv std RMSLE score : {}'.format(label, np.std(rmsle_scores)))\n",
    "    results = {'label': label,\n",
    "               'train': pred_train, 'test': pred_full_test,\n",
    "                'cv': cv_scores, 'rmsle': rmsle_scores,\n",
    "               'importance': feature_importance_df}\n",
    "    return results"
   ]
  },
  {
   "cell_type": "code",
   "execution_count": 163,
   "metadata": {
    "ExecuteTime": {
     "end_time": "2020-05-11T19:54:46.079285Z",
     "start_time": "2020-05-11T19:54:46.065288Z"
    }
   },
   "outputs": [],
   "source": [
    "def runCatBoostReg(train_X, train_y, test_X, test_y, test_X2, params, model_verbose):\n",
    "    if model_verbose:\n",
    "        print('Prep Catboost Regressor')\n",
    "    cat_ind = params.pop('cat_features')\n",
    "    val_pool = cb.Pool(test_X.values, test_y.values, cat_features=cat_ind)\n",
    "    model = cb.CatBoostRegressor()\n",
    "    model.set_params(** params)\n",
    "    if model_verbose:\n",
    "        print('Train Catboost Regressor')\n",
    "    model.fit(X=train_X, y=train_y, eval_set=val_pool, cat_features=cat_ind, use_best_model=True)\n",
    "    \n",
    "    if model_verbose:\n",
    "        print('Predict validation set')\n",
    "    pred_test_y = model.predict(test_X)\n",
    "    rmsle = np.sqrt(mean_squared_log_error(test_y, pred_test_y))\n",
    "    if model_verbose:\n",
    "        print('Predict actual test set')\n",
    "    if test_X2 is not None:\n",
    "        pred_test_y2 = model.predict(test_X2)\n",
    "        pred_test_y2 = pred_test_y2.reshape(-1, 1)\n",
    "    else:\n",
    "        pred_test_y2 = 0\n",
    "    pred_test_y = pred_test_y.reshape(-1, 1)\n",
    "    return pred_test_y, pred_test_y2, model.feature_importances_, rmsle"
   ]
  },
  {
   "cell_type": "code",
   "execution_count": 164,
   "metadata": {
    "ExecuteTime": {
     "end_time": "2020-05-11T19:57:26.525429Z",
     "start_time": "2020-05-11T19:54:46.716866Z"
    }
   },
   "outputs": [
    {
     "name": "stdout",
     "output_type": "stream",
     "text": [
      "Started CatBoost fold 1/5\n",
      "Prep Catboost Regressor\n",
      "Train Catboost Regressor\n",
      "0:\tlearn: 190.2004939\ttest: 183.7913562\tbest: 183.7913562 (0)\ttotal: 60.5ms\tremaining: 10m 4s\n",
      "100:\tlearn: 156.2009686\ttest: 163.4897377\tbest: 163.3717113 (62)\ttotal: 5.78s\tremaining: 9m 26s\n",
      "200:\tlearn: 147.4677403\ttest: 164.5165584\tbest: 163.3717113 (62)\ttotal: 11.3s\tremaining: 9m 8s\n",
      "300:\tlearn: 140.2689780\ttest: 165.0217560\tbest: 163.3717113 (62)\ttotal: 17.3s\tremaining: 9m 17s\n",
      "400:\tlearn: 134.5793676\ttest: 166.1698654\tbest: 163.3717113 (62)\ttotal: 24.3s\tremaining: 9m 41s\n",
      "Stopped by overfitting detector  (400 iterations wait)\n",
      "\n",
      "bestTest = 163.3717113\n",
      "bestIteration = 62\n",
      "\n",
      "Shrink model to first 63 iterations.\n",
      "Predict validation set\n",
      "Predict actual test set\n",
      "CatBoost cv score 1: RMSE 163.37171134396755, RMSLE 0.6059815745394165\n",
      "Started CatBoost fold 2/5\n",
      "Prep Catboost Regressor\n",
      "Train Catboost Regressor\n",
      "0:\tlearn: 187.7093439\ttest: 193.7867515\tbest: 193.7867515 (0)\ttotal: 108ms\tremaining: 18m 3s\n",
      "100:\tlearn: 154.1945696\ttest: 170.9381369\tbest: 170.9084281 (88)\ttotal: 6.68s\tremaining: 10m 54s\n",
      "200:\tlearn: 146.4293683\ttest: 171.2128620\tbest: 170.9084281 (88)\ttotal: 12.8s\tremaining: 10m 25s\n",
      "300:\tlearn: 139.5944508\ttest: 171.5417433\tbest: 170.9084281 (88)\ttotal: 20.2s\tremaining: 10m 51s\n",
      "400:\tlearn: 133.8570712\ttest: 172.3757777\tbest: 170.9084281 (88)\ttotal: 27.2s\tremaining: 10m 50s\n",
      "Stopped by overfitting detector  (400 iterations wait)\n",
      "\n",
      "bestTest = 170.9084281\n",
      "bestIteration = 88\n",
      "\n",
      "Shrink model to first 89 iterations.\n",
      "Predict validation set\n",
      "Predict actual test set\n",
      "CatBoost cv score 2: RMSE 170.9084280892626, RMSLE 0.6371202942504643\n",
      "Started CatBoost fold 3/5\n",
      "Prep Catboost Regressor\n",
      "Train Catboost Regressor\n",
      "0:\tlearn: 187.7655039\ttest: 193.0112380\tbest: 193.0112380 (0)\ttotal: 75.7ms\tremaining: 12m 36s\n",
      "100:\tlearn: 153.5785460\ttest: 172.1339007\tbest: 172.0245789 (98)\ttotal: 5.41s\tremaining: 8m 50s\n",
      "200:\tlearn: 144.8451030\ttest: 172.5168014\tbest: 172.0245789 (98)\ttotal: 11s\tremaining: 8m 53s\n",
      "300:\tlearn: 138.3848427\ttest: 172.9468329\tbest: 172.0245789 (98)\ttotal: 16.6s\tremaining: 8m 54s\n",
      "400:\tlearn: 132.7992135\ttest: 173.8018307\tbest: 172.0245789 (98)\ttotal: 22.7s\tremaining: 9m 2s\n",
      "Stopped by overfitting detector  (400 iterations wait)\n",
      "\n",
      "bestTest = 172.0245789\n",
      "bestIteration = 98\n",
      "\n",
      "Shrink model to first 99 iterations.\n",
      "Predict validation set\n",
      "Predict actual test set\n",
      "CatBoost cv score 3: RMSE 172.0245788818143, RMSLE 0.6287834635933883\n",
      "Started CatBoost fold 4/5\n",
      "Prep Catboost Regressor\n",
      "Train Catboost Regressor\n",
      "0:\tlearn: 188.5903503\ttest: 189.8962218\tbest: 189.8962218 (0)\ttotal: 101ms\tremaining: 16m 49s\n",
      "100:\tlearn: 153.1902217\ttest: 170.7846821\tbest: 170.6569542 (76)\ttotal: 7.31s\tremaining: 11m 56s\n",
      "200:\tlearn: 145.0865884\ttest: 171.3799804\tbest: 170.6569542 (76)\ttotal: 12.7s\tremaining: 10m 20s\n",
      "300:\tlearn: 138.8778808\ttest: 171.9090906\tbest: 170.6569542 (76)\ttotal: 19.7s\tremaining: 10m 34s\n",
      "400:\tlearn: 132.8500929\ttest: 172.8874048\tbest: 170.6569542 (76)\ttotal: 26.1s\tremaining: 10m 24s\n",
      "Stopped by overfitting detector  (400 iterations wait)\n",
      "\n",
      "bestTest = 170.6569542\n",
      "bestIteration = 76\n",
      "\n",
      "Shrink model to first 77 iterations.\n",
      "Predict validation set\n",
      "Predict actual test set\n",
      "CatBoost cv score 4: RMSE 170.65695416581576, RMSLE 0.6361836117124963\n",
      "Started CatBoost fold 5/5\n",
      "Prep Catboost Regressor\n",
      "Train Catboost Regressor\n",
      "0:\tlearn: 189.9424050\ttest: 184.5957112\tbest: 184.5957112 (0)\ttotal: 69.5ms\tremaining: 11m 35s\n",
      "100:\tlearn: 154.7957815\ttest: 166.1354644\tbest: 166.1354644 (100)\ttotal: 7.58s\tremaining: 12m 22s\n",
      "200:\tlearn: 146.7446725\ttest: 166.1016161\tbest: 165.9285542 (149)\ttotal: 14.4s\tremaining: 11m 40s\n",
      "300:\tlearn: 139.5149135\ttest: 166.6787015\tbest: 165.9285542 (149)\ttotal: 21s\tremaining: 11m 16s\n",
      "400:\tlearn: 134.6536882\ttest: 167.2728560\tbest: 165.9285542 (149)\ttotal: 26.8s\tremaining: 10m 42s\n",
      "500:\tlearn: 129.9080361\ttest: 167.9223691\tbest: 165.9285542 (149)\ttotal: 32.5s\tremaining: 10m 16s\n",
      "Stopped by overfitting detector  (400 iterations wait)\n",
      "\n",
      "bestTest = 165.9285542\n",
      "bestIteration = 149\n",
      "\n",
      "Shrink model to first 150 iterations.\n",
      "Predict validation set\n",
      "Predict actual test set\n",
      "CatBoost cv score 5: RMSE 165.92855424915746, RMSLE 0.6149904478056297\n",
      "\n",
      "\n",
      " CV - Report\n",
      "\n",
      "CatBoost cv RMSE scores : [163.37171134396755, 170.9084280892626, 172.0245788818143, 170.65695416581576, 165.92855424915746]\n",
      "CatBoost cv mean RMSE score : 168.57804534600353\n",
      "CatBoost cv std RMSE score : 3.339366881241524\n",
      "CatBoost cv RMSLE scores : [0.6059815745394165, 0.6371202942504643, 0.6287834635933883, 0.6361836117124963, 0.6149904478056297]\n",
      "CatBoost cv mean RMSLE score : 0.624611878380279\n",
      "CatBoost cv std RMSLE score : 0.012226428346735917\n"
     ]
    }
   ],
   "source": [
    "catboost_params = {'iterations': 10000,\n",
    "                   'learning_rate': 0.06,\n",
    "                   'depth': 8,\n",
    "                   'loss_function': 'RMSE',\n",
    "                   'eval_metric': 'RMSE',\n",
    "                   'random_seed': 2018,\n",
    "                   'l2_leaf_reg': 3,\n",
    "                   'early_stopping_rounds': 400,\n",
    "                   'use_best_model': True,\n",
    "                   'verbose': 100,\n",
    "                   'cat_features': cat_inds}\n",
    "\n",
    "results = run_cv_model(train_df[features], train_df['Fees'], runCatBoostReg, catboost_params, n_repeats=1, n_splits=5, test=test_df[features], eval_fn=rmse, label='CatBoost', cv_verbose=True, model_verbose=True)"
   ]
  },
  {
   "cell_type": "code",
   "execution_count": 165,
   "metadata": {
    "ExecuteTime": {
     "end_time": "2020-05-11T20:01:25.238295Z",
     "start_time": "2020-05-11T20:01:25.193287Z"
    }
   },
   "outputs": [
    {
     "data": {
      "text/html": [
       "<div>\n",
       "<style scoped>\n",
       "    .dataframe tbody tr th:only-of-type {\n",
       "        vertical-align: middle;\n",
       "    }\n",
       "\n",
       "    .dataframe tbody tr th {\n",
       "        vertical-align: top;\n",
       "    }\n",
       "\n",
       "    .dataframe thead th {\n",
       "        text-align: right;\n",
       "    }\n",
       "</style>\n",
       "<table border=\"1\" class=\"dataframe\">\n",
       "  <thead>\n",
       "    <tr style=\"text-align: right;\">\n",
       "      <th></th>\n",
       "      <th>feature</th>\n",
       "      <th>importance</th>\n",
       "    </tr>\n",
       "  </thead>\n",
       "  <tbody>\n",
       "    <tr>\n",
       "      <th>0</th>\n",
       "      <td>City</td>\n",
       "      <td>17.786887</td>\n",
       "    </tr>\n",
       "    <tr>\n",
       "      <th>1</th>\n",
       "      <td>Experience</td>\n",
       "      <td>9.745784</td>\n",
       "    </tr>\n",
       "    <tr>\n",
       "      <th>2</th>\n",
       "      <td>Profile</td>\n",
       "      <td>9.423743</td>\n",
       "    </tr>\n",
       "    <tr>\n",
       "      <th>3</th>\n",
       "      <td>svd_0</td>\n",
       "      <td>9.038129</td>\n",
       "    </tr>\n",
       "    <tr>\n",
       "      <th>4</th>\n",
       "      <td>Has_M_Info</td>\n",
       "      <td>8.911096</td>\n",
       "    </tr>\n",
       "    <tr>\n",
       "      <th>5</th>\n",
       "      <td>Rating</td>\n",
       "      <td>3.815291</td>\n",
       "    </tr>\n",
       "    <tr>\n",
       "      <th>6</th>\n",
       "      <td>svd_1</td>\n",
       "      <td>3.449557</td>\n",
       "    </tr>\n",
       "    <tr>\n",
       "      <th>7</th>\n",
       "      <td>svd_5</td>\n",
       "      <td>2.806762</td>\n",
       "    </tr>\n",
       "    <tr>\n",
       "      <th>8</th>\n",
       "      <td>svd_18</td>\n",
       "      <td>2.446665</td>\n",
       "    </tr>\n",
       "    <tr>\n",
       "      <th>9</th>\n",
       "      <td>svd_9</td>\n",
       "      <td>2.321619</td>\n",
       "    </tr>\n",
       "    <tr>\n",
       "      <th>10</th>\n",
       "      <td>svd_6</td>\n",
       "      <td>2.311590</td>\n",
       "    </tr>\n",
       "    <tr>\n",
       "      <th>11</th>\n",
       "      <td>svd_15</td>\n",
       "      <td>2.272460</td>\n",
       "    </tr>\n",
       "    <tr>\n",
       "      <th>12</th>\n",
       "      <td>svd_3</td>\n",
       "      <td>2.227759</td>\n",
       "    </tr>\n",
       "    <tr>\n",
       "      <th>13</th>\n",
       "      <td>svd_10</td>\n",
       "      <td>2.222451</td>\n",
       "    </tr>\n",
       "    <tr>\n",
       "      <th>14</th>\n",
       "      <td>svd_7</td>\n",
       "      <td>2.155009</td>\n",
       "    </tr>\n",
       "    <tr>\n",
       "      <th>15</th>\n",
       "      <td>svd_11</td>\n",
       "      <td>2.136982</td>\n",
       "    </tr>\n",
       "    <tr>\n",
       "      <th>16</th>\n",
       "      <td>svd_4</td>\n",
       "      <td>2.100151</td>\n",
       "    </tr>\n",
       "    <tr>\n",
       "      <th>17</th>\n",
       "      <td>svd_14</td>\n",
       "      <td>1.977601</td>\n",
       "    </tr>\n",
       "    <tr>\n",
       "      <th>18</th>\n",
       "      <td>svd_13</td>\n",
       "      <td>1.968358</td>\n",
       "    </tr>\n",
       "    <tr>\n",
       "      <th>19</th>\n",
       "      <td>svd_12</td>\n",
       "      <td>1.956480</td>\n",
       "    </tr>\n",
       "    <tr>\n",
       "      <th>20</th>\n",
       "      <td>svd_8</td>\n",
       "      <td>1.942002</td>\n",
       "    </tr>\n",
       "    <tr>\n",
       "      <th>21</th>\n",
       "      <td>svd_2</td>\n",
       "      <td>1.927582</td>\n",
       "    </tr>\n",
       "    <tr>\n",
       "      <th>22</th>\n",
       "      <td>svd_19</td>\n",
       "      <td>1.758410</td>\n",
       "    </tr>\n",
       "    <tr>\n",
       "      <th>23</th>\n",
       "      <td>svd_16</td>\n",
       "      <td>1.731698</td>\n",
       "    </tr>\n",
       "    <tr>\n",
       "      <th>24</th>\n",
       "      <td>svd_17</td>\n",
       "      <td>1.565934</td>\n",
       "    </tr>\n",
       "  </tbody>\n",
       "</table>\n",
       "</div>"
      ],
      "text/plain": [
       "       feature  importance\n",
       "0         City   17.786887\n",
       "1   Experience    9.745784\n",
       "2      Profile    9.423743\n",
       "3        svd_0    9.038129\n",
       "4   Has_M_Info    8.911096\n",
       "5       Rating    3.815291\n",
       "6        svd_1    3.449557\n",
       "7        svd_5    2.806762\n",
       "8       svd_18    2.446665\n",
       "9        svd_9    2.321619\n",
       "10       svd_6    2.311590\n",
       "11      svd_15    2.272460\n",
       "12       svd_3    2.227759\n",
       "13      svd_10    2.222451\n",
       "14       svd_7    2.155009\n",
       "15      svd_11    2.136982\n",
       "16       svd_4    2.100151\n",
       "17      svd_14    1.977601\n",
       "18      svd_13    1.968358\n",
       "19      svd_12    1.956480\n",
       "20       svd_8    1.942002\n",
       "21       svd_2    1.927582\n",
       "22      svd_19    1.758410\n",
       "23      svd_16    1.731698\n",
       "24      svd_17    1.565934"
      ]
     },
     "metadata": {},
     "output_type": "display_data"
    }
   ],
   "source": [
    "imports = results['importance'].groupby('feature')['feature', 'importance'].mean().reset_index()\n",
    "show_all(imports.sort_values('importance', ascending=False).reset_index(drop=True))"
   ]
  },
  {
   "cell_type": "code",
   "execution_count": 166,
   "metadata": {
    "ExecuteTime": {
     "end_time": "2020-05-11T20:01:28.947410Z",
     "start_time": "2020-05-11T20:01:28.576350Z"
    }
   },
   "outputs": [
    {
     "data": {
      "image/png": "[encoded data removed]",
      "text/plain": [
       "<Figure size 432x288 with 1 Axes>"
      ]
     },
     "metadata": {
      "needs_background": "light"
     },
     "output_type": "display_data"
    }
   ],
   "source": [
    "# predicted target\n",
    "sns.distplot(results['train'][:, 0])\n",
    "plt.show()"
   ]
  },
  {
   "cell_type": "code",
   "execution_count": 167,
   "metadata": {
    "ExecuteTime": {
     "end_time": "2020-05-11T20:01:31.453062Z",
     "start_time": "2020-05-11T20:01:31.177975Z"
    }
   },
   "outputs": [
    {
     "data": {
      "image/png": "[encoded data removed]",
      "text/plain": [
       "<Figure size 432x288 with 1 Axes>"
      ]
     },
     "metadata": {
      "needs_background": "light"
     },
     "output_type": "display_data"
    }
   ],
   "source": [
    "# Test target\n",
    "sns.distplot(np.mean(results['test'], axis=1))\n",
    "plt.show()"
   ]
  },
  {
   "cell_type": "code",
   "execution_count": 168,
   "metadata": {
    "ExecuteTime": {
     "end_time": "2020-05-11T20:01:37.612902Z",
     "start_time": "2020-05-11T20:01:37.398422Z"
    }
   },
   "outputs": [],
   "source": [
    "sub_df = pd.read_excel('D:/Downloads/Doctor_fee_consultation/Sample_submission.xlsx')"
   ]
  },
  {
   "cell_type": "code",
   "execution_count": 169,
   "metadata": {
    "ExecuteTime": {
     "end_time": "2020-05-11T20:01:39.397128Z",
     "start_time": "2020-05-11T20:01:39.390131Z"
    }
   },
   "outputs": [],
   "source": [
    "sub_df['Fees'] = np.mean(results['test'], axis=1)"
   ]
  },
  {
   "cell_type": "code",
   "execution_count": 170,
   "metadata": {
    "ExecuteTime": {
     "end_time": "2020-05-11T20:01:40.450024Z",
     "start_time": "2020-05-11T20:01:40.434399Z"
    }
   },
   "outputs": [
    {
     "data": {
      "text/html": [
       "<div>\n",
       "<style scoped>\n",
       "    .dataframe tbody tr th:only-of-type {\n",
       "        vertical-align: middle;\n",
       "    }\n",
       "\n",
       "    .dataframe tbody tr th {\n",
       "        vertical-align: top;\n",
       "    }\n",
       "\n",
       "    .dataframe thead th {\n",
       "        text-align: right;\n",
       "    }\n",
       "</style>\n",
       "<table border=\"1\" class=\"dataframe\">\n",
       "  <thead>\n",
       "    <tr style=\"text-align: right;\">\n",
       "      <th></th>\n",
       "      <th>Fees</th>\n",
       "    </tr>\n",
       "  </thead>\n",
       "  <tbody>\n",
       "    <tr>\n",
       "      <th>0</th>\n",
       "      <td>224.614340</td>\n",
       "    </tr>\n",
       "    <tr>\n",
       "      <th>1</th>\n",
       "      <td>272.190449</td>\n",
       "    </tr>\n",
       "    <tr>\n",
       "      <th>2</th>\n",
       "      <td>357.999085</td>\n",
       "    </tr>\n",
       "    <tr>\n",
       "      <th>3</th>\n",
       "      <td>218.353070</td>\n",
       "    </tr>\n",
       "    <tr>\n",
       "      <th>4</th>\n",
       "      <td>283.533850</td>\n",
       "    </tr>\n",
       "  </tbody>\n",
       "</table>\n",
       "</div>"
      ],
      "text/plain": [
       "         Fees\n",
       "0  224.614340\n",
       "1  272.190449\n",
       "2  357.999085\n",
       "3  218.353070\n",
       "4  283.533850"
      ]
     },
     "execution_count": 170,
     "metadata": {},
     "output_type": "execute_result"
    }
   ],
   "source": [
    "sub_df.head()"
   ]
  },
  {
   "cell_type": "code",
   "execution_count": 171,
   "metadata": {
    "ExecuteTime": {
     "end_time": "2020-05-11T20:01:44.585399Z",
     "start_time": "2020-05-11T20:01:44.215318Z"
    }
   },
   "outputs": [],
   "source": [
    "sub_df.to_excel('D:/Downloads/Doctor_fee_consultation/Submission.xlsx', index=False)"
   ]
  },
  {
   "cell_type": "code",
   "execution_count": null,
   "metadata": {},
   "outputs": [],
   "source": []
  }
 ],
 "metadata": {
  "kernelspec": {
   "display_name": "Python 3",
   "language": "python",
   "name": "python3"
  },
  "language_info": {
   "codemirror_mode": {
    "name": "ipython",
    "version": 3
   },
   "file_extension": ".py",
   "mimetype": "text/x-python",
   "name": "python",
   "nbconvert_exporter": "python",
   "pygments_lexer": "ipython3",
   "version": "3.7.3"
  },
  "toc": {
   "base_numbering": 1,
   "nav_menu": {},
   "number_sections": true,
   "sideBar": true,
   "skip_h1_title": false,
   "title_cell": "Table of Contents",
   "title_sidebar": "Contents",
   "toc_cell": false,
   "toc_position": {},
   "toc_section_display": true,
   "toc_window_display": false
  }
 },
 "nbformat": 4,
 "nbformat_minor": 2
}

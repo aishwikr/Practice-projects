{
 "cells": [
  {
   "cell_type": "code",
   "execution_count": 2,
   "metadata": {
    "ExecuteTime": {
     "end_time": "2020-05-04T13:04:02.988407Z",
     "start_time": "2020-05-04T13:04:02.476701Z"
    }
   },
   "outputs": [],
   "source": [
    "import numpy as np\n",
    "import pandas as pd\n",
    "from sklearn.model_selection import train_test_split\n",
    "from sklearn.preprocessing import StandardScaler\n",
    "from sklearn.metrics import mean_squared_error\n",
    "from keras.models import Sequential\n",
    "from keras.layers import Dense\n",
    "from keras.wrappers.scikit_learn import KerasRegressor\n",
    "df=pd.read_csv('http://archive.ics.uci.edu/ml/machine-learning-databases/balance-scale/balance-scale.data',sep=',',header=None)"
   ]
  },
  {
   "cell_type": "code",
   "execution_count": 3,
   "metadata": {
    "ExecuteTime": {
     "end_time": "2020-05-04T13:04:04.179534Z",
     "start_time": "2020-05-04T13:04:04.150534Z"
    }
   },
   "outputs": [
    {
     "data": {
      "text/html": [
       "<div>\n",
       "<style scoped>\n",
       "    .dataframe tbody tr th:only-of-type {\n",
       "        vertical-align: middle;\n",
       "    }\n",
       "\n",
       "    .dataframe tbody tr th {\n",
       "        vertical-align: top;\n",
       "    }\n",
       "\n",
       "    .dataframe thead th {\n",
       "        text-align: right;\n",
       "    }\n",
       "</style>\n",
       "<table border=\"1\" class=\"dataframe\">\n",
       "  <thead>\n",
       "    <tr style=\"text-align: right;\">\n",
       "      <th></th>\n",
       "      <th>0</th>\n",
       "      <th>1</th>\n",
       "      <th>2</th>\n",
       "      <th>3</th>\n",
       "      <th>4</th>\n",
       "    </tr>\n",
       "  </thead>\n",
       "  <tbody>\n",
       "    <tr>\n",
       "      <th>0</th>\n",
       "      <td>B</td>\n",
       "      <td>1</td>\n",
       "      <td>1</td>\n",
       "      <td>1</td>\n",
       "      <td>1</td>\n",
       "    </tr>\n",
       "    <tr>\n",
       "      <th>1</th>\n",
       "      <td>R</td>\n",
       "      <td>1</td>\n",
       "      <td>1</td>\n",
       "      <td>1</td>\n",
       "      <td>2</td>\n",
       "    </tr>\n",
       "    <tr>\n",
       "      <th>2</th>\n",
       "      <td>R</td>\n",
       "      <td>1</td>\n",
       "      <td>1</td>\n",
       "      <td>1</td>\n",
       "      <td>3</td>\n",
       "    </tr>\n",
       "    <tr>\n",
       "      <th>3</th>\n",
       "      <td>R</td>\n",
       "      <td>1</td>\n",
       "      <td>1</td>\n",
       "      <td>1</td>\n",
       "      <td>4</td>\n",
       "    </tr>\n",
       "    <tr>\n",
       "      <th>4</th>\n",
       "      <td>R</td>\n",
       "      <td>1</td>\n",
       "      <td>1</td>\n",
       "      <td>1</td>\n",
       "      <td>5</td>\n",
       "    </tr>\n",
       "  </tbody>\n",
       "</table>\n",
       "</div>"
      ],
      "text/plain": [
       "   0  1  2  3  4\n",
       "0  B  1  1  1  1\n",
       "1  R  1  1  1  2\n",
       "2  R  1  1  1  3\n",
       "3  R  1  1  1  4\n",
       "4  R  1  1  1  5"
      ]
     },
     "execution_count": 3,
     "metadata": {},
     "output_type": "execute_result"
    }
   ],
   "source": [
    "df.head()"
   ]
  },
  {
   "cell_type": "code",
   "execution_count": 4,
   "metadata": {
    "ExecuteTime": {
     "end_time": "2020-05-04T13:04:06.347085Z",
     "start_time": "2020-05-04T13:04:06.341085Z"
    }
   },
   "outputs": [],
   "source": [
    "df=df.rename(columns={0:'ClassName',1:'LeftWeight',2:'LeftDistance',3:'RightWeight',4:'RightDistance'})"
   ]
  },
  {
   "cell_type": "code",
   "execution_count": 5,
   "metadata": {
    "ExecuteTime": {
     "end_time": "2020-05-04T13:04:06.943495Z",
     "start_time": "2020-05-04T13:04:06.928500Z"
    }
   },
   "outputs": [
    {
     "data": {
      "text/html": [
       "<div>\n",
       "<style scoped>\n",
       "    .dataframe tbody tr th:only-of-type {\n",
       "        vertical-align: middle;\n",
       "    }\n",
       "\n",
       "    .dataframe tbody tr th {\n",
       "        vertical-align: top;\n",
       "    }\n",
       "\n",
       "    .dataframe thead th {\n",
       "        text-align: right;\n",
       "    }\n",
       "</style>\n",
       "<table border=\"1\" class=\"dataframe\">\n",
       "  <thead>\n",
       "    <tr style=\"text-align: right;\">\n",
       "      <th></th>\n",
       "      <th>ClassName</th>\n",
       "      <th>LeftWeight</th>\n",
       "      <th>LeftDistance</th>\n",
       "      <th>RightWeight</th>\n",
       "      <th>RightDistance</th>\n",
       "    </tr>\n",
       "  </thead>\n",
       "  <tbody>\n",
       "    <tr>\n",
       "      <th>0</th>\n",
       "      <td>B</td>\n",
       "      <td>1</td>\n",
       "      <td>1</td>\n",
       "      <td>1</td>\n",
       "      <td>1</td>\n",
       "    </tr>\n",
       "    <tr>\n",
       "      <th>1</th>\n",
       "      <td>R</td>\n",
       "      <td>1</td>\n",
       "      <td>1</td>\n",
       "      <td>1</td>\n",
       "      <td>2</td>\n",
       "    </tr>\n",
       "    <tr>\n",
       "      <th>2</th>\n",
       "      <td>R</td>\n",
       "      <td>1</td>\n",
       "      <td>1</td>\n",
       "      <td>1</td>\n",
       "      <td>3</td>\n",
       "    </tr>\n",
       "    <tr>\n",
       "      <th>3</th>\n",
       "      <td>R</td>\n",
       "      <td>1</td>\n",
       "      <td>1</td>\n",
       "      <td>1</td>\n",
       "      <td>4</td>\n",
       "    </tr>\n",
       "    <tr>\n",
       "      <th>4</th>\n",
       "      <td>R</td>\n",
       "      <td>1</td>\n",
       "      <td>1</td>\n",
       "      <td>1</td>\n",
       "      <td>5</td>\n",
       "    </tr>\n",
       "  </tbody>\n",
       "</table>\n",
       "</div>"
      ],
      "text/plain": [
       "  ClassName  LeftWeight  LeftDistance  RightWeight  RightDistance\n",
       "0         B           1             1            1              1\n",
       "1         R           1             1            1              2\n",
       "2         R           1             1            1              3\n",
       "3         R           1             1            1              4\n",
       "4         R           1             1            1              5"
      ]
     },
     "execution_count": 5,
     "metadata": {},
     "output_type": "execute_result"
    }
   ],
   "source": [
    "df.head()"
   ]
  },
  {
   "cell_type": "code",
   "execution_count": 6,
   "metadata": {
    "ExecuteTime": {
     "end_time": "2020-05-04T13:04:08.656112Z",
     "start_time": "2020-05-04T13:04:08.650115Z"
    }
   },
   "outputs": [
    {
     "data": {
      "text/plain": [
       "(625, 5)"
      ]
     },
     "execution_count": 6,
     "metadata": {},
     "output_type": "execute_result"
    }
   ],
   "source": [
    "df.shape"
   ]
  },
  {
   "cell_type": "code",
   "execution_count": 7,
   "metadata": {
    "ExecuteTime": {
     "end_time": "2020-05-04T13:04:09.313352Z",
     "start_time": "2020-05-04T13:04:09.302352Z"
    }
   },
   "outputs": [
    {
     "data": {
      "text/plain": [
       "ClassName        False\n",
       "LeftWeight       False\n",
       "LeftDistance     False\n",
       "RightWeight      False\n",
       "RightDistance    False\n",
       "dtype: bool"
      ]
     },
     "execution_count": 7,
     "metadata": {},
     "output_type": "execute_result"
    }
   ],
   "source": [
    "df.isnull().any()"
   ]
  },
  {
   "cell_type": "code",
   "execution_count": 8,
   "metadata": {
    "ExecuteTime": {
     "end_time": "2020-05-04T13:04:09.850668Z",
     "start_time": "2020-05-04T13:04:09.835665Z"
    }
   },
   "outputs": [
    {
     "name": "stdout",
     "output_type": "stream",
     "text": [
      "<class 'pandas.core.frame.DataFrame'>\n",
      "RangeIndex: 625 entries, 0 to 624\n",
      "Data columns (total 5 columns):\n",
      "ClassName        625 non-null object\n",
      "LeftWeight       625 non-null int64\n",
      "LeftDistance     625 non-null int64\n",
      "RightWeight      625 non-null int64\n",
      "RightDistance    625 non-null int64\n",
      "dtypes: int64(4), object(1)\n",
      "memory usage: 24.5+ KB\n"
     ]
    }
   ],
   "source": [
    "df.info()"
   ]
  },
  {
   "cell_type": "code",
   "execution_count": 9,
   "metadata": {
    "ExecuteTime": {
     "end_time": "2020-05-04T13:04:11.531557Z",
     "start_time": "2020-05-04T13:04:11.480563Z"
    }
   },
   "outputs": [
    {
     "data": {
      "text/html": [
       "<div>\n",
       "<style scoped>\n",
       "    .dataframe tbody tr th:only-of-type {\n",
       "        vertical-align: middle;\n",
       "    }\n",
       "\n",
       "    .dataframe tbody tr th {\n",
       "        vertical-align: top;\n",
       "    }\n",
       "\n",
       "    .dataframe thead th {\n",
       "        text-align: right;\n",
       "    }\n",
       "</style>\n",
       "<table border=\"1\" class=\"dataframe\">\n",
       "  <thead>\n",
       "    <tr style=\"text-align: right;\">\n",
       "      <th></th>\n",
       "      <th>LeftWeight</th>\n",
       "      <th>LeftDistance</th>\n",
       "      <th>RightWeight</th>\n",
       "      <th>RightDistance</th>\n",
       "    </tr>\n",
       "  </thead>\n",
       "  <tbody>\n",
       "    <tr>\n",
       "      <th>count</th>\n",
       "      <td>625.000000</td>\n",
       "      <td>625.000000</td>\n",
       "      <td>625.000000</td>\n",
       "      <td>625.000000</td>\n",
       "    </tr>\n",
       "    <tr>\n",
       "      <th>mean</th>\n",
       "      <td>3.000000</td>\n",
       "      <td>3.000000</td>\n",
       "      <td>3.000000</td>\n",
       "      <td>3.000000</td>\n",
       "    </tr>\n",
       "    <tr>\n",
       "      <th>std</th>\n",
       "      <td>1.415346</td>\n",
       "      <td>1.415346</td>\n",
       "      <td>1.415346</td>\n",
       "      <td>1.415346</td>\n",
       "    </tr>\n",
       "    <tr>\n",
       "      <th>min</th>\n",
       "      <td>1.000000</td>\n",
       "      <td>1.000000</td>\n",
       "      <td>1.000000</td>\n",
       "      <td>1.000000</td>\n",
       "    </tr>\n",
       "    <tr>\n",
       "      <th>25%</th>\n",
       "      <td>2.000000</td>\n",
       "      <td>2.000000</td>\n",
       "      <td>2.000000</td>\n",
       "      <td>2.000000</td>\n",
       "    </tr>\n",
       "    <tr>\n",
       "      <th>50%</th>\n",
       "      <td>3.000000</td>\n",
       "      <td>3.000000</td>\n",
       "      <td>3.000000</td>\n",
       "      <td>3.000000</td>\n",
       "    </tr>\n",
       "    <tr>\n",
       "      <th>75%</th>\n",
       "      <td>4.000000</td>\n",
       "      <td>4.000000</td>\n",
       "      <td>4.000000</td>\n",
       "      <td>4.000000</td>\n",
       "    </tr>\n",
       "    <tr>\n",
       "      <th>max</th>\n",
       "      <td>5.000000</td>\n",
       "      <td>5.000000</td>\n",
       "      <td>5.000000</td>\n",
       "      <td>5.000000</td>\n",
       "    </tr>\n",
       "  </tbody>\n",
       "</table>\n",
       "</div>"
      ],
      "text/plain": [
       "       LeftWeight  LeftDistance  RightWeight  RightDistance\n",
       "count  625.000000    625.000000   625.000000     625.000000\n",
       "mean     3.000000      3.000000     3.000000       3.000000\n",
       "std      1.415346      1.415346     1.415346       1.415346\n",
       "min      1.000000      1.000000     1.000000       1.000000\n",
       "25%      2.000000      2.000000     2.000000       2.000000\n",
       "50%      3.000000      3.000000     3.000000       3.000000\n",
       "75%      4.000000      4.000000     4.000000       4.000000\n",
       "max      5.000000      5.000000     5.000000       5.000000"
      ]
     },
     "execution_count": 9,
     "metadata": {},
     "output_type": "execute_result"
    }
   ],
   "source": [
    "df.describe()"
   ]
  },
  {
   "cell_type": "markdown",
   "metadata": {},
   "source": [
    "# Univariate Analysis"
   ]
  },
  {
   "cell_type": "code",
   "execution_count": 10,
   "metadata": {
    "ExecuteTime": {
     "end_time": "2020-05-04T13:04:16.374489Z",
     "start_time": "2020-05-04T13:04:15.702467Z"
    }
   },
   "outputs": [
    {
     "data": {
      "image/png": "[encoded data removed]",
      "text/plain": [
       "<Figure size 432x288 with 1 Axes>"
      ]
     },
     "metadata": {
      "needs_background": "light"
     },
     "output_type": "display_data"
    }
   ],
   "source": [
    "import seaborn as sns\n",
    "import matplotlib.pyplot as plt\n",
    "%matplotlib inline\n",
    "sns.distplot(df['LeftWeight'])\n",
    "plt.show()"
   ]
  },
  {
   "cell_type": "code",
   "execution_count": 11,
   "metadata": {
    "ExecuteTime": {
     "end_time": "2020-05-04T13:04:17.224206Z",
     "start_time": "2020-05-04T13:04:16.983192Z"
    }
   },
   "outputs": [
    {
     "data": {
      "image/png": "[encoded data removed]",
      "text/plain": [
       "<Figure size 432x288 with 1 Axes>"
      ]
     },
     "metadata": {
      "needs_background": "light"
     },
     "output_type": "display_data"
    }
   ],
   "source": [
    "import seaborn as sns\n",
    "import matplotlib.pyplot as plt\n",
    "%matplotlib inline\n",
    "sns.distplot(df['LeftDistance'])\n",
    "plt.show()"
   ]
  },
  {
   "cell_type": "markdown",
   "metadata": {},
   "source": [
    "# Bivariate Analysis"
   ]
  },
  {
   "cell_type": "code",
   "execution_count": 12,
   "metadata": {
    "ExecuteTime": {
     "end_time": "2020-05-04T13:05:07.966372Z",
     "start_time": "2020-05-04T13:05:07.469424Z"
    }
   },
   "outputs": [
    {
     "data": {
      "text/plain": [
       "<matplotlib.axes._subplots.AxesSubplot at 0x1ebedbd7da0>"
      ]
     },
     "execution_count": 12,
     "metadata": {},
     "output_type": "execute_result"
    },
    {
     "data": {
      "image/png": "[encoded data removed]",
      "text/plain": [
       "<Figure size 432x288 with 1 Axes>"
      ]
     },
     "metadata": {
      "needs_background": "light"
     },
     "output_type": "display_data"
    }
   ],
   "source": [
    "sns.barplot(x='LeftDistance', y='ClassName', hue='ClassName', data=df)"
   ]
  },
  {
   "cell_type": "code",
   "execution_count": 13,
   "metadata": {
    "ExecuteTime": {
     "end_time": "2020-05-04T13:05:09.291228Z",
     "start_time": "2020-05-04T13:05:08.719318Z"
    }
   },
   "outputs": [
    {
     "data": {
      "text/plain": [
       "<matplotlib.axes._subplots.AxesSubplot at 0x1ebedc7df60>"
      ]
     },
     "execution_count": 13,
     "metadata": {},
     "output_type": "execute_result"
    },
    {
     "data": {
      "image/png": "[encoded data removed]",
      "text/plain": [
       "<Figure size 432x288 with 1 Axes>"
      ]
     },
     "metadata": {
      "needs_background": "light"
     },
     "output_type": "display_data"
    }
   ],
   "source": [
    "sns.barplot(x='RightWeight', y='ClassName', hue='ClassName', data=df)"
   ]
  },
  {
   "cell_type": "code",
   "execution_count": 14,
   "metadata": {
    "ExecuteTime": {
     "end_time": "2020-05-04T13:05:09.897269Z",
     "start_time": "2020-05-04T13:05:09.875273Z"
    }
   },
   "outputs": [
    {
     "data": {
      "text/html": [
       "<div>\n",
       "<style scoped>\n",
       "    .dataframe tbody tr th:only-of-type {\n",
       "        vertical-align: middle;\n",
       "    }\n",
       "\n",
       "    .dataframe tbody tr th {\n",
       "        vertical-align: top;\n",
       "    }\n",
       "\n",
       "    .dataframe thead th {\n",
       "        text-align: right;\n",
       "    }\n",
       "</style>\n",
       "<table border=\"1\" class=\"dataframe\">\n",
       "  <thead>\n",
       "    <tr style=\"text-align: right;\">\n",
       "      <th></th>\n",
       "      <th>RightDistance</th>\n",
       "    </tr>\n",
       "    <tr>\n",
       "      <th>ClassName</th>\n",
       "      <th></th>\n",
       "    </tr>\n",
       "  </thead>\n",
       "  <tbody>\n",
       "    <tr>\n",
       "      <th>R</th>\n",
       "      <td>1040</td>\n",
       "    </tr>\n",
       "    <tr>\n",
       "      <th>L</th>\n",
       "      <td>691</td>\n",
       "    </tr>\n",
       "    <tr>\n",
       "      <th>B</th>\n",
       "      <td>144</td>\n",
       "    </tr>\n",
       "  </tbody>\n",
       "</table>\n",
       "</div>"
      ],
      "text/plain": [
       "           RightDistance\n",
       "ClassName               \n",
       "R                   1040\n",
       "L                    691\n",
       "B                    144"
      ]
     },
     "execution_count": 14,
     "metadata": {},
     "output_type": "execute_result"
    }
   ],
   "source": [
    "#RightDistance associated with class\n",
    "df.groupby(['ClassName']).agg({'RightDistance': 'sum'}).sort_values(by= 'RightDistance', ascending = False).head()"
   ]
  },
  {
   "cell_type": "markdown",
   "metadata": {},
   "source": [
    "# Heatmap"
   ]
  },
  {
   "cell_type": "code",
   "execution_count": 16,
   "metadata": {
    "ExecuteTime": {
     "end_time": "2020-05-04T13:06:41.397637Z",
     "start_time": "2020-05-04T13:06:41.379642Z"
    }
   },
   "outputs": [],
   "source": [
    "#One hot encoding\n",
    "df1 = df[['ClassName']]\n",
    "df1 = pd.concat([df,pd.get_dummies(df['ClassName'])], axis=1)\n",
    "df1.drop(['ClassName'], axis=1, inplace=True)"
   ]
  },
  {
   "cell_type": "code",
   "execution_count": 17,
   "metadata": {
    "ExecuteTime": {
     "end_time": "2020-05-04T13:06:58.185046Z",
     "start_time": "2020-05-04T13:06:57.755114Z"
    }
   },
   "outputs": [
    {
     "data": {
      "image/png": "[encoded data removed]",
      "text/plain": [
       "<Figure size 432x288 with 2 Axes>"
      ]
     },
     "metadata": {
      "needs_background": "light"
     },
     "output_type": "display_data"
    }
   ],
   "source": [
    "heat_map = sns.heatmap(df1.corr())"
   ]
  },
  {
   "cell_type": "markdown",
   "metadata": {},
   "source": [
    "# Removing outliers"
   ]
  },
  {
   "cell_type": "code",
   "execution_count": 71,
   "metadata": {
    "ExecuteTime": {
     "end_time": "2020-05-04T13:35:58.153642Z",
     "start_time": "2020-05-04T13:35:57.944678Z"
    }
   },
   "outputs": [
    {
     "data": {
      "text/plain": [
       "<matplotlib.axes._subplots.AxesSubplot at 0x1ebef8b92e8>"
      ]
     },
     "execution_count": 71,
     "metadata": {},
     "output_type": "execute_result"
    },
    {
     "data": {
      "image/png": "[encoded data removed]",
      "text/plain": [
       "<Figure size 432x288 with 1 Axes>"
      ]
     },
     "metadata": {
      "needs_background": "light"
     },
     "output_type": "display_data"
    }
   ],
   "source": [
    "sns.boxplot(df1)"
   ]
  },
  {
   "cell_type": "markdown",
   "metadata": {},
   "source": [
    "# Modeling"
   ]
  },
  {
   "cell_type": "code",
   "execution_count": 21,
   "metadata": {
    "ExecuteTime": {
     "end_time": "2020-05-04T13:08:58.717057Z",
     "start_time": "2020-05-04T13:08:58.712059Z"
    }
   },
   "outputs": [],
   "source": [
    "#set seed for reproducibility\n",
    "seed = 4\n",
    "np.random.seed(seed)"
   ]
  },
  {
   "cell_type": "code",
   "execution_count": 49,
   "metadata": {
    "ExecuteTime": {
     "end_time": "2020-05-04T13:15:38.405992Z",
     "start_time": "2020-05-04T13:15:38.188014Z"
    }
   },
   "outputs": [],
   "source": [
    "#define model with 3 hidden layers of 10 nodes and relu as activation function\n",
    "# and use MSE as loss metrics and adam as optimizer\n",
    "model = Sequential()\n",
    "model.add(Dense(10, activation='relu', input_dim=4))\n",
    "model.add(Dense(10, activation='relu'))\n",
    "model.add(Dense(10, activation='relu'))\n",
    "model.add(Dense(3, activation='linear'))\n",
    "# Compile model\n",
    "model.compile(loss='mean_squared_error', optimizer='adam')"
   ]
  },
  {
   "cell_type": "code",
   "execution_count": 63,
   "metadata": {
    "ExecuteTime": {
     "end_time": "2020-05-04T13:24:24.133298Z",
     "start_time": "2020-05-04T13:24:24.127299Z"
    }
   },
   "outputs": [],
   "source": [
    "#split dataset in target values and features\n",
    "X=df.iloc[:,1:]\n",
    "y=df1.iloc[:,-3:]"
   ]
  },
  {
   "cell_type": "code",
   "execution_count": 65,
   "metadata": {
    "ExecuteTime": {
     "end_time": "2020-05-04T13:24:50.014769Z",
     "start_time": "2020-05-04T13:24:49.996771Z"
    }
   },
   "outputs": [
    {
     "data": {
      "text/html": [
       "<div>\n",
       "<style scoped>\n",
       "    .dataframe tbody tr th:only-of-type {\n",
       "        vertical-align: middle;\n",
       "    }\n",
       "\n",
       "    .dataframe tbody tr th {\n",
       "        vertical-align: top;\n",
       "    }\n",
       "\n",
       "    .dataframe thead th {\n",
       "        text-align: right;\n",
       "    }\n",
       "</style>\n",
       "<table border=\"1\" class=\"dataframe\">\n",
       "  <thead>\n",
       "    <tr style=\"text-align: right;\">\n",
       "      <th></th>\n",
       "      <th>B</th>\n",
       "      <th>L</th>\n",
       "      <th>R</th>\n",
       "    </tr>\n",
       "  </thead>\n",
       "  <tbody>\n",
       "    <tr>\n",
       "      <th>0</th>\n",
       "      <td>1</td>\n",
       "      <td>0</td>\n",
       "      <td>0</td>\n",
       "    </tr>\n",
       "    <tr>\n",
       "      <th>1</th>\n",
       "      <td>0</td>\n",
       "      <td>0</td>\n",
       "      <td>1</td>\n",
       "    </tr>\n",
       "    <tr>\n",
       "      <th>2</th>\n",
       "      <td>0</td>\n",
       "      <td>0</td>\n",
       "      <td>1</td>\n",
       "    </tr>\n",
       "    <tr>\n",
       "      <th>3</th>\n",
       "      <td>0</td>\n",
       "      <td>0</td>\n",
       "      <td>1</td>\n",
       "    </tr>\n",
       "    <tr>\n",
       "      <th>4</th>\n",
       "      <td>0</td>\n",
       "      <td>0</td>\n",
       "      <td>1</td>\n",
       "    </tr>\n",
       "  </tbody>\n",
       "</table>\n",
       "</div>"
      ],
      "text/plain": [
       "   B  L  R\n",
       "0  1  0  0\n",
       "1  0  0  1\n",
       "2  0  0  1\n",
       "3  0  0  1\n",
       "4  0  0  1"
      ]
     },
     "execution_count": 65,
     "metadata": {},
     "output_type": "execute_result"
    }
   ],
   "source": [
    "y.head()"
   ]
  },
  {
   "cell_type": "code",
   "execution_count": 41,
   "metadata": {
    "ExecuteTime": {
     "end_time": "2020-05-04T13:14:48.438334Z",
     "start_time": "2020-05-04T13:14:48.421339Z"
    }
   },
   "outputs": [
    {
     "data": {
      "text/html": [
       "<div>\n",
       "<style scoped>\n",
       "    .dataframe tbody tr th:only-of-type {\n",
       "        vertical-align: middle;\n",
       "    }\n",
       "\n",
       "    .dataframe tbody tr th {\n",
       "        vertical-align: top;\n",
       "    }\n",
       "\n",
       "    .dataframe thead th {\n",
       "        text-align: right;\n",
       "    }\n",
       "</style>\n",
       "<table border=\"1\" class=\"dataframe\">\n",
       "  <thead>\n",
       "    <tr style=\"text-align: right;\">\n",
       "      <th></th>\n",
       "      <th>LeftWeight</th>\n",
       "      <th>LeftDistance</th>\n",
       "      <th>RightWeight</th>\n",
       "      <th>RightDistance</th>\n",
       "    </tr>\n",
       "  </thead>\n",
       "  <tbody>\n",
       "    <tr>\n",
       "      <th>0</th>\n",
       "      <td>1</td>\n",
       "      <td>1</td>\n",
       "      <td>1</td>\n",
       "      <td>1</td>\n",
       "    </tr>\n",
       "    <tr>\n",
       "      <th>1</th>\n",
       "      <td>1</td>\n",
       "      <td>1</td>\n",
       "      <td>1</td>\n",
       "      <td>2</td>\n",
       "    </tr>\n",
       "    <tr>\n",
       "      <th>2</th>\n",
       "      <td>1</td>\n",
       "      <td>1</td>\n",
       "      <td>1</td>\n",
       "      <td>3</td>\n",
       "    </tr>\n",
       "    <tr>\n",
       "      <th>3</th>\n",
       "      <td>1</td>\n",
       "      <td>1</td>\n",
       "      <td>1</td>\n",
       "      <td>4</td>\n",
       "    </tr>\n",
       "    <tr>\n",
       "      <th>4</th>\n",
       "      <td>1</td>\n",
       "      <td>1</td>\n",
       "      <td>1</td>\n",
       "      <td>5</td>\n",
       "    </tr>\n",
       "  </tbody>\n",
       "</table>\n",
       "</div>"
      ],
      "text/plain": [
       "   LeftWeight  LeftDistance  RightWeight  RightDistance\n",
       "0           1             1            1              1\n",
       "1           1             1            1              2\n",
       "2           1             1            1              3\n",
       "3           1             1            1              4\n",
       "4           1             1            1              5"
      ]
     },
     "execution_count": 41,
     "metadata": {},
     "output_type": "execute_result"
    }
   ],
   "source": [
    "X.head()"
   ]
  },
  {
   "cell_type": "code",
   "execution_count": 66,
   "metadata": {
    "ExecuteTime": {
     "end_time": "2020-05-04T13:24:54.311216Z",
     "start_time": "2020-05-04T13:24:54.300215Z"
    }
   },
   "outputs": [],
   "source": [
    "X_train, X_test, y_train, y_test = train_test_split(X, y, test_size=0.3, random_state=seed)"
   ]
  },
  {
   "cell_type": "code",
   "execution_count": 67,
   "metadata": {
    "ExecuteTime": {
     "end_time": "2020-05-04T13:25:05.440299Z",
     "start_time": "2020-05-04T13:24:59.833389Z"
    }
   },
   "outputs": [
    {
     "name": "stdout",
     "output_type": "stream",
     "text": [
      "Epoch 1/100\n",
      "437/437 [==============================] - 0s 562us/step - loss: 0.3013\n",
      "Epoch 2/100\n",
      "437/437 [==============================] - 0s 80us/step - loss: 0.2404\n",
      "Epoch 3/100\n",
      "437/437 [==============================] - 0s 105us/step - loss: 0.2019\n",
      "Epoch 4/100\n",
      "437/437 [==============================] - 0s 80us/step - loss: 0.1774\n",
      "Epoch 5/100\n",
      "437/437 [==============================] - 0s 94us/step - loss: 0.1610\n",
      "Epoch 6/100\n",
      "437/437 [==============================] - 0s 92us/step - loss: 0.1490\n",
      "Epoch 7/100\n",
      "437/437 [==============================] - 0s 80us/step - loss: 0.1395\n",
      "Epoch 8/100\n",
      "437/437 [==============================] - 0s 92us/step - loss: 0.1318\n",
      "Epoch 9/100\n",
      "437/437 [==============================] - 0s 98us/step - loss: 0.1255\n",
      "Epoch 10/100\n",
      "437/437 [==============================] - 0s 82us/step - loss: 0.1198\n",
      "Epoch 11/100\n",
      "437/437 [==============================] - 0s 101us/step - loss: 0.1145\n",
      "Epoch 12/100\n",
      "437/437 [==============================] - 0s 98us/step - loss: 0.1097\n",
      "Epoch 13/100\n",
      "437/437 [==============================] - 0s 87us/step - loss: 0.1054\n",
      "Epoch 14/100\n",
      "437/437 [==============================] - 0s 82us/step - loss: 0.1014\n",
      "Epoch 15/100\n",
      "437/437 [==============================] - 0s 87us/step - loss: 0.0974\n",
      "Epoch 16/100\n",
      "437/437 [==============================] - 0s 71us/step - loss: 0.0941\n",
      "Epoch 17/100\n",
      "437/437 [==============================] - 0s 92us/step - loss: 0.0909\n",
      "Epoch 18/100\n",
      "437/437 [==============================] - 0s 96us/step - loss: 0.0879\n",
      "Epoch 19/100\n",
      "437/437 [==============================] - 0s 112us/step - loss: 0.0853\n",
      "Epoch 20/100\n",
      "437/437 [==============================] - 0s 110us/step - loss: 0.0829\n",
      "Epoch 21/100\n",
      "437/437 [==============================] - 0s 80us/step - loss: 0.0807\n",
      "Epoch 22/100\n",
      "437/437 [==============================] - 0s 89us/step - loss: 0.0788\n",
      "Epoch 23/100\n",
      "437/437 [==============================] - 0s 94us/step - loss: 0.0769\n",
      "Epoch 24/100\n",
      "437/437 [==============================] - 0s 92us/step - loss: 0.0752\n",
      "Epoch 25/100\n",
      "437/437 [==============================] - ETA: 0s - loss: 0.064 - 0s 92us/step - loss: 0.0734\n",
      "Epoch 26/100\n",
      "437/437 [==============================] - 0s 87us/step - loss: 0.0717\n",
      "Epoch 27/100\n",
      "437/437 [==============================] - 0s 89us/step - loss: 0.0700\n",
      "Epoch 28/100\n",
      "437/437 [==============================] - 0s 94us/step - loss: 0.0682\n",
      "Epoch 29/100\n",
      "437/437 [==============================] - 0s 80us/step - loss: 0.0669\n",
      "Epoch 30/100\n",
      "437/437 [==============================] - 0s 92us/step - loss: 0.0655\n",
      "Epoch 31/100\n",
      "437/437 [==============================] - 0s 80us/step - loss: 0.0641\n",
      "Epoch 32/100\n",
      "437/437 [==============================] - 0s 89us/step - loss: 0.0631\n",
      "Epoch 33/100\n",
      "437/437 [==============================] - 0s 96us/step - loss: 0.0620\n",
      "Epoch 34/100\n",
      "437/437 [==============================] - 0s 87us/step - loss: 0.0609\n",
      "Epoch 35/100\n",
      "437/437 [==============================] - 0s 103us/step - loss: 0.0602\n",
      "Epoch 36/100\n",
      "437/437 [==============================] - 0s 101us/step - loss: 0.0595\n",
      "Epoch 37/100\n",
      "437/437 [==============================] - 0s 126us/step - loss: 0.0587\n",
      "Epoch 38/100\n",
      "437/437 [==============================] - 0s 114us/step - loss: 0.0579\n",
      "Epoch 39/100\n",
      "437/437 [==============================] - 0s 98us/step - loss: 0.0572\n",
      "Epoch 40/100\n",
      "437/437 [==============================] - 0s 105us/step - loss: 0.0564\n",
      "Epoch 41/100\n",
      "437/437 [==============================] - 0s 117us/step - loss: 0.0558\n",
      "Epoch 42/100\n",
      "437/437 [==============================] - 0s 89us/step - loss: 0.0553\n",
      "Epoch 43/100\n",
      "437/437 [==============================] - 0s 85us/step - loss: 0.0546\n",
      "Epoch 44/100\n",
      "437/437 [==============================] - 0s 85us/step - loss: 0.0541\n",
      "Epoch 45/100\n",
      "437/437 [==============================] - 0s 85us/step - loss: 0.0534\n",
      "Epoch 46/100\n",
      "437/437 [==============================] - 0s 101us/step - loss: 0.0529\n",
      "Epoch 47/100\n",
      "437/437 [==============================] - 0s 94us/step - loss: 0.0523\n",
      "Epoch 48/100\n",
      "437/437 [==============================] - 0s 94us/step - loss: 0.0518\n",
      "Epoch 49/100\n",
      "437/437 [==============================] - 0s 92us/step - loss: 0.0513\n",
      "Epoch 50/100\n",
      "437/437 [==============================] - 0s 89us/step - loss: 0.0507\n",
      "Epoch 51/100\n",
      "437/437 [==============================] - 0s 110us/step - loss: 0.0506\n",
      "Epoch 52/100\n",
      "437/437 [==============================] - 0s 103us/step - loss: 0.0506\n",
      "Epoch 53/100\n",
      "437/437 [==============================] - 0s 112us/step - loss: 0.0496\n",
      "Epoch 54/100\n",
      "437/437 [==============================] - 0s 94us/step - loss: 0.0491\n",
      "Epoch 55/100\n",
      "437/437 [==============================] - 0s 98us/step - loss: 0.0488\n",
      "Epoch 56/100\n",
      "437/437 [==============================] - 0s 156us/step - loss: 0.0483\n",
      "Epoch 57/100\n",
      "437/437 [==============================] - 0s 112us/step - loss: 0.0478\n",
      "Epoch 58/100\n",
      "437/437 [==============================] - 0s 108us/step - loss: 0.0476\n",
      "Epoch 59/100\n",
      "437/437 [==============================] - 0s 98us/step - loss: 0.0471\n",
      "Epoch 60/100\n",
      "437/437 [==============================] - 0s 85us/step - loss: 0.0468\n",
      "Epoch 61/100\n",
      "437/437 [==============================] - 0s 108us/step - loss: 0.0466\n",
      "Epoch 62/100\n",
      "437/437 [==============================] - 0s 94us/step - loss: 0.0460\n",
      "Epoch 63/100\n",
      "437/437 [==============================] - 0s 105us/step - loss: 0.0458\n",
      "Epoch 64/100\n",
      "437/437 [==============================] - 0s 101us/step - loss: 0.0454\n",
      "Epoch 65/100\n",
      "437/437 [==============================] - 0s 105us/step - loss: 0.0451\n",
      "Epoch 66/100\n",
      "437/437 [==============================] - 0s 105us/step - loss: 0.0448\n",
      "Epoch 67/100\n",
      "437/437 [==============================] - 0s 101us/step - loss: 0.0447\n",
      "Epoch 68/100\n",
      "437/437 [==============================] - 0s 85us/step - loss: 0.0443\n",
      "Epoch 69/100\n",
      "437/437 [==============================] - 0s 85us/step - loss: 0.0442\n",
      "Epoch 70/100\n",
      "437/437 [==============================] - 0s 103us/step - loss: 0.0437\n",
      "Epoch 71/100\n",
      "437/437 [==============================] - 0s 117us/step - loss: 0.0433\n",
      "Epoch 72/100\n",
      "437/437 [==============================] - 0s 85us/step - loss: 0.0432\n",
      "Epoch 73/100\n",
      "437/437 [==============================] - 0s 89us/step - loss: 0.0429\n",
      "Epoch 74/100\n",
      "437/437 [==============================] - 0s 82us/step - loss: 0.0426\n",
      "Epoch 75/100\n",
      "437/437 [==============================] - 0s 87us/step - loss: 0.0423\n",
      "Epoch 76/100\n",
      "437/437 [==============================] - 0s 96us/step - loss: 0.0420\n",
      "Epoch 77/100\n",
      "437/437 [==============================] - 0s 110us/step - loss: 0.0416\n",
      "Epoch 78/100\n",
      "437/437 [==============================] - 0s 110us/step - loss: 0.0415\n",
      "Epoch 79/100\n",
      "437/437 [==============================] - 0s 103us/step - loss: 0.0411\n",
      "Epoch 80/100\n",
      "437/437 [==============================] - 0s 110us/step - loss: 0.0409\n",
      "Epoch 81/100\n",
      "437/437 [==============================] - 0s 92us/step - loss: 0.0404\n",
      "Epoch 82/100\n",
      "437/437 [==============================] - 0s 110us/step - loss: 0.0400\n",
      "Epoch 83/100\n",
      "437/437 [==============================] - 0s 94us/step - loss: 0.0398\n",
      "Epoch 84/100\n",
      "437/437 [==============================] - 0s 101us/step - loss: 0.0396\n",
      "Epoch 85/100\n",
      "437/437 [==============================] - 0s 89us/step - loss: 0.0392\n",
      "Epoch 86/100\n",
      "437/437 [==============================] - 0s 85us/step - loss: 0.0388\n",
      "Epoch 87/100\n",
      "437/437 [==============================] - 0s 87us/step - loss: 0.0384\n",
      "Epoch 88/100\n",
      "437/437 [==============================] - 0s 94us/step - loss: 0.0382\n",
      "Epoch 89/100\n",
      "437/437 [==============================] - 0s 105us/step - loss: 0.0379\n",
      "Epoch 90/100\n",
      "437/437 [==============================] - 0s 89us/step - loss: 0.0377\n",
      "Epoch 91/100\n",
      "437/437 [==============================] - 0s 98us/step - loss: 0.0371\n",
      "Epoch 92/100\n",
      "437/437 [==============================] - 0s 89us/step - loss: 0.0369\n",
      "Epoch 93/100\n",
      "437/437 [==============================] - 0s 94us/step - loss: 0.0368\n",
      "Epoch 94/100\n",
      "437/437 [==============================] - 0s 105us/step - loss: 0.0365\n",
      "Epoch 95/100\n",
      "437/437 [==============================] - 0s 101us/step - loss: 0.0362\n",
      "Epoch 96/100\n",
      "437/437 [==============================] - 0s 121us/step - loss: 0.0357\n",
      "Epoch 97/100\n",
      "437/437 [==============================] - 0s 96us/step - loss: 0.0355\n",
      "Epoch 98/100\n",
      "437/437 [==============================] - 0s 105us/step - loss: 0.0352\n",
      "Epoch 99/100\n",
      "437/437 [==============================] - 0s 105us/step - loss: 0.0348\n",
      "Epoch 100/100\n",
      "437/437 [==============================] - 0s 85us/step - loss: 0.0345\n"
     ]
    },
    {
     "data": {
      "text/plain": [
       "<keras.callbacks.callbacks.History at 0x1ebedebc320>"
      ]
     },
     "execution_count": 67,
     "metadata": {},
     "output_type": "execute_result"
    }
   ],
   "source": [
    "import warnings\n",
    "warnings.filterwarnings('ignore')\n",
    "scaler = StandardScaler()\n",
    "# fit scaler with train data\n",
    "scaler.fit(X_train)\n",
    "\n",
    "X_train_scaled = scaler.transform(X_train)\n",
    "X_test_scaled = scaler.transform(X_test)\n",
    "\n",
    "#train model\n",
    "model.fit(X_train_scaled, y_train, epochs=100)"
   ]
  },
  {
   "cell_type": "code",
   "execution_count": 72,
   "metadata": {
    "ExecuteTime": {
     "end_time": "2020-05-04T14:48:56.184408Z",
     "start_time": "2020-05-04T14:48:55.655360Z"
    }
   },
   "outputs": [
    {
     "name": "stdout",
     "output_type": "stream",
     "text": [
      "MSE on train set = 0.03417876735329628\n",
      "MSE on test set = 0.03937513381242752\n"
     ]
    }
   ],
   "source": [
    "#perform evaluation on train and test set\n",
    "y_train_predicted = model.predict(X_train_scaled)\n",
    "y_test_predicted = model.predict(X_test_scaled)\n",
    "\n",
    "MSE_train = mean_squared_error(y_train, y_train_predicted)\n",
    "MSE_test = mean_squared_error(y_test, y_test_predicted)\n",
    "\n",
    "print('MSE on train set = {}'.format(MSE_train))\n",
    "print('MSE on test set = {}'. format(MSE_test))"
   ]
  },
  {
   "cell_type": "code",
   "execution_count": 73,
   "metadata": {
    "ExecuteTime": {
     "end_time": "2020-05-04T14:49:02.880849Z",
     "start_time": "2020-05-04T14:49:02.548924Z"
    }
   },
   "outputs": [],
   "source": [
    "model.save(\"Balance_data\")"
   ]
  },
  {
   "cell_type": "code",
   "execution_count": null,
   "metadata": {},
   "outputs": [],
   "source": []
  }
 ],
 "metadata": {
  "kernelspec": {
   "display_name": "Python 3",
   "language": "python",
   "name": "python3"
  },
  "language_info": {
   "codemirror_mode": {
    "name": "ipython",
    "version": 3
   },
   "file_extension": ".py",
   "mimetype": "text/x-python",
   "name": "python",
   "nbconvert_exporter": "python",
   "pygments_lexer": "ipython3",
   "version": "3.7.3"
  },
  "toc": {
   "base_numbering": 1,
   "nav_menu": {},
   "number_sections": true,
   "sideBar": true,
   "skip_h1_title": false,
   "title_cell": "Table of Contents",
   "title_sidebar": "Contents",
   "toc_cell": false,
   "toc_position": {},
   "toc_section_display": true,
   "toc_window_display": false
  }
 },
 "nbformat": 4,
 "nbformat_minor": 2
}
